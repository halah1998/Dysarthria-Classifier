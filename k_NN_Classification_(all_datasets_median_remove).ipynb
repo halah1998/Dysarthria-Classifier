{
  "nbformat": 4,
  "nbformat_minor": 0,
  "metadata": {
    "colab": {
      "name": "K-NN Classification (all datasets median/remove).ipynb",
      "provenance": [],
      "collapsed_sections": [],
      "authorship_tag": "ABX9TyOquPQ21K6arjMQc7PLA76V",
      "include_colab_link": true
    },
    "kernelspec": {
      "name": "python3",
      "display_name": "Python 3"
    },
    "language_info": {
      "name": "python"
    }
  },
  "cells": [
    {
      "cell_type": "markdown",
      "metadata": {
        "id": "view-in-github",
        "colab_type": "text"
      },
      "source": [
        "<a href=\"https://colab.research.google.com/github/halah1998/Dysarthria-Classifier/blob/main/k_NN_Classification_(all_datasets_median_remove).ipynb\" target=\"_parent\"><img src=\"https://colab.research.google.com/assets/colab-badge.svg\" alt=\"Open In Colab\"/></a>"
      ]
    },
    {
      "cell_type": "code",
      "metadata": {
        "colab": {
          "base_uri": "https://localhost:8080/"
        },
        "id": "JX33vrU7we_X",
        "outputId": "d55fdfcb-ae98-4534-9555-afd5bf7b7298"
      },
      "source": [
        "import pandas as pd\n",
        "import numpy as np\n",
        "import matplotlib.pyplot as plt\n",
        "%matplotlib inline\n",
        "import seaborn as sns\n",
        "from sklearn.neighbors import KNeighborsClassifier\n",
        "from sklearn.model_selection import train_test_split\n",
        "from sklearn.metrics import accuracy_score, confusion_matrix\n",
        "from os import system\n",
        "from collections import Counter\n",
        "from imblearn.over_sampling import SMOTE\n",
        "from numpy import where, random\n",
        "!pip install scikit-multilearn"
      ],
      "execution_count": 268,
      "outputs": [
        {
          "output_type": "stream",
          "text": [
            "Requirement already satisfied: scikit-multilearn in /usr/local/lib/python3.7/dist-packages (0.2.0)\n"
          ],
          "name": "stdout"
        }
      ]
    },
    {
      "cell_type": "code",
      "metadata": {
        "id": "3F3FqSEoxBJD"
      },
      "source": [
        "data = pd.read_csv('all_disorders_median_std.csv')\n",
        "data2=pd.read_csv('all_disorders_remove_std.csv')"
      ],
      "execution_count": 269,
      "outputs": []
    },
    {
      "cell_type": "code",
      "metadata": {
        "id": "F0iJnV0jxXlQ"
      },
      "source": [
        "def smote_multiclass(df, num_samples_dict=None, one_hot_encoded=False):\n",
        "  \"\"\"\n",
        "  Performs data augmentation and/or downsampling on a dataframe with multiple classes.\n",
        "  Supports both numerical and one-hot encoded class values.\n",
        "  The SMOTE algorithm is used for augmentation and random sampling is used for downsampling of the specified classes.\n",
        "  Keyword arguments:\n",
        "  df -- the dataframe to manipulate\n",
        "  num_samples_dict -- a dictionary of the form {0: num_desired_samples, 1: num_desired_samples, ...} that indicates the\n",
        "                      number of samples that the returned dataframe should have in each class\n",
        "  one_hot_encoded -- Boolean value indicating if the dataframe is one-hot encoded\n",
        "  \"\"\"\n",
        "\n",
        "  if df.columns[[0]] == 'Unnamed: 0':\n",
        "    df.drop(df.columns[[0]], axis=1, inplace=True)  # remove first column\n",
        "\n",
        "  # change one hot encoded dataset into numerical labels\n",
        "  if one_hot_encoded:\n",
        "    df.insert(loc=0, column='Status', value=np.nan)\n",
        "    for i, row in df.iterrows():\n",
        "      if df.iloc[i]['Control'] == 1:\n",
        "          status = 0\n",
        "      elif df.iloc[i]['Parkinsons'] == 1:\n",
        "          status = 1\n",
        "      elif df.iloc[i]['ALS'] == 1:\n",
        "          status = 2\n",
        "      elif df.iloc[i]['Cerebral_palsy'] == 1:\n",
        "          status = 3\n",
        "      df.at[i,'Status'] = status\n",
        "    df = df.drop(columns=['Control', 'Parkinsons', 'ALS', 'Cerebral_palsy'])\n",
        "\n",
        "\n",
        "  if num_samples_dict is not None:\n",
        "    strategy = num_samples_dict\n",
        "\n",
        "    # downsampling classes if needed\n",
        "    counter = Counter(df.Status)\n",
        "    class_samples = []\n",
        "    for i in range(4):\n",
        "      if counter[i] > num_samples_dict[i]: # class i needs to be downsampled\n",
        "        class_i = df.loc[df['Status'] == i]\n",
        "        class_i_sample = class_i.sample(n=num_samples_dict[i])\n",
        "        class_samples.append(class_i_sample)\n",
        "      else: # class i does not need downsampling\n",
        "        class_i = df.loc[df['Status'] == i]\n",
        "        class_samples.append(class_i)\n",
        "\n",
        "    df = pd.concat(class_samples).reset_index(drop=True)\n",
        "\n",
        "  else:\n",
        "    strategy = 'auto'\n",
        "\n",
        "  y = df.Status # labels\n",
        "  x = df.drop(['Status', 'Gender'], axis=1) # features only, Gender also removed because it must be binary\n",
        "  gender = df.Gender\n",
        "\n",
        "  oversample = SMOTE(sampling_strategy=strategy)\n",
        "  x_oversampled, y_oversampled = oversample.fit_resample(x, y)\n",
        "\n",
        "  # get sample counts for augmented dataset\n",
        "  counter = Counter(y_oversampled)\n",
        "\n",
        "  if num_samples_dict is not None and (counter[0] != num_samples_dict[0] or counter[1] != num_samples_dict[1]\n",
        "                                       or counter[2] != num_samples_dict[2] or counter[3] != num_samples_dict[3]):\n",
        "    print(\"Sampling failed\")\n",
        "  elif num_samples_dict is None and (counter[0] != counter[1] or counter[1] != counter[2] or counter[2] != counter[3]):\n",
        "    print(\"Sampling failed\")\n",
        "\n",
        "  # regenerate dataframe with new samples\n",
        "  df_concat = pd.concat([pd.DataFrame(y_oversampled), pd.DataFrame(gender), pd.DataFrame(x_oversampled)], axis=1)\n",
        "  df_concat.columns = df.columns\n",
        "\n",
        "  # fill missing gender values with a random choice of 0 or 1\n",
        "  for row in df_concat.loc[df_concat.Gender.isnull(), 'Gender'].index:\n",
        "    df_concat.at[row, 'Gender'] = random.randint(0, 2)\n",
        "\n",
        "  # change numerical class values back into one-hot encoded values\n",
        "  if one_hot_encoded:\n",
        "    one_hot = pd.get_dummies(df_concat['Status'])\n",
        "    one_hot.rename(columns={0:'Control', 1:'Parkinsons', 2:'ALS', 3:'Cerebral_palsy'}, inplace=True)\n",
        "    df_concat = df_concat.drop(columns=['Status'], axis=1)\n",
        "    df_concat = pd.concat([one_hot, df_concat], axis=1)\n",
        "\n",
        "  return df_concat, x, y"
      ],
      "execution_count": 270,
      "outputs": []
    },
    {
      "cell_type": "code",
      "metadata": {
        "colab": {
          "base_uri": "https://localhost:8080/",
          "height": 513
        },
        "id": "DebqW3SMxpiW",
        "outputId": "580b9e4d-c6c0-4352-a452-a5b15a546bef"
      },
      "source": [
        "data, x, y = smote_multiclass(data, num_samples_dict={0: 200, 1: 180, 2: 150, 3:60},one_hot_encoded=False)\n",
        "data2, x2, y2 = smote_multiclass(data2, num_samples_dict={0: 200, 1: 180, 2: 150, 3:60},one_hot_encoded=False)\n",
        "#Visualizing data distribution for data 1\n",
        "plt.scatter(x['MDVP:Jitter(%)'],y,color='red')\n",
        "plt.scatter(x['MDVP:Jitter(Abs)'],y,color='green')\n",
        "plt.scatter(x['Jitter:PPQ5'],y,color='blue')\n",
        "plt.scatter(x['Jitter:DDP'],y,color='yellow')\n",
        "plt.scatter(x['MDVP:Shimmer'],y,color='orange')\n",
        "plt.scatter(x['MDVP:Shimmer(dB)'],y,color='cyan')\n",
        "plt.scatter(x['Shimmer:APQ3'],y,color='pink')\n",
        "plt.scatter(x['Shimmer:APQ5'],y,color='black')\n",
        "plt.scatter(x['Shimmer:APQ11'],y,color='purple')\n",
        "plt.scatter(x['DFA'],y,color='lime')\n",
        "plt.show()\n",
        "\n",
        "#Visualizing data distribution for data 2\n",
        "plt.scatter(x2['MDVP:Jitter(%)'],y2,color='red')\n",
        "plt.scatter(x2['MDVP:Jitter(Abs)'],y2,color='green')\n",
        "plt.scatter(x2['Jitter:PPQ5'],y2,color='blue')\n",
        "plt.scatter(x2['Jitter:DDP'],y2,color='yellow')\n",
        "plt.scatter(x2['MDVP:Shimmer'],y2,color='orange')\n",
        "plt.scatter(x2['MDVP:Shimmer(dB)'],y2,color='cyan')\n",
        "plt.scatter(x2['Shimmer:APQ3'],y2,color='pink')\n",
        "plt.scatter(x2['Shimmer:APQ5'],y2,color='black')\n",
        "plt.scatter(x2['Shimmer:APQ11'],y2,color='purple')\n",
        "plt.scatter(x2['DFA'],y2,color='lime')\n",
        "plt.show()"
      ],
      "execution_count": 290,
      "outputs": [
        {
          "output_type": "display_data",
          "data": {
            "image/png": "[encoded data removed]",
            "text/plain": [
              "<Figure size 432x288 with 1 Axes>"
            ]
          },
          "metadata": {
            "tags": [],
            "needs_background": "light"
          }
        },
        {
          "output_type": "display_data",
          "data": {
            "image/png": "[encoded data removed]",
            "text/plain": [
              "<Figure size 432x288 with 1 Axes>"
            ]
          },
          "metadata": {
            "tags": [],
            "needs_background": "light"
          }
        }
      ]
    },
    {
      "cell_type": "code",
      "metadata": {
        "colab": {
          "base_uri": "https://localhost:8080/"
        },
        "id": "PJDbEmzoxvYl",
        "outputId": "5c4b9542-a21e-447f-d862-372b9cef8064"
      },
      "source": [
        "'''Splitting Data for median dataset'''\n",
        "# Splitting Data into 70% Training data and 30% Testing Data:\n",
        "X_train, X_test, y_train,  y_test = train_test_split(x, y,train_size=0.7, test_size=0.3, random_state=42,stratify=y)\n",
        "print(f\"X_test length is {len(X_test)}.\")\n",
        "print(f\"Y_test length is {len(y_test)}.\")\n",
        "print(f\"X_train length is {len(X_train)}.\")\n",
        "print(f\"Y_train length is {len(y_train)}.\")\n",
        "\n",
        "#Seeing the number/percentage of the split\n",
        "s=np.unique(y_train, return_counts=True)\n",
        "print()\n",
        "print(f\"The split is as follows:{s}\")\n",
        "print()\n",
        "\n",
        "'''Splitting Data for remove dataset'''\n",
        "# Splitting Data into 70% Training data and 30% Testing Data:\n",
        "X_train2, X_test2, y_train2,  y_test2 = train_test_split(x2, y2,train_size=0.7, test_size=0.3, random_state=42,stratify=y2)\n",
        "print(f\"X_test2 length is {len(X_test2)}.\")\n",
        "print(f\"Y_test2 length is {len(y_test2)}.\")\n",
        "print(f\"X_train2 length is {len(X_train2)}.\")\n",
        "print(f\"Y_train2 length is {len(y_train2)}.\")\n",
        "\n",
        "#Seeing the number/percentage of the split\n",
        "s=np.unique(y_train2, return_counts=True)\n",
        "print()\n",
        "print(f\"The split is as follows:{s}\")"
      ],
      "execution_count": 272,
      "outputs": [
        {
          "output_type": "stream",
          "text": [
            "X_test length is 123.\n",
            "Y_test length is 123.\n",
            "X_train length is 285.\n",
            "Y_train length is 285.\n",
            "\n",
            "The split is as follows:(array([0, 1, 2, 3]), array([140, 126,  10,   9]))\n",
            "\n",
            "X_test2 length is 123.\n",
            "Y_test2 length is 123.\n",
            "X_train2 length is 285.\n",
            "Y_train2 length is 285.\n",
            "\n",
            "The split is as follows:(array([0, 1, 2, 3]), array([140, 126,  10,   9]))\n"
          ],
          "name": "stdout"
        }
      ]
    },
    {
      "cell_type": "markdown",
      "metadata": {
        "id": "lGPbUH3e41g9"
      },
      "source": [
        "# K-Nearest Neighbor Classification"
      ]
    },
    {
      "cell_type": "code",
      "metadata": {
        "colab": {
          "base_uri": "https://localhost:8080/"
        },
        "id": "9D4we7an4YE-",
        "outputId": "d8b18a00-a50f-4921-d441-46f548764eba"
      },
      "source": [
        "'''k-NN for Median Dataset'''\n",
        "#k-NN\n",
        "from sklearn.neighbors import KNeighborsClassifier\n",
        "#To use the build in multilabel adabtor use:\n",
        "#from skmultilearn.adapt import MLkNN\n",
        "#knn_model= MLkNN(k=20)\n",
        "\n",
        "#fiting training data on model\n",
        "#Setup arrays to store training and test accuracies\n",
        "neighbors = np.arange(1,9)\n",
        "train_accuracy =np.empty(len(neighbors))\n",
        "test_accuracy = np.empty(len(neighbors))\n",
        "\n",
        "for i,k in enumerate(neighbors):\n",
        "    #Setup a knn classifier with k neighbors\n",
        "    knn_model = KNeighborsClassifier(n_neighbors=k)\n",
        "    \n",
        "    #Fit the model\n",
        "    knn_model.fit(X_train, y_train)\n",
        "    \n",
        "    #Compute accuracy on the training set\n",
        "    train_accuracy[i] = knn_model.score(X_train, y_train)\n",
        "    \n",
        "    #Compute accuracy on the test set\n",
        "    test_accuracy[i] = knn_model.score(X_test, y_test) \n",
        "    print(f\"Train Accuracy:\")\n",
        "    print(train_accuracy[i])\n",
        "    print(f\"Test Accuracy:\")\n",
        "    print(test_accuracy[i])\n",
        "\n",
        "#prediction using K-NN\n",
        "y_pred = knn_model.predict(X_test)\n",
        "print(f\"The predictions for the data is {y_pred}\")\n",
        "\n",
        "#Looking at accuracy by counting the number of misclassified cases\n",
        "count_misclassified = (y_test != y_pred).sum()\n",
        "print('Misclassified samples in KNN: {}'.format(count_misclassified))\n",
        "\n",
        "#Mean Square Error\n",
        "from sklearn.metrics import mean_squared_error\n",
        "from math import sqrt\n",
        "train_preds = knn_model.predict(X_train)\n",
        "mse = mean_squared_error(y_train, train_preds)\n",
        "rmse1 = sqrt(mse)\n",
        "print(f\"Mean square error for training data is {rmse1}\")\n",
        "\n",
        "#evaluating the predictive performance of our model\n",
        "test_preds = knn_model.predict(X_test)\n",
        "mse = mean_squared_error(y_test, test_preds)\n",
        "rmse2 = sqrt(mse)\n",
        "print(f\"Mean square error for test data is {rmse2}\")"
      ],
      "execution_count": 273,
      "outputs": [
        {
          "output_type": "stream",
          "text": [
            "Train Accuracy:\n",
            "1.0\n",
            "Test Accuracy:\n",
            "0.7642276422764228\n",
            "Train Accuracy:\n",
            "0.8771929824561403\n",
            "Test Accuracy:\n",
            "0.6910569105691057\n",
            "Train Accuracy:\n",
            "0.8526315789473684\n",
            "Test Accuracy:\n",
            "0.7235772357723578\n",
            "Train Accuracy:\n",
            "0.8210526315789474\n",
            "Test Accuracy:\n",
            "0.6585365853658537\n",
            "Train Accuracy:\n",
            "0.8\n",
            "Test Accuracy:\n",
            "0.6747967479674797\n",
            "Train Accuracy:\n",
            "0.7614035087719299\n",
            "Test Accuracy:\n",
            "0.6666666666666666\n",
            "Train Accuracy:\n",
            "0.7614035087719299\n",
            "Test Accuracy:\n",
            "0.6504065040650406\n",
            "Train Accuracy:\n",
            "0.7473684210526316\n",
            "Test Accuracy:\n",
            "0.6178861788617886\n",
            "The predictions for the data is [0 1 0 0 0 0 0 0 0 0 2 0 1 0 1 1 1 0 1 0 0 2 1 0 0 0 0 0 2 0 2 0 0 1 0 1 0\n",
            " 1 0 0 0 1 0 1 0 0 0 1 0 1 1 0 0 2 0 1 0 1 1 1 0 1 1 0 0 0 0 1 0 0 0 0 0 0\n",
            " 1 1 0 0 0 0 3 0 0 0 1 1 0 0 0 2 1 0 0 0 0 0 1 0 0 1 1 1 0 1 1 1 0 0 0 0 0\n",
            " 0 0 0 0 0 0 0 1 1 2 0 0]\n",
            "Misclassified samples in KNN: 47\n",
            "Mean square error for training data is 0.6515837655350016\n",
            "Mean square error for test data is 0.7597603387632995\n"
          ],
          "name": "stdout"
        }
      ]
    },
    {
      "cell_type": "code",
      "metadata": {
        "colab": {
          "base_uri": "https://localhost:8080/"
        },
        "id": "fP3UrVmkgGQC",
        "outputId": "5d0a1bdb-679e-4c96-9b93-3f969e7ed434"
      },
      "source": [
        "'''k-NN for Remove Dataset'''\n",
        "#k-NN\n",
        "from sklearn.neighbors import KNeighborsClassifier\n",
        "#To use the build in multilabel adabtor use:\n",
        "#from skmultilearn.adapt import MLkNN\n",
        "#knn_model= MLkNN(k=20)\n",
        "\n",
        "#fiting training data on model\n",
        "#Setup arrays to store training and test accuracies\n",
        "neighbors2 = np.arange(1,9)\n",
        "train_accuracy2 =np.empty(len(neighbors2))\n",
        "test_accuracy2 = np.empty(len(neighbors2))\n",
        "\n",
        "for i,K in enumerate(neighbors2):\n",
        "    #Setup a knn classifier with k neighbors\n",
        "    knn_model2 = KNeighborsClassifier(n_neighbors=K)\n",
        "    \n",
        "    #Fit the model\n",
        "    knn_model2.fit(X_train2, y_train2)\n",
        "    \n",
        "    #Compute accuracy on the training set\n",
        "    train_accuracy2[i] = knn_model2.score(X_train2, y_train2)\n",
        "    \n",
        "    #Compute accuracy on the test set\n",
        "    test_accuracy2[i] = knn_model2.score(X_test2, y_test2) \n",
        "    print(f\"Train Accuracy:\")\n",
        "    print(train_accuracy2[i])\n",
        "    print(f\"Test Accuracy:\")\n",
        "    print(test_accuracy2[i])\n",
        "\n",
        "#prediction using K-NN\n",
        "y_pred2 = knn_model2.predict(X_test2)\n",
        "print(f\"The predictions for the data is {y_pred2}\")\n",
        "\n",
        "#Looking at accuracy by counting the number of misclassified cases\n",
        "count_misclassified2 = (y_test2 != y_pred2).sum()\n",
        "print('Misclassified samples in KNN: {}'.format(count_misclassified2))\n",
        "\n",
        "#Mean Square Error\n",
        "from sklearn.metrics import mean_squared_error\n",
        "from math import sqrt\n",
        "train_preds2 = knn_model2.predict(X_train2)\n",
        "mse2 = mean_squared_error(y_train2, train_preds2)\n",
        "rmse_a = sqrt(mse2)\n",
        "print(f\"Mean square error for training data is {rmse_a}\")\n",
        "\n",
        "#evaluating the predictive performance of our model\n",
        "test_preds2 = knn_model2.predict(X_test2)\n",
        "mse2 = mean_squared_error(y_test2, test_preds2)\n",
        "rmse_b = sqrt(mse2)\n",
        "print(f\"Mean square error for test data is {rmse_b}\")"
      ],
      "execution_count": 274,
      "outputs": [
        {
          "output_type": "stream",
          "text": [
            "Train Accuracy:\n",
            "1.0\n",
            "Test Accuracy:\n",
            "0.7560975609756098\n",
            "Train Accuracy:\n",
            "0.8175438596491228\n",
            "Test Accuracy:\n",
            "0.6585365853658537\n",
            "Train Accuracy:\n",
            "0.8280701754385965\n",
            "Test Accuracy:\n",
            "0.6504065040650406\n",
            "Train Accuracy:\n",
            "0.7403508771929824\n",
            "Test Accuracy:\n",
            "0.6829268292682927\n",
            "Train Accuracy:\n",
            "0.775438596491228\n",
            "Test Accuracy:\n",
            "0.6504065040650406\n",
            "Train Accuracy:\n",
            "0.7368421052631579\n",
            "Test Accuracy:\n",
            "0.7073170731707317\n",
            "Train Accuracy:\n",
            "0.7684210526315789\n",
            "Test Accuracy:\n",
            "0.6585365853658537\n",
            "Train Accuracy:\n",
            "0.7192982456140351\n",
            "Test Accuracy:\n",
            "0.6747967479674797\n",
            "The predictions for the data is [0 0 0 1 0 1 0 1 0 0 2 0 1 0 0 2 0 1 1 0 0 2 0 0 2 0 0 0 2 0 2 1 0 0 0 1 0\n",
            " 1 0 0 1 0 0 1 0 0 0 0 1 1 0 0 0 2 1 1 0 0 1 0 0 0 0 0 1 0 0 0 0 1 0 0 1 0\n",
            " 1 0 0 1 1 0 0 1 1 0 1 0 0 0 0 3 1 0 0 0 1 1 0 0 0 3 0 1 1 0 0 0 0 0 2 0 2\n",
            " 0 1 0 0 0 1 0 0 1 2 1 0]\n",
            "Misclassified samples in KNN: 40\n",
            "Mean square error for training data is 0.6675432833065728\n",
            "Mean square error for test data is 0.7860573635949152\n"
          ],
          "name": "stdout"
        }
      ]
    },
    {
      "cell_type": "markdown",
      "metadata": {
        "id": "iJR4CdTL-MFw"
      },
      "source": [
        "# Parameter Tuning & Model Evaluation"
      ]
    },
    {
      "cell_type": "code",
      "metadata": {
        "colab": {
          "base_uri": "https://localhost:8080/"
        },
        "id": "qW50wM11-UXb",
        "outputId": "403d3ffe-7a6e-42ca-db6e-661248d211b5"
      },
      "source": [
        "'''K prediction for Median Dataset'''\n",
        "\n",
        "#Predicting the best value of k \n",
        "from sklearn.model_selection import GridSearchCV\n",
        "parameters = {\"n_neighbors\": range(1, 20)}\n",
        "gridsearch = GridSearchCV(KNeighborsClassifier(), parameters)\n",
        "gridsearch.fit(X_train, y_train)\n",
        "\n",
        "#using .best_params_ to find the best performing k\n",
        "print(f\"The best value for k is {gridsearch.best_params_}\")\n",
        "\n",
        "#Seeing how this predicted k affects the training and testing performances\n",
        "train_preds_grid = gridsearch.predict(X_train)\n",
        "train_mse = mean_squared_error(y_train, train_preds_grid)\n",
        "train_rmse = sqrt(train_mse)\n",
        "test_preds_grid = gridsearch.predict(X_test)\n",
        "test_mse = mean_squared_error(y_test, test_preds_grid)\n",
        "test_rmse = sqrt(test_mse)\n",
        "train_rmse\n",
        "\n",
        "print(f\"Mean square error for test data is {test_rmse}\")"
      ],
      "execution_count": 275,
      "outputs": [
        {
          "output_type": "stream",
          "text": [
            "The best value for k is {'n_neighbors': 1}\n",
            "Mean square error for test data is 0.6246950475544243\n"
          ],
          "name": "stdout"
        }
      ]
    },
    {
      "cell_type": "code",
      "metadata": {
        "colab": {
          "base_uri": "https://localhost:8080/"
        },
        "id": "ym8dlTkl0u5g",
        "outputId": "b7e2be27-d124-4ab5-94fe-2192db221907"
      },
      "source": [
        "'''K prediction for Remove Dataset'''\n",
        "\n",
        "#Predicting the best value of k \n",
        "from sklearn.model_selection import GridSearchCV\n",
        "parameters = {\"n_neighbors\": range(1, 20)}\n",
        "gridsearch = GridSearchCV(KNeighborsClassifier(), parameters)\n",
        "gridsearch.fit(X_train2, y_train2)\n",
        "\n",
        "#using .best_params_ to find the best performing k\n",
        "print(f\"The best value for k is {gridsearch.best_params_}\")\n",
        "\n",
        "#Seeing how this predicted k affects the training and testing performances\n",
        "train_preds_grid2 = gridsearch.predict(X_train2)\n",
        "train_mse2 = mean_squared_error(y_train2, train_preds_grid2)\n",
        "train_rmse2 = sqrt(train_mse2)\n",
        "test_preds_grid2 = gridsearch.predict(X_valid2)\n",
        "test_mse2 = mean_squared_error(y_valid2, test_preds_grid2)\n",
        "test_rmse2 = sqrt(test_mse2)\n",
        "train_rmse2\n",
        "\n",
        "print(f\"Mean square error for test data is {test_rmse2}\")"
      ],
      "execution_count": 276,
      "outputs": [
        {
          "output_type": "stream",
          "text": [
            "The best value for k is {'n_neighbors': 1}\n",
            "Mean square error for test data is 0.5374838498865699\n"
          ],
          "name": "stdout"
        }
      ]
    },
    {
      "cell_type": "code",
      "metadata": {
        "colab": {
          "base_uri": "https://localhost:8080/",
          "height": 421
        },
        "id": "vv-umcME-s4o",
        "outputId": "2653c21b-0dc0-4308-8b39-03f3f9302ae3"
      },
      "source": [
        "error = []\n",
        "\n",
        "# Calculating error for K values between 1 and 40 for MEDIAN DATASET\n",
        "for i in range(1, 30):\n",
        "    knn = KNeighborsClassifier(n_neighbors=i)\n",
        "    knn.fit(X_train, y_train)\n",
        "    pred_i = knn.predict(X_test)\n",
        "    error.append(np.mean(pred_i != y_test))\n",
        "    \n",
        "# plot the error values against K values using the elbow graph method\n",
        "plt.figure(figsize=(12, 6))\n",
        "plt.plot(range(1, 30), error, color='red', linestyle='dashed', marker='o',\n",
        "         markerfacecolor='blue', markersize=10)\n",
        "plt.title('Error Rate K Value')\n",
        "plt.xlabel('K Value')\n",
        "plt.ylabel('Mean Error')"
      ],
      "execution_count": 277,
      "outputs": [
        {
          "output_type": "execute_result",
          "data": {
            "text/plain": [
              "Text(0, 0.5, 'Mean Error')"
            ]
          },
          "metadata": {
            "tags": []
          },
          "execution_count": 277
        },
        {
          "output_type": "display_data",
          "data": {
            "image/png": "[encoded data removed]",
            "text/plain": [
              "<Figure size 864x432 with 1 Axes>"
            ]
          },
          "metadata": {
            "tags": [],
            "needs_background": "light"
          }
        }
      ]
    },
    {
      "cell_type": "code",
      "metadata": {
        "colab": {
          "base_uri": "https://localhost:8080/",
          "height": 421
        },
        "id": "ARTVFu-Die5x",
        "outputId": "683e08cb-2bfb-4ac7-ce6d-accfe9eb1c60"
      },
      "source": [
        "error2 = []\n",
        "\n",
        "# Calculating error for K values between 1 and 30 for REMOVE DATASET\n",
        "for i in range(1, 30):\n",
        "    knn2 = KNeighborsClassifier(n_neighbors=i)\n",
        "    knn2.fit(X_train2, y_train2)\n",
        "    pred2_i = knn2.predict(X_valid2)\n",
        "    error2.append(np.mean(pred2_i != y_valid2))\n",
        "    \n",
        "# plot the error values against K values using the elbow graph method\n",
        "plt.figure(figsize=(12, 6))\n",
        "plt.plot(range(1, 30), error2, color='blue', linestyle='dashed', marker='o', markerfacecolor='red', markersize=10)\n",
        "plt.title('Error Rate K Value')\n",
        "plt.xlabel('K Value')\n",
        "plt.ylabel('Mean Error')"
      ],
      "execution_count": 278,
      "outputs": [
        {
          "output_type": "execute_result",
          "data": {
            "text/plain": [
              "Text(0, 0.5, 'Mean Error')"
            ]
          },
          "metadata": {
            "tags": []
          },
          "execution_count": 278
        },
        {
          "output_type": "display_data",
          "data": {
            "image/png": "[encoded data removed]",
            "text/plain": [
              "<Figure size 864x432 with 1 Axes>"
            ]
          },
          "metadata": {
            "tags": [],
            "needs_background": "light"
          }
        }
      ]
    },
    {
      "cell_type": "code",
      "metadata": {
        "colab": {
          "base_uri": "https://localhost:8080/",
          "height": 534
        },
        "id": "ujTLCcBo_9va",
        "outputId": "7cfa9707-5993-4630-95c3-766a5f237016"
      },
      "source": [
        "'''Confusion Matrix for Remove Dataset'''\n",
        "#Evaluating the Algorithm using a confusion matrix and classification report\n",
        "from sklearn.metrics import classification_report, confusion_matrix\n",
        "y_pred = knn_model.predict(X_test)\n",
        "target_names = ['Control', 'Parkinsons', 'ALS','Cerebral Palsy']\n",
        "print(confusion_matrix(y_test, y_pred))\n",
        "Classification_rep=classification_report(y_test, y_pred,target_names=target_names)\n",
        "print(Classification_rep)\n",
        "\n",
        "#Plotting Confusion Matrix\n",
        "from sklearn.metrics import plot_confusion_matrix\n",
        "plot_confusion_matrix(knn_model, X_test, y_test, display_labels=['Control', 'Parkinsons', 'ALS', 'Cerebral Palsy'])  \n",
        "plt.show() "
      ],
      "execution_count": 279,
      "outputs": [
        {
          "output_type": "stream",
          "text": [
            "[[47 12  0  1]\n",
            " [30 24  0  0]\n",
            " [ 0  0  5  0]\n",
            " [ 2  0  2  0]]\n",
            "                precision    recall  f1-score   support\n",
            "\n",
            "       Control       0.59      0.78      0.68        60\n",
            "    Parkinsons       0.67      0.44      0.53        54\n",
            "           ALS       0.71      1.00      0.83         5\n",
            "Cerebral Palsy       0.00      0.00      0.00         4\n",
            "\n",
            "      accuracy                           0.62       123\n",
            "     macro avg       0.49      0.56      0.51       123\n",
            "  weighted avg       0.61      0.62      0.60       123\n",
            "\n"
          ],
          "name": "stdout"
        },
        {
          "output_type": "display_data",
          "data": {
            "image/png": "[encoded data removed]",
            "text/plain": [
              "<Figure size 432x288 with 2 Axes>"
            ]
          },
          "metadata": {
            "tags": [],
            "needs_background": "light"
          }
        }
      ]
    },
    {
      "cell_type": "code",
      "metadata": {
        "colab": {
          "base_uri": "https://localhost:8080/",
          "height": 483
        },
        "id": "LzKjv-KMlSJ0",
        "outputId": "39609a09-dcda-4042-ebcb-5925e493c827"
      },
      "source": [
        "'''Confusion Matrix for Remove Dataset'''\n",
        "#Evaluating the Algorithm using a confusion matrix and classification report\n",
        "from sklearn.metrics import classification_report, confusion_matrix\n",
        "y_pred2 = knn_model2.predict(X_test2)\n",
        "print(f\"Validation Set\")\n",
        "Classification_rep2=classification_report(y_test2, y_pred2,target_names=target_names)\n",
        "print(Classification_rep2)\n",
        "\n",
        "#Plotting Confusion Matrix for Test set\n",
        "from sklearn.metrics import plot_confusion_matrix\n",
        "plot_confusion_matrix(knn_model2, X_test2, y_test2, display_labels=['Control', 'Parkinsons', 'ALS', 'Cerebral Palsy'])  \n",
        "plt.show() \n",
        "\n"
      ],
      "execution_count": 280,
      "outputs": [
        {
          "output_type": "stream",
          "text": [
            "Validation Set\n",
            "                precision    recall  f1-score   support\n",
            "\n",
            "       Control       0.64      0.82      0.72        60\n",
            "    Parkinsons       0.82      0.52      0.64        54\n",
            "           ALS       0.50      1.00      0.67         5\n",
            "Cerebral Palsy       0.50      0.25      0.33         4\n",
            "\n",
            "      accuracy                           0.67       123\n",
            "     macro avg       0.61      0.65      0.59       123\n",
            "  weighted avg       0.71      0.67      0.67       123\n",
            "\n"
          ],
          "name": "stdout"
        },
        {
          "output_type": "display_data",
          "data": {
            "image/png": "[encoded data removed]",
            "text/plain": [
              "<Figure size 432x288 with 2 Axes>"
            ]
          },
          "metadata": {
            "tags": [],
            "needs_background": "light"
          }
        }
      ]
    },
    {
      "cell_type": "code",
      "metadata": {
        "colab": {
          "base_uri": "https://localhost:8080/"
        },
        "id": "EgsnMFH3BDic",
        "outputId": "1fb15ef8-ffeb-4d84-cd6b-e24bb9d1520c"
      },
      "source": [
        "'''Median Dataset'''\n",
        "#Loglos Evaluation\n",
        "from sklearn import model_selection\n",
        "# log loss (closer to 0 is better)\n",
        "for k in range(2,6,4):\n",
        "  kfold = model_selection.KFold(n_splits=k, shuffle=True)\n",
        "  results = model_selection.cross_val_score(knn_model, x, y, cv=kfold, scoring='neg_log_loss')\n",
        "  print(\"Logloss: %.3f (%.f)\" % (results.mean(), k))"
      ],
      "execution_count": 281,
      "outputs": [
        {
          "output_type": "stream",
          "text": [
            "Logloss: -1.090 (2)\n"
          ],
          "name": "stdout"
        }
      ]
    },
    {
      "cell_type": "code",
      "metadata": {
        "colab": {
          "base_uri": "https://localhost:8080/"
        },
        "id": "6t7_ctep-meD",
        "outputId": "5f3d6547-09a6-4a1e-fcf3-c57a41ea4a07"
      },
      "source": [
        "'''Remove Dataset'''\n",
        "#Loglos Evaluation\n",
        "from sklearn import model_selection\n",
        "# log loss (closer to 0 is better)\n",
        "for k in range(2,6,4):\n",
        "  kfold = model_selection.KFold(n_splits=k, shuffle=True)\n",
        "  results2 = model_selection.cross_val_score(knn_model2, x2, y2, cv=kfold, scoring='neg_log_loss')\n",
        "  print(\"Logloss: %.3f (%.f)\" % (results2.mean(), k))"
      ],
      "execution_count": 282,
      "outputs": [
        {
          "output_type": "stream",
          "text": [
            "Logloss: -0.857 (2)\n"
          ],
          "name": "stdout"
        }
      ]
    },
    {
      "cell_type": "code",
      "metadata": {
        "colab": {
          "base_uri": "https://localhost:8080/"
        },
        "id": "1K7DOB3_B21G",
        "outputId": "e6147534-55d8-45a4-cdc0-c23a7765280d"
      },
      "source": [
        "'''Median Dataset'''\n",
        "#Looking at the ROC of our Model\n",
        "from sklearn import metrics\n",
        "\n",
        "fpr, tpr, thresholds = metrics.roc_curve(y_test, y_pred, pos_label=2)\n",
        "print(f\"The False Positive Rate prediction is {fpr}\")\n",
        "print(f\"The True Positive Rate prediction is {tpr}\")\n",
        "print(f\"The Thresholds are {thresholds}\")"
      ],
      "execution_count": 283,
      "outputs": [
        {
          "output_type": "stream",
          "text": [
            "The False Positive Rate prediction is [0.         0.00847458 0.02542373 0.33050847 1.        ]\n",
            "The True Positive Rate prediction is [0. 0. 1. 1. 1.]\n",
            "The Thresholds are [4 3 2 1 0]\n"
          ],
          "name": "stdout"
        }
      ]
    },
    {
      "cell_type": "code",
      "metadata": {
        "colab": {
          "base_uri": "https://localhost:8080/"
        },
        "id": "ng4p37nF9f2D",
        "outputId": "ca837731-ad0b-4415-9a9e-7358aa97ba13"
      },
      "source": [
        "'''Remove Dataset'''\n",
        "#Looking at the ROC of our Model\n",
        "fpr2, tpr2, thresholds2 = metrics.roc_curve(y_test2, y_pred2, pos_label=2)\n",
        "print(f\"The False Positive Rate prediction is {fpr2}\")\n",
        "print(f\"The True Positive Rate prediction is {tpr2}\")\n",
        "print(f\"The Thresholds are {thresholds2}\")"
      ],
      "execution_count": 284,
      "outputs": [
        {
          "output_type": "stream",
          "text": [
            "The False Positive Rate prediction is [0.         0.01694915 0.05932203 0.34745763 1.        ]\n",
            "The True Positive Rate prediction is [0. 0. 1. 1. 1.]\n",
            "The Thresholds are [4 3 2 1 0]\n"
          ],
          "name": "stdout"
        }
      ]
    },
    {
      "cell_type": "markdown",
      "metadata": {
        "id": "TiARmz25GSLg"
      },
      "source": [
        "# Conclusion"
      ]
    },
    {
      "cell_type": "code",
      "metadata": {
        "id": "dwbsXRQ8Guld",
        "colab": {
          "base_uri": "https://localhost:8080/"
        },
        "outputId": "318c8edd-d523-4671-fb73-6a65b52effe9"
      },
      "source": [
        "from tabulate import tabulate\n",
        "print(f\"Median Dataset\")\n",
        "print(tabulate([['Train Accuracies (k=1-9)', train_accuracy], ['Test Accuracies (k=1-9)', test_accuracy], ['Logloss', results],[\"Predictions\", y_pred],['Number of Misclassifications',count_misclassified],['Mean Square Error for Training',rmse1],['Mean Square Error for Test',rmse2],['Classification Report',Classification_rep],['False Positive Rate', fpr], ['True positive Rate', tpr], ['Thresholds', thresholds]],headers=['Evaluations', 'Output']))"
      ],
      "execution_count": 285,
      "outputs": [
        {
          "output_type": "stream",
          "text": [
            "Median Dataset\n",
            "Evaluations                     Output\n",
            "------------------------------  --------------------------------------------------------------------------\n",
            "Train Accuracies (k=1-9)        [1.         0.87719298 0.85263158 0.82105263 0.8        0.76140351\n",
            "                                 0.76140351 0.74736842]\n",
            "Test Accuracies (k=1-9)         [0.76422764 0.69105691 0.72357724 0.65853659 0.67479675 0.66666667\n",
            "                                 0.6504065  0.61788618]\n",
            "Logloss                         [-1.18527734 -0.99502799]\n",
            "Predictions                     [0 1 0 0 0 0 0 0 0 0 2 0 1 0 1 1 1 0 1 0 0 2 1 0 0 0 0 0 2 0 2 0 0 1 0 1 0\n",
            "                                 1 0 0 0 1 0 1 0 0 0 1 0 1 1 0 0 2 0 1 0 1 1 1 0 1 1 0 0 0 0 1 0 0 0 0 0 0\n",
            "                                 1 1 0 0 0 0 3 0 0 0 1 1 0 0 0 2 1 0 0 0 0 0 1 0 0 1 1 1 0 1 1 1 0 0 0 0 0\n",
            "                                 0 0 0 0 0 0 0 1 1 2 0 0]\n",
            "Number of Misclassifications    47\n",
            "Mean Square Error for Training  0.6515837655350016\n",
            "Mean Square Error for Test      0.7597603387632995\n",
            "Classification Report           precision    recall  f1-score   support\n",
            "\n",
            "                                       Control       0.59      0.78      0.68        60\n",
            "                                    Parkinsons       0.67      0.44      0.53        54\n",
            "                                           ALS       0.71      1.00      0.83         5\n",
            "                                Cerebral Palsy       0.00      0.00      0.00         4\n",
            "\n",
            "                                      accuracy                           0.62       123\n",
            "                                     macro avg       0.49      0.56      0.51       123\n",
            "                                  weighted avg       0.61      0.62      0.60       123\n",
            "False Positive Rate             [0.         0.00847458 0.02542373 0.33050847 1.        ]\n",
            "True positive Rate              [0. 0. 1. 1. 1.]\n",
            "Thresholds                      [4 3 2 1 0]\n"
          ],
          "name": "stdout"
        }
      ]
    },
    {
      "cell_type": "code",
      "metadata": {
        "id": "x_iYI8DLIqTG",
        "colab": {
          "base_uri": "https://localhost:8080/"
        },
        "outputId": "a22c55e2-ce45-46db-9f15-0f0246acf3fa"
      },
      "source": [
        "print(f\"Remove Dataset (Trained on Validation Set)\")\n",
        "print(tabulate([['Train Accuracies (k=1-9)', train_accuracy2], ['Test Accuracies (k=1-9)', test_accuracy2], ['Logloss', results2],[\"Predictions\", y_pred2],['Number of Misclassifications',count_misclassified2],['Mean Square Error for Training',rmse_a],['Mean Square Error for Test',rmse_b],['Classification Report',Classification_rep2],['False Positive Rate', fpr2], ['True positive Rate', tpr2], ['Thresholds', thresholds2]],headers=['Evaluations', 'Output']))"
      ],
      "execution_count": 286,
      "outputs": [
        {
          "output_type": "stream",
          "text": [
            "Remove Dataset (Trained on Validation Set)\n",
            "Evaluations                     Output\n",
            "------------------------------  --------------------------------------------------------------------------\n",
            "Train Accuracies (k=1-9)        [1.         0.81754386 0.82807018 0.74035088 0.7754386  0.73684211\n",
            "                                 0.76842105 0.71929825]\n",
            "Test Accuracies (k=1-9)         [0.75609756 0.65853659 0.6504065  0.68292683 0.6504065  0.70731707\n",
            "                                 0.65853659 0.67479675]\n",
            "Logloss                         [-0.86929682 -0.84473471]\n",
            "Predictions                     [0 0 0 1 0 1 0 1 0 0 2 0 1 0 0 2 0 1 1 0 0 2 0 0 2 0 0 0 2 0 2 1 0 0 0 1 0\n",
            "                                 1 0 0 1 0 0 1 0 0 0 0 1 1 0 0 0 2 1 1 0 0 1 0 0 0 0 0 1 0 0 0 0 1 0 0 1 0\n",
            "                                 1 0 0 1 1 0 0 1 1 0 1 0 0 0 0 3 1 0 0 0 1 1 0 0 0 3 0 1 1 0 0 0 0 0 2 0 2\n",
            "                                 0 1 0 0 0 1 0 0 1 2 1 0]\n",
            "Number of Misclassifications    40\n",
            "Mean Square Error for Training  0.6675432833065728\n",
            "Mean Square Error for Test      0.7860573635949152\n",
            "Classification Report           precision    recall  f1-score   support\n",
            "\n",
            "                                       Control       0.64      0.82      0.72        60\n",
            "                                    Parkinsons       0.82      0.52      0.64        54\n",
            "                                           ALS       0.50      1.00      0.67         5\n",
            "                                Cerebral Palsy       0.50      0.25      0.33         4\n",
            "\n",
            "                                      accuracy                           0.67       123\n",
            "                                     macro avg       0.61      0.65      0.59       123\n",
            "                                  weighted avg       0.71      0.67      0.67       123\n",
            "False Positive Rate             [0.         0.01694915 0.05932203 0.34745763 1.        ]\n",
            "True positive Rate              [0. 0. 1. 1. 1.]\n",
            "Thresholds                      [4 3 2 1 0]\n"
          ],
          "name": "stdout"
        }
      ]
    },
    {
      "cell_type": "code",
      "metadata": {
        "id": "reMH7EX99UIl"
      },
      "source": [
        ""
      ],
      "execution_count": 286,
      "outputs": []
    }
  ]
}