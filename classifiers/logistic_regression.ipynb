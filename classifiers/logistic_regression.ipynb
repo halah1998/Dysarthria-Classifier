{
  "nbformat": 4,
  "nbformat_minor": 0,
  "metadata": {
    "colab": {
      "name": "logistic_regression",
      "provenance": [],
      "collapsed_sections": [],
      "mount_file_id": "10DWkYpICKOET7tkLrEkirtO2lJVddT9-",
      "authorship_tag": "ABX9TyNmXLq6mEmlBtn8S0WKEO9f",
      "include_colab_link": true
    },
    "kernelspec": {
      "name": "python3",
      "display_name": "Python 3"
    },
    "language_info": {
      "name": "python"
    }
  },
  "cells": [
    {
      "cell_type": "markdown",
      "metadata": {
        "id": "view-in-github",
        "colab_type": "text"
      },
      "source": [
        "<a href=\"https://colab.research.google.com/github/nadiaenh/Dysarthria-Classifier/blob/main/logistic_regression.ipynb\" target=\"_parent\"><img src=\"https://colab.research.google.com/assets/colab-badge.svg\" alt=\"Open In Colab\"/></a>"
      ]
    },
    {
      "cell_type": "code",
      "metadata": {
        "id": "6anBneHqT1vD"
      },
      "source": [
        "import matplotlib.pyplot as plt\n",
        "import numpy as np\n",
        "import pandas as pd\n",
        "from smote import smote_binary  # smote.py on the repo\n",
        "from performance_report import performance_report # performance_report.py on the repo\n",
        "from sklearn.utils.testing import ignore_warnings # to remove warnings\n",
        "from sklearn.exceptions import ConvergenceWarning"
      ],
      "execution_count": 22,
      "outputs": []
    },
    {
      "cell_type": "code",
      "metadata": {
        "id": "ED5aTykKT_rb"
      },
      "source": [
        "@ignore_warnings(category=ConvergenceWarning)\n",
        "def logreg_pred(url):\n",
        "\n",
        "  # importing the dataset\n",
        "  df = pd.read_csv(url)\n",
        "\n",
        "  # balancing the dataset \n",
        "  smote = smote_binary(df)   # smote_binary() returns [df, row_count]\n",
        "  df = smote[0]\n",
        "  \n",
        "  # fitting the logreg model\n",
        "  from sklearn.linear_model import LogisticRegression\n",
        "  from sklearn.model_selection import train_test_split\n",
        "\n",
        "  X = df.iloc[:,1:]\n",
        "  y = df.iloc[:,0]\n",
        "\n",
        "  X_train, X_test, y_train, y_test = train_test_split(X, y, test_size=0.2)\n",
        "  logReg = LogisticRegression(solver='lbfgs', max_iter=1000)\n",
        "  logReg.fit(X_train, y_train)\n",
        "\n",
        "  y_pred = logReg.predict(X_test)\n",
        "\n",
        "  return logReg, X, y, X_test, y_test, y_pred"
      ],
      "execution_count": 30,
      "outputs": []
    },
    {
      "cell_type": "code",
      "metadata": {
        "id": "e8ftF0yIb-Pz"
      },
      "source": [
        "# performance reports\n",
        "urls = ['https://raw.githubusercontent.com/cpappas18/Dysarthria-Classifier/main/PD_remove_std_all_datasets.csv',\n",
        "        'https://raw.githubusercontent.com/cpappas18/Dysarthria-Classifier/main/PD_median_std_all_datasets.csv']\n",
        "titles = ['PD_remove_std_all',\n",
        "          'PD_median_std_all']\n",
        "\n",
        "for i in range(0,len(urls)):\n",
        "  logReg, X, y, X_test, y_test, y_pred = logreg_pred(urls[i])\n",
        "  performance_report(logReg, X, y, X_test, y_test, y_pred, titles[i])\n"
      ],
      "execution_count": null,
      "outputs": []
    }
  ]
}
