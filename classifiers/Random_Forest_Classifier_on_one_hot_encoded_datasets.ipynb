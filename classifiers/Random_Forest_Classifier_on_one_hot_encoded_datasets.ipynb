{
  "nbformat": 4,
  "nbformat_minor": 0,
  "metadata": {
    "colab": {
      "name": "Random Forest Classifier on one-hot encoded datasets.ipynb",
      "provenance": [],
      "collapsed_sections": [],
      "authorship_tag": "ABX9TyMo3ANAshqoqYvCZPTovzJt",
      "include_colab_link": true
    },
    "kernelspec": {
      "display_name": "Python 3",
      "name": "python3"
    },
    "language_info": {
      "name": "python"
    }
  },
  "cells": [
    {
      "cell_type": "markdown",
      "metadata": {
        "id": "view-in-github",
        "colab_type": "text"
      },
      "source": [
        "<a href=\"https://colab.research.google.com/github/cpappas18/Articulaite/blob/main/Random_Forest_Classifier_on_one_hot_encoded_datasets.ipynb\" target=\"_parent\"><img src=\"https://colab.research.google.com/assets/colab-badge.svg\" alt=\"Open In Colab\"/></a>"
      ]
    },
    {
      "cell_type": "code",
      "metadata": {
        "id": "5nSxxKxQnI89"
      },
      "source": [
        "%matplotlib inline\n",
        "import numpy as np\n",
        "import matplotlib.pyplot as plt\n",
        "import seaborn as sns; sns.set()\n",
        "from sklearn.ensemble import RandomForestClassifier\n",
        "import sklearn\n",
        "from sklearn.preprocessing import MinMaxScaler\n",
        "from sklearn.metrics import accuracy_score\n",
        "from sklearn.model_selection import cross_val_score, KFold\n",
        "import pandas as pd\n",
        "from sklearn.model_selection import train_test_split\n"
      ],
      "execution_count": 1,
      "outputs": []
    },
    {
      "cell_type": "code",
      "metadata": {
        "id": "IeJ-BQCC0hiN"
      },
      "source": [
        "df = pd.read_csv('all_disorders_remove_std_onehot (1).csv')"
      ],
      "execution_count": null,
      "outputs": []
    },
    {
      "cell_type": "code",
      "metadata": {
        "colab": {
          "base_uri": "https://localhost:8080/",
          "height": 456
        },
        "id": "hNZnru00zfYv",
        "outputId": "c6cdf816-515b-4824-98b1-4631a41a537b"
      },
      "source": [
        "df"
      ],
      "execution_count": null,
      "outputs": [
        {
          "output_type": "execute_result",
          "data": {
            "text/html": [
              "<div>\n",
              "<style scoped>\n",
              "    .dataframe tbody tr th:only-of-type {\n",
              "        vertical-align: middle;\n",
              "    }\n",
              "\n",
              "    .dataframe tbody tr th {\n",
              "        vertical-align: top;\n",
              "    }\n",
              "\n",
              "    .dataframe thead th {\n",
              "        text-align: right;\n",
              "    }\n",
              "</style>\n",
              "<table border=\"1\" class=\"dataframe\">\n",
              "  <thead>\n",
              "    <tr style=\"text-align: right;\">\n",
              "      <th></th>\n",
              "      <th>Unnamed: 0</th>\n",
              "      <th>Control</th>\n",
              "      <th>Parkinsons</th>\n",
              "      <th>ALS</th>\n",
              "      <th>Cerebral_palsy</th>\n",
              "      <th>Gender</th>\n",
              "      <th>MDVP:Jitter(%)</th>\n",
              "      <th>MDVP:Jitter(Abs)</th>\n",
              "      <th>Jitter:PPQ5</th>\n",
              "      <th>Jitter:DDP</th>\n",
              "      <th>MDVP:Shimmer</th>\n",
              "      <th>MDVP:Shimmer(dB)</th>\n",
              "      <th>Shimmer:APQ3</th>\n",
              "      <th>Shimmer:APQ5</th>\n",
              "      <th>Shimmer:APQ11</th>\n",
              "      <th>DFA</th>\n",
              "    </tr>\n",
              "  </thead>\n",
              "  <tbody>\n",
              "    <tr>\n",
              "      <th>0</th>\n",
              "      <td>0</td>\n",
              "      <td>0</td>\n",
              "      <td>1</td>\n",
              "      <td>0</td>\n",
              "      <td>0</td>\n",
              "      <td>0</td>\n",
              "      <td>0.014546</td>\n",
              "      <td>-0.000127</td>\n",
              "      <td>0.001828</td>\n",
              "      <td>0.063985</td>\n",
              "      <td>-0.181563</td>\n",
              "      <td>-0.409024</td>\n",
              "      <td>-0.076295</td>\n",
              "      <td>-0.151238</td>\n",
              "      <td>-0.220074</td>\n",
              "      <td>-1.024965</td>\n",
              "    </tr>\n",
              "    <tr>\n",
              "      <th>1</th>\n",
              "      <td>1</td>\n",
              "      <td>0</td>\n",
              "      <td>1</td>\n",
              "      <td>0</td>\n",
              "      <td>0</td>\n",
              "      <td>0</td>\n",
              "      <td>-0.046874</td>\n",
              "      <td>-0.000417</td>\n",
              "      <td>-0.026584</td>\n",
              "      <td>-0.072149</td>\n",
              "      <td>-0.263543</td>\n",
              "      <td>-0.594171</td>\n",
              "      <td>-0.149456</td>\n",
              "      <td>-0.189609</td>\n",
              "      <td>-0.215807</td>\n",
              "      <td>-0.867248</td>\n",
              "    </tr>\n",
              "    <tr>\n",
              "      <th>2</th>\n",
              "      <td>2</td>\n",
              "      <td>0</td>\n",
              "      <td>1</td>\n",
              "      <td>0</td>\n",
              "      <td>0</td>\n",
              "      <td>0</td>\n",
              "      <td>-0.016164</td>\n",
              "      <td>-0.000284</td>\n",
              "      <td>-0.016717</td>\n",
              "      <td>-0.034960</td>\n",
              "      <td>-0.316428</td>\n",
              "      <td>-0.586910</td>\n",
              "      <td>-0.192299</td>\n",
              "      <td>-0.226523</td>\n",
              "      <td>-0.252313</td>\n",
              "      <td>-1.067120</td>\n",
              "    </tr>\n",
              "    <tr>\n",
              "      <th>3</th>\n",
              "      <td>3</td>\n",
              "      <td>0</td>\n",
              "      <td>1</td>\n",
              "      <td>0</td>\n",
              "      <td>0</td>\n",
              "      <td>0</td>\n",
              "      <td>-0.008189</td>\n",
              "      <td>-0.000250</td>\n",
              "      <td>-0.007189</td>\n",
              "      <td>-0.042196</td>\n",
              "      <td>-0.220356</td>\n",
              "      <td>-0.056884</td>\n",
              "      <td>-0.131001</td>\n",
              "      <td>-0.158362</td>\n",
              "      <td>-0.172506</td>\n",
              "      <td>-0.740206</td>\n",
              "    </tr>\n",
              "    <tr>\n",
              "      <th>4</th>\n",
              "      <td>4</td>\n",
              "      <td>0</td>\n",
              "      <td>1</td>\n",
              "      <td>0</td>\n",
              "      <td>0</td>\n",
              "      <td>0</td>\n",
              "      <td>-0.040936</td>\n",
              "      <td>-0.000360</td>\n",
              "      <td>-0.029987</td>\n",
              "      <td>-0.091837</td>\n",
              "      <td>-0.312185</td>\n",
              "      <td>-0.605061</td>\n",
              "      <td>-0.201361</td>\n",
              "      <td>-0.212762</td>\n",
              "      <td>-0.195263</td>\n",
              "      <td>-0.901492</td>\n",
              "    </tr>\n",
              "    <tr>\n",
              "      <th>...</th>\n",
              "      <td>...</td>\n",
              "      <td>...</td>\n",
              "      <td>...</td>\n",
              "      <td>...</td>\n",
              "      <td>...</td>\n",
              "      <td>...</td>\n",
              "      <td>...</td>\n",
              "      <td>...</td>\n",
              "      <td>...</td>\n",
              "      <td>...</td>\n",
              "      <td>...</td>\n",
              "      <td>...</td>\n",
              "      <td>...</td>\n",
              "      <td>...</td>\n",
              "      <td>...</td>\n",
              "      <td>...</td>\n",
              "    </tr>\n",
              "    <tr>\n",
              "      <th>6679</th>\n",
              "      <td>6679</td>\n",
              "      <td>1</td>\n",
              "      <td>0</td>\n",
              "      <td>0</td>\n",
              "      <td>0</td>\n",
              "      <td>1</td>\n",
              "      <td>-32.217900</td>\n",
              "      <td>-20.908653</td>\n",
              "      <td>-23.684420</td>\n",
              "      <td>-31.694701</td>\n",
              "      <td>-22.688858</td>\n",
              "      <td>-7.370397</td>\n",
              "      <td>-13.781598</td>\n",
              "      <td>-10.612545</td>\n",
              "      <td>-23.216192</td>\n",
              "      <td>-23.194185</td>\n",
              "    </tr>\n",
              "    <tr>\n",
              "      <th>6680</th>\n",
              "      <td>6680</td>\n",
              "      <td>1</td>\n",
              "      <td>0</td>\n",
              "      <td>0</td>\n",
              "      <td>0</td>\n",
              "      <td>1</td>\n",
              "      <td>-1.059601</td>\n",
              "      <td>18.348724</td>\n",
              "      <td>-2.716940</td>\n",
              "      <td>-3.364087</td>\n",
              "      <td>-1.038437</td>\n",
              "      <td>-2.693716</td>\n",
              "      <td>0.433780</td>\n",
              "      <td>4.189205</td>\n",
              "      <td>-4.254203</td>\n",
              "      <td>-1.252287</td>\n",
              "    </tr>\n",
              "    <tr>\n",
              "      <th>6681</th>\n",
              "      <td>6681</td>\n",
              "      <td>1</td>\n",
              "      <td>0</td>\n",
              "      <td>0</td>\n",
              "      <td>0</td>\n",
              "      <td>1</td>\n",
              "      <td>35.218278</td>\n",
              "      <td>-0.558297</td>\n",
              "      <td>42.491249</td>\n",
              "      <td>30.454924</td>\n",
              "      <td>-16.763825</td>\n",
              "      <td>1.337682</td>\n",
              "      <td>-16.327157</td>\n",
              "      <td>-16.064503</td>\n",
              "      <td>-18.499916</td>\n",
              "      <td>-14.613771</td>\n",
              "    </tr>\n",
              "    <tr>\n",
              "      <th>6682</th>\n",
              "      <td>6682</td>\n",
              "      <td>1</td>\n",
              "      <td>0</td>\n",
              "      <td>0</td>\n",
              "      <td>0</td>\n",
              "      <td>1</td>\n",
              "      <td>2.792539</td>\n",
              "      <td>-3.296699</td>\n",
              "      <td>1.430399</td>\n",
              "      <td>7.347828</td>\n",
              "      <td>-18.280037</td>\n",
              "      <td>-2.884069</td>\n",
              "      <td>-19.637068</td>\n",
              "      <td>-25.929862</td>\n",
              "      <td>-28.065778</td>\n",
              "      <td>-19.527662</td>\n",
              "    </tr>\n",
              "    <tr>\n",
              "      <th>6683</th>\n",
              "      <td>6683</td>\n",
              "      <td>1</td>\n",
              "      <td>0</td>\n",
              "      <td>0</td>\n",
              "      <td>0</td>\n",
              "      <td>1</td>\n",
              "      <td>-4.198662</td>\n",
              "      <td>20.934973</td>\n",
              "      <td>-18.593052</td>\n",
              "      <td>-15.748143</td>\n",
              "      <td>21.101617</td>\n",
              "      <td>5.038021</td>\n",
              "      <td>27.616431</td>\n",
              "      <td>14.668735</td>\n",
              "      <td>17.824521</td>\n",
              "      <td>-10.922711</td>\n",
              "    </tr>\n",
              "  </tbody>\n",
              "</table>\n",
              "<p>6684 rows × 16 columns</p>\n",
              "</div>"
            ],
            "text/plain": [
              "      Unnamed: 0  Control  Parkinsons  ...  Shimmer:APQ5  Shimmer:APQ11        DFA\n",
              "0              0        0           1  ...     -0.151238      -0.220074  -1.024965\n",
              "1              1        0           1  ...     -0.189609      -0.215807  -0.867248\n",
              "2              2        0           1  ...     -0.226523      -0.252313  -1.067120\n",
              "3              3        0           1  ...     -0.158362      -0.172506  -0.740206\n",
              "4              4        0           1  ...     -0.212762      -0.195263  -0.901492\n",
              "...          ...      ...         ...  ...           ...            ...        ...\n",
              "6679        6679        1           0  ...    -10.612545     -23.216192 -23.194185\n",
              "6680        6680        1           0  ...      4.189205      -4.254203  -1.252287\n",
              "6681        6681        1           0  ...    -16.064503     -18.499916 -14.613771\n",
              "6682        6682        1           0  ...    -25.929862     -28.065778 -19.527662\n",
              "6683        6683        1           0  ...     14.668735      17.824521 -10.922711\n",
              "\n",
              "[6684 rows x 16 columns]"
            ]
          },
          "metadata": {
            "tags": []
          },
          "execution_count": 5
        }
      ]
    },
    {
      "cell_type": "code",
      "metadata": {
        "id": "IQGapL71Odc0"
      },
      "source": [
        "#get rid of unnamed column \n",
        "if df.columns[[0]] == 'Unnamed: 0':\n",
        "    i = df.drop(df.columns[[0]], axis=1, inplace=True) "
      ],
      "execution_count": null,
      "outputs": []
    },
    {
      "cell_type": "code",
      "metadata": {
        "id": "V8vHcxoLOTDq"
      },
      "source": [
        "#getting features and labels from original dataset\n",
        "features = df.drop(['Control', 'Parkinsons', 'ALS', 'Cerebral_palsy'], axis = 1)\n",
        "labels = df.drop(['Gender', 'MDVP:Jitter(%)', 'MDVP:Jitter(Abs)', 'Jitter:PPQ5', 'Jitter:DDP', 'MDVP:Shimmer', 'MDVP:Shimmer(dB)', 'Shimmer:APQ3', 'Shimmer:APQ5', 'Shimmer:APQ11', 'DFA'],axis = 1)"
      ],
      "execution_count": null,
      "outputs": []
    },
    {
      "cell_type": "code",
      "metadata": {
        "id": "u4PTU9iJOrbU"
      },
      "source": [
        "x = features \n",
        "y = labels "
      ],
      "execution_count": null,
      "outputs": []
    },
    {
      "cell_type": "code",
      "metadata": {
        "id": "EpRdvxVCnFos"
      },
      "source": [
        "#splitting the train test split \n",
        "x_train,x_test,y_train,y_test = train_test_split(x, y, test_size=0.2, random_state=0, stratify=y)"
      ],
      "execution_count": null,
      "outputs": []
    },
    {
      "cell_type": "markdown",
      "metadata": {
        "id": "r92G6c9AKCGE"
      },
      "source": [
        "Without SMOTE"
      ]
    },
    {
      "cell_type": "code",
      "metadata": {
        "colab": {
          "base_uri": "https://localhost:8080/"
        },
        "id": "JcuywdbRKA0L",
        "outputId": "52310c78-172e-4bdf-e94c-26daf59768f8"
      },
      "source": [
        "model_ns = RandomForestClassifier(n_estimators=1000, random_state = 1)\n",
        "model_ns.fit(x_train, y_train)"
      ],
      "execution_count": null,
      "outputs": [
        {
          "output_type": "execute_result",
          "data": {
            "text/plain": [
              "RandomForestClassifier(bootstrap=True, ccp_alpha=0.0, class_weight=None,\n",
              "                       criterion='gini', max_depth=None, max_features='auto',\n",
              "                       max_leaf_nodes=None, max_samples=None,\n",
              "                       min_impurity_decrease=0.0, min_impurity_split=None,\n",
              "                       min_samples_leaf=1, min_samples_split=2,\n",
              "                       min_weight_fraction_leaf=0.0, n_estimators=1000,\n",
              "                       n_jobs=None, oob_score=False, random_state=1, verbose=0,\n",
              "                       warm_start=False)"
            ]
          },
          "metadata": {
            "tags": []
          },
          "execution_count": 203
        }
      ]
    },
    {
      "cell_type": "code",
      "metadata": {
        "colab": {
          "base_uri": "https://localhost:8080/"
        },
        "id": "w_5XYDDsQyja",
        "outputId": "1c8244b6-5eb8-4a8d-9f62-87ac6162a36c"
      },
      "source": [
        "y_test.value_counts() #PD is 96% our data"
      ],
      "execution_count": null,
      "outputs": [
        {
          "output_type": "execute_result",
          "data": {
            "text/plain": [
              "Control  Parkinsons  ALS  Cerebral_palsy\n",
              "0        1           0    0                 1288\n",
              "1        0           0    0                   43\n",
              "0        0           1    0                    3\n",
              "                     0    1                    3\n",
              "dtype: int64"
            ]
          },
          "metadata": {
            "tags": []
          },
          "execution_count": 204
        }
      ]
    },
    {
      "cell_type": "markdown",
      "metadata": {
        "id": "hPQxABWr9wh4"
      },
      "source": [
        "Getting metrics "
      ]
    },
    {
      "cell_type": "code",
      "metadata": {
        "id": "8dmXy6FKKXih"
      },
      "source": [
        "y_pred_ns = model_ns.predict(x_test)\n",
        "from sklearn import metrics\n",
        "print(metrics.classification_report(y_pred_ns, y_test))"
      ],
      "execution_count": null,
      "outputs": []
    },
    {
      "cell_type": "code",
      "metadata": {
        "colab": {
          "base_uri": "https://localhost:8080/"
        },
        "id": "AK8KQHt-KruJ",
        "outputId": "de4cd46d-18bb-40ce-9c03-eb33264f8d8b"
      },
      "source": [
        "print(accuracy_score(y_test, y_pred_ns)*100)"
      ],
      "execution_count": null,
      "outputs": [
        {
          "output_type": "stream",
          "text": [
            "97.08302169035153\n"
          ],
          "name": "stdout"
        }
      ]
    },
    {
      "cell_type": "code",
      "metadata": {
        "id": "Uss6NgyOQZq6"
      },
      "source": [
        "y_test_list = y_test.values.tolist()\n",
        "y_pred_ns_list = y_pred_ns.tolist()"
      ],
      "execution_count": null,
      "outputs": []
    },
    {
      "cell_type": "code",
      "metadata": {
        "colab": {
          "base_uri": "https://localhost:8080/"
        },
        "id": "28SvrI4wSLwD",
        "outputId": "fb29945b-6ed7-4aa2-db43-8d3a26a99f49"
      },
      "source": [
        "print(y_test_list[0] == y_pred_ns_list[0])"
      ],
      "execution_count": null,
      "outputs": [
        {
          "output_type": "stream",
          "text": [
            "True\n"
          ],
          "name": "stdout"
        }
      ]
    },
    {
      "cell_type": "code",
      "metadata": {
        "id": "qL0tgoqwPetB"
      },
      "source": [
        "#function to get TP, TN, FP, FN\n",
        "def perf_measure(y_actual, y_hat):\n",
        "    \n",
        "    TP = 0\n",
        "    FP = 0\n",
        "    TN = 0\n",
        "    FN = 0\n",
        "\n",
        "    for i in range(len(y_hat)): \n",
        "        #actually positive and predicts positive \n",
        "        if y_actual[i]==y_hat[i] and y_actual[i] != [1,0,0,0]:\n",
        "           TP += 1\n",
        "        #actually negative but says positive \n",
        "        if y_actual[i]==[1,0,0,0] and y_hat[i] != [1,0,0,0]:\n",
        "           FP += 1\n",
        "        #actually negative, prdicts negative \n",
        "        if y_actual[i]==y_hat[i]==[1,0,0,0]:\n",
        "           TN += 1\n",
        "        #actually postive, predicts negative \n",
        "        if y_actual[i] != [1,0,0,0] and y_hat[i] == [1,0,0,0]:\n",
        "           FN += 1\n",
        "    return TP, FP, FN, TN"
      ],
      "execution_count": null,
      "outputs": []
    },
    {
      "cell_type": "code",
      "metadata": {
        "colab": {
          "base_uri": "https://localhost:8080/"
        },
        "id": "6F_rqjbdSUX5",
        "outputId": "f66e4d55-4b30-4417-8c82-8eb2d6739f83"
      },
      "source": [
        "TP,FP,FN,TN = perf_measure(y_test_list, y_pred_ns_list)\n",
        "print(TP, TN, FP, FN)"
      ],
      "execution_count": null,
      "outputs": [
        {
          "output_type": "stream",
          "text": [
            "1285 30 7 13\n"
          ],
          "name": "stdout"
        }
      ]
    },
    {
      "cell_type": "code",
      "metadata": {
        "colab": {
          "base_uri": "https://localhost:8080/"
        },
        "id": "ASCy1wYwTY_O",
        "outputId": "ba141220-36c5-4d06-d4f0-efeae3e57f1e"
      },
      "source": [
        "kfold = KFold(n_splits=10, shuffle=True)\n",
        "kf_cv_scores = cross_val_score(model_ns, x_train, y_train, cv=kfold )\n",
        "print(\"K-fold CV average score: %.2f\" % kf_cv_scores.mean())"
      ],
      "execution_count": null,
      "outputs": [
        {
          "output_type": "stream",
          "text": [
            "K-fold CV average score: 0.97\n"
          ],
          "name": "stdout"
        }
      ]
    },
    {
      "cell_type": "markdown",
      "metadata": {
        "id": "AnesFu5iKQvB"
      },
      "source": [
        "With SMOTE"
      ]
    },
    {
      "cell_type": "code",
      "metadata": {
        "id": "Y7rGr-ZGOxxd"
      },
      "source": [
        "#concatenate the training dataset together to perform SMOTE on it \n",
        "pre_smote_training_dataset = pd.concat([y_train, x_train], axis=1, join='inner')"
      ],
      "execution_count": null,
      "outputs": []
    },
    {
      "cell_type": "code",
      "metadata": {
        "id": "iCq-9esBFF6A"
      },
      "source": [
        "pre_smote_training_dataset.reset_index(inplace = True)"
      ],
      "execution_count": null,
      "outputs": []
    },
    {
      "cell_type": "code",
      "metadata": {
        "id": "SyY2OntRLsQA"
      },
      "source": [
        "pre_smote_training_dataset.drop(['index'],axis = 1, inplace = True)"
      ],
      "execution_count": null,
      "outputs": []
    },
    {
      "cell_type": "code",
      "metadata": {
        "colab": {
          "base_uri": "https://localhost:8080/",
          "height": 439
        },
        "id": "IEkBoVhrOPtD",
        "outputId": "ef826a91-ef95-48f7-dc50-1d519c3fcc47"
      },
      "source": [
        "pre_smote_training_dataset"
      ],
      "execution_count": null,
      "outputs": [
        {
          "output_type": "execute_result",
          "data": {
            "text/html": [
              "<div>\n",
              "<style scoped>\n",
              "    .dataframe tbody tr th:only-of-type {\n",
              "        vertical-align: middle;\n",
              "    }\n",
              "\n",
              "    .dataframe tbody tr th {\n",
              "        vertical-align: top;\n",
              "    }\n",
              "\n",
              "    .dataframe thead th {\n",
              "        text-align: right;\n",
              "    }\n",
              "</style>\n",
              "<table border=\"1\" class=\"dataframe\">\n",
              "  <thead>\n",
              "    <tr style=\"text-align: right;\">\n",
              "      <th></th>\n",
              "      <th>Control</th>\n",
              "      <th>Parkinsons</th>\n",
              "      <th>ALS</th>\n",
              "      <th>Cerebral_palsy</th>\n",
              "      <th>Gender</th>\n",
              "      <th>MDVP:Jitter(%)</th>\n",
              "      <th>MDVP:Jitter(Abs)</th>\n",
              "      <th>Jitter:PPQ5</th>\n",
              "      <th>Jitter:DDP</th>\n",
              "      <th>MDVP:Shimmer</th>\n",
              "      <th>MDVP:Shimmer(dB)</th>\n",
              "      <th>Shimmer:APQ3</th>\n",
              "      <th>Shimmer:APQ5</th>\n",
              "      <th>Shimmer:APQ11</th>\n",
              "      <th>DFA</th>\n",
              "    </tr>\n",
              "  </thead>\n",
              "  <tbody>\n",
              "    <tr>\n",
              "      <th>0</th>\n",
              "      <td>0</td>\n",
              "      <td>1</td>\n",
              "      <td>0</td>\n",
              "      <td>0</td>\n",
              "      <td>1</td>\n",
              "      <td>0.007929</td>\n",
              "      <td>0.000475</td>\n",
              "      <td>0.009994</td>\n",
              "      <td>0.025618</td>\n",
              "      <td>1.942476</td>\n",
              "      <td>3.816662</td>\n",
              "      <td>0.727164</td>\n",
              "      <td>1.456949</td>\n",
              "      <td>2.300407</td>\n",
              "      <td>-0.283066</td>\n",
              "    </tr>\n",
              "    <tr>\n",
              "      <th>1</th>\n",
              "      <td>0</td>\n",
              "      <td>1</td>\n",
              "      <td>0</td>\n",
              "      <td>0</td>\n",
              "      <td>0</td>\n",
              "      <td>-0.031434</td>\n",
              "      <td>-0.000120</td>\n",
              "      <td>-0.017908</td>\n",
              "      <td>-0.059528</td>\n",
              "      <td>-0.060640</td>\n",
              "      <td>-0.140381</td>\n",
              "      <td>-0.055862</td>\n",
              "      <td>-0.057334</td>\n",
              "      <td>-0.057615</td>\n",
              "      <td>-0.733357</td>\n",
              "    </tr>\n",
              "    <tr>\n",
              "      <th>2</th>\n",
              "      <td>0</td>\n",
              "      <td>1</td>\n",
              "      <td>0</td>\n",
              "      <td>0</td>\n",
              "      <td>1</td>\n",
              "      <td>-0.023969</td>\n",
              "      <td>-0.000284</td>\n",
              "      <td>-0.013484</td>\n",
              "      <td>-0.026715</td>\n",
              "      <td>-0.283545</td>\n",
              "      <td>-0.655886</td>\n",
              "      <td>-0.146490</td>\n",
              "      <td>-0.186533</td>\n",
              "      <td>-0.267642</td>\n",
              "      <td>-0.076924</td>\n",
              "    </tr>\n",
              "    <tr>\n",
              "      <th>3</th>\n",
              "      <td>0</td>\n",
              "      <td>1</td>\n",
              "      <td>0</td>\n",
              "      <td>0</td>\n",
              "      <td>0</td>\n",
              "      <td>-0.043141</td>\n",
              "      <td>-0.000313</td>\n",
              "      <td>-0.025223</td>\n",
              "      <td>-0.063230</td>\n",
              "      <td>-0.093068</td>\n",
              "      <td>-0.169424</td>\n",
              "      <td>-0.021094</td>\n",
              "      <td>-0.093439</td>\n",
              "      <td>-0.134578</td>\n",
              "      <td>-0.501555</td>\n",
              "    </tr>\n",
              "    <tr>\n",
              "      <th>4</th>\n",
              "      <td>0</td>\n",
              "      <td>1</td>\n",
              "      <td>0</td>\n",
              "      <td>0</td>\n",
              "      <td>1</td>\n",
              "      <td>0.048820</td>\n",
              "      <td>0.000085</td>\n",
              "      <td>0.024285</td>\n",
              "      <td>0.080980</td>\n",
              "      <td>-0.189443</td>\n",
              "      <td>-0.263812</td>\n",
              "      <td>-0.119302</td>\n",
              "      <td>-0.158038</td>\n",
              "      <td>-0.229240</td>\n",
              "      <td>0.243528</td>\n",
              "    </tr>\n",
              "    <tr>\n",
              "      <th>...</th>\n",
              "      <td>...</td>\n",
              "      <td>...</td>\n",
              "      <td>...</td>\n",
              "      <td>...</td>\n",
              "      <td>...</td>\n",
              "      <td>...</td>\n",
              "      <td>...</td>\n",
              "      <td>...</td>\n",
              "      <td>...</td>\n",
              "      <td>...</td>\n",
              "      <td>...</td>\n",
              "      <td>...</td>\n",
              "      <td>...</td>\n",
              "      <td>...</td>\n",
              "      <td>...</td>\n",
              "    </tr>\n",
              "    <tr>\n",
              "      <th>5342</th>\n",
              "      <td>0</td>\n",
              "      <td>1</td>\n",
              "      <td>0</td>\n",
              "      <td>0</td>\n",
              "      <td>1</td>\n",
              "      <td>-0.018370</td>\n",
              "      <td>-0.000023</td>\n",
              "      <td>-0.010592</td>\n",
              "      <td>-0.049768</td>\n",
              "      <td>0.017703</td>\n",
              "      <td>0.084698</td>\n",
              "      <td>0.015652</td>\n",
              "      <td>0.002732</td>\n",
              "      <td>0.050796</td>\n",
              "      <td>-0.228564</td>\n",
              "    </tr>\n",
              "    <tr>\n",
              "      <th>5343</th>\n",
              "      <td>0</td>\n",
              "      <td>1</td>\n",
              "      <td>0</td>\n",
              "      <td>0</td>\n",
              "      <td>1</td>\n",
              "      <td>-0.026683</td>\n",
              "      <td>-0.000292</td>\n",
              "      <td>-0.012293</td>\n",
              "      <td>-0.030753</td>\n",
              "      <td>0.097409</td>\n",
              "      <td>0.208129</td>\n",
              "      <td>0.088648</td>\n",
              "      <td>0.061503</td>\n",
              "      <td>0.022034</td>\n",
              "      <td>0.841697</td>\n",
              "    </tr>\n",
              "    <tr>\n",
              "      <th>5344</th>\n",
              "      <td>0</td>\n",
              "      <td>1</td>\n",
              "      <td>0</td>\n",
              "      <td>0</td>\n",
              "      <td>1</td>\n",
              "      <td>0.010305</td>\n",
              "      <td>-0.000140</td>\n",
              "      <td>-0.003276</td>\n",
              "      <td>-0.017123</td>\n",
              "      <td>-0.024121</td>\n",
              "      <td>-0.082296</td>\n",
              "      <td>-0.037901</td>\n",
              "      <td>-0.012163</td>\n",
              "      <td>0.023614</td>\n",
              "      <td>-0.547954</td>\n",
              "    </tr>\n",
              "    <tr>\n",
              "      <th>5345</th>\n",
              "      <td>0</td>\n",
              "      <td>1</td>\n",
              "      <td>0</td>\n",
              "      <td>0</td>\n",
              "      <td>0</td>\n",
              "      <td>0.053740</td>\n",
              "      <td>0.000449</td>\n",
              "      <td>0.033132</td>\n",
              "      <td>0.099154</td>\n",
              "      <td>0.330012</td>\n",
              "      <td>0.734525</td>\n",
              "      <td>0.240244</td>\n",
              "      <td>0.230206</td>\n",
              "      <td>0.152412</td>\n",
              "      <td>1.376393</td>\n",
              "    </tr>\n",
              "    <tr>\n",
              "      <th>5346</th>\n",
              "      <td>0</td>\n",
              "      <td>1</td>\n",
              "      <td>0</td>\n",
              "      <td>0</td>\n",
              "      <td>1</td>\n",
              "      <td>0.096158</td>\n",
              "      <td>0.000438</td>\n",
              "      <td>0.057801</td>\n",
              "      <td>0.125068</td>\n",
              "      <td>0.150749</td>\n",
              "      <td>0.538488</td>\n",
              "      <td>0.087330</td>\n",
              "      <td>0.097284</td>\n",
              "      <td>0.181964</td>\n",
              "      <td>-0.212262</td>\n",
              "    </tr>\n",
              "  </tbody>\n",
              "</table>\n",
              "<p>5347 rows × 15 columns</p>\n",
              "</div>"
            ],
            "text/plain": [
              "      Control  Parkinsons  ALS  ...  Shimmer:APQ5  Shimmer:APQ11       DFA\n",
              "0           0           1    0  ...      1.456949       2.300407 -0.283066\n",
              "1           0           1    0  ...     -0.057334      -0.057615 -0.733357\n",
              "2           0           1    0  ...     -0.186533      -0.267642 -0.076924\n",
              "3           0           1    0  ...     -0.093439      -0.134578 -0.501555\n",
              "4           0           1    0  ...     -0.158038      -0.229240  0.243528\n",
              "...       ...         ...  ...  ...           ...            ...       ...\n",
              "5342        0           1    0  ...      0.002732       0.050796 -0.228564\n",
              "5343        0           1    0  ...      0.061503       0.022034  0.841697\n",
              "5344        0           1    0  ...     -0.012163       0.023614 -0.547954\n",
              "5345        0           1    0  ...      0.230206       0.152412  1.376393\n",
              "5346        0           1    0  ...      0.097284       0.181964 -0.212262\n",
              "\n",
              "[5347 rows x 15 columns]"
            ]
          },
          "metadata": {
            "tags": []
          },
          "execution_count": 20
        }
      ]
    },
    {
      "cell_type": "markdown",
      "metadata": {
        "id": "-flPVL6H8cMV"
      },
      "source": [
        "SMOTE FUNCTION"
      ]
    },
    {
      "cell_type": "code",
      "metadata": {
        "id": "R5M796XvDiLS"
      },
      "source": [
        "import pandas as pd\n",
        "import numpy as np\n",
        "from collections import Counter\n",
        "from imblearn.over_sampling import SMOTE\n",
        "from numpy import where, random\n",
        "\n",
        "\n",
        "def smote_multiclass(df, num_samples_dict, one_hot_encoded):\n",
        "  \"\"\"\n",
        "  Performs data augmentation and/or downsampling on a dataframe with multiple classes.\n",
        "  Supports both numerical and one-hot encoded class values.\n",
        "  The SMOTE algorithm is used for augmentation and random sampling is used for downsampling of the specified classes.\n",
        "  Keyword arguments:\n",
        "  df -- the dataframe to manipulate\n",
        "  num_samples_dict -- a dictionary of the form {0: num_desired_samples, 1: num_desired_samples, ...} that indicates the\n",
        "                      number of samples that the returned dataframe should have in each class\n",
        "  one_hot_encoded -- Boolean value indicating if the dataframe is one-hot encoded\n",
        "  \"\"\"\n",
        "  # change one hot encoded dataset into numerical labels\n",
        "  if one_hot_encoded:\n",
        "    df.insert(loc=0, column='Status', value=np.nan)\n",
        "    for i, row in df.iterrows():\n",
        "      if df.iloc[i]['Control'] == 1:\n",
        "          status = 0\n",
        "      elif df.iloc[i]['Parkinsons'] == 1:\n",
        "          status = 1\n",
        "      elif df.iloc[i]['ALS'] == 1:\n",
        "          status = 2\n",
        "      elif df.iloc[i]['Cerebral_palsy'] == 1:\n",
        "          status = 3\n",
        "      df.at[i,'Status'] = status\n",
        "    df = df.drop(columns=['Control', 'Parkinsons', 'ALS', 'Cerebral_palsy'])\n",
        "\n",
        "\n",
        "  if num_samples_dict is not None:\n",
        "    strategy = num_samples_dict\n",
        "\n",
        "    # downsampling classes if needed\n",
        "    counter = Counter(df.Status)\n",
        "    class_samples = []\n",
        "    for i in range(4):\n",
        "      if counter[i] > num_samples_dict[i]: # class i needs to be downsampled\n",
        "        class_i = df.loc[df['Status'] == i]\n",
        "        class_i_sample = class_i.sample(n=num_samples_dict[i])\n",
        "        class_samples.append(class_i_sample)\n",
        "      else: # class i does not need downsampling\n",
        "        class_i = df.loc[df['Status'] == i]\n",
        "        class_samples.append(class_i)\n",
        "\n",
        "    df = pd.concat(class_samples).reset_index(drop=True)\n",
        "\n",
        "  else:\n",
        "    strategy = 'auto'\n",
        "\n",
        "  y = df.Status # labels\n",
        "  x = df.drop(['Status', 'Gender'], axis=1) # features only, Gender also removed because it must be binary\n",
        "  gender = df.Gender\n",
        "\n",
        "  oversample = SMOTE(sampling_strategy=strategy)\n",
        "  x_oversampled, y_oversampled = oversample.fit_resample(x, y)\n",
        "\n",
        "  # get sample counts for augmented dataset\n",
        "  counter = Counter(y_oversampled)\n",
        "\n",
        "  if num_samples_dict is not None and (counter[0] != num_samples_dict[0] or counter[1] != num_samples_dict[1]\n",
        "                                       or counter[2] != num_samples_dict[2] or counter[3] != num_samples_dict[3]):\n",
        "    print(\"Sampling failed\")\n",
        "  elif num_samples_dict is None and (counter[0] != counter[1] or counter[1] != counter[2] or counter[2] != counter[3]):\n",
        "    print(\"Sampling failed\")\n",
        "\n",
        "  # regenerate dataframe with new samples\n",
        "  df_concat = pd.concat([pd.DataFrame(y_oversampled), pd.DataFrame(gender), pd.DataFrame(x_oversampled)], axis=1)\n",
        "  df_concat.columns = df.columns\n",
        "\n",
        "  # fill missing gender values with a random choice of 0 or 1\n",
        "  for row in df_concat.loc[df_concat.Gender.isnull(), 'Gender'].index:\n",
        "    df_concat.at[row, 'Gender'] = random.randint(0, 2)\n",
        "\n",
        "  # change numerical class values back into one-hot encoded values\n",
        "  if one_hot_encoded:\n",
        "    one_hot = pd.get_dummies(df_concat['Status'])\n",
        "    one_hot.rename(columns={0:'Control', 1:'Parkinsons', 2:'ALS', 3:'Cerebral_palsy'}, inplace=True)\n",
        "    df_concat = df_concat.drop(columns=['Status'], axis=1)\n",
        "    df_concat = pd.concat([one_hot, df_concat], axis=1)\n",
        "\n",
        "  return df_concat\n"
      ],
      "execution_count": null,
      "outputs": []
    },
    {
      "cell_type": "code",
      "metadata": {
        "id": "mROs9ynpMWz_"
      },
      "source": [
        "#doing smote on the training data\n",
        "smoted_training_data = smote_multiclass(pre_smote_training_dataset, num_samples_dict= {0: 6000, 1: 6000, 2: 6000, 3:6000}, one_hot_encoded=True)"
      ],
      "execution_count": null,
      "outputs": []
    },
    {
      "cell_type": "code",
      "metadata": {
        "colab": {
          "base_uri": "https://localhost:8080/",
          "height": 439
        },
        "id": "roSRHnngMdZ3",
        "outputId": "d5a04424-6f63-4a02-e5f6-8aa1a9b7efc3"
      },
      "source": [
        "smoted_training_data"
      ],
      "execution_count": null,
      "outputs": [
        {
          "output_type": "execute_result",
          "data": {
            "text/html": [
              "<div>\n",
              "<style scoped>\n",
              "    .dataframe tbody tr th:only-of-type {\n",
              "        vertical-align: middle;\n",
              "    }\n",
              "\n",
              "    .dataframe tbody tr th {\n",
              "        vertical-align: top;\n",
              "    }\n",
              "\n",
              "    .dataframe thead th {\n",
              "        text-align: right;\n",
              "    }\n",
              "</style>\n",
              "<table border=\"1\" class=\"dataframe\">\n",
              "  <thead>\n",
              "    <tr style=\"text-align: right;\">\n",
              "      <th></th>\n",
              "      <th>Control</th>\n",
              "      <th>Parkinsons</th>\n",
              "      <th>ALS</th>\n",
              "      <th>Cerebral_palsy</th>\n",
              "      <th>Gender</th>\n",
              "      <th>MDVP:Jitter(%)</th>\n",
              "      <th>MDVP:Jitter(Abs)</th>\n",
              "      <th>Jitter:PPQ5</th>\n",
              "      <th>Jitter:DDP</th>\n",
              "      <th>MDVP:Shimmer</th>\n",
              "      <th>MDVP:Shimmer(dB)</th>\n",
              "      <th>Shimmer:APQ3</th>\n",
              "      <th>Shimmer:APQ5</th>\n",
              "      <th>Shimmer:APQ11</th>\n",
              "      <th>DFA</th>\n",
              "    </tr>\n",
              "  </thead>\n",
              "  <tbody>\n",
              "    <tr>\n",
              "      <th>0</th>\n",
              "      <td>1</td>\n",
              "      <td>0</td>\n",
              "      <td>0</td>\n",
              "      <td>0</td>\n",
              "      <td>0.0</td>\n",
              "      <td>-0.078772</td>\n",
              "      <td>-0.000606</td>\n",
              "      <td>-0.043938</td>\n",
              "      <td>-0.128857</td>\n",
              "      <td>1.547883</td>\n",
              "      <td>2.981690</td>\n",
              "      <td>0.855032</td>\n",
              "      <td>1.173132</td>\n",
              "      <td>1.174732</td>\n",
              "      <td>0.063334</td>\n",
              "    </tr>\n",
              "    <tr>\n",
              "      <th>1</th>\n",
              "      <td>1</td>\n",
              "      <td>0</td>\n",
              "      <td>0</td>\n",
              "      <td>0</td>\n",
              "      <td>1.0</td>\n",
              "      <td>-0.067404</td>\n",
              "      <td>-0.000486</td>\n",
              "      <td>-0.031348</td>\n",
              "      <td>-0.108327</td>\n",
              "      <td>1.417565</td>\n",
              "      <td>3.007102</td>\n",
              "      <td>1.126916</td>\n",
              "      <td>0.497833</td>\n",
              "      <td>0.670130</td>\n",
              "      <td>-0.103644</td>\n",
              "    </tr>\n",
              "    <tr>\n",
              "      <th>2</th>\n",
              "      <td>1</td>\n",
              "      <td>0</td>\n",
              "      <td>0</td>\n",
              "      <td>0</td>\n",
              "      <td>0.0</td>\n",
              "      <td>-0.084880</td>\n",
              "      <td>-0.000636</td>\n",
              "      <td>-0.047000</td>\n",
              "      <td>-0.132895</td>\n",
              "      <td>-0.118980</td>\n",
              "      <td>-0.289224</td>\n",
              "      <td>-0.050095</td>\n",
              "      <td>-0.052963</td>\n",
              "      <td>-0.123832</td>\n",
              "      <td>0.662468</td>\n",
              "    </tr>\n",
              "    <tr>\n",
              "      <th>3</th>\n",
              "      <td>1</td>\n",
              "      <td>0</td>\n",
              "      <td>0</td>\n",
              "      <td>0</td>\n",
              "      <td>1.0</td>\n",
              "      <td>-0.073852</td>\n",
              "      <td>-0.000546</td>\n",
              "      <td>-0.041046</td>\n",
              "      <td>-0.124818</td>\n",
              "      <td>0.107259</td>\n",
              "      <td>0.164565</td>\n",
              "      <td>0.116825</td>\n",
              "      <td>0.091779</td>\n",
              "      <td>-0.036439</td>\n",
              "      <td>0.480249</td>\n",
              "    </tr>\n",
              "    <tr>\n",
              "      <th>4</th>\n",
              "      <td>1</td>\n",
              "      <td>0</td>\n",
              "      <td>0</td>\n",
              "      <td>0</td>\n",
              "      <td>1.0</td>\n",
              "      <td>-0.075379</td>\n",
              "      <td>-0.000550</td>\n",
              "      <td>-0.038153</td>\n",
              "      <td>-0.120611</td>\n",
              "      <td>1.354224</td>\n",
              "      <td>2.843738</td>\n",
              "      <td>0.777092</td>\n",
              "      <td>0.929468</td>\n",
              "      <td>1.037717</td>\n",
              "      <td>0.580667</td>\n",
              "    </tr>\n",
              "    <tr>\n",
              "      <th>...</th>\n",
              "      <td>...</td>\n",
              "      <td>...</td>\n",
              "      <td>...</td>\n",
              "      <td>...</td>\n",
              "      <td>...</td>\n",
              "      <td>...</td>\n",
              "      <td>...</td>\n",
              "      <td>...</td>\n",
              "      <td>...</td>\n",
              "      <td>...</td>\n",
              "      <td>...</td>\n",
              "      <td>...</td>\n",
              "      <td>...</td>\n",
              "      <td>...</td>\n",
              "      <td>...</td>\n",
              "    </tr>\n",
              "    <tr>\n",
              "      <th>23995</th>\n",
              "      <td>0</td>\n",
              "      <td>0</td>\n",
              "      <td>0</td>\n",
              "      <td>1</td>\n",
              "      <td>0.0</td>\n",
              "      <td>0.667727</td>\n",
              "      <td>-5.661660</td>\n",
              "      <td>0.779186</td>\n",
              "      <td>2.734428</td>\n",
              "      <td>0.790042</td>\n",
              "      <td>-2.487118</td>\n",
              "      <td>-6.295278</td>\n",
              "      <td>-1.924544</td>\n",
              "      <td>2.308438</td>\n",
              "      <td>-6.198002</td>\n",
              "    </tr>\n",
              "    <tr>\n",
              "      <th>23996</th>\n",
              "      <td>0</td>\n",
              "      <td>0</td>\n",
              "      <td>0</td>\n",
              "      <td>1</td>\n",
              "      <td>1.0</td>\n",
              "      <td>-28.298963</td>\n",
              "      <td>-17.264532</td>\n",
              "      <td>-22.241628</td>\n",
              "      <td>-26.527949</td>\n",
              "      <td>-0.345857</td>\n",
              "      <td>-2.389292</td>\n",
              "      <td>-3.562198</td>\n",
              "      <td>8.197130</td>\n",
              "      <td>15.293083</td>\n",
              "      <td>-18.696573</td>\n",
              "    </tr>\n",
              "    <tr>\n",
              "      <th>23997</th>\n",
              "      <td>0</td>\n",
              "      <td>0</td>\n",
              "      <td>0</td>\n",
              "      <td>1</td>\n",
              "      <td>1.0</td>\n",
              "      <td>1.209999</td>\n",
              "      <td>-5.326130</td>\n",
              "      <td>1.131166</td>\n",
              "      <td>3.320462</td>\n",
              "      <td>1.236034</td>\n",
              "      <td>-2.476562</td>\n",
              "      <td>-6.239357</td>\n",
              "      <td>-1.717869</td>\n",
              "      <td>3.117656</td>\n",
              "      <td>-6.376109</td>\n",
              "    </tr>\n",
              "    <tr>\n",
              "      <th>23998</th>\n",
              "      <td>0</td>\n",
              "      <td>0</td>\n",
              "      <td>0</td>\n",
              "      <td>1</td>\n",
              "      <td>0.0</td>\n",
              "      <td>4.525846</td>\n",
              "      <td>7.110670</td>\n",
              "      <td>1.324369</td>\n",
              "      <td>7.941190</td>\n",
              "      <td>13.097747</td>\n",
              "      <td>2.615880</td>\n",
              "      <td>17.406345</td>\n",
              "      <td>18.113278</td>\n",
              "      <td>19.577693</td>\n",
              "      <td>0.180993</td>\n",
              "    </tr>\n",
              "    <tr>\n",
              "      <th>23999</th>\n",
              "      <td>0</td>\n",
              "      <td>0</td>\n",
              "      <td>0</td>\n",
              "      <td>1</td>\n",
              "      <td>0.0</td>\n",
              "      <td>-8.647888</td>\n",
              "      <td>-11.494246</td>\n",
              "      <td>-6.225244</td>\n",
              "      <td>-7.193796</td>\n",
              "      <td>-5.224699</td>\n",
              "      <td>2.814154</td>\n",
              "      <td>-12.178542</td>\n",
              "      <td>-9.406530</td>\n",
              "      <td>-4.076816</td>\n",
              "      <td>-1.259335</td>\n",
              "    </tr>\n",
              "  </tbody>\n",
              "</table>\n",
              "<p>24000 rows × 15 columns</p>\n",
              "</div>"
            ],
            "text/plain": [
              "       Control  Parkinsons  ALS  ...  Shimmer:APQ5  Shimmer:APQ11        DFA\n",
              "0            1           0    0  ...      1.173132       1.174732   0.063334\n",
              "1            1           0    0  ...      0.497833       0.670130  -0.103644\n",
              "2            1           0    0  ...     -0.052963      -0.123832   0.662468\n",
              "3            1           0    0  ...      0.091779      -0.036439   0.480249\n",
              "4            1           0    0  ...      0.929468       1.037717   0.580667\n",
              "...        ...         ...  ...  ...           ...            ...        ...\n",
              "23995        0           0    0  ...     -1.924544       2.308438  -6.198002\n",
              "23996        0           0    0  ...      8.197130      15.293083 -18.696573\n",
              "23997        0           0    0  ...     -1.717869       3.117656  -6.376109\n",
              "23998        0           0    0  ...     18.113278      19.577693   0.180993\n",
              "23999        0           0    0  ...     -9.406530      -4.076816  -1.259335\n",
              "\n",
              "[24000 rows x 15 columns]"
            ]
          },
          "metadata": {
            "tags": []
          },
          "execution_count": 23
        }
      ]
    },
    {
      "cell_type": "code",
      "metadata": {
        "id": "aJqOwOi1Osfx"
      },
      "source": [
        "#getting features and labels from the smoted training set \n",
        "f = smoted_training_data.drop(['Control', 'Parkinsons', 'ALS', 'Cerebral_palsy'], axis = 1)\n",
        "l = smoted_training_data.drop(['Gender', 'MDVP:Jitter(%)', 'MDVP:Jitter(Abs)', 'Jitter:PPQ5', 'Jitter:DDP', 'MDVP:Shimmer', 'MDVP:Shimmer(dB)', 'Shimmer:APQ3', 'Shimmer:APQ5', 'Shimmer:APQ11', 'DFA'],axis = 1)"
      ],
      "execution_count": null,
      "outputs": []
    },
    {
      "cell_type": "code",
      "metadata": {
        "id": "t-9Q8M7WO5x5"
      },
      "source": [
        "x_trainer = f \n",
        "y_trainer = l"
      ],
      "execution_count": null,
      "outputs": []
    },
    {
      "cell_type": "code",
      "metadata": {
        "id": "BPOOZUiL2Arb"
      },
      "source": [
        "model = RandomForestClassifier()"
      ],
      "execution_count": null,
      "outputs": []
    },
    {
      "cell_type": "markdown",
      "metadata": {
        "id": "RDTkNoh4sobR"
      },
      "source": [
        "Gridsearch to get the best hyperparameters "
      ]
    },
    {
      "cell_type": "code",
      "metadata": {
        "colab": {
          "base_uri": "https://localhost:8080/"
        },
        "id": "qRTLfyS3Gs2y",
        "outputId": "5b3a72a2-28bb-419b-c9bd-f6e2d9126832"
      },
      "source": [
        "from sklearn.model_selection import GridSearchCV\n",
        "param_grid =  {'bootstrap': [True], 'max_depth': [10, 20,50],'max_features': ['auto'],'min_samples_leaf': [1, 2, 4],'min_samples_split': [2, 5, 10],'n_estimators': [200, 400, 600, 800, 1000]\n",
        "}\n",
        "grid_search = GridSearchCV(estimator = model, param_grid = param_grid, \n",
        "                          cv = 3, n_jobs = -1, verbose = 2)\n",
        "grid_search.fit(x_trainer, y_trainer)\n",
        "grid_search.best_params_"
      ],
      "execution_count": null,
      "outputs": [
        {
          "output_type": "stream",
          "text": [
            "Fitting 3 folds for each of 135 candidates, totalling 405 fits\n"
          ],
          "name": "stdout"
        },
        {
          "output_type": "stream",
          "text": [
            "[Parallel(n_jobs=-1)]: Using backend LokyBackend with 2 concurrent workers.\n",
            "[Parallel(n_jobs=-1)]: Done  37 tasks      | elapsed:   32.3s\n",
            "[Parallel(n_jobs=-1)]: Done 158 tasks      | elapsed:  2.3min\n",
            "[Parallel(n_jobs=-1)]: Done 361 tasks      | elapsed:  5.4min\n",
            "[Parallel(n_jobs=-1)]: Done 405 out of 405 | elapsed:  6.1min finished\n"
          ],
          "name": "stderr"
        },
        {
          "output_type": "execute_result",
          "data": {
            "text/plain": [
              "{'bootstrap': True,\n",
              " 'max_depth': 10,\n",
              " 'max_features': 'auto',\n",
              " 'min_samples_leaf': 1,\n",
              " 'min_samples_split': 2,\n",
              " 'n_estimators': 1000}"
            ]
          },
          "metadata": {
            "tags": []
          },
          "execution_count": 52
        }
      ]
    },
    {
      "cell_type": "markdown",
      "metadata": {
        "id": "2djZUskVI4UT"
      },
      "source": [
        "Final Optimal Parameters:\n",
        "{'bootstrap': True,\n",
        " 'max_depth': 10,\n",
        " 'max_features': 'auto',\n",
        " 'min_samples_leaf': 1,\n",
        " 'min_samples_split': 2,\n",
        " 'n_estimators': 1000}"
      ]
    },
    {
      "cell_type": "code",
      "metadata": {
        "colab": {
          "base_uri": "https://localhost:8080/"
        },
        "id": "tunI7jzToAxq",
        "outputId": "3d61a0e2-d362-483e-ba26-b429bf405f85"
      },
      "source": [
        "#training the model with smoted training data\n",
        "model = RandomForestClassifier(n_estimators=1000, max_depth=10, bootstrap=True, max_features='auto', min_samples_leaf=1, min_samples_split=2)\n",
        "model.fit(x_trainer, y_trainer)"
      ],
      "execution_count": null,
      "outputs": [
        {
          "output_type": "execute_result",
          "data": {
            "text/plain": [
              "RandomForestClassifier(bootstrap=True, ccp_alpha=0.0, class_weight=None,\n",
              "                       criterion='gini', max_depth=10, max_features='auto',\n",
              "                       max_leaf_nodes=None, max_samples=None,\n",
              "                       min_impurity_decrease=0.0, min_impurity_split=None,\n",
              "                       min_samples_leaf=1, min_samples_split=2,\n",
              "                       min_weight_fraction_leaf=0.0, n_estimators=1000,\n",
              "                       n_jobs=None, oob_score=False, random_state=None,\n",
              "                       verbose=0, warm_start=False)"
            ]
          },
          "metadata": {
            "tags": []
          },
          "execution_count": 26
        }
      ]
    },
    {
      "cell_type": "markdown",
      "metadata": {
        "id": "AdNctvwh-D92"
      },
      "source": [
        "Getting metrics "
      ]
    },
    {
      "cell_type": "code",
      "metadata": {
        "id": "AqRDybogoIIh"
      },
      "source": [
        "ypred = model.predict(x_test)"
      ],
      "execution_count": null,
      "outputs": []
    },
    {
      "cell_type": "code",
      "metadata": {
        "colab": {
          "base_uri": "https://localhost:8080/"
        },
        "id": "Ou6gf6UeoKCF",
        "outputId": "6ad1ae14-ea6a-4285-cd55-e275d2ad280d"
      },
      "source": [
        "from sklearn import metrics\n",
        "print(metrics.classification_report(ypred, y_test))"
      ],
      "execution_count": null,
      "outputs": [
        {
          "output_type": "stream",
          "text": [
            "              precision    recall  f1-score   support\n",
            "\n",
            "           0       0.91      0.31      0.47       124\n",
            "           1       0.93      1.00      0.97      1207\n",
            "           2       1.00      0.75      0.86         4\n",
            "           3       0.67      1.00      0.80         2\n",
            "\n",
            "   micro avg       0.93      0.93      0.93      1337\n",
            "   macro avg       0.88      0.77      0.77      1337\n",
            "weighted avg       0.93      0.93      0.92      1337\n",
            " samples avg       0.93      0.93      0.93      1337\n",
            "\n"
          ],
          "name": "stdout"
        }
      ]
    },
    {
      "cell_type": "code",
      "metadata": {
        "colab": {
          "base_uri": "https://localhost:8080/"
        },
        "id": "WppIr4-AoOKr",
        "outputId": "c3fff4ac-bc83-403b-e43d-5d56c09ce27e"
      },
      "source": [
        "print(accuracy_score(y_test, ypred)*100)"
      ],
      "execution_count": null,
      "outputs": [
        {
          "output_type": "stream",
          "text": [
            "93.34330590875093\n"
          ],
          "name": "stdout"
        }
      ]
    },
    {
      "cell_type": "code",
      "metadata": {
        "id": "jaqc2V8RVRNO"
      },
      "source": [
        "y_test_list_smote = y_test.values.tolist()\n",
        "ypred_list_smote = ypred.tolist()"
      ],
      "execution_count": null,
      "outputs": []
    },
    {
      "cell_type": "code",
      "metadata": {
        "id": "i9ZM8mEaVKlq"
      },
      "source": [
        "TP, FP, FN, TN = perf_measure(y_test_list_smote, ypred_list_smote)"
      ],
      "execution_count": null,
      "outputs": []
    },
    {
      "cell_type": "code",
      "metadata": {
        "colab": {
          "base_uri": "https://localhost:8080/"
        },
        "id": "SeBKiiguVgNW",
        "outputId": "b4ccfccc-ef0d-483f-bd27-5c3ac80a0fef"
      },
      "source": [
        "print(TP, FP, FN, TN)"
      ],
      "execution_count": null,
      "outputs": [
        {
          "output_type": "stream",
          "text": [
            "1209 4 85 39\n"
          ],
          "name": "stdout"
        }
      ]
    },
    {
      "cell_type": "code",
      "metadata": {
        "colab": {
          "base_uri": "https://localhost:8080/"
        },
        "id": "bapuOO_pWXkJ",
        "outputId": "500d2232-1fa4-4448-f027-c6dff0bcebed"
      },
      "source": [
        "kfold = KFold(n_splits=5, shuffle=True)\n",
        "kf_cv_scores = cross_val_score(model, x_trainer, y_trainer, cv=kfold )\n",
        "print(\"K-fold CV average score: %.2f\" % kf_cv_scores.mean())"
      ],
      "execution_count": null,
      "outputs": [
        {
          "output_type": "stream",
          "text": [
            "K-fold CV average score: 0.98\n"
          ],
          "name": "stdout"
        }
      ]
    },
    {
      "cell_type": "markdown",
      "metadata": {
        "id": "P6DLXxj5ruGr"
      },
      "source": [
        "***Median Dataframe***"
      ]
    },
    {
      "cell_type": "code",
      "metadata": {
        "id": "1OmNSdmQMbrt"
      },
      "source": [
        "data = pd.read_csv('all_disorders_median_std_onehot.csv')"
      ],
      "execution_count": null,
      "outputs": []
    },
    {
      "cell_type": "code",
      "metadata": {
        "id": "pQuEoFKMWph_"
      },
      "source": [
        "#get rid of unnamed column \n",
        "if data.columns[[0]] == 'Unnamed: 0':\n",
        "    data.drop(data.columns[[0]], axis=1, inplace=True)"
      ],
      "execution_count": null,
      "outputs": []
    },
    {
      "cell_type": "code",
      "metadata": {
        "colab": {
          "base_uri": "https://localhost:8080/",
          "height": 439
        },
        "id": "F0aknT8pMon8",
        "outputId": "383fdc4c-b382-4a82-b69e-be3ae52223e4"
      },
      "source": [
        "data"
      ],
      "execution_count": null,
      "outputs": [
        {
          "output_type": "execute_result",
          "data": {
            "text/html": [
              "<div>\n",
              "<style scoped>\n",
              "    .dataframe tbody tr th:only-of-type {\n",
              "        vertical-align: middle;\n",
              "    }\n",
              "\n",
              "    .dataframe tbody tr th {\n",
              "        vertical-align: top;\n",
              "    }\n",
              "\n",
              "    .dataframe thead th {\n",
              "        text-align: right;\n",
              "    }\n",
              "</style>\n",
              "<table border=\"1\" class=\"dataframe\">\n",
              "  <thead>\n",
              "    <tr style=\"text-align: right;\">\n",
              "      <th></th>\n",
              "      <th>Control</th>\n",
              "      <th>Parkinsons</th>\n",
              "      <th>ALS</th>\n",
              "      <th>Cerebral_palsy</th>\n",
              "      <th>Gender</th>\n",
              "      <th>MDVP:Jitter(%)</th>\n",
              "      <th>MDVP:Jitter(Abs)</th>\n",
              "      <th>Jitter:PPQ5</th>\n",
              "      <th>Jitter:DDP</th>\n",
              "      <th>MDVP:Shimmer</th>\n",
              "      <th>MDVP:Shimmer(dB)</th>\n",
              "      <th>Shimmer:APQ3</th>\n",
              "      <th>Shimmer:APQ5</th>\n",
              "      <th>Shimmer:APQ11</th>\n",
              "      <th>DFA</th>\n",
              "    </tr>\n",
              "  </thead>\n",
              "  <tbody>\n",
              "    <tr>\n",
              "      <th>0</th>\n",
              "      <td>0</td>\n",
              "      <td>1</td>\n",
              "      <td>0</td>\n",
              "      <td>0</td>\n",
              "      <td>0</td>\n",
              "      <td>0.037775</td>\n",
              "      <td>0.000503</td>\n",
              "      <td>-0.011752</td>\n",
              "      <td>0.051462</td>\n",
              "      <td>0.098145</td>\n",
              "      <td>0.313568</td>\n",
              "      <td>0.047848</td>\n",
              "      <td>0.149447</td>\n",
              "      <td>-0.102311</td>\n",
              "      <td>1.560809</td>\n",
              "    </tr>\n",
              "    <tr>\n",
              "      <th>1</th>\n",
              "      <td>0</td>\n",
              "      <td>1</td>\n",
              "      <td>0</td>\n",
              "      <td>0</td>\n",
              "      <td>0</td>\n",
              "      <td>0.069989</td>\n",
              "      <td>0.000679</td>\n",
              "      <td>-0.011752</td>\n",
              "      <td>0.100932</td>\n",
              "      <td>0.372398</td>\n",
              "      <td>1.049795</td>\n",
              "      <td>0.209514</td>\n",
              "      <td>0.380995</td>\n",
              "      <td>-0.102311</td>\n",
              "      <td>1.602059</td>\n",
              "    </tr>\n",
              "    <tr>\n",
              "      <th>2</th>\n",
              "      <td>0</td>\n",
              "      <td>1</td>\n",
              "      <td>0</td>\n",
              "      <td>0</td>\n",
              "      <td>0</td>\n",
              "      <td>0.084345</td>\n",
              "      <td>0.000855</td>\n",
              "      <td>-0.011752</td>\n",
              "      <td>0.142417</td>\n",
              "      <td>0.231999</td>\n",
              "      <td>0.519712</td>\n",
              "      <td>0.145493</td>\n",
              "      <td>0.270893</td>\n",
              "      <td>-0.102311</td>\n",
              "      <td>1.658218</td>\n",
              "    </tr>\n",
              "    <tr>\n",
              "      <th>3</th>\n",
              "      <td>0</td>\n",
              "      <td>1</td>\n",
              "      <td>0</td>\n",
              "      <td>0</td>\n",
              "      <td>0</td>\n",
              "      <td>0.075066</td>\n",
              "      <td>0.000855</td>\n",
              "      <td>-0.011752</td>\n",
              "      <td>0.120199</td>\n",
              "      <td>0.272358</td>\n",
              "      <td>0.648551</td>\n",
              "      <td>0.173852</td>\n",
              "      <td>0.295415</td>\n",
              "      <td>-0.102311</td>\n",
              "      <td>1.599274</td>\n",
              "    </tr>\n",
              "    <tr>\n",
              "      <th>4</th>\n",
              "      <td>0</td>\n",
              "      <td>1</td>\n",
              "      <td>0</td>\n",
              "      <td>0</td>\n",
              "      <td>0</td>\n",
              "      <td>0.125313</td>\n",
              "      <td>0.001207</td>\n",
              "      <td>-0.011752</td>\n",
              "      <td>0.200219</td>\n",
              "      <td>0.417743</td>\n",
              "      <td>0.895187</td>\n",
              "      <td>0.269969</td>\n",
              "      <td>0.432209</td>\n",
              "      <td>-0.102311</td>\n",
              "      <td>1.640651</td>\n",
              "    </tr>\n",
              "    <tr>\n",
              "      <th>...</th>\n",
              "      <td>...</td>\n",
              "      <td>...</td>\n",
              "      <td>...</td>\n",
              "      <td>...</td>\n",
              "      <td>...</td>\n",
              "      <td>...</td>\n",
              "      <td>...</td>\n",
              "      <td>...</td>\n",
              "      <td>...</td>\n",
              "      <td>...</td>\n",
              "      <td>...</td>\n",
              "      <td>...</td>\n",
              "      <td>...</td>\n",
              "      <td>...</td>\n",
              "      <td>...</td>\n",
              "    </tr>\n",
              "    <tr>\n",
              "      <th>7114</th>\n",
              "      <td>1</td>\n",
              "      <td>0</td>\n",
              "      <td>0</td>\n",
              "      <td>0</td>\n",
              "      <td>1</td>\n",
              "      <td>-33.243298</td>\n",
              "      <td>-21.578308</td>\n",
              "      <td>-24.440050</td>\n",
              "      <td>-32.691854</td>\n",
              "      <td>-23.328592</td>\n",
              "      <td>-7.466749</td>\n",
              "      <td>-14.202938</td>\n",
              "      <td>-10.933402</td>\n",
              "      <td>-23.923671</td>\n",
              "      <td>-23.417656</td>\n",
              "    </tr>\n",
              "    <tr>\n",
              "      <th>7115</th>\n",
              "      <td>1</td>\n",
              "      <td>0</td>\n",
              "      <td>0</td>\n",
              "      <td>0</td>\n",
              "      <td>1</td>\n",
              "      <td>-1.091966</td>\n",
              "      <td>18.936385</td>\n",
              "      <td>-2.803416</td>\n",
              "      <td>-3.468182</td>\n",
              "      <td>-1.064890</td>\n",
              "      <td>-2.724605</td>\n",
              "      <td>0.447177</td>\n",
              "      <td>4.317949</td>\n",
              "      <td>-4.380995</td>\n",
              "      <td>-1.267387</td>\n",
              "    </tr>\n",
              "    <tr>\n",
              "      <th>7116</th>\n",
              "      <td>1</td>\n",
              "      <td>0</td>\n",
              "      <td>0</td>\n",
              "      <td>0</td>\n",
              "      <td>1</td>\n",
              "      <td>36.342110</td>\n",
              "      <td>-0.576181</td>\n",
              "      <td>43.847541</td>\n",
              "      <td>31.416897</td>\n",
              "      <td>-17.235723</td>\n",
              "      <td>1.363223</td>\n",
              "      <td>-16.826345</td>\n",
              "      <td>-16.550963</td>\n",
              "      <td>-19.062965</td>\n",
              "      <td>-14.755758</td>\n",
              "    </tr>\n",
              "    <tr>\n",
              "      <th>7117</th>\n",
              "      <td>1</td>\n",
              "      <td>0</td>\n",
              "      <td>0</td>\n",
              "      <td>0</td>\n",
              "      <td>1</td>\n",
              "      <td>2.882944</td>\n",
              "      <td>-3.402288</td>\n",
              "      <td>1.476280</td>\n",
              "      <td>7.581402</td>\n",
              "      <td>-18.794885</td>\n",
              "      <td>-2.917623</td>\n",
              "      <td>-20.237481</td>\n",
              "      <td>-26.715980</td>\n",
              "      <td>-28.921770</td>\n",
              "      <td>-19.716314</td>\n",
              "    </tr>\n",
              "    <tr>\n",
              "      <th>7118</th>\n",
              "      <td>1</td>\n",
              "      <td>0</td>\n",
              "      <td>0</td>\n",
              "      <td>0</td>\n",
              "      <td>1</td>\n",
              "      <td>-4.331071</td>\n",
              "      <td>21.605465</td>\n",
              "      <td>-19.186196</td>\n",
              "      <td>-16.242616</td>\n",
              "      <td>21.702316</td>\n",
              "      <td>5.115358</td>\n",
              "      <td>28.461133</td>\n",
              "      <td>15.115793</td>\n",
              "      <td>18.373862</td>\n",
              "      <td>-11.029646</td>\n",
              "    </tr>\n",
              "  </tbody>\n",
              "</table>\n",
              "<p>7119 rows × 15 columns</p>\n",
              "</div>"
            ],
            "text/plain": [
              "      Control  Parkinsons  ALS  ...  Shimmer:APQ5  Shimmer:APQ11        DFA\n",
              "0           0           1    0  ...      0.149447      -0.102311   1.560809\n",
              "1           0           1    0  ...      0.380995      -0.102311   1.602059\n",
              "2           0           1    0  ...      0.270893      -0.102311   1.658218\n",
              "3           0           1    0  ...      0.295415      -0.102311   1.599274\n",
              "4           0           1    0  ...      0.432209      -0.102311   1.640651\n",
              "...       ...         ...  ...  ...           ...            ...        ...\n",
              "7114        1           0    0  ...    -10.933402     -23.923671 -23.417656\n",
              "7115        1           0    0  ...      4.317949      -4.380995  -1.267387\n",
              "7116        1           0    0  ...    -16.550963     -19.062965 -14.755758\n",
              "7117        1           0    0  ...    -26.715980     -28.921770 -19.716314\n",
              "7118        1           0    0  ...     15.115793      18.373862 -11.029646\n",
              "\n",
              "[7119 rows x 15 columns]"
            ]
          },
          "metadata": {
            "tags": []
          },
          "execution_count": 5
        }
      ]
    },
    {
      "cell_type": "code",
      "metadata": {
        "id": "lcWHXp936NCO"
      },
      "source": [
        "features2 = data.drop(['Control', 'Parkinsons', 'ALS', 'Cerebral_palsy'], axis = 1)\n",
        "labels2 = data.drop(['Gender', 'MDVP:Jitter(%)', 'MDVP:Jitter(Abs)', 'Jitter:PPQ5', 'Jitter:DDP', 'MDVP:Shimmer', 'MDVP:Shimmer(dB)', 'Shimmer:APQ3', 'Shimmer:APQ5', 'Shimmer:APQ11', 'DFA'],axis = 1)"
      ],
      "execution_count": null,
      "outputs": []
    },
    {
      "cell_type": "code",
      "metadata": {
        "id": "U9ceoed56USl"
      },
      "source": [
        "X = features2\n",
        "Y = labels2"
      ],
      "execution_count": null,
      "outputs": []
    },
    {
      "cell_type": "code",
      "metadata": {
        "id": "R64LAY_JW2xy"
      },
      "source": [
        "x2_train,x2_test,y2_train,y2_test = train_test_split(X, Y, test_size=0.2, random_state=1, stratify=Y)"
      ],
      "execution_count": null,
      "outputs": []
    },
    {
      "cell_type": "markdown",
      "metadata": {
        "id": "ftYKB3dgLiQ6"
      },
      "source": [
        "Without SMOTE "
      ]
    },
    {
      "cell_type": "code",
      "metadata": {
        "id": "zqubpnchMBs3"
      },
      "source": [
        "model2_ns = RandomForestClassifier(n_estimators=1000, random_state = 1)\n",
        "model2_ns.fit(x2_train, y2_train)"
      ],
      "execution_count": null,
      "outputs": []
    },
    {
      "cell_type": "markdown",
      "metadata": {
        "id": "8eQSSk0t-IHX"
      },
      "source": [
        "Getting metrics "
      ]
    },
    {
      "cell_type": "code",
      "metadata": {
        "colab": {
          "base_uri": "https://localhost:8080/"
        },
        "id": "KBrLiStRNA48",
        "outputId": "b2fef7c9-245a-4dbb-98e3-156128e34f00"
      },
      "source": [
        "from sklearn import metrics\n",
        "y2_pred_ns = model2_ns.predict(x2_test)\n",
        "print(metrics.classification_report(y2_pred_ns, y2_test))"
      ],
      "execution_count": null,
      "outputs": [
        {
          "output_type": "stream",
          "text": [
            "              precision    recall  f1-score   support\n",
            "\n",
            "           0       0.65      0.85      0.74        59\n",
            "           1       0.99      0.98      0.99      1358\n",
            "           2       1.00      0.75      0.86         4\n",
            "           3       0.33      1.00      0.50         1\n",
            "\n",
            "   micro avg       0.97      0.97      0.97      1422\n",
            "   macro avg       0.74      0.89      0.77      1422\n",
            "weighted avg       0.98      0.97      0.98      1422\n",
            " samples avg       0.97      0.97      0.97      1422\n",
            "\n"
          ],
          "name": "stdout"
        },
        {
          "output_type": "stream",
          "text": [
            "/usr/local/lib/python3.7/dist-packages/sklearn/metrics/_classification.py:1272: UndefinedMetricWarning: Recall and F-score are ill-defined and being set to 0.0 in samples with no true labels. Use `zero_division` parameter to control this behavior.\n",
            "  _warn_prf(average, modifier, msg_start, len(result))\n"
          ],
          "name": "stderr"
        }
      ]
    },
    {
      "cell_type": "code",
      "metadata": {
        "id": "LJAF3FkNM0e5"
      },
      "source": [
        "y2_pred_ns = model2_ns.predict(x2_test)\n",
        "from sklearn.metrics import accuracy_score\n",
        "accuracy_score(y2_test, y2_pred_ns)*100"
      ],
      "execution_count": null,
      "outputs": []
    },
    {
      "cell_type": "code",
      "metadata": {
        "id": "iqt5SpFMXncJ"
      },
      "source": [
        "y2_test_list = y2_test.values.tolist()\n",
        "y2_pred_ns_list = y2_pred_ns.tolist()\n",
        "TP,TN,FP,FN = perf_measure(y2_test_list,y2_pred_ns_list )"
      ],
      "execution_count": null,
      "outputs": []
    },
    {
      "cell_type": "code",
      "metadata": {
        "colab": {
          "base_uri": "https://localhost:8080/"
        },
        "id": "C5Kdw9K8YI3N",
        "outputId": "d8229757-70a2-4605-9fcc-add7016c9908"
      },
      "source": [
        "print(TP, TN, FP, FN)"
      ],
      "execution_count": null,
      "outputs": [
        {
          "output_type": "stream",
          "text": [
            "1336 9 27 50\n"
          ],
          "name": "stdout"
        }
      ]
    },
    {
      "cell_type": "code",
      "metadata": {
        "colab": {
          "base_uri": "https://localhost:8080/"
        },
        "id": "qBK45cMAYwut",
        "outputId": "90321a32-1a4c-41d6-8d3b-00a794083f75"
      },
      "source": [
        "kfold = KFold(n_splits=5, shuffle=True)\n",
        "kf_cv_scores = cross_val_score(model2_ns, x2_train, y2_train, cv=kfold )\n",
        "print(\"K-fold CV average score: %.2f\" % kf_cv_scores.mean())"
      ],
      "execution_count": null,
      "outputs": [
        {
          "output_type": "stream",
          "text": [
            "K-fold CV average score: 0.98\n"
          ],
          "name": "stdout"
        }
      ]
    },
    {
      "cell_type": "markdown",
      "metadata": {
        "id": "3nVEdvSTNx4r"
      },
      "source": [
        "With SMOTE"
      ]
    },
    {
      "cell_type": "code",
      "metadata": {
        "id": "VSswrlvnW9p7"
      },
      "source": [
        "pre_smote_training_dataset_median = pd.concat([y2_train, x2_train], axis=1, join='inner')"
      ],
      "execution_count": null,
      "outputs": []
    },
    {
      "cell_type": "code",
      "metadata": {
        "colab": {
          "base_uri": "https://localhost:8080/",
          "height": 439
        },
        "id": "y3SMjV_5XKHs",
        "outputId": "c09a53e6-c633-4c01-fb2b-f0407ceef538"
      },
      "source": [
        "pre_smote_training_dataset_median"
      ],
      "execution_count": null,
      "outputs": [
        {
          "output_type": "execute_result",
          "data": {
            "text/html": [
              "<div>\n",
              "<style scoped>\n",
              "    .dataframe tbody tr th:only-of-type {\n",
              "        vertical-align: middle;\n",
              "    }\n",
              "\n",
              "    .dataframe tbody tr th {\n",
              "        vertical-align: top;\n",
              "    }\n",
              "\n",
              "    .dataframe thead th {\n",
              "        text-align: right;\n",
              "    }\n",
              "</style>\n",
              "<table border=\"1\" class=\"dataframe\">\n",
              "  <thead>\n",
              "    <tr style=\"text-align: right;\">\n",
              "      <th></th>\n",
              "      <th>Control</th>\n",
              "      <th>Parkinsons</th>\n",
              "      <th>ALS</th>\n",
              "      <th>Cerebral_palsy</th>\n",
              "      <th>Gender</th>\n",
              "      <th>MDVP:Jitter(%)</th>\n",
              "      <th>MDVP:Jitter(Abs)</th>\n",
              "      <th>Jitter:PPQ5</th>\n",
              "      <th>Jitter:DDP</th>\n",
              "      <th>MDVP:Shimmer</th>\n",
              "      <th>MDVP:Shimmer(dB)</th>\n",
              "      <th>Shimmer:APQ3</th>\n",
              "      <th>Shimmer:APQ5</th>\n",
              "      <th>Shimmer:APQ11</th>\n",
              "      <th>DFA</th>\n",
              "    </tr>\n",
              "  </thead>\n",
              "  <tbody>\n",
              "    <tr>\n",
              "      <th>4412</th>\n",
              "      <td>0</td>\n",
              "      <td>1</td>\n",
              "      <td>0</td>\n",
              "      <td>0</td>\n",
              "      <td>0</td>\n",
              "      <td>0.037424</td>\n",
              "      <td>0.000513</td>\n",
              "      <td>0.015636</td>\n",
              "      <td>0.019177</td>\n",
              "      <td>0.075550</td>\n",
              "      <td>0.221540</td>\n",
              "      <td>-0.018381</td>\n",
              "      <td>0.040012</td>\n",
              "      <td>0.249007</td>\n",
              "      <td>0.822333</td>\n",
              "    </tr>\n",
              "    <tr>\n",
              "      <th>3043</th>\n",
              "      <td>0</td>\n",
              "      <td>1</td>\n",
              "      <td>0</td>\n",
              "      <td>0</td>\n",
              "      <td>0</td>\n",
              "      <td>0.047929</td>\n",
              "      <td>0.000278</td>\n",
              "      <td>0.027399</td>\n",
              "      <td>0.100411</td>\n",
              "      <td>0.250231</td>\n",
              "      <td>1.035070</td>\n",
              "      <td>0.131398</td>\n",
              "      <td>0.163793</td>\n",
              "      <td>0.190535</td>\n",
              "      <td>-0.006756</td>\n",
              "    </tr>\n",
              "    <tr>\n",
              "      <th>2361</th>\n",
              "      <td>0</td>\n",
              "      <td>1</td>\n",
              "      <td>0</td>\n",
              "      <td>0</td>\n",
              "      <td>0</td>\n",
              "      <td>-0.014223</td>\n",
              "      <td>0.000107</td>\n",
              "      <td>-0.000867</td>\n",
              "      <td>-0.009290</td>\n",
              "      <td>-0.146657</td>\n",
              "      <td>-0.374803</td>\n",
              "      <td>-0.069836</td>\n",
              "      <td>-0.075762</td>\n",
              "      <td>-0.140261</td>\n",
              "      <td>0.507213</td>\n",
              "    </tr>\n",
              "    <tr>\n",
              "      <th>619</th>\n",
              "      <td>0</td>\n",
              "      <td>1</td>\n",
              "      <td>0</td>\n",
              "      <td>0</td>\n",
              "      <td>0</td>\n",
              "      <td>-0.052740</td>\n",
              "      <td>-0.000414</td>\n",
              "      <td>-0.027377</td>\n",
              "      <td>-0.077680</td>\n",
              "      <td>-0.504900</td>\n",
              "      <td>-1.088943</td>\n",
              "      <td>-0.277523</td>\n",
              "      <td>-0.321657</td>\n",
              "      <td>-0.428384</td>\n",
              "      <td>-0.524424</td>\n",
              "    </tr>\n",
              "    <tr>\n",
              "      <th>4082</th>\n",
              "      <td>0</td>\n",
              "      <td>1</td>\n",
              "      <td>0</td>\n",
              "      <td>0</td>\n",
              "      <td>0</td>\n",
              "      <td>0.005035</td>\n",
              "      <td>-0.000118</td>\n",
              "      <td>-0.000691</td>\n",
              "      <td>0.007026</td>\n",
              "      <td>-0.061109</td>\n",
              "      <td>0.048527</td>\n",
              "      <td>-0.056251</td>\n",
              "      <td>-0.048236</td>\n",
              "      <td>0.037434</td>\n",
              "      <td>-0.228878</td>\n",
              "    </tr>\n",
              "    <tr>\n",
              "      <th>...</th>\n",
              "      <td>...</td>\n",
              "      <td>...</td>\n",
              "      <td>...</td>\n",
              "      <td>...</td>\n",
              "      <td>...</td>\n",
              "      <td>...</td>\n",
              "      <td>...</td>\n",
              "      <td>...</td>\n",
              "      <td>...</td>\n",
              "      <td>...</td>\n",
              "      <td>...</td>\n",
              "      <td>...</td>\n",
              "      <td>...</td>\n",
              "      <td>...</td>\n",
              "      <td>...</td>\n",
              "    </tr>\n",
              "    <tr>\n",
              "      <th>1906</th>\n",
              "      <td>0</td>\n",
              "      <td>1</td>\n",
              "      <td>0</td>\n",
              "      <td>0</td>\n",
              "      <td>0</td>\n",
              "      <td>0.003459</td>\n",
              "      <td>-0.000101</td>\n",
              "      <td>-0.001394</td>\n",
              "      <td>-0.011199</td>\n",
              "      <td>-0.185769</td>\n",
              "      <td>-0.363760</td>\n",
              "      <td>-0.122310</td>\n",
              "      <td>-0.109460</td>\n",
              "      <td>-0.068922</td>\n",
              "      <td>-0.808772</td>\n",
              "    </tr>\n",
              "    <tr>\n",
              "      <th>2755</th>\n",
              "      <td>0</td>\n",
              "      <td>1</td>\n",
              "      <td>0</td>\n",
              "      <td>0</td>\n",
              "      <td>0</td>\n",
              "      <td>0.499979</td>\n",
              "      <td>0.003654</td>\n",
              "      <td>0.206296</td>\n",
              "      <td>0.916922</td>\n",
              "      <td>0.979650</td>\n",
              "      <td>2.338191</td>\n",
              "      <td>0.575131</td>\n",
              "      <td>0.425870</td>\n",
              "      <td>0.634202</td>\n",
              "      <td>1.009983</td>\n",
              "    </tr>\n",
              "    <tr>\n",
              "      <th>4543</th>\n",
              "      <td>0</td>\n",
              "      <td>1</td>\n",
              "      <td>0</td>\n",
              "      <td>0</td>\n",
              "      <td>1</td>\n",
              "      <td>-0.041535</td>\n",
              "      <td>-0.000417</td>\n",
              "      <td>-0.022461</td>\n",
              "      <td>-0.069174</td>\n",
              "      <td>-0.262747</td>\n",
              "      <td>-0.477875</td>\n",
              "      <td>-0.133857</td>\n",
              "      <td>-0.165845</td>\n",
              "      <td>-0.238636</td>\n",
              "      <td>-0.489660</td>\n",
              "    </tr>\n",
              "    <tr>\n",
              "      <th>5508</th>\n",
              "      <td>0</td>\n",
              "      <td>1</td>\n",
              "      <td>0</td>\n",
              "      <td>0</td>\n",
              "      <td>0</td>\n",
              "      <td>0.059659</td>\n",
              "      <td>0.000346</td>\n",
              "      <td>0.023185</td>\n",
              "      <td>0.095030</td>\n",
              "      <td>-0.060018</td>\n",
              "      <td>-0.139211</td>\n",
              "      <td>-0.089705</td>\n",
              "      <td>-0.164678</td>\n",
              "      <td>-0.178373</td>\n",
              "      <td>-0.260916</td>\n",
              "    </tr>\n",
              "    <tr>\n",
              "      <th>5417</th>\n",
              "      <td>0</td>\n",
              "      <td>1</td>\n",
              "      <td>0</td>\n",
              "      <td>0</td>\n",
              "      <td>0</td>\n",
              "      <td>0.023944</td>\n",
              "      <td>-0.000092</td>\n",
              "      <td>0.018972</td>\n",
              "      <td>0.056496</td>\n",
              "      <td>-0.151176</td>\n",
              "      <td>-0.337992</td>\n",
              "      <td>-0.054722</td>\n",
              "      <td>-0.105623</td>\n",
              "      <td>-0.183911</td>\n",
              "      <td>0.081957</td>\n",
              "    </tr>\n",
              "  </tbody>\n",
              "</table>\n",
              "<p>5695 rows × 15 columns</p>\n",
              "</div>"
            ],
            "text/plain": [
              "      Control  Parkinsons  ALS  ...  Shimmer:APQ5  Shimmer:APQ11       DFA\n",
              "4412        0           1    0  ...      0.040012       0.249007  0.822333\n",
              "3043        0           1    0  ...      0.163793       0.190535 -0.006756\n",
              "2361        0           1    0  ...     -0.075762      -0.140261  0.507213\n",
              "619         0           1    0  ...     -0.321657      -0.428384 -0.524424\n",
              "4082        0           1    0  ...     -0.048236       0.037434 -0.228878\n",
              "...       ...         ...  ...  ...           ...            ...       ...\n",
              "1906        0           1    0  ...     -0.109460      -0.068922 -0.808772\n",
              "2755        0           1    0  ...      0.425870       0.634202  1.009983\n",
              "4543        0           1    0  ...     -0.165845      -0.238636 -0.489660\n",
              "5508        0           1    0  ...     -0.164678      -0.178373 -0.260916\n",
              "5417        0           1    0  ...     -0.105623      -0.183911  0.081957\n",
              "\n",
              "[5695 rows x 15 columns]"
            ]
          },
          "metadata": {
            "tags": []
          },
          "execution_count": 10
        }
      ]
    },
    {
      "cell_type": "code",
      "metadata": {
        "id": "wUTuKewxXaQA"
      },
      "source": [
        "pre_smote_training_dataset_median.reset_index(inplace = True)"
      ],
      "execution_count": null,
      "outputs": []
    },
    {
      "cell_type": "code",
      "metadata": {
        "id": "zAWcuv9dXif6"
      },
      "source": [
        "pre_smote_training_dataset_median.drop(['index'],axis = 1, inplace = True)"
      ],
      "execution_count": null,
      "outputs": []
    },
    {
      "cell_type": "code",
      "metadata": {
        "colab": {
          "base_uri": "https://localhost:8080/",
          "height": 439
        },
        "id": "XCAAbyS5Xje9",
        "outputId": "736407a1-64aa-4ee0-bb7e-d23085f0c9d7"
      },
      "source": [
        "pre_smote_training_dataset_median"
      ],
      "execution_count": null,
      "outputs": [
        {
          "output_type": "execute_result",
          "data": {
            "text/html": [
              "<div>\n",
              "<style scoped>\n",
              "    .dataframe tbody tr th:only-of-type {\n",
              "        vertical-align: middle;\n",
              "    }\n",
              "\n",
              "    .dataframe tbody tr th {\n",
              "        vertical-align: top;\n",
              "    }\n",
              "\n",
              "    .dataframe thead th {\n",
              "        text-align: right;\n",
              "    }\n",
              "</style>\n",
              "<table border=\"1\" class=\"dataframe\">\n",
              "  <thead>\n",
              "    <tr style=\"text-align: right;\">\n",
              "      <th></th>\n",
              "      <th>Control</th>\n",
              "      <th>Parkinsons</th>\n",
              "      <th>ALS</th>\n",
              "      <th>Cerebral_palsy</th>\n",
              "      <th>Gender</th>\n",
              "      <th>MDVP:Jitter(%)</th>\n",
              "      <th>MDVP:Jitter(Abs)</th>\n",
              "      <th>Jitter:PPQ5</th>\n",
              "      <th>Jitter:DDP</th>\n",
              "      <th>MDVP:Shimmer</th>\n",
              "      <th>MDVP:Shimmer(dB)</th>\n",
              "      <th>Shimmer:APQ3</th>\n",
              "      <th>Shimmer:APQ5</th>\n",
              "      <th>Shimmer:APQ11</th>\n",
              "      <th>DFA</th>\n",
              "    </tr>\n",
              "  </thead>\n",
              "  <tbody>\n",
              "    <tr>\n",
              "      <th>0</th>\n",
              "      <td>0</td>\n",
              "      <td>1</td>\n",
              "      <td>0</td>\n",
              "      <td>0</td>\n",
              "      <td>0</td>\n",
              "      <td>0.037424</td>\n",
              "      <td>0.000513</td>\n",
              "      <td>0.015636</td>\n",
              "      <td>0.019177</td>\n",
              "      <td>0.075550</td>\n",
              "      <td>0.221540</td>\n",
              "      <td>-0.018381</td>\n",
              "      <td>0.040012</td>\n",
              "      <td>0.249007</td>\n",
              "      <td>0.822333</td>\n",
              "    </tr>\n",
              "    <tr>\n",
              "      <th>1</th>\n",
              "      <td>0</td>\n",
              "      <td>1</td>\n",
              "      <td>0</td>\n",
              "      <td>0</td>\n",
              "      <td>0</td>\n",
              "      <td>0.047929</td>\n",
              "      <td>0.000278</td>\n",
              "      <td>0.027399</td>\n",
              "      <td>0.100411</td>\n",
              "      <td>0.250231</td>\n",
              "      <td>1.035070</td>\n",
              "      <td>0.131398</td>\n",
              "      <td>0.163793</td>\n",
              "      <td>0.190535</td>\n",
              "      <td>-0.006756</td>\n",
              "    </tr>\n",
              "    <tr>\n",
              "      <th>2</th>\n",
              "      <td>0</td>\n",
              "      <td>1</td>\n",
              "      <td>0</td>\n",
              "      <td>0</td>\n",
              "      <td>0</td>\n",
              "      <td>-0.014223</td>\n",
              "      <td>0.000107</td>\n",
              "      <td>-0.000867</td>\n",
              "      <td>-0.009290</td>\n",
              "      <td>-0.146657</td>\n",
              "      <td>-0.374803</td>\n",
              "      <td>-0.069836</td>\n",
              "      <td>-0.075762</td>\n",
              "      <td>-0.140261</td>\n",
              "      <td>0.507213</td>\n",
              "    </tr>\n",
              "    <tr>\n",
              "      <th>3</th>\n",
              "      <td>0</td>\n",
              "      <td>1</td>\n",
              "      <td>0</td>\n",
              "      <td>0</td>\n",
              "      <td>0</td>\n",
              "      <td>-0.052740</td>\n",
              "      <td>-0.000414</td>\n",
              "      <td>-0.027377</td>\n",
              "      <td>-0.077680</td>\n",
              "      <td>-0.504900</td>\n",
              "      <td>-1.088943</td>\n",
              "      <td>-0.277523</td>\n",
              "      <td>-0.321657</td>\n",
              "      <td>-0.428384</td>\n",
              "      <td>-0.524424</td>\n",
              "    </tr>\n",
              "    <tr>\n",
              "      <th>4</th>\n",
              "      <td>0</td>\n",
              "      <td>1</td>\n",
              "      <td>0</td>\n",
              "      <td>0</td>\n",
              "      <td>0</td>\n",
              "      <td>0.005035</td>\n",
              "      <td>-0.000118</td>\n",
              "      <td>-0.000691</td>\n",
              "      <td>0.007026</td>\n",
              "      <td>-0.061109</td>\n",
              "      <td>0.048527</td>\n",
              "      <td>-0.056251</td>\n",
              "      <td>-0.048236</td>\n",
              "      <td>0.037434</td>\n",
              "      <td>-0.228878</td>\n",
              "    </tr>\n",
              "    <tr>\n",
              "      <th>...</th>\n",
              "      <td>...</td>\n",
              "      <td>...</td>\n",
              "      <td>...</td>\n",
              "      <td>...</td>\n",
              "      <td>...</td>\n",
              "      <td>...</td>\n",
              "      <td>...</td>\n",
              "      <td>...</td>\n",
              "      <td>...</td>\n",
              "      <td>...</td>\n",
              "      <td>...</td>\n",
              "      <td>...</td>\n",
              "      <td>...</td>\n",
              "      <td>...</td>\n",
              "      <td>...</td>\n",
              "    </tr>\n",
              "    <tr>\n",
              "      <th>5690</th>\n",
              "      <td>0</td>\n",
              "      <td>1</td>\n",
              "      <td>0</td>\n",
              "      <td>0</td>\n",
              "      <td>0</td>\n",
              "      <td>0.003459</td>\n",
              "      <td>-0.000101</td>\n",
              "      <td>-0.001394</td>\n",
              "      <td>-0.011199</td>\n",
              "      <td>-0.185769</td>\n",
              "      <td>-0.363760</td>\n",
              "      <td>-0.122310</td>\n",
              "      <td>-0.109460</td>\n",
              "      <td>-0.068922</td>\n",
              "      <td>-0.808772</td>\n",
              "    </tr>\n",
              "    <tr>\n",
              "      <th>5691</th>\n",
              "      <td>0</td>\n",
              "      <td>1</td>\n",
              "      <td>0</td>\n",
              "      <td>0</td>\n",
              "      <td>0</td>\n",
              "      <td>0.499979</td>\n",
              "      <td>0.003654</td>\n",
              "      <td>0.206296</td>\n",
              "      <td>0.916922</td>\n",
              "      <td>0.979650</td>\n",
              "      <td>2.338191</td>\n",
              "      <td>0.575131</td>\n",
              "      <td>0.425870</td>\n",
              "      <td>0.634202</td>\n",
              "      <td>1.009983</td>\n",
              "    </tr>\n",
              "    <tr>\n",
              "      <th>5692</th>\n",
              "      <td>0</td>\n",
              "      <td>1</td>\n",
              "      <td>0</td>\n",
              "      <td>0</td>\n",
              "      <td>1</td>\n",
              "      <td>-0.041535</td>\n",
              "      <td>-0.000417</td>\n",
              "      <td>-0.022461</td>\n",
              "      <td>-0.069174</td>\n",
              "      <td>-0.262747</td>\n",
              "      <td>-0.477875</td>\n",
              "      <td>-0.133857</td>\n",
              "      <td>-0.165845</td>\n",
              "      <td>-0.238636</td>\n",
              "      <td>-0.489660</td>\n",
              "    </tr>\n",
              "    <tr>\n",
              "      <th>5693</th>\n",
              "      <td>0</td>\n",
              "      <td>1</td>\n",
              "      <td>0</td>\n",
              "      <td>0</td>\n",
              "      <td>0</td>\n",
              "      <td>0.059659</td>\n",
              "      <td>0.000346</td>\n",
              "      <td>0.023185</td>\n",
              "      <td>0.095030</td>\n",
              "      <td>-0.060018</td>\n",
              "      <td>-0.139211</td>\n",
              "      <td>-0.089705</td>\n",
              "      <td>-0.164678</td>\n",
              "      <td>-0.178373</td>\n",
              "      <td>-0.260916</td>\n",
              "    </tr>\n",
              "    <tr>\n",
              "      <th>5694</th>\n",
              "      <td>0</td>\n",
              "      <td>1</td>\n",
              "      <td>0</td>\n",
              "      <td>0</td>\n",
              "      <td>0</td>\n",
              "      <td>0.023944</td>\n",
              "      <td>-0.000092</td>\n",
              "      <td>0.018972</td>\n",
              "      <td>0.056496</td>\n",
              "      <td>-0.151176</td>\n",
              "      <td>-0.337992</td>\n",
              "      <td>-0.054722</td>\n",
              "      <td>-0.105623</td>\n",
              "      <td>-0.183911</td>\n",
              "      <td>0.081957</td>\n",
              "    </tr>\n",
              "  </tbody>\n",
              "</table>\n",
              "<p>5695 rows × 15 columns</p>\n",
              "</div>"
            ],
            "text/plain": [
              "      Control  Parkinsons  ALS  ...  Shimmer:APQ5  Shimmer:APQ11       DFA\n",
              "0           0           1    0  ...      0.040012       0.249007  0.822333\n",
              "1           0           1    0  ...      0.163793       0.190535 -0.006756\n",
              "2           0           1    0  ...     -0.075762      -0.140261  0.507213\n",
              "3           0           1    0  ...     -0.321657      -0.428384 -0.524424\n",
              "4           0           1    0  ...     -0.048236       0.037434 -0.228878\n",
              "...       ...         ...  ...  ...           ...            ...       ...\n",
              "5690        0           1    0  ...     -0.109460      -0.068922 -0.808772\n",
              "5691        0           1    0  ...      0.425870       0.634202  1.009983\n",
              "5692        0           1    0  ...     -0.165845      -0.238636 -0.489660\n",
              "5693        0           1    0  ...     -0.164678      -0.178373 -0.260916\n",
              "5694        0           1    0  ...     -0.105623      -0.183911  0.081957\n",
              "\n",
              "[5695 rows x 15 columns]"
            ]
          },
          "metadata": {
            "tags": []
          },
          "execution_count": 13
        }
      ]
    },
    {
      "cell_type": "code",
      "metadata": {
        "id": "TPyxPf4oXrgz"
      },
      "source": [
        "smoted_training_data_median = smote_multiclass(pre_smote_training_dataset_median, num_samples_dict= {0: 6000, 1: 6000, 2: 6000, 3:6000}, one_hot_encoded=True)"
      ],
      "execution_count": null,
      "outputs": []
    },
    {
      "cell_type": "code",
      "metadata": {
        "colab": {
          "base_uri": "https://localhost:8080/",
          "height": 439
        },
        "id": "cda9VLYnXyl9",
        "outputId": "f70a7f6c-1482-450b-d92b-5077158737d3"
      },
      "source": [
        "smoted_training_data_median"
      ],
      "execution_count": null,
      "outputs": [
        {
          "output_type": "execute_result",
          "data": {
            "text/html": [
              "<div>\n",
              "<style scoped>\n",
              "    .dataframe tbody tr th:only-of-type {\n",
              "        vertical-align: middle;\n",
              "    }\n",
              "\n",
              "    .dataframe tbody tr th {\n",
              "        vertical-align: top;\n",
              "    }\n",
              "\n",
              "    .dataframe thead th {\n",
              "        text-align: right;\n",
              "    }\n",
              "</style>\n",
              "<table border=\"1\" class=\"dataframe\">\n",
              "  <thead>\n",
              "    <tr style=\"text-align: right;\">\n",
              "      <th></th>\n",
              "      <th>Control</th>\n",
              "      <th>Parkinsons</th>\n",
              "      <th>ALS</th>\n",
              "      <th>Cerebral_palsy</th>\n",
              "      <th>Gender</th>\n",
              "      <th>MDVP:Jitter(%)</th>\n",
              "      <th>MDVP:Jitter(Abs)</th>\n",
              "      <th>Jitter:PPQ5</th>\n",
              "      <th>Jitter:DDP</th>\n",
              "      <th>MDVP:Shimmer</th>\n",
              "      <th>MDVP:Shimmer(dB)</th>\n",
              "      <th>Shimmer:APQ3</th>\n",
              "      <th>Shimmer:APQ5</th>\n",
              "      <th>Shimmer:APQ11</th>\n",
              "      <th>DFA</th>\n",
              "    </tr>\n",
              "  </thead>\n",
              "  <tbody>\n",
              "    <tr>\n",
              "      <th>0</th>\n",
              "      <td>1</td>\n",
              "      <td>0</td>\n",
              "      <td>0</td>\n",
              "      <td>0</td>\n",
              "      <td>0.0</td>\n",
              "      <td>-0.074975</td>\n",
              "      <td>-0.000609</td>\n",
              "      <td>-0.043704</td>\n",
              "      <td>-0.129753</td>\n",
              "      <td>0.038776</td>\n",
              "      <td>0.089019</td>\n",
              "      <td>0.025941</td>\n",
              "      <td>0.047519</td>\n",
              "      <td>0.075872</td>\n",
              "      <td>1.077954</td>\n",
              "    </tr>\n",
              "    <tr>\n",
              "      <th>1</th>\n",
              "      <td>1</td>\n",
              "      <td>0</td>\n",
              "      <td>0</td>\n",
              "      <td>0</td>\n",
              "      <td>0.0</td>\n",
              "      <td>-0.082679</td>\n",
              "      <td>-0.000648</td>\n",
              "      <td>-0.044231</td>\n",
              "      <td>-0.129232</td>\n",
              "      <td>0.269241</td>\n",
              "      <td>0.611740</td>\n",
              "      <td>0.219024</td>\n",
              "      <td>0.167964</td>\n",
              "      <td>0.111379</td>\n",
              "      <td>1.406609</td>\n",
              "    </tr>\n",
              "    <tr>\n",
              "      <th>2</th>\n",
              "      <td>1</td>\n",
              "      <td>0</td>\n",
              "      <td>0</td>\n",
              "      <td>0</td>\n",
              "      <td>0.0</td>\n",
              "      <td>-0.076026</td>\n",
              "      <td>-0.000623</td>\n",
              "      <td>-0.047566</td>\n",
              "      <td>-0.134787</td>\n",
              "      <td>-0.174238</td>\n",
              "      <td>-0.393209</td>\n",
              "      <td>-0.112290</td>\n",
              "      <td>-0.099951</td>\n",
              "      <td>-0.093842</td>\n",
              "      <td>0.359002</td>\n",
              "    </tr>\n",
              "    <tr>\n",
              "      <th>3</th>\n",
              "      <td>1</td>\n",
              "      <td>0</td>\n",
              "      <td>0</td>\n",
              "      <td>0</td>\n",
              "      <td>0.0</td>\n",
              "      <td>-0.089682</td>\n",
              "      <td>-0.000685</td>\n",
              "      <td>-0.048444</td>\n",
              "      <td>-0.134787</td>\n",
              "      <td>-0.223946</td>\n",
              "      <td>-0.518367</td>\n",
              "      <td>-0.119083</td>\n",
              "      <td>-0.090442</td>\n",
              "      <td>-0.213228</td>\n",
              "      <td>-0.504170</td>\n",
              "    </tr>\n",
              "    <tr>\n",
              "      <th>4</th>\n",
              "      <td>1</td>\n",
              "      <td>0</td>\n",
              "      <td>0</td>\n",
              "      <td>0</td>\n",
              "      <td>0.0</td>\n",
              "      <td>-0.069023</td>\n",
              "      <td>-0.000567</td>\n",
              "      <td>-0.042826</td>\n",
              "      <td>-0.117950</td>\n",
              "      <td>-0.076691</td>\n",
              "      <td>-0.194428</td>\n",
              "      <td>-0.009041</td>\n",
              "      <td>-0.064919</td>\n",
              "      <td>-0.123811</td>\n",
              "      <td>1.440497</td>\n",
              "    </tr>\n",
              "    <tr>\n",
              "      <th>...</th>\n",
              "      <td>...</td>\n",
              "      <td>...</td>\n",
              "      <td>...</td>\n",
              "      <td>...</td>\n",
              "      <td>...</td>\n",
              "      <td>...</td>\n",
              "      <td>...</td>\n",
              "      <td>...</td>\n",
              "      <td>...</td>\n",
              "      <td>...</td>\n",
              "      <td>...</td>\n",
              "      <td>...</td>\n",
              "      <td>...</td>\n",
              "      <td>...</td>\n",
              "      <td>...</td>\n",
              "    </tr>\n",
              "    <tr>\n",
              "      <th>23995</th>\n",
              "      <td>0</td>\n",
              "      <td>0</td>\n",
              "      <td>0</td>\n",
              "      <td>1</td>\n",
              "      <td>1.0</td>\n",
              "      <td>-14.212506</td>\n",
              "      <td>-6.855520</td>\n",
              "      <td>-10.274190</td>\n",
              "      <td>-11.652282</td>\n",
              "      <td>-8.263243</td>\n",
              "      <td>-1.409916</td>\n",
              "      <td>-12.531532</td>\n",
              "      <td>-10.365914</td>\n",
              "      <td>-7.445041</td>\n",
              "      <td>-9.100426</td>\n",
              "    </tr>\n",
              "    <tr>\n",
              "      <th>23996</th>\n",
              "      <td>0</td>\n",
              "      <td>0</td>\n",
              "      <td>0</td>\n",
              "      <td>1</td>\n",
              "      <td>0.0</td>\n",
              "      <td>-6.482710</td>\n",
              "      <td>-12.425568</td>\n",
              "      <td>-4.376676</td>\n",
              "      <td>-5.210752</td>\n",
              "      <td>-4.349429</td>\n",
              "      <td>1.949585</td>\n",
              "      <td>-10.604802</td>\n",
              "      <td>-7.634012</td>\n",
              "      <td>-4.543912</td>\n",
              "      <td>-0.331547</td>\n",
              "    </tr>\n",
              "    <tr>\n",
              "      <th>23997</th>\n",
              "      <td>0</td>\n",
              "      <td>0</td>\n",
              "      <td>0</td>\n",
              "      <td>1</td>\n",
              "      <td>1.0</td>\n",
              "      <td>-14.115405</td>\n",
              "      <td>1.385679</td>\n",
              "      <td>-10.635964</td>\n",
              "      <td>-13.350614</td>\n",
              "      <td>-10.303957</td>\n",
              "      <td>-1.222654</td>\n",
              "      <td>-13.882467</td>\n",
              "      <td>-11.156465</td>\n",
              "      <td>-3.777064</td>\n",
              "      <td>-11.772905</td>\n",
              "    </tr>\n",
              "    <tr>\n",
              "      <th>23998</th>\n",
              "      <td>0</td>\n",
              "      <td>0</td>\n",
              "      <td>0</td>\n",
              "      <td>1</td>\n",
              "      <td>1.0</td>\n",
              "      <td>-8.300057</td>\n",
              "      <td>-11.237979</td>\n",
              "      <td>-10.139267</td>\n",
              "      <td>-5.228933</td>\n",
              "      <td>-9.055826</td>\n",
              "      <td>-4.753947</td>\n",
              "      <td>-6.203100</td>\n",
              "      <td>-8.865617</td>\n",
              "      <td>-4.395439</td>\n",
              "      <td>-12.180905</td>\n",
              "    </tr>\n",
              "    <tr>\n",
              "      <th>23999</th>\n",
              "      <td>0</td>\n",
              "      <td>0</td>\n",
              "      <td>0</td>\n",
              "      <td>1</td>\n",
              "      <td>1.0</td>\n",
              "      <td>1.047953</td>\n",
              "      <td>-9.789480</td>\n",
              "      <td>1.324375</td>\n",
              "      <td>5.131767</td>\n",
              "      <td>-12.536261</td>\n",
              "      <td>-2.336955</td>\n",
              "      <td>-14.277186</td>\n",
              "      <td>-13.466152</td>\n",
              "      <td>-12.351503</td>\n",
              "      <td>0.127220</td>\n",
              "    </tr>\n",
              "  </tbody>\n",
              "</table>\n",
              "<p>24000 rows × 15 columns</p>\n",
              "</div>"
            ],
            "text/plain": [
              "       Control  Parkinsons  ALS  ...  Shimmer:APQ5  Shimmer:APQ11        DFA\n",
              "0            1           0    0  ...      0.047519       0.075872   1.077954\n",
              "1            1           0    0  ...      0.167964       0.111379   1.406609\n",
              "2            1           0    0  ...     -0.099951      -0.093842   0.359002\n",
              "3            1           0    0  ...     -0.090442      -0.213228  -0.504170\n",
              "4            1           0    0  ...     -0.064919      -0.123811   1.440497\n",
              "...        ...         ...  ...  ...           ...            ...        ...\n",
              "23995        0           0    0  ...    -10.365914      -7.445041  -9.100426\n",
              "23996        0           0    0  ...     -7.634012      -4.543912  -0.331547\n",
              "23997        0           0    0  ...    -11.156465      -3.777064 -11.772905\n",
              "23998        0           0    0  ...     -8.865617      -4.395439 -12.180905\n",
              "23999        0           0    0  ...    -13.466152     -12.351503   0.127220\n",
              "\n",
              "[24000 rows x 15 columns]"
            ]
          },
          "metadata": {
            "tags": []
          },
          "execution_count": 18
        }
      ]
    },
    {
      "cell_type": "code",
      "metadata": {
        "id": "11KtBbdSX02-"
      },
      "source": [
        "f2 = smoted_training_data_median.drop(['Control', 'Parkinsons', 'ALS', 'Cerebral_palsy'], axis = 1)\n",
        "l2 = smoted_training_data_median.drop(['Gender', 'MDVP:Jitter(%)', 'MDVP:Jitter(Abs)', 'Jitter:PPQ5', 'Jitter:DDP', 'MDVP:Shimmer', 'MDVP:Shimmer(dB)', 'Shimmer:APQ3', 'Shimmer:APQ5', 'Shimmer:APQ11', 'DFA'],axis = 1)"
      ],
      "execution_count": null,
      "outputs": []
    },
    {
      "cell_type": "code",
      "metadata": {
        "id": "JAiQxLfEX8ru"
      },
      "source": [
        "x_trainer_median = f2 \n",
        "y_trainer_median = l2"
      ],
      "execution_count": null,
      "outputs": []
    },
    {
      "cell_type": "code",
      "metadata": {
        "colab": {
          "base_uri": "https://localhost:8080/"
        },
        "id": "C6BjwDkZsUKK",
        "outputId": "95e10095-28e1-4388-fc77-c2a193bc83c2"
      },
      "source": [
        "model2 = RandomForestClassifier(n_estimators=1000, random_state = 0)\n",
        "model2.fit(x_trainer_median, y_trainer_median)"
      ],
      "execution_count": null,
      "outputs": [
        {
          "output_type": "execute_result",
          "data": {
            "text/plain": [
              "RandomForestClassifier(bootstrap=True, ccp_alpha=0.0, class_weight=None,\n",
              "                       criterion='gini', max_depth=None, max_features='auto',\n",
              "                       max_leaf_nodes=None, max_samples=None,\n",
              "                       min_impurity_decrease=0.0, min_impurity_split=None,\n",
              "                       min_samples_leaf=1, min_samples_split=2,\n",
              "                       min_weight_fraction_leaf=0.0, n_estimators=1000,\n",
              "                       n_jobs=None, oob_score=False, random_state=0, verbose=0,\n",
              "                       warm_start=False)"
            ]
          },
          "metadata": {
            "tags": []
          },
          "execution_count": 21
        }
      ]
    },
    {
      "cell_type": "code",
      "metadata": {
        "id": "8pdbwTRnsXh5"
      },
      "source": [
        "y_pred = model2.predict(x2_test)"
      ],
      "execution_count": null,
      "outputs": []
    },
    {
      "cell_type": "code",
      "metadata": {
        "id": "uDg9QJNnsaJh"
      },
      "source": [
        "from sklearn import metrics\n",
        "print(metrics.classification_report(y_pred, y2_test))"
      ],
      "execution_count": null,
      "outputs": []
    },
    {
      "cell_type": "code",
      "metadata": {
        "id": "c3G-32z5fuza"
      },
      "source": [
        "print(accuracy_score(y2_test, y_pred)*100)"
      ],
      "execution_count": null,
      "outputs": []
    },
    {
      "cell_type": "code",
      "metadata": {
        "id": "_hvRS-0ud2Id"
      },
      "source": [
        "y_pred_list = y_pred.tolist()\n",
        "y2_test_list = y2_test.values.tolist()\n",
        "TP, FP, FN, TN = perf_measure(y2_test_list, y_pred_list)"
      ],
      "execution_count": null,
      "outputs": []
    },
    {
      "cell_type": "code",
      "metadata": {
        "colab": {
          "base_uri": "https://localhost:8080/"
        },
        "id": "-iA50Ihpe5jB",
        "outputId": "a5d76322-e183-435c-e858-8609224adfa5"
      },
      "source": [
        "print(TP, FP, TN, FN)"
      ],
      "execution_count": null,
      "outputs": [
        {
          "output_type": "stream",
          "text": [
            "1295 13 64 51\n"
          ],
          "name": "stdout"
        }
      ]
    },
    {
      "cell_type": "code",
      "metadata": {
        "colab": {
          "base_uri": "https://localhost:8080/"
        },
        "id": "vSKVseyufFT9",
        "outputId": "3d915eec-5db4-479d-9d00-798a71383e3c"
      },
      "source": [
        "kfold = KFold(n_splits=5, shuffle=True)\n",
        "kf_cv_scores = cross_val_score(model2, x_trainer_median, y_trainer_median, cv=kfold )\n",
        "print(\"K-fold CV average score: %.2f\" % kf_cv_scores.mean())"
      ],
      "execution_count": null,
      "outputs": [
        {
          "output_type": "stream",
          "text": [
            "K-fold CV average score: 0.99\n"
          ],
          "name": "stdout"
        }
      ]
    }
  ]
}
