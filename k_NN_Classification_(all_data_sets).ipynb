{
  "nbformat": 4,
  "nbformat_minor": 0,
  "metadata": {
    "colab": {
      "name": "K-NN Classification (all data sets).ipynb",
      "provenance": [],
      "collapsed_sections": [],
      "authorship_tag": "ABX9TyOLFo5AFfkyuDCo0Xv9tBO6",
      "include_colab_link": true
    },
    "kernelspec": {
      "name": "python3",
      "display_name": "Python 3"
    },
    "language_info": {
      "name": "python"
    }
  },
  "cells": [
    {
      "cell_type": "markdown",
      "metadata": {
        "id": "view-in-github",
        "colab_type": "text"
      },
      "source": [
        "<a href=\"https://colab.research.google.com/github/halah1998/Dysarthria-Classifier/blob/main/k_NN_Classification_(all_data_sets).ipynb\" target=\"_parent\"><img src=\"https://colab.research.google.com/assets/colab-badge.svg\" alt=\"Open In Colab\"/></a>"
      ]
    },
    {
      "cell_type": "code",
      "metadata": {
        "colab": {
          "base_uri": "https://localhost:8080/"
        },
        "id": "JX33vrU7we_X",
        "outputId": "0a20d2e9-0088-487c-a9af-16ae2b73f34f"
      },
      "source": [
        "import pandas as pd\n",
        "import numpy as np\n",
        "import matplotlib.pyplot as plt\n",
        "%matplotlib inline\n",
        "import seaborn as sns\n",
        "from sklearn.neighbors import KNeighborsClassifier\n",
        "from sklearn.model_selection import train_test_split\n",
        "from sklearn.metrics import accuracy_score, confusion_matrix\n",
        "from os import system\n",
        "from collections import Counter\n",
        "from imblearn.over_sampling import SMOTE\n",
        "from numpy import where, random\n",
        "!pip install scikit-multilearn"
      ],
      "execution_count": 26,
      "outputs": [
        {
          "output_type": "stream",
          "text": [
            "Collecting scikit-multilearn\n",
            "\u001b[?25l  Downloading https://files.pythonhosted.org/packages/bb/1f/e6ff649c72a1cdf2c7a1d31eb21705110ce1c5d3e7e26b2cc300e1637272/scikit_multilearn-0.2.0-py3-none-any.whl (89kB)\n",
            "\r\u001b[K     |███▊                            | 10kB 14.2MB/s eta 0:00:01\r\u001b[K     |███████▍                        | 20kB 17.0MB/s eta 0:00:01\r\u001b[K     |███████████                     | 30kB 11.3MB/s eta 0:00:01\r\u001b[K     |██████████████▊                 | 40kB 9.3MB/s eta 0:00:01\r\u001b[K     |██████████████████▍             | 51kB 5.0MB/s eta 0:00:01\r\u001b[K     |██████████████████████          | 61kB 5.2MB/s eta 0:00:01\r\u001b[K     |█████████████████████████▊      | 71kB 5.6MB/s eta 0:00:01\r\u001b[K     |█████████████████████████████▍  | 81kB 6.0MB/s eta 0:00:01\r\u001b[K     |████████████████████████████████| 92kB 3.7MB/s \n",
            "\u001b[?25hInstalling collected packages: scikit-multilearn\n",
            "Successfully installed scikit-multilearn-0.2.0\n"
          ],
          "name": "stdout"
        }
      ]
    },
    {
      "cell_type": "code",
      "metadata": {
        "id": "3F3FqSEoxBJD"
      },
      "source": [
        "data = pd.read_csv('all_disorders_median_std.csv')"
      ],
      "execution_count": 27,
      "outputs": []
    },
    {
      "cell_type": "code",
      "metadata": {
        "id": "F0iJnV0jxXlQ"
      },
      "source": [
        "def smote_multiclass(df, num_samples_dict=None, one_hot_encoded=False):\n",
        "  \"\"\"\n",
        "  Performs data augmentation and/or downsampling on a dataframe with multiple classes.\n",
        "  Supports both numerical and one-hot encoded class values.\n",
        "  The SMOTE algorithm is used for augmentation and random sampling is used for downsampling of the specified classes.\n",
        "  Keyword arguments:\n",
        "  df -- the dataframe to manipulate\n",
        "  num_samples_dict -- a dictionary of the form {0: num_desired_samples, 1: num_desired_samples, ...} that indicates the\n",
        "                      number of samples that the returned dataframe should have in each class\n",
        "  one_hot_encoded -- Boolean value indicating if the dataframe is one-hot encoded\n",
        "  \"\"\"\n",
        "\n",
        "  if df.columns[[0]] == 'Unnamed: 0':\n",
        "    df.drop(df.columns[[0]], axis=1, inplace=True)  # remove first column\n",
        "\n",
        "  # change one hot encoded dataset into numerical labels\n",
        "  if one_hot_encoded:\n",
        "    df.insert(loc=0, column='Status', value=np.nan)\n",
        "    for i, row in df.iterrows():\n",
        "      if df.iloc[i]['Control'] == 1:\n",
        "          status = 0\n",
        "      elif df.iloc[i]['Parkinsons'] == 1:\n",
        "          status = 1\n",
        "      elif df.iloc[i]['ALS'] == 1:\n",
        "          status = 2\n",
        "      elif df.iloc[i]['Cerebral_palsy'] == 1:\n",
        "          status = 3\n",
        "      df.at[i,'Status'] = status\n",
        "    df = df.drop(columns=['Control', 'Parkinsons', 'ALS', 'Cerebral_palsy'])\n",
        "\n",
        "\n",
        "  if num_samples_dict is not None:\n",
        "    strategy = num_samples_dict\n",
        "\n",
        "    # downsampling classes if needed\n",
        "    counter = Counter(df.Status)\n",
        "    class_samples = []\n",
        "    for i in range(4):\n",
        "      if counter[i] > num_samples_dict[i]: # class i needs to be downsampled\n",
        "        class_i = df.loc[df['Status'] == i]\n",
        "        class_i_sample = class_i.sample(n=num_samples_dict[i])\n",
        "        class_samples.append(class_i_sample)\n",
        "      else: # class i does not need downsampling\n",
        "        class_i = df.loc[df['Status'] == i]\n",
        "        class_samples.append(class_i)\n",
        "\n",
        "    df = pd.concat(class_samples).reset_index(drop=True)\n",
        "\n",
        "  else:\n",
        "    strategy = 'auto'\n",
        "\n",
        "  y = df.Status # labels\n",
        "  x = df.drop(['Status', 'Gender'], axis=1) # features only, Gender also removed because it must be binary\n",
        "  gender = df.Gender\n",
        "\n",
        "  oversample = SMOTE(sampling_strategy=strategy)\n",
        "  x_oversampled, y_oversampled = oversample.fit_resample(x, y)\n",
        "\n",
        "  # get sample counts for augmented dataset\n",
        "  counter = Counter(y_oversampled)\n",
        "\n",
        "  if num_samples_dict is not None and (counter[0] != num_samples_dict[0] or counter[1] != num_samples_dict[1]\n",
        "                                       or counter[2] != num_samples_dict[2] or counter[3] != num_samples_dict[3]):\n",
        "    print(\"Sampling failed\")\n",
        "  elif num_samples_dict is None and (counter[0] != counter[1] or counter[1] != counter[2] or counter[2] != counter[3]):\n",
        "    print(\"Sampling failed\")\n",
        "\n",
        "  # regenerate dataframe with new samples\n",
        "  df_concat = pd.concat([pd.DataFrame(y_oversampled), pd.DataFrame(gender), pd.DataFrame(x_oversampled)], axis=1)\n",
        "  df_concat.columns = df.columns\n",
        "\n",
        "  # fill missing gender values with a random choice of 0 or 1\n",
        "  for row in df_concat.loc[df_concat.Gender.isnull(), 'Gender'].index:\n",
        "    df_concat.at[row, 'Gender'] = random.randint(0, 2)\n",
        "\n",
        "  # change numerical class values back into one-hot encoded values\n",
        "  if one_hot_encoded:\n",
        "    one_hot = pd.get_dummies(df_concat['Status'])\n",
        "    one_hot.rename(columns={0:'Control', 1:'Parkinsons', 2:'ALS', 3:'Cerebral_palsy'}, inplace=True)\n",
        "    df_concat = df_concat.drop(columns=['Status'], axis=1)\n",
        "    df_concat = pd.concat([one_hot, df_concat], axis=1)\n",
        "\n",
        "  return df_concat, x, y"
      ],
      "execution_count": 28,
      "outputs": []
    },
    {
      "cell_type": "code",
      "metadata": {
        "colab": {
          "base_uri": "https://localhost:8080/",
          "height": 319
        },
        "id": "DebqW3SMxpiW",
        "outputId": "bce7c0ac-286f-4025-9dfe-79af94059564"
      },
      "source": [
        "data, x, y = smote_multiclass(data, num_samples_dict={0: 100, 1: 200, 2: 100, 3:200},one_hot_encoded=False)\n",
        "plt.scatter(x['MDVP:Jitter(%)'],y,color='red')\n",
        "plt.scatter(x['MDVP:Jitter(Abs)'],y,color='green')\n",
        "plt.scatter(x['Jitter:PPQ5'],y,color='blue')\n",
        "plt.scatter(x['Jitter:DDP'],y,color='yellow')\n",
        "plt.scatter(x['MDVP:Shimmer'],y,color='orange')\n",
        "plt.scatter(x['MDVP:Shimmer(dB)'],y,color='cyan')\n",
        "plt.scatter(x['Shimmer:APQ3'],y,color='pink')\n",
        "plt.scatter(x['Shimmer:APQ5'],y,color='black')\n",
        "plt.scatter(x['Shimmer:APQ11'],y,color='purple')\n",
        "plt.scatter(x['DFA'],y,color='lime')\n",
        "plt.show()"
      ],
      "execution_count": 55,
      "outputs": [
        {
          "output_type": "stream",
          "text": [
            "/usr/local/lib/python3.7/dist-packages/sklearn/utils/deprecation.py:87: FutureWarning: Function safe_indexing is deprecated; safe_indexing is deprecated in version 0.22 and will be removed in version 0.24.\n",
            "  warnings.warn(msg, category=FutureWarning)\n"
          ],
          "name": "stderr"
        },
        {
          "output_type": "display_data",
          "data": {
            "image/png": "[encoded data removed]",
            "text/plain": [
              "<Figure size 432x288 with 1 Axes>"
            ]
          },
          "metadata": {
            "tags": [],
            "needs_background": "light"
          }
        }
      ]
    },
    {
      "cell_type": "code",
      "metadata": {
        "colab": {
          "base_uri": "https://localhost:8080/"
        },
        "id": "PJDbEmzoxvYl",
        "outputId": "4dfabe9a-44a2-4789-fd29-187162ded552"
      },
      "source": [
        "# Fetching the number in each class\n",
        "count=data.Status.value_counts()\n",
        "print(count)\n",
        "print()\n",
        "\n",
        "'''Splitting Data'''\n",
        "# Splitting Data into 70% Training data and 30% Testing Data:\n",
        "X_train, X_Test, y_train,  y_Test = train_test_split(x, y,train_size=0.7, test_size=0.3, random_state=42,stratify=y)\n",
        "print(f\"X_train length is {len(X_train)}.\")\n",
        "\n",
        "#70% Training data and 20% Testing Data and 10% Validation Data\n",
        "X_test, X_valid, y_test, y_valid = train_test_split(X_Test, y_Test, train_size=0.75,test_size=0.25, random_state=101, stratify=y_Test)\n",
        "print(f\"X_test length is {len(X_test)}.\")\n",
        "print(f\"X_valid length is {len(X_valid)}.\")\n",
        "print(f\"Y_test length is {len(y_test)}.\")\n",
        "\n",
        "#Seeing the number/percentage of the split\n",
        "s=np.unique(y_train, return_counts=True)\n",
        "print()\n",
        "print(f\"The split is as follows:{s}\")\n",
        "\n",
        "#Converting data type for training and testing purposes\n",
        "import numpy as np\n",
        "y_train = y_train.astype(np.float64)\n",
        "y_test = y_test.astype(np.float64)"
      ],
      "execution_count": 56,
      "outputs": [
        {
          "output_type": "stream",
          "text": [
            "3    200\n",
            "1    200\n",
            "2    100\n",
            "0    100\n",
            "Name: Status, dtype: int64\n",
            "\n",
            "X_train length is 343.\n",
            "X_test length is 110.\n",
            "X_valid length is 37.\n",
            "Y_test length is 110.\n",
            "\n",
            "The split is as follows:(array([0, 1, 2, 3]), array([ 70, 140,  70,  63]))\n"
          ],
          "name": "stdout"
        }
      ]
    },
    {
      "cell_type": "markdown",
      "metadata": {
        "id": "lGPbUH3e41g9"
      },
      "source": [
        "# K-Nearest Neighbor Classification"
      ]
    },
    {
      "cell_type": "code",
      "metadata": {
        "colab": {
          "base_uri": "https://localhost:8080/"
        },
        "id": "9D4we7an4YE-",
        "outputId": "205afa57-6176-4042-897e-ff4119753ef3"
      },
      "source": [
        "\n",
        "\n",
        "#k-NN\n",
        "from sklearn.neighbors import KNeighborsClassifier\n",
        "#To use the build in multilabel adabtor use:\n",
        "#from skmultilearn.adapt import MLkNN\n",
        "#knn_model= MLkNN(k=20)\n",
        "\n",
        "#fiting training data on model\n",
        "#Setup arrays to store training and test accuracies\n",
        "neighbors = np.arange(1,9)\n",
        "train_accuracy =np.empty(len(neighbors))\n",
        "test_accuracy = np.empty(len(neighbors))\n",
        "\n",
        "for i,k in enumerate(neighbors):\n",
        "    #Setup a knn classifier with k neighbors\n",
        "    knn_model = KNeighborsClassifier(n_neighbors=k)\n",
        "    \n",
        "    #Fit the model\n",
        "    knn_model.fit(X_train, y_train)\n",
        "    \n",
        "    #Compute accuracy on the training set\n",
        "    train_accuracy[i] = knn_model.score(X_train, y_train)\n",
        "    \n",
        "    #Compute accuracy on the test set\n",
        "    test_accuracy[i] = knn.score(X_test, y_test) \n",
        "    print(train_accuracy[i])\n",
        "    print(test_accuracy[i])\n",
        "    score= knn_model.score(X_test,y_test)\n",
        "    print(f\"The fitting score is {score}\")\n",
        "\n",
        "#prediction using K-NN\n",
        "y_pred = knn_model.predict(X_test)\n",
        "print(f\"The predictions for the data is {y_pred}\")\n",
        "\n",
        "#Looking at accuracy by counting the number of misclassified cases\n",
        "count_misclassified = (y_test != y_pred).sum()\n",
        "print('Misclassified samples in KNN: {}'.format(count_misclassified))\n",
        "\n",
        "#Mean Square Error\n",
        "from sklearn.metrics import mean_squared_error\n",
        "from math import sqrt\n",
        "train_preds = knn_model.predict(X_train)\n",
        "mse = mean_squared_error(y_train, train_preds)\n",
        "rmse1 = sqrt(mse)\n",
        "print(f\"Mean square error for training data is {rmse1}\")\n",
        "\n",
        "#evaluating the predictive performance of our model\n",
        "test_preds = knn_model.predict(X_test)\n",
        "mse = mean_squared_error(y_test, test_preds)\n",
        "rmse2 = sqrt(mse)\n",
        "print(f\"Mean square error for test data is {rmse2}\")"
      ],
      "execution_count": 57,
      "outputs": [
        {
          "output_type": "stream",
          "text": [
            "1.0\n",
            "0.4090909090909091\n",
            "The fitting score is 0.8272727272727273\n",
            "0.9271137026239067\n",
            "0.4090909090909091\n",
            "The fitting score is 0.7909090909090909\n",
            "0.9183673469387755\n",
            "0.4090909090909091\n",
            "The fitting score is 0.8181818181818182\n",
            "0.8979591836734694\n",
            "0.4090909090909091\n",
            "The fitting score is 0.8272727272727273\n",
            "0.8892128279883382\n",
            "0.4090909090909091\n",
            "The fitting score is 0.8\n",
            "0.8775510204081632\n",
            "0.4090909090909091\n",
            "The fitting score is 0.7818181818181819\n",
            "0.8629737609329446\n",
            "0.4090909090909091\n",
            "The fitting score is 0.7818181818181819\n",
            "0.8600583090379009\n",
            "0.4090909090909091\n",
            "The fitting score is 0.8090909090909091\n",
            "The predictions for the data is [1. 2. 2. 1. 2. 1. 1. 1. 1. 2. 0. 2. 1. 2. 2. 3. 3. 1. 3. 1. 0. 2. 1. 3.\n",
            " 1. 3. 1. 2. 3. 3. 2. 0. 1. 3. 1. 1. 1. 3. 0. 2. 1. 3. 0. 1. 2. 3. 1. 1.\n",
            " 2. 1. 3. 0. 3. 3. 1. 1. 1. 1. 1. 1. 3. 0. 0. 0. 2. 1. 1. 1. 1. 0. 2. 1.\n",
            " 1. 2. 1. 3. 1. 0. 2. 1. 1. 1. 1. 0. 2. 2. 2. 1. 3. 0. 2. 1. 1. 1. 1. 1.\n",
            " 1. 3. 2. 2. 1. 1. 1. 1. 0. 0. 1. 1. 3. 1.]\n",
            "Misclassified samples in KNN: 21\n",
            "Mean square error for training data is 0.47687026308358865\n",
            "Mean square error for test data is 0.4369314487526515\n"
          ],
          "name": "stdout"
        }
      ]
    },
    {
      "cell_type": "markdown",
      "metadata": {
        "id": "iJR4CdTL-MFw"
      },
      "source": [
        "# Parameter Tuning & Model Evaluation"
      ]
    },
    {
      "cell_type": "code",
      "metadata": {
        "colab": {
          "base_uri": "https://localhost:8080/"
        },
        "id": "qW50wM11-UXb",
        "outputId": "d07a2d00-9bdf-4623-c9e3-56affb1345c9"
      },
      "source": [
        "#Predicting the best value of k\n",
        "from sklearn.model_selection import GridSearchCV\n",
        "parameters = {\"n_neighbors\": range(1, 20)}\n",
        "gridsearch = GridSearchCV(KNeighborsClassifier(), parameters)\n",
        "gridsearch.fit(X_train, y_train)\n",
        "\n",
        "#using .best_params_ to find the best performing k\n",
        "print(f\"The best value for k is {gridsearch.best_params_}\")\n",
        "\n",
        "#Seeing how this predicted k affects the training and testing performances\n",
        "train_preds_grid = gridsearch.predict(X_train)\n",
        "train_mse = mean_squared_error(y_train, train_preds_grid)\n",
        "train_rmse = sqrt(train_mse)\n",
        "test_preds_grid = gridsearch.predict(X_test)\n",
        "test_mse = mean_squared_error(y_test, test_preds_grid)\n",
        "test_rmse = sqrt(test_mse)\n",
        "train_rmse\n",
        "\n",
        "print(f\"Mean square error for test data is {test_rmse}\")"
      ],
      "execution_count": 58,
      "outputs": [
        {
          "output_type": "stream",
          "text": [
            "The best value for k is {'n_neighbors': 3}\n",
            "Mean square error for test data is 0.4264014327112209\n"
          ],
          "name": "stdout"
        }
      ]
    },
    {
      "cell_type": "code",
      "metadata": {
        "colab": {
          "base_uri": "https://localhost:8080/",
          "height": 421
        },
        "id": "vv-umcME-s4o",
        "outputId": "f5b48f82-956f-4775-ffa3-8724a0f65ae3"
      },
      "source": [
        "error = []\n",
        "\n",
        "# Calculating error for K values between 1 and 40\n",
        "for i in range(1, 30):\n",
        "    knn = KNeighborsClassifier(n_neighbors=i)\n",
        "    knn.fit(X_train, y_train)\n",
        "    pred_i = knn.predict(X_test)\n",
        "    error.append(np.mean(pred_i != y_test))\n",
        "    \n",
        "# plot the error values against K values using the elbow graph method\n",
        "plt.figure(figsize=(12, 6))\n",
        "plt.plot(range(1, 30), error, color='red', linestyle='dashed', marker='o',\n",
        "         markerfacecolor='blue', markersize=10)\n",
        "plt.title('Error Rate K Value')\n",
        "plt.xlabel('K Value')\n",
        "plt.ylabel('Mean Error')"
      ],
      "execution_count": 59,
      "outputs": [
        {
          "output_type": "execute_result",
          "data": {
            "text/plain": [
              "Text(0, 0.5, 'Mean Error')"
            ]
          },
          "metadata": {
            "tags": []
          },
          "execution_count": 59
        },
        {
          "output_type": "display_data",
          "data": {
            "image/png": "[encoded data removed]",
            "text/plain": [
              "<Figure size 864x432 with 1 Axes>"
            ]
          },
          "metadata": {
            "tags": [],
            "needs_background": "light"
          }
        }
      ]
    },
    {
      "cell_type": "code",
      "metadata": {
        "colab": {
          "base_uri": "https://localhost:8080/",
          "height": 534
        },
        "id": "ujTLCcBo_9va",
        "outputId": "0f88ea2a-6699-4235-c96e-72aad208d20d"
      },
      "source": [
        "#Evaluating the Algorithm using a confusion matrix and classification report\n",
        "from sklearn.metrics import classification_report, confusion_matrix\n",
        "y_pred = knn_model.predict(X_test)\n",
        "print(confusion_matrix(y_test, y_pred))\n",
        "print(classification_report(y_test, y_pred))\n",
        "\n",
        "#Plotting Confusion Matrix\n",
        "from sklearn.metrics import plot_confusion_matrix\n",
        "plot_confusion_matrix(knn_model, X_test, y_test, display_labels=['Control', 'Parkinsons', 'ALS', 'Cerebral Palsy'])  \n",
        "plt.show() "
      ],
      "execution_count": 60,
      "outputs": [
        {
          "output_type": "stream",
          "text": [
            "[[ 9 14  0  0]\n",
            " [ 6 39  0  0]\n",
            " [ 0  0 22  0]\n",
            " [ 0  0  1 19]]\n",
            "              precision    recall  f1-score   support\n",
            "\n",
            "         0.0       0.60      0.39      0.47        23\n",
            "         1.0       0.74      0.87      0.80        45\n",
            "         2.0       0.96      1.00      0.98        22\n",
            "         3.0       1.00      0.95      0.97        20\n",
            "\n",
            "    accuracy                           0.81       110\n",
            "   macro avg       0.82      0.80      0.81       110\n",
            "weighted avg       0.80      0.81      0.80       110\n",
            "\n"
          ],
          "name": "stdout"
        },
        {
          "output_type": "display_data",
          "data": {
            "image/png": "[encoded data removed]",
            "text/plain": [
              "<Figure size 432x288 with 2 Axes>"
            ]
          },
          "metadata": {
            "tags": [],
            "needs_background": "light"
          }
        }
      ]
    },
    {
      "cell_type": "code",
      "metadata": {
        "colab": {
          "base_uri": "https://localhost:8080/"
        },
        "id": "EgsnMFH3BDic",
        "outputId": "459ed825-fbb1-49b1-b71d-89b567c5e31f"
      },
      "source": [
        "#Loglos Evaluation\n",
        "from sklearn import model_selection\n",
        "# log loss (closer to 0 is better)\n",
        "for k in range(2,20,4):\n",
        "  kfold = model_selection.KFold(n_splits=k, shuffle=True)\n",
        "  results = model_selection.cross_val_score(knn_model, x, y, cv=kfold, scoring='neg_log_loss')\n",
        "  print(\"Logloss: %.3f (%.f)\" % (results.mean(), k))"
      ],
      "execution_count": 62,
      "outputs": [
        {
          "output_type": "stream",
          "text": [
            "Logloss: -1.064 (2)\n",
            "Logloss: -0.750 (6)\n",
            "Logloss: -0.752 (10)\n",
            "Logloss: -0.883 (14)\n",
            "Logloss: -0.813 (18)\n"
          ],
          "name": "stdout"
        }
      ]
    },
    {
      "cell_type": "code",
      "metadata": {
        "colab": {
          "base_uri": "https://localhost:8080/"
        },
        "id": "1K7DOB3_B21G",
        "outputId": "d77a6764-0309-4328-b29a-a74138f3fa78"
      },
      "source": [
        "#Looking at the ROC of our Model\n",
        "from sklearn import metrics\n",
        "\n",
        "fpr, tpr, thresholds = metrics.roc_curve(y_test, y_pred, pos_label=2)\n",
        "print(f\"The False Positive Rate prediction is {fpr}\")\n",
        "print(f\"The True Positive Rate prediction is {tpr}\")\n",
        "print(f\"The Thresholds are {thresholds}\")"
      ],
      "execution_count": 63,
      "outputs": [
        {
          "output_type": "stream",
          "text": [
            "The False Positive Rate prediction is [0.         0.21590909 0.22727273 0.82954545 1.        ]\n",
            "The True Positive Rate prediction is [0. 0. 1. 1. 1.]\n",
            "The Thresholds are [4. 3. 2. 1. 0.]\n"
          ],
          "name": "stdout"
        }
      ]
    },
    {
      "cell_type": "code",
      "metadata": {
        "id": "4TrprcfLB9F9"
      },
      "source": [
        ""
      ],
      "execution_count": null,
      "outputs": []
    }
  ]
}