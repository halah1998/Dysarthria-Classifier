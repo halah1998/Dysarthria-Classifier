{
 "cells": [
  {
   "cell_type": "code",
   "execution_count": 1,
   "id": "75522dea",
   "metadata": {},
   "outputs": [],
   "source": [
    "# Import modules used for the decision tree classifier & plot\n",
    "# Reference code: https://www.kaggle.com/gizemtanriver/multi-class-classification-by-decision-tree\n",
    "from sklearn import preprocessing, neighbors, naive_bayes, neural_network, svm, tree\n",
    "from sklearn.metrics import confusion_matrix,  roc_curve, auc\n",
    "from sklearn.model_selection import KFold, StratifiedKFold\n",
    "from sklearn.model_selection import train_test_split\n",
    "from sklearn.ensemble import AdaBoostClassifier, BaggingClassifier, VotingClassifier\n",
    "from sklearn.decomposition import PCA\n",
    "from scipy import interp\n",
    "import numpy as np\n",
    "import pandas as pd\n",
    "import matplotlib.pyplot as plt\n",
    "from IPython.display import HTML, display\n",
    "import tabulate\n",
    "from smote import smote_binary\n",
    "from performance_report import performance_report"
   ]
  },
  {
   "cell_type": "code",
   "execution_count": 3,
   "id": "c5ace9cf",
   "metadata": {},
   "outputs": [
    {
     "data": {
      "text/html": [
       "<div>\n",
       "<style scoped>\n",
       "    .dataframe tbody tr th:only-of-type {\n",
       "        vertical-align: middle;\n",
       "    }\n",
       "\n",
       "    .dataframe tbody tr th {\n",
       "        vertical-align: top;\n",
       "    }\n",
       "\n",
       "    .dataframe thead th {\n",
       "        text-align: right;\n",
       "    }\n",
       "</style>\n",
       "<table border=\"1\" class=\"dataframe\">\n",
       "  <thead>\n",
       "    <tr style=\"text-align: right;\">\n",
       "      <th></th>\n",
       "      <th>Unnamed: 0</th>\n",
       "      <th>Status</th>\n",
       "      <th>MDVP:Jitter(%)</th>\n",
       "      <th>MDVP:Jitter(Abs)</th>\n",
       "      <th>Jitter:PPQ5</th>\n",
       "      <th>Jitter:DDP</th>\n",
       "      <th>MDVP:Shimmer</th>\n",
       "      <th>MDVP:Shimmer(dB)</th>\n",
       "      <th>Shimmer:APQ3</th>\n",
       "      <th>Shimmer:APQ5</th>\n",
       "      <th>Shimmer:APQ11</th>\n",
       "      <th>DFA</th>\n",
       "    </tr>\n",
       "  </thead>\n",
       "  <tbody>\n",
       "    <tr>\n",
       "      <th>0</th>\n",
       "      <td>0</td>\n",
       "      <td>1</td>\n",
       "      <td>0.014546</td>\n",
       "      <td>-0.000127</td>\n",
       "      <td>0.001828</td>\n",
       "      <td>0.063985</td>\n",
       "      <td>-0.181563</td>\n",
       "      <td>-0.409024</td>\n",
       "      <td>-0.076295</td>\n",
       "      <td>-0.151238</td>\n",
       "      <td>-0.220074</td>\n",
       "      <td>-1.024965</td>\n",
       "    </tr>\n",
       "    <tr>\n",
       "      <th>1</th>\n",
       "      <td>1</td>\n",
       "      <td>1</td>\n",
       "      <td>-0.046874</td>\n",
       "      <td>-0.000417</td>\n",
       "      <td>-0.026584</td>\n",
       "      <td>-0.072149</td>\n",
       "      <td>-0.263543</td>\n",
       "      <td>-0.594171</td>\n",
       "      <td>-0.149456</td>\n",
       "      <td>-0.189609</td>\n",
       "      <td>-0.215807</td>\n",
       "      <td>-0.867248</td>\n",
       "    </tr>\n",
       "    <tr>\n",
       "      <th>2</th>\n",
       "      <td>2</td>\n",
       "      <td>1</td>\n",
       "      <td>-0.016164</td>\n",
       "      <td>-0.000284</td>\n",
       "      <td>-0.016717</td>\n",
       "      <td>-0.034960</td>\n",
       "      <td>-0.316428</td>\n",
       "      <td>-0.586910</td>\n",
       "      <td>-0.192299</td>\n",
       "      <td>-0.226523</td>\n",
       "      <td>-0.252313</td>\n",
       "      <td>-1.067120</td>\n",
       "    </tr>\n",
       "    <tr>\n",
       "      <th>3</th>\n",
       "      <td>3</td>\n",
       "      <td>1</td>\n",
       "      <td>-0.008189</td>\n",
       "      <td>-0.000250</td>\n",
       "      <td>-0.007189</td>\n",
       "      <td>-0.042196</td>\n",
       "      <td>-0.220356</td>\n",
       "      <td>-0.056884</td>\n",
       "      <td>-0.131001</td>\n",
       "      <td>-0.158362</td>\n",
       "      <td>-0.172506</td>\n",
       "      <td>-0.740206</td>\n",
       "    </tr>\n",
       "    <tr>\n",
       "      <th>4</th>\n",
       "      <td>4</td>\n",
       "      <td>1</td>\n",
       "      <td>-0.040936</td>\n",
       "      <td>-0.000360</td>\n",
       "      <td>-0.029987</td>\n",
       "      <td>-0.091837</td>\n",
       "      <td>-0.312185</td>\n",
       "      <td>-0.605061</td>\n",
       "      <td>-0.201361</td>\n",
       "      <td>-0.212762</td>\n",
       "      <td>-0.195263</td>\n",
       "      <td>-0.901492</td>\n",
       "    </tr>\n",
       "  </tbody>\n",
       "</table>\n",
       "</div>"
      ],
      "text/plain": [
       "   Unnamed: 0  Status  MDVP:Jitter(%)  MDVP:Jitter(Abs)  Jitter:PPQ5  \\\n",
       "0           0       1        0.014546         -0.000127     0.001828   \n",
       "1           1       1       -0.046874         -0.000417    -0.026584   \n",
       "2           2       1       -0.016164         -0.000284    -0.016717   \n",
       "3           3       1       -0.008189         -0.000250    -0.007189   \n",
       "4           4       1       -0.040936         -0.000360    -0.029987   \n",
       "\n",
       "   Jitter:DDP  MDVP:Shimmer  MDVP:Shimmer(dB)  Shimmer:APQ3  Shimmer:APQ5  \\\n",
       "0    0.063985     -0.181563         -0.409024     -0.076295     -0.151238   \n",
       "1   -0.072149     -0.263543         -0.594171     -0.149456     -0.189609   \n",
       "2   -0.034960     -0.316428         -0.586910     -0.192299     -0.226523   \n",
       "3   -0.042196     -0.220356         -0.056884     -0.131001     -0.158362   \n",
       "4   -0.091837     -0.312185         -0.605061     -0.201361     -0.212762   \n",
       "\n",
       "   Shimmer:APQ11       DFA  \n",
       "0      -0.220074 -1.024965  \n",
       "1      -0.215807 -0.867248  \n",
       "2      -0.252313 -1.067120  \n",
       "3      -0.172506 -0.740206  \n",
       "4      -0.195263 -0.901492  "
      ]
     },
     "execution_count": 3,
     "metadata": {},
     "output_type": "execute_result"
    }
   ],
   "source": [
    "# Read the csv file, dropping the unnamed id column\n",
    "# Show the first 5 rows after modification for review\n",
    "dataset = pd.read_csv('all_disorders_remove_std.csv')\n",
    "# Augment the data\n",
    "# dataset = smote_multiclass(dataset, {0: 6000, 1: 6000, 2:6000, 3:6000}) #augmented dataframe\n",
    "dataset.drop(['Gender'], 1, inplace=True)\n",
    "dataset.head()"
   ]
  },
  {
   "cell_type": "code",
   "execution_count": 4,
   "id": "576047ac",
   "metadata": {},
   "outputs": [
    {
     "name": "stdout",
     "output_type": "stream",
     "text": [
      "(6684, 12)\n"
     ]
    },
    {
     "data": {
      "text/plain": [
       "Unnamed: 0            int64\n",
       "Status                int64\n",
       "MDVP:Jitter(%)      float64\n",
       "MDVP:Jitter(Abs)    float64\n",
       "Jitter:PPQ5         float64\n",
       "Jitter:DDP          float64\n",
       "MDVP:Shimmer        float64\n",
       "MDVP:Shimmer(dB)    float64\n",
       "Shimmer:APQ3        float64\n",
       "Shimmer:APQ5        float64\n",
       "Shimmer:APQ11       float64\n",
       "DFA                 float64\n",
       "dtype: object"
      ]
     },
     "execution_count": 4,
     "metadata": {},
     "output_type": "execute_result"
    }
   ],
   "source": [
    "# Displaying the shape and datatype for each attribute\n",
    "print(dataset.shape)\n",
    "dataset.dtypes"
   ]
  },
  {
   "cell_type": "code",
   "execution_count": 5,
   "id": "5f275598",
   "metadata": {},
   "outputs": [
    {
     "data": {
      "text/html": [
       "<div>\n",
       "<style scoped>\n",
       "    .dataframe tbody tr th:only-of-type {\n",
       "        vertical-align: middle;\n",
       "    }\n",
       "\n",
       "    .dataframe tbody tr th {\n",
       "        vertical-align: top;\n",
       "    }\n",
       "\n",
       "    .dataframe thead th {\n",
       "        text-align: right;\n",
       "    }\n",
       "</style>\n",
       "<table border=\"1\" class=\"dataframe\">\n",
       "  <thead>\n",
       "    <tr style=\"text-align: right;\">\n",
       "      <th></th>\n",
       "      <th>Unnamed: 0</th>\n",
       "      <th>Status</th>\n",
       "      <th>MDVP:Jitter(%)</th>\n",
       "      <th>MDVP:Jitter(Abs)</th>\n",
       "      <th>Jitter:PPQ5</th>\n",
       "      <th>Jitter:DDP</th>\n",
       "      <th>MDVP:Shimmer</th>\n",
       "      <th>MDVP:Shimmer(dB)</th>\n",
       "      <th>Shimmer:APQ3</th>\n",
       "      <th>Shimmer:APQ5</th>\n",
       "      <th>Shimmer:APQ11</th>\n",
       "      <th>DFA</th>\n",
       "    </tr>\n",
       "  </thead>\n",
       "  <tbody>\n",
       "    <tr>\n",
       "      <th>count</th>\n",
       "      <td>6684.000000</td>\n",
       "      <td>6684.000000</td>\n",
       "      <td>6.684000e+03</td>\n",
       "      <td>6.684000e+03</td>\n",
       "      <td>6.684000e+03</td>\n",
       "      <td>6.684000e+03</td>\n",
       "      <td>6.684000e+03</td>\n",
       "      <td>6.684000e+03</td>\n",
       "      <td>6684.000000</td>\n",
       "      <td>6.684000e+03</td>\n",
       "      <td>6.684000e+03</td>\n",
       "      <td>6.684000e+03</td>\n",
       "    </tr>\n",
       "    <tr>\n",
       "      <th>mean</th>\n",
       "      <td>3341.500000</td>\n",
       "      <td>0.973668</td>\n",
       "      <td>-1.594575e-18</td>\n",
       "      <td>1.575889e-17</td>\n",
       "      <td>1.355389e-17</td>\n",
       "      <td>2.365287e-17</td>\n",
       "      <td>-8.504401e-17</td>\n",
       "      <td>-6.803521e-17</td>\n",
       "      <td>0.000000</td>\n",
       "      <td>4.677421e-17</td>\n",
       "      <td>-8.504401e-17</td>\n",
       "      <td>-7.101175e-16</td>\n",
       "    </tr>\n",
       "    <tr>\n",
       "      <th>std</th>\n",
       "      <td>1929.648932</td>\n",
       "      <td>0.204456</td>\n",
       "      <td>1.000075e+00</td>\n",
       "      <td>1.000075e+00</td>\n",
       "      <td>1.000075e+00</td>\n",
       "      <td>1.000075e+00</td>\n",
       "      <td>1.000075e+00</td>\n",
       "      <td>1.000075e+00</td>\n",
       "      <td>1.000075</td>\n",
       "      <td>1.000075e+00</td>\n",
       "      <td>1.000075e+00</td>\n",
       "      <td>1.000075e+00</td>\n",
       "    </tr>\n",
       "    <tr>\n",
       "      <th>min</th>\n",
       "      <td>0.000000</td>\n",
       "      <td>0.000000</td>\n",
       "      <td>-3.221790e+01</td>\n",
       "      <td>-2.133261e+01</td>\n",
       "      <td>-2.485212e+01</td>\n",
       "      <td>-3.169470e+01</td>\n",
       "      <td>-2.268886e+01</td>\n",
       "      <td>-7.370397e+00</td>\n",
       "      <td>-19.637068</td>\n",
       "      <td>-2.592986e+01</td>\n",
       "      <td>-2.806578e+01</td>\n",
       "      <td>-2.319419e+01</td>\n",
       "    </tr>\n",
       "    <tr>\n",
       "      <th>25%</th>\n",
       "      <td>1670.750000</td>\n",
       "      <td>1.000000</td>\n",
       "      <td>-4.365040e-02</td>\n",
       "      <td>-3.739481e-04</td>\n",
       "      <td>-2.454283e-02</td>\n",
       "      <td>-6.996109e-02</td>\n",
       "      <td>-2.696799e-01</td>\n",
       "      <td>-5.869099e-01</td>\n",
       "      <td>-0.153782</td>\n",
       "      <td>-1.799356e-01</td>\n",
       "      <td>-2.248151e-01</td>\n",
       "      <td>-5.369574e-01</td>\n",
       "    </tr>\n",
       "    <tr>\n",
       "      <th>50%</th>\n",
       "      <td>3341.500000</td>\n",
       "      <td>1.000000</td>\n",
       "      <td>-1.972693e-02</td>\n",
       "      <td>-1.591528e-04</td>\n",
       "      <td>-1.246347e-02</td>\n",
       "      <td>-3.344573e-02</td>\n",
       "      <td>-1.292087e-01</td>\n",
       "      <td>-2.747028e-01</td>\n",
       "      <td>-0.074482</td>\n",
       "      <td>-8.663868e-02</td>\n",
       "      <td>-1.000474e-01</td>\n",
       "      <td>-4.923873e-02</td>\n",
       "    </tr>\n",
       "    <tr>\n",
       "      <th>75%</th>\n",
       "      <td>5012.250000</td>\n",
       "      <td>1.000000</td>\n",
       "      <td>1.318906e-02</td>\n",
       "      <td>1.732685e-04</td>\n",
       "      <td>5.102652e-03</td>\n",
       "      <td>1.989699e-02</td>\n",
       "      <td>9.642399e-02</td>\n",
       "      <td>2.081291e-01</td>\n",
       "      <td>0.063602</td>\n",
       "      <td>6.227207e-02</td>\n",
       "      <td>8.414094e-02</td>\n",
       "      <td>5.969933e-01</td>\n",
       "    </tr>\n",
       "    <tr>\n",
       "      <th>max</th>\n",
       "      <td>6683.000000</td>\n",
       "      <td>3.000000</td>\n",
       "      <td>3.521828e+01</td>\n",
       "      <td>6.154689e+01</td>\n",
       "      <td>4.249125e+01</td>\n",
       "      <td>3.045492e+01</td>\n",
       "      <td>4.170042e+01</td>\n",
       "      <td>6.430489e+00</td>\n",
       "      <td>40.354223</td>\n",
       "      <td>3.804147e+01</td>\n",
       "      <td>3.171104e+01</td>\n",
       "      <td>1.973819e+01</td>\n",
       "    </tr>\n",
       "  </tbody>\n",
       "</table>\n",
       "</div>"
      ],
      "text/plain": [
       "        Unnamed: 0       Status  MDVP:Jitter(%)  MDVP:Jitter(Abs)  \\\n",
       "count  6684.000000  6684.000000    6.684000e+03      6.684000e+03   \n",
       "mean   3341.500000     0.973668   -1.594575e-18      1.575889e-17   \n",
       "std    1929.648932     0.204456    1.000075e+00      1.000075e+00   \n",
       "min       0.000000     0.000000   -3.221790e+01     -2.133261e+01   \n",
       "25%    1670.750000     1.000000   -4.365040e-02     -3.739481e-04   \n",
       "50%    3341.500000     1.000000   -1.972693e-02     -1.591528e-04   \n",
       "75%    5012.250000     1.000000    1.318906e-02      1.732685e-04   \n",
       "max    6683.000000     3.000000    3.521828e+01      6.154689e+01   \n",
       "\n",
       "        Jitter:PPQ5    Jitter:DDP  MDVP:Shimmer  MDVP:Shimmer(dB)  \\\n",
       "count  6.684000e+03  6.684000e+03  6.684000e+03      6.684000e+03   \n",
       "mean   1.355389e-17  2.365287e-17 -8.504401e-17     -6.803521e-17   \n",
       "std    1.000075e+00  1.000075e+00  1.000075e+00      1.000075e+00   \n",
       "min   -2.485212e+01 -3.169470e+01 -2.268886e+01     -7.370397e+00   \n",
       "25%   -2.454283e-02 -6.996109e-02 -2.696799e-01     -5.869099e-01   \n",
       "50%   -1.246347e-02 -3.344573e-02 -1.292087e-01     -2.747028e-01   \n",
       "75%    5.102652e-03  1.989699e-02  9.642399e-02      2.081291e-01   \n",
       "max    4.249125e+01  3.045492e+01  4.170042e+01      6.430489e+00   \n",
       "\n",
       "       Shimmer:APQ3  Shimmer:APQ5  Shimmer:APQ11           DFA  \n",
       "count   6684.000000  6.684000e+03   6.684000e+03  6.684000e+03  \n",
       "mean       0.000000  4.677421e-17  -8.504401e-17 -7.101175e-16  \n",
       "std        1.000075  1.000075e+00   1.000075e+00  1.000075e+00  \n",
       "min      -19.637068 -2.592986e+01  -2.806578e+01 -2.319419e+01  \n",
       "25%       -0.153782 -1.799356e-01  -2.248151e-01 -5.369574e-01  \n",
       "50%       -0.074482 -8.663868e-02  -1.000474e-01 -4.923873e-02  \n",
       "75%        0.063602  6.227207e-02   8.414094e-02  5.969933e-01  \n",
       "max       40.354223  3.804147e+01   3.171104e+01  1.973819e+01  "
      ]
     },
     "execution_count": 5,
     "metadata": {},
     "output_type": "execute_result"
    }
   ],
   "source": [
    "# Dispalying the descriptive statistics describe each attribute\n",
    "dataset.describe()"
   ]
  },
  {
   "cell_type": "code",
   "execution_count": 6,
   "id": "01672ecc",
   "metadata": {},
   "outputs": [
    {
     "data": {
      "text/plain": [
       "<AxesSubplot:>"
      ]
     },
     "execution_count": 6,
     "metadata": {},
     "output_type": "execute_result"
    },
    {
     "data": {
      "image/png": "[encoded data removed]",
      "text/plain": [
       "<Figure size 432x288 with 2 Axes>"
      ]
     },
     "metadata": {
      "needs_background": "light"
     },
     "output_type": "display_data"
    }
   ],
   "source": [
    "# Heatmap visulisation for each attribute coefficient correlation.\n",
    "import seaborn as sb\n",
    "corr_map=dataset.corr()\n",
    "sb.heatmap(corr_map,square=True)"
   ]
  },
  {
   "cell_type": "code",
   "execution_count": 7,
   "id": "ac16af78",
   "metadata": {},
   "outputs": [
    {
     "data": {
      "text/plain": [
       "<AxesSubplot:>"
      ]
     },
     "execution_count": 7,
     "metadata": {},
     "output_type": "execute_result"
    },
    {
     "data": {
      "image/png": "[encoded data removed]",
      "text/plain": [
       "<Figure size 432x288 with 2 Axes>"
      ]
     },
     "metadata": {},
     "output_type": "display_data"
    }
   ],
   "source": [
    "# Now visualise the heat map with correlation coefficient values for pair of attributes.\n",
    "import matplotlib.pyplot as plt\n",
    "import numpy as np\n",
    "\n",
    "# K value means how many features required to see in heat map\n",
    "k=10\n",
    "\n",
    "# finding the columns which related to output attribute and we are arranging from top coefficient correlation value to downwards.\n",
    "cols=corr_map.nlargest(k,'Status')['Status'].index\n",
    "\n",
    "# correlation coefficient values\n",
    "coff_values=np.corrcoef(dataset[cols].values.T)\n",
    "sb.set(font_scale=1.25)\n",
    "sb.heatmap(coff_values,cbar=True,annot=True,square=True,fmt='.2f',annot_kws={'size': 10},yticklabels=cols.values,xticklabels=cols.values)"
   ]
  },
  {
   "cell_type": "code",
   "execution_count": 8,
   "id": "8a6e16ae",
   "metadata": {},
   "outputs": [
    {
     "data": {
      "text/plain": [
       "Status              1.000000\n",
       "Unnamed: 0          0.194969\n",
       "MDVP:Jitter(Abs)    0.112093\n",
       "Shimmer:APQ11       0.092427\n",
       "MDVP:Shimmer(dB)    0.089476\n",
       "MDVP:Jitter(%)      0.088089\n",
       "Shimmer:APQ3        0.069038\n",
       "Jitter:PPQ5         0.062585\n",
       "MDVP:Shimmer        0.059317\n",
       "DFA                 0.054606\n",
       "Shimmer:APQ5        0.007817\n",
       "Jitter:DDP          0.005724\n",
       "Name: Status, dtype: float64"
      ]
     },
     "execution_count": 8,
     "metadata": {},
     "output_type": "execute_result"
    }
   ],
   "source": [
    "# correlation coefficient values in each attributes.\n",
    "correlation_values=dataset.corr()['Status']\n",
    "correlation_values.abs().sort_values(ascending=False)"
   ]
  },
  {
   "cell_type": "code",
   "execution_count": 9,
   "id": "508a6cab",
   "metadata": {},
   "outputs": [],
   "source": [
    "# split the dataset into input and output attribute.\n",
    "X = dataset.iloc[:,[2,3,4,5,6,7,8,9,10,11]].values\n",
    "y = dataset.iloc[:,1].values"
   ]
  },
  {
   "cell_type": "code",
   "execution_count": 10,
   "id": "d1abf6a1",
   "metadata": {},
   "outputs": [],
   "source": [
    "# Splitting the dataset into the Training set and Test set\n",
    "from sklearn.model_selection import train_test_split\n",
    "X_train, X_test, y_train, y_test = train_test_split(X, y, test_size = 0.2, stratify=y, random_state = 42)"
   ]
  },
  {
   "cell_type": "code",
   "execution_count": 11,
   "id": "1b0fb8c0",
   "metadata": {},
   "outputs": [
    {
     "data": {
      "text/plain": [
       "DecisionTreeClassifier(criterion='entropy', max_depth=3, random_state=42)"
      ]
     },
     "execution_count": 11,
     "metadata": {},
     "output_type": "execute_result"
    }
   ],
   "source": [
    "# Fitting Classifier to the Training Set\n",
    "from sklearn.tree import DecisionTreeClassifier\n",
    "classifier = DecisionTreeClassifier(criterion='entropy',max_depth=3, random_state=42)\n",
    "classifier.fit(X_train, y_train)"
   ]
  },
  {
   "cell_type": "code",
   "execution_count": 12,
   "id": "b54bac79",
   "metadata": {},
   "outputs": [
    {
     "name": "stdout",
     "output_type": "stream",
     "text": [
      "Accuracy: 0.974\n",
      "Confusion Matrix: \n",
      " [[  74   98    0    2]\n",
      " [  35 5116    0    0]\n",
      " [   4    0    8    0]\n",
      " [   0    0    1    9]]\n",
      "              precision    recall  f1-score   support\n",
      "\n",
      "           0       0.65      0.43      0.52       174\n",
      "           1       0.98      0.99      0.99      5151\n",
      "           2       0.89      0.67      0.76        12\n",
      "           3       0.82      0.90      0.86        10\n",
      "\n",
      "    accuracy                           0.97      5347\n",
      "   macro avg       0.84      0.75      0.78      5347\n",
      "weighted avg       0.97      0.97      0.97      5347\n",
      "\n"
     ]
    }
   ],
   "source": [
    "# Model performance on training set\n",
    "y_pred_train =classifier.predict(X_train)\n",
    "\n",
    "from sklearn import metrics\n",
    "from sklearn.metrics import confusion_matrix, classification_report\n",
    "\n",
    "accuracy = metrics.accuracy_score(y_train, y_pred_train)\n",
    "print(\"Accuracy: {:.3f}\".format(accuracy))\n",
    "cm=confusion_matrix(y_train,y_pred_train)\n",
    "print('Confusion Matrix: \\n', cm)\n",
    "print(classification_report(y_train, y_pred_train))"
   ]
  },
  {
   "cell_type": "code",
   "execution_count": 13,
   "id": "8ff60a94",
   "metadata": {},
   "outputs": [
    {
     "name": "stdout",
     "output_type": "stream",
     "text": [
      "Accuracy: 0.971\n",
      "Confusion Matrix: \n",
      " [[  19   23    0    1]\n",
      " [  13 1275    0    0]\n",
      " [   1    0    2    0]\n",
      " [   1    0    0    2]]\n",
      "              precision    recall  f1-score   support\n",
      "\n",
      "           0       0.56      0.44      0.49        43\n",
      "           1       0.98      0.99      0.99      1288\n",
      "           2       1.00      0.67      0.80         3\n",
      "           3       0.67      0.67      0.67         3\n",
      "\n",
      "    accuracy                           0.97      1337\n",
      "   macro avg       0.80      0.69      0.74      1337\n",
      "weighted avg       0.97      0.97      0.97      1337\n",
      "\n"
     ]
    }
   ],
   "source": [
    "# Predicting the test results\n",
    "y_pred=classifier.predict(X_test)\n",
    "\n",
    "# Classification results on test set\n",
    "from sklearn import metrics\n",
    "accuracy = metrics.accuracy_score(y_test, y_pred)\n",
    "print(\"Accuracy: {:.3f}\".format(accuracy))\n",
    "\n",
    "from sklearn.metrics import confusion_matrix, classification_report\n",
    "cm=confusion_matrix(y_test,y_pred)\n",
    "print('Confusion Matrix: \\n', cm)\n",
    "print(classification_report(y_test, y_pred))"
   ]
  },
  {
   "cell_type": "code",
   "execution_count": 14,
   "id": "5774f3d4",
   "metadata": {},
   "outputs": [
    {
     "name": "stderr",
     "output_type": "stream",
     "text": [
      "/opt/anaconda3/envs/try/lib/python3.8/site-packages/sklearn/model_selection/_validation.py:683: UserWarning: Scoring failed. The score on this train-test partition for these parameters will be set to nan. Details: \n",
      "Traceback (most recent call last):\n",
      "  File \"/opt/anaconda3/envs/try/lib/python3.8/site-packages/sklearn/model_selection/_validation.py\", line 674, in _score\n",
      "    scores = scorer(estimator, X_test, y_test)\n",
      "  File \"/opt/anaconda3/envs/try/lib/python3.8/site-packages/sklearn/metrics/_scorer.py\", line 87, in __call__\n",
      "    score = scorer._score(cached_call, estimator,\n",
      "  File \"/opt/anaconda3/envs/try/lib/python3.8/site-packages/sklearn/metrics/_scorer.py\", line 288, in _score\n",
      "    return self._sign * self._score_func(y, y_pred, **self._kwargs)\n",
      "  File \"/opt/anaconda3/envs/try/lib/python3.8/site-packages/sklearn/utils/validation.py\", line 63, in inner_f\n",
      "    return f(*args, **kwargs)\n",
      "  File \"/opt/anaconda3/envs/try/lib/python3.8/site-packages/sklearn/metrics/_classification.py\", line 2265, in log_loss\n",
      "    raise ValueError(\"y_true and y_pred contain different number of \"\n",
      "ValueError: y_true and y_pred contain different number of classes 3, 4. Please provide the true labels explicitly through the labels argument. Classes found in y_true: [0 1 2]\n",
      "\n",
      "  warnings.warn(\n",
      "/opt/anaconda3/envs/try/lib/python3.8/site-packages/sklearn/model_selection/_validation.py:683: UserWarning: Scoring failed. The score on this train-test partition for these parameters will be set to nan. Details: \n",
      "Traceback (most recent call last):\n",
      "  File \"/opt/anaconda3/envs/try/lib/python3.8/site-packages/sklearn/model_selection/_validation.py\", line 674, in _score\n",
      "    scores = scorer(estimator, X_test, y_test)\n",
      "  File \"/opt/anaconda3/envs/try/lib/python3.8/site-packages/sklearn/metrics/_scorer.py\", line 87, in __call__\n",
      "    score = scorer._score(cached_call, estimator,\n",
      "  File \"/opt/anaconda3/envs/try/lib/python3.8/site-packages/sklearn/metrics/_scorer.py\", line 288, in _score\n",
      "    return self._sign * self._score_func(y, y_pred, **self._kwargs)\n",
      "  File \"/opt/anaconda3/envs/try/lib/python3.8/site-packages/sklearn/utils/validation.py\", line 63, in inner_f\n",
      "    return f(*args, **kwargs)\n",
      "  File \"/opt/anaconda3/envs/try/lib/python3.8/site-packages/sklearn/metrics/_classification.py\", line 2265, in log_loss\n",
      "    raise ValueError(\"y_true and y_pred contain different number of \"\n",
      "ValueError: y_true and y_pred contain different number of classes 3, 4. Please provide the true labels explicitly through the labels argument. Classes found in y_true: [0 1 3]\n",
      "\n",
      "  warnings.warn(\n",
      "/opt/anaconda3/envs/try/lib/python3.8/site-packages/sklearn/model_selection/_validation.py:683: UserWarning: Scoring failed. The score on this train-test partition for these parameters will be set to nan. Details: \n",
      "Traceback (most recent call last):\n",
      "  File \"/opt/anaconda3/envs/try/lib/python3.8/site-packages/sklearn/model_selection/_validation.py\", line 674, in _score\n",
      "    scores = scorer(estimator, X_test, y_test)\n",
      "  File \"/opt/anaconda3/envs/try/lib/python3.8/site-packages/sklearn/metrics/_scorer.py\", line 87, in __call__\n",
      "    score = scorer._score(cached_call, estimator,\n",
      "  File \"/opt/anaconda3/envs/try/lib/python3.8/site-packages/sklearn/metrics/_scorer.py\", line 328, in _score\n",
      "    raise ValueError(\"{0} format is not supported\".format(y_type))\n",
      "ValueError: multiclass format is not supported\n",
      "\n",
      "  warnings.warn(\n",
      "/opt/anaconda3/envs/try/lib/python3.8/site-packages/sklearn/model_selection/_validation.py:683: UserWarning: Scoring failed. The score on this train-test partition for these parameters will be set to nan. Details: \n",
      "Traceback (most recent call last):\n",
      "  File \"/opt/anaconda3/envs/try/lib/python3.8/site-packages/sklearn/model_selection/_validation.py\", line 674, in _score\n",
      "    scores = scorer(estimator, X_test, y_test)\n",
      "  File \"/opt/anaconda3/envs/try/lib/python3.8/site-packages/sklearn/metrics/_scorer.py\", line 87, in __call__\n",
      "    score = scorer._score(cached_call, estimator,\n",
      "  File \"/opt/anaconda3/envs/try/lib/python3.8/site-packages/sklearn/metrics/_scorer.py\", line 328, in _score\n",
      "    raise ValueError(\"{0} format is not supported\".format(y_type))\n",
      "ValueError: multiclass format is not supported\n",
      "\n",
      "  warnings.warn(\n",
      "/opt/anaconda3/envs/try/lib/python3.8/site-packages/sklearn/model_selection/_validation.py:683: UserWarning: Scoring failed. The score on this train-test partition for these parameters will be set to nan. Details: \n",
      "Traceback (most recent call last):\n",
      "  File \"/opt/anaconda3/envs/try/lib/python3.8/site-packages/sklearn/model_selection/_validation.py\", line 674, in _score\n",
      "    scores = scorer(estimator, X_test, y_test)\n",
      "  File \"/opt/anaconda3/envs/try/lib/python3.8/site-packages/sklearn/metrics/_scorer.py\", line 87, in __call__\n",
      "    score = scorer._score(cached_call, estimator,\n",
      "  File \"/opt/anaconda3/envs/try/lib/python3.8/site-packages/sklearn/metrics/_scorer.py\", line 328, in _score\n",
      "    raise ValueError(\"{0} format is not supported\".format(y_type))\n",
      "ValueError: multiclass format is not supported\n",
      "\n",
      "  warnings.warn(\n",
      "/opt/anaconda3/envs/try/lib/python3.8/site-packages/sklearn/model_selection/_validation.py:683: UserWarning: Scoring failed. The score on this train-test partition for these parameters will be set to nan. Details: \n",
      "Traceback (most recent call last):\n",
      "  File \"/opt/anaconda3/envs/try/lib/python3.8/site-packages/sklearn/model_selection/_validation.py\", line 674, in _score\n",
      "    scores = scorer(estimator, X_test, y_test)\n",
      "  File \"/opt/anaconda3/envs/try/lib/python3.8/site-packages/sklearn/metrics/_scorer.py\", line 87, in __call__\n",
      "    score = scorer._score(cached_call, estimator,\n",
      "  File \"/opt/anaconda3/envs/try/lib/python3.8/site-packages/sklearn/metrics/_scorer.py\", line 328, in _score\n",
      "    raise ValueError(\"{0} format is not supported\".format(y_type))\n",
      "ValueError: multiclass format is not supported\n",
      "\n",
      "  warnings.warn(\n",
      "/opt/anaconda3/envs/try/lib/python3.8/site-packages/sklearn/model_selection/_validation.py:683: UserWarning: Scoring failed. The score on this train-test partition for these parameters will be set to nan. Details: \n",
      "Traceback (most recent call last):\n",
      "  File \"/opt/anaconda3/envs/try/lib/python3.8/site-packages/sklearn/model_selection/_validation.py\", line 674, in _score\n",
      "    scores = scorer(estimator, X_test, y_test)\n",
      "  File \"/opt/anaconda3/envs/try/lib/python3.8/site-packages/sklearn/metrics/_scorer.py\", line 87, in __call__\n",
      "    score = scorer._score(cached_call, estimator,\n",
      "  File \"/opt/anaconda3/envs/try/lib/python3.8/site-packages/sklearn/metrics/_scorer.py\", line 328, in _score\n",
      "    raise ValueError(\"{0} format is not supported\".format(y_type))\n",
      "ValueError: multiclass format is not supported\n",
      "\n",
      "  warnings.warn(\n",
      "/opt/anaconda3/envs/try/lib/python3.8/site-packages/sklearn/model_selection/_validation.py:683: UserWarning: Scoring failed. The score on this train-test partition for these parameters will be set to nan. Details: \n",
      "Traceback (most recent call last):\n",
      "  File \"/opt/anaconda3/envs/try/lib/python3.8/site-packages/sklearn/model_selection/_validation.py\", line 674, in _score\n",
      "    scores = scorer(estimator, X_test, y_test)\n",
      "  File \"/opt/anaconda3/envs/try/lib/python3.8/site-packages/sklearn/metrics/_scorer.py\", line 87, in __call__\n",
      "    score = scorer._score(cached_call, estimator,\n",
      "  File \"/opt/anaconda3/envs/try/lib/python3.8/site-packages/sklearn/metrics/_scorer.py\", line 328, in _score\n",
      "    raise ValueError(\"{0} format is not supported\".format(y_type))\n",
      "ValueError: multiclass format is not supported\n",
      "\n",
      "  warnings.warn(\n"
     ]
    },
    {
     "data": {
      "image/png": "[encoded data removed]",
      "text/plain": [
       "<Figure size 432x288 with 2 Axes>"
      ]
     },
     "metadata": {},
     "output_type": "display_data"
    }
   ],
   "source": [
    "performance_report(classifier, X, y, X_test, y_test, y_pred, 'multi1_all_remove_no_smote')\n"
   ]
  },
  {
   "cell_type": "code",
   "execution_count": null,
   "id": "5f0d95ba",
   "metadata": {},
   "outputs": [],
   "source": []
  }
 ],
 "metadata": {
  "kernelspec": {
   "display_name": "Python 3",
   "language": "python",
   "name": "python3"
  },
  "language_info": {
   "codemirror_mode": {
    "name": "ipython",
    "version": 3
   },
   "file_extension": ".py",
   "mimetype": "text/x-python",
   "name": "python",
   "nbconvert_exporter": "python",
   "pygments_lexer": "ipython3",
   "version": "3.8.8"
  }
 },
 "nbformat": 4,
 "nbformat_minor": 5
}
