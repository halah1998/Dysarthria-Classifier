{
  "nbformat": 4,
  "nbformat_minor": 0,
  "metadata": {
    "colab": {
      "name": "KNN Classifier.ipynb",
      "provenance": [],
      "authorship_tag": "ABX9TyPcIg90yYAnx9BmFbehPx+u",
      "include_colab_link": true
    },
    "kernelspec": {
      "name": "python3",
      "display_name": "Python 3"
    },
    "language_info": {
      "name": "python"
    }
  },
  "cells": [
    {
      "cell_type": "markdown",
      "metadata": {
        "id": "view-in-github",
        "colab_type": "text"
      },
      "source": [
        "<a href=\"https://colab.research.google.com/github/halah1998/Dysarthria-Classifier/blob/main/kNN_Classifier.ipynb\" target=\"_parent\"><img src=\"https://colab.research.google.com/assets/colab-badge.svg\" alt=\"Open In Colab\"/></a>"
      ]
    },
    {
      "cell_type": "code",
      "metadata": {
        "id": "i22VknVDJ556"
      },
      "source": [
        "import matplotlib.pyplot as plt\n",
        "import numpy as np\n",
        "import pandas as pd\n",
        "from smote import smote_binary  # smote.py on the repo\n",
        "from performance_report import performance_report # performance_report.py on the repo\n",
        "from sklearn.utils.testing import ignore_warnings # to remove warnings\n",
        "from sklearn.exceptions import ConvergenceWarning"
      ],
      "execution_count": null,
      "outputs": []
    },
    {
      "cell_type": "code",
      "metadata": {
        "id": "Ouj-rUjWKKlu"
      },
      "source": [
        "@ignore_warnings(category=ConvergenceWarning)\n",
        "def knn_pred(url):\n",
        "\n",
        "  # importing the dataset\n",
        "  df = pd.read_csv(url)\n",
        "\n",
        "  # balancing the dataset \n",
        "  smote = smote_binary(df)   # smote_binary() returns [df, row_count]\n",
        "  df = smote[0]\n",
        "  \n",
        "  # fitting the k-NN model\n",
        "  from sklearn.neighbors import KNeighborsClassifier\n",
        "  from sklearn.model_selection import train_test_split\n",
        "\n",
        "  X = df.iloc[:,1:]\n",
        "  y = df.iloc[:,0]\n",
        "\n",
        "  X_train, X_test, y_train, y_test = train_test_split(X, y, test_size=0.2)\n",
        "  knn_model = KNeighborsClassifier(n_neighbors=2)\n",
        "  knn_model.fit(X_train, y_train)\n",
        "\n",
        "  y_pred = knn_model.predict(X_test)\n",
        "\n",
        "  return knn_model, X, y, X_test, y_test, y_pred"
      ],
      "execution_count": null,
      "outputs": []
    },
    {
      "cell_type": "code",
      "metadata": {
        "id": "Bh9_7klVKLhR"
      },
      "source": [
        "# performance reports\n",
        "urls = ['https://raw.githubusercontent.com/cpappas18/Dysarthria-Classifier/main/PD_remove_std_all_datasets.csv',\n",
        "        'https://raw.githubusercontent.com/cpappas18/Dysarthria-Classifier/main/PD_median_std_all_datasets.csv']\n",
        "titles = ['PD_remove_std_all',\n",
        "          'PD_median_std_all']\n",
        "\n",
        "for i in range(0,len(urls)):\n",
        "  knn_model, X, y, X_test, y_test, y_pred = knn_pred(urls[i])\n",
        "  performance_report(knn_model, X, y, X_test, y_test, y_pred, titles[i])"
      ],
      "execution_count": null,
      "outputs": []
    },
    {
      "cell_type": "markdown",
      "metadata": {
        "id": "TOVbAJ3hJ8TV"
      },
      "source": [
        ""
      ]
    }
  ]
}