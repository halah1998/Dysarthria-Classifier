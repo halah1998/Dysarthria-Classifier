{
  "nbformat": 4,
  "nbformat_minor": 0,
  "metadata": {
    "colab": {
      "name": "SVM_classifier_PD.ipynb",
      "provenance": [],
      "collapsed_sections": []
    },
    "kernelspec": {
      "display_name": "Python 3",
      "name": "python3"
    },
    "language_info": {
      "name": "python"
    }
  },
  "cells": [
    {
      "cell_type": "markdown",
      "metadata": {
        "id": "8NXatVKlzeCN"
      },
      "source": [
        "# Support Vector Machines - Parkinson Classification Task"
      ]
    },
    {
      "cell_type": "markdown",
      "metadata": {
        "id": "7yV6ReZOzqnf"
      },
      "source": [
        "## Import libraries, modules and datasets"
      ]
    },
    {
      "cell_type": "code",
      "metadata": {
        "id": "97nUbKTHGdOL"
      },
      "source": [
        "import requests\n",
        "functions_urls = ['https://raw.githubusercontent.com/cpappas18/Dysarthria-Classifier/main/smote.py',\n",
        "                  'https://raw.githubusercontent.com/cpappas18/Dysarthria-Classifier/main/performance_report.py']\n",
        "functions_names = ['smote.py', 'performance_report.py']\n",
        "\n",
        "for i in range(len(functions_names)):\n",
        "  r = requests.get(functions_urls[i])\n",
        "  with open(functions_names[i], 'w') as f:\n",
        "    f.write(r.text)\n",
        "\n",
        "from smote import smote_binary\n",
        "from performance_report import performance_report\n",
        "from sklearn.model_selection import train_test_split\n",
        "from sklearn import svm\n",
        "from sklearn.model_selection import GridSearchCV\n",
        "from sklearn.metrics import accuracy_score, f1_score\n",
        "import pandas as pd\n",
        "import pickle"
      ],
      "execution_count": 3,
      "outputs": []
    },
    {
      "cell_type": "markdown",
      "metadata": {
        "id": "DDbRIz2Ud4tF"
      },
      "source": [
        "## Prediction Function"
      ]
    },
    {
      "cell_type": "code",
      "metadata": {
        "id": "fqEYSUNh1w1e"
      },
      "source": [
        "def svm_prediction(dataset_url):\n",
        "\n",
        "  # Read dataset\n",
        "  df = pd.read_csv(dataset_url)\n",
        "\n",
        "  # Augment the data\n",
        "  aug_df = smote_binary(df) #augmented dataframe\n",
        "\n",
        "  # Feature Matrix and Target Vector\n",
        "  y = aug_df['Status']\n",
        "  X = aug_df.drop(['Status'], axis=1)\n",
        "\n",
        "  # Split training and testing set\n",
        "  X_train, X_test, y_train, y_test = train_test_split(X, y, test_size=0.15, random_state=42, stratify=y)\n",
        "\n",
        "  # Grid Search of best hyperparameters - takes a couple minutes to run\n",
        "  parameters = [{'kernel': ['rbf'], 'gamma': [0.1, 0.01, 0.001],\n",
        "                     'C': [1, 10, 100]},\n",
        "              {'kernel': ['linear'], 'C': [1, 10, 100]},\n",
        "                    {'kernel': ['poly'], 'C': [1, 10, 100], \n",
        "                     'gamma': [0.1, 0.01, 0.001],\n",
        "                     'degree': [2, 3, 4]}]\n",
        "\n",
        "  svc = svm.SVC()\n",
        "  grid = GridSearchCV(svc, parameters, n_jobs=-1) #n_job=-1 - use all processors available\n",
        "  grid.fit(X_train, y_train)\n",
        "  print(grid.best_params_) #best parameters\n",
        "  # best = {'C': 100, 'gamma': 0.1, 'kernel': 'rbf'}\n",
        "\n",
        "  # best model\n",
        "  best_model = svm.SVC(**grid.best_params_).fit(X_train,y_train)\n",
        "  y_pred = best_model.predict(X_test)\n",
        "\n",
        "  return best_model, X, y, X_test, y_test, y_pred\n",
        " "
      ],
      "execution_count": 14,
      "outputs": []
    },
    {
      "cell_type": "code",
      "metadata": {
        "colab": {
          "base_uri": "https://localhost:8080/",
          "height": 1000
        },
        "id": "kFVDCqCmKUrt",
        "outputId": "5ff4bd14-397f-42ab-9a87-b665a1492377"
      },
      "source": [
        "urls = ['https://raw.githubusercontent.com/cpappas18/Dysarthria-Classifier/main/data/PD_median_std_all_datasets.csv', \n",
        "        'https://raw.githubusercontent.com/cpappas18/Dysarthria-Classifier/main/data/PD_remove_std_all_datasets.csv']\n",
        "titles = ['Prediction for PD Median dataset', 'Prediction for PD removed NaNs dataset']\n",
        "model_filename = ['FinalModel_PD_median_std.sav', 'FinalModel_PD_removed_std.sav']\n",
        "for i in range(len(urls)):\n",
        "  model, X, y, X_test, y_test, y_pred = svm_prediction(urls[i])\n",
        "  performance_report(model, X, y, X_test, y_test, y_pred, titles[i]) \n",
        "  pickle.dump(model, open(model_filename[i], 'wb'))\n",
        "\n",
        "# takes 18 min to run"
      ],
      "execution_count": 15,
      "outputs": [
        {
          "output_type": "stream",
          "text": [
            "/usr/local/lib/python3.7/dist-packages/sklearn/utils/deprecation.py:87: FutureWarning: Function safe_indexing is deprecated; safe_indexing is deprecated in version 0.22 and will be removed in version 0.24.\n",
            "  warnings.warn(msg, category=FutureWarning)\n"
          ],
          "name": "stderr"
        },
        {
          "output_type": "stream",
          "text": [
            "{'C': 100, 'gamma': 0.1, 'kernel': 'rbf'}\n"
          ],
          "name": "stdout"
        },
        {
          "output_type": "stream",
          "text": [
            "/usr/local/lib/python3.7/dist-packages/sklearn/utils/deprecation.py:87: FutureWarning: Function safe_indexing is deprecated; safe_indexing is deprecated in version 0.22 and will be removed in version 0.24.\n",
            "  warnings.warn(msg, category=FutureWarning)\n"
          ],
          "name": "stderr"
        },
        {
          "output_type": "stream",
          "text": [
            "{'C': 100, 'gamma': 0.1, 'kernel': 'rbf'}\n"
          ],
          "name": "stdout"
        },
        {
          "output_type": "display_data",
          "data": {
            "image/png": "[encoded data removed]",
            "text/plain": [
              "<Figure size 432x288 with 2 Axes>"
            ]
          },
          "metadata": {
            "tags": [],
            "needs_background": "light"
          }
        },
        {
          "output_type": "display_data",
          "data": {
            "image/png": "[encoded data removed]",
            "text/plain": [
              "<Figure size 432x288 with 1 Axes>"
            ]
          },
          "metadata": {
            "tags": [],
            "needs_background": "light"
          }
        },
        {
          "output_type": "display_data",
          "data": {
            "image/png": "[encoded data removed]",
            "text/plain": [
              "<Figure size 432x288 with 2 Axes>"
            ]
          },
          "metadata": {
            "tags": [],
            "needs_background": "light"
          }
        },
        {
          "output_type": "display_data",
          "data": {
            "image/png": "[encoded data removed]",
            "text/plain": [
              "<Figure size 432x288 with 1 Axes>"
            ]
          },
          "metadata": {
            "tags": [],
            "needs_background": "light"
          }
        }
      ]
    }
  ]
}