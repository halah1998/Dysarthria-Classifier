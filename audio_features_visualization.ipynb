{
  "nbformat": 4,
  "nbformat_minor": 0,
  "metadata": {
    "colab": {
      "name": "Getting the user input and extracting features - AI4Good.ipynb",
      "provenance": [],
      "collapsed_sections": [],
      "include_colab_link": true
    },
    "kernelspec": {
      "name": "python3",
      "display_name": "Python 3"
    },
    "language_info": {
      "name": "python"
    }
  },
  "cells": [
    {
      "cell_type": "markdown",
      "metadata": {
        "id": "view-in-github",
        "colab_type": "text"
      },
      "source": [
        "<a href=\"https://colab.research.google.com/github/cpappas18/Dysarthria-Classifier/blob/main/Getting_the_user_input_and_extracting_features_AI4Good.ipynb\" target=\"_parent\"><img src=\"https://colab.research.google.com/assets/colab-badge.svg\" alt=\"Open In Colab\"/></a>"
      ]
    },
    {
      "cell_type": "markdown",
      "metadata": {
        "id": "OS3D5buAyvJt"
      },
      "source": [
        "***Code that retrieves user input in the form of audio and extracts feautures that can be used to check for Parkinsons, ALS and other similar conditions***"
      ]
    },
    {
      "cell_type": "code",
      "metadata": {
        "colab": {
          "base_uri": "https://localhost:8080/"
        },
        "id": "IvBgNcovkcyv",
        "outputId": "5377d3ae-702b-4baf-f758-9c87feaa8cf0"
      },
      "source": [
        "!apt install libasound2-dev portaudio19-dev libportaudio2 libportaudiocpp0 ffmpeg\n",
        "!pip install PyAudio\n"
      ],
      "execution_count": null,
      "outputs": [
        {
          "output_type": "stream",
          "text": [
            "Reading package lists... Done\n",
            "Building dependency tree       \n",
            "Reading state information... Done\n",
            "libasound2-dev is already the newest version (1.1.3-5ubuntu0.5).\n",
            "ffmpeg is already the newest version (7:3.4.8-0ubuntu0.2).\n",
            "Suggested packages:\n",
            "  portaudio19-doc\n",
            "The following NEW packages will be installed:\n",
            "  libportaudio2 libportaudiocpp0 portaudio19-dev\n",
            "0 upgraded, 3 newly installed, 0 to remove and 39 not upgraded.\n",
            "Need to get 184 kB of archives.\n",
            "After this operation, 891 kB of additional disk space will be used.\n",
            "Get:1 http://archive.ubuntu.com/ubuntu bionic/universe amd64 libportaudio2 amd64 19.6.0-1 [64.6 kB]\n",
            "Get:2 http://archive.ubuntu.com/ubuntu bionic/universe amd64 libportaudiocpp0 amd64 19.6.0-1 [15.1 kB]\n",
            "Get:3 http://archive.ubuntu.com/ubuntu bionic/universe amd64 portaudio19-dev amd64 19.6.0-1 [104 kB]\n",
            "Fetched 184 kB in 1s (351 kB/s)\n",
            "Selecting previously unselected package libportaudio2:amd64.\n",
            "(Reading database ... 160772 files and directories currently installed.)\n",
            "Preparing to unpack .../libportaudio2_19.6.0-1_amd64.deb ...\n",
            "Unpacking libportaudio2:amd64 (19.6.0-1) ...\n",
            "Selecting previously unselected package libportaudiocpp0:amd64.\n",
            "Preparing to unpack .../libportaudiocpp0_19.6.0-1_amd64.deb ...\n",
            "Unpacking libportaudiocpp0:amd64 (19.6.0-1) ...\n",
            "Selecting previously unselected package portaudio19-dev:amd64.\n",
            "Preparing to unpack .../portaudio19-dev_19.6.0-1_amd64.deb ...\n",
            "Unpacking portaudio19-dev:amd64 (19.6.0-1) ...\n",
            "Setting up libportaudio2:amd64 (19.6.0-1) ...\n",
            "Setting up libportaudiocpp0:amd64 (19.6.0-1) ...\n",
            "Setting up portaudio19-dev:amd64 (19.6.0-1) ...\n",
            "Processing triggers for libc-bin (2.27-3ubuntu1.2) ...\n",
            "/sbin/ldconfig.real: /usr/local/lib/python3.7/dist-packages/ideep4py/lib/libmkldnn.so.0 is not a symbolic link\n",
            "\n",
            "Collecting PyAudio\n",
            "  Downloading https://files.pythonhosted.org/packages/ab/42/b4f04721c5c5bfc196ce156b3c768998ef8c0ae3654ed29ea5020c749a6b/PyAudio-0.2.11.tar.gz\n",
            "Building wheels for collected packages: PyAudio\n",
            "  Building wheel for PyAudio (setup.py) ... \u001b[?25l\u001b[?25hdone\n",
            "  Created wheel for PyAudio: filename=PyAudio-0.2.11-cp37-cp37m-linux_x86_64.whl size=52570 sha256=a1d85254ffb3f58cb8867ee567d7c368e5cae7dc398e4069dac6328f7683ab76\n",
            "  Stored in directory: /root/.cache/pip/wheels/f4/a8/a4/292214166c2917890f85b2f72a8e5f13e1ffa527c4200dcede\n",
            "Successfully built PyAudio\n",
            "Installing collected packages: PyAudio\n",
            "Successfully installed PyAudio-0.2.11\n"
          ],
          "name": "stdout"
        }
      ]
    },
    {
      "cell_type": "code",
      "metadata": {
        "id": "MeE74B1zxwMG",
        "colab": {
          "base_uri": "https://localhost:8080/"
        },
        "outputId": "367389d0-33f9-4d95-fad5-305e74fcb522"
      },
      "source": [
        "!pip install ffmpeg-python"
      ],
      "execution_count": null,
      "outputs": [
        {
          "output_type": "stream",
          "text": [
            "Collecting ffmpeg-python\n",
            "  Downloading https://files.pythonhosted.org/packages/d7/0c/56be52741f75bad4dc6555991fabd2e07b432d333da82c11ad701123888a/ffmpeg_python-0.2.0-py3-none-any.whl\n",
            "Requirement already satisfied: future in /usr/local/lib/python3.7/dist-packages (from ffmpeg-python) (0.16.0)\n",
            "Installing collected packages: ffmpeg-python\n",
            "Successfully installed ffmpeg-python-0.2.0\n"
          ],
          "name": "stdout"
        }
      ]
    },
    {
      "cell_type": "markdown",
      "metadata": {
        "id": "Tj7QdZNr-pRq"
      },
      "source": [
        "Getting the voice recording"
      ]
    },
    {
      "cell_type": "code",
      "metadata": {
        "id": "Aqu6TsAtyf_O"
      },
      "source": [
        "from IPython.display import HTML, Audio\n",
        "from google.colab.output import eval_js\n",
        "from base64 import b64decode\n",
        "import numpy as np\n",
        "from scipy.io.wavfile import read as wav_read\n",
        "import io\n",
        "import ffmpeg\n",
        "\n",
        "AUDIO_HTML = \"\"\"\n",
        "<script>\n",
        "var my_div = document.createElement(\"DIV\");\n",
        "var my_p = document.createElement(\"P\");\n",
        "var my_btn = document.createElement(\"BUTTON\");\n",
        "var t = document.createTextNode(\"Press to start recording\");\n",
        "\n",
        "my_btn.appendChild(t);\n",
        "//my_p.appendChild(my_btn);\n",
        "my_div.appendChild(my_btn);\n",
        "document.body.appendChild(my_div);\n",
        "\n",
        "var base64data = 0;\n",
        "var reader;\n",
        "var recorder, gumStream;\n",
        "var recordButton = my_btn;\n",
        "\n",
        "var handleSuccess = function(stream) {\n",
        "  gumStream = stream;\n",
        "  var options = {\n",
        "    //bitsPerSecond: 8000, //chrome seems to ignore, always 48k\n",
        "    mimeType : 'audio/webm;codecs=opus'\n",
        "    //mimeType : 'audio/webm;codecs=pcm'\n",
        "  };            \n",
        "  //recorder = new MediaRecorder(stream, options);\n",
        "  recorder = new MediaRecorder(stream);\n",
        "  recorder.ondataavailable = function(e) {            \n",
        "    var url = URL.createObjectURL(e.data);\n",
        "    var preview = document.createElement('audio');\n",
        "    preview.controls = true;\n",
        "    preview.src = url;\n",
        "    document.body.appendChild(preview);\n",
        "\n",
        "    reader = new FileReader();\n",
        "    reader.readAsDataURL(e.data); \n",
        "    reader.onloadend = function() {\n",
        "      base64data = reader.result;\n",
        "      //console.log(\"Inside FileReader:\" + base64data);\n",
        "    }\n",
        "  };\n",
        "  recorder.start();\n",
        "  };\n",
        "\n",
        "recordButton.innerText = \"Recording, press to stop\";\n",
        "\n",
        "navigator.mediaDevices.getUserMedia({audio: true}).then(handleSuccess);\n",
        "\n",
        "\n",
        "function toggleRecording() {\n",
        "  if (recorder && recorder.state == \"recording\") {\n",
        "      recorder.stop();\n",
        "      gumStream.getAudioTracks()[0].stop();\n",
        "      recordButton.innerText = \"Saving the recording...\"\n",
        "  }\n",
        "}\n",
        "\n",
        "// https://stackoverflow.com/a/951057\n",
        "function sleep(ms) {\n",
        "  return new Promise(resolve => setTimeout(resolve, ms));\n",
        "}\n",
        "\n",
        "var data = new Promise(resolve=>{\n",
        "//recordButton.addEventListener(\"click\", toggleRecording);\n",
        "recordButton.onclick = ()=>{\n",
        "toggleRecording()\n",
        "\n",
        "sleep(2000).then(() => {\n",
        "  // wait 2000ms for the data to be available...\n",
        "  // ideally this should use something like await...\n",
        "  //console.log(\"Inside data:\" + base64data)\n",
        "  resolve(base64data.toString())\n",
        "\n",
        "});\n",
        "\n",
        "}\n",
        "});\n",
        "      \n",
        "</script>\n",
        "\"\"\"\n",
        "#function that records the audio\n",
        "def get_audio():\n",
        "  display(HTML(AUDIO_HTML))\n",
        "  data = eval_js(\"data\")\n",
        "  binary = b64decode(data.split(',')[1])\n",
        "  \n",
        "  process = (ffmpeg\n",
        "    .input('pipe:0')\n",
        "    .output('pipe:1', format='wav')\n",
        "    .run_async(pipe_stdin=True, pipe_stdout=True, pipe_stderr=True, quiet=True, overwrite_output=True)\n",
        "  )\n",
        "  output, err = process.communicate(input=binary)\n",
        "  \n",
        "  riff_chunk_size = len(output) - 8\n",
        "  # Break up the chunk size into four bytes, held in b.\n",
        "  q = riff_chunk_size\n",
        "  b = []\n",
        "  for i in range(4):\n",
        "      q, r = divmod(q, 256)\n",
        "      b.append(r)\n",
        "\n",
        "  # Replace bytes 4:8 in proc.stdout with the actual size of the RIFF chunk.\n",
        "  riff = output[:4] + bytes(b) + output[8:]\n",
        "\n",
        "  sr, audio = wav_read(io.BytesIO(riff))\n",
        "\n",
        "  return audio, sr"
      ],
      "execution_count": null,
      "outputs": []
    },
    {
      "cell_type": "markdown",
      "metadata": {
        "id": "EH_0-a-5-wjP"
      },
      "source": [
        "Record your voice "
      ]
    },
    {
      "cell_type": "code",
      "metadata": {
        "colab": {
          "base_uri": "https://localhost:8080/",
          "height": 163
        },
        "id": "LpYBGvsW_cJI",
        "outputId": "678746f7-7e78-462d-826f-f27e010de987"
      },
      "source": [
        "audio, sr = get_audio()"
      ],
      "execution_count": null,
      "outputs": [
        {
          "output_type": "error",
          "ename": "NameError",
          "evalue": "ignored",
          "traceback": [
            "\u001b[0;31m---------------------------------------------------------------------------\u001b[0m",
            "\u001b[0;31mNameError\u001b[0m                                 Traceback (most recent call last)",
            "\u001b[0;32m<ipython-input-2-56a6f6dbcbd2>\u001b[0m in \u001b[0;36m<module>\u001b[0;34m()\u001b[0m\n\u001b[0;32m----> 1\u001b[0;31m \u001b[0maudio\u001b[0m\u001b[0;34m,\u001b[0m \u001b[0msr\u001b[0m \u001b[0;34m=\u001b[0m \u001b[0mget_audio\u001b[0m\u001b[0;34m(\u001b[0m\u001b[0;34m)\u001b[0m\u001b[0;34m\u001b[0m\u001b[0;34m\u001b[0m\u001b[0m\n\u001b[0m",
            "\u001b[0;31mNameError\u001b[0m: name 'get_audio' is not defined"
          ]
        }
      ]
    },
    {
      "cell_type": "markdown",
      "metadata": {
        "id": "j1xtGa9nzOs6"
      },
      "source": [
        "Note: If we want to get the vector repr of the audio from a .wav file use this following line of code instead of the get_audio() function"
      ]
    },
    {
      "cell_type": "code",
      "metadata": {
        "id": "q3S7pcCFIZxG"
      },
      "source": [
        " import librosa \n",
        " audio, sr = librosa.load('CM13_B1_CW4_M6.wav', sr= None)"
      ],
      "execution_count": null,
      "outputs": []
    },
    {
      "cell_type": "code",
      "metadata": {
        "colab": {
          "base_uri": "https://localhost:8080/"
        },
        "id": "3xCqYMtSR0pH",
        "outputId": "cb3c260a-6dcf-41d3-cae5-ff5c3b8a9068"
      },
      "source": [
        "print(sr)"
      ],
      "execution_count": null,
      "outputs": [
        {
          "output_type": "stream",
          "text": [
            "16000\n"
          ],
          "name": "stdout"
        }
      ]
    },
    {
      "cell_type": "code",
      "metadata": {
        "colab": {
          "base_uri": "https://localhost:8080/"
        },
        "id": "4nrwSpZ6KI2n",
        "outputId": "d8fee82c-6082-4aac-fa41-4c2d7fbb101c"
      },
      "source": [
        "print(audio)"
      ],
      "execution_count": null,
      "outputs": [
        {
          "output_type": "stream",
          "text": [
            "[-9.1552734e-05 -9.1552734e-05 -9.1552734e-05 ... -5.0048828e-03\n",
            " -4.7302246e-03 -4.7912598e-03]\n"
          ],
          "name": "stdout"
        }
      ]
    },
    {
      "cell_type": "markdown",
      "metadata": {
        "id": "UXqrkXqsIfza"
      },
      "source": [
        "Extracting the relevent features from the audio "
      ]
    },
    {
      "cell_type": "code",
      "metadata": {
        "colab": {
          "base_uri": "https://localhost:8080/"
        },
        "id": "Aa0jZlMrGgpF",
        "outputId": "59008f8c-a7de-46fe-f1a9-1422113e9973"
      },
      "source": [
        "import librosa\n",
        "!pip install praat-parselmouth"
      ],
      "execution_count": null,
      "outputs": [
        {
          "output_type": "stream",
          "text": [
            "Collecting praat-parselmouth\n",
            "\u001b[?25l  Downloading https://files.pythonhosted.org/packages/21/b4/3f6c01ac90e2b26d4bb581b2c13e959e1e856e6f63d2ceac006dd695a25b/praat_parselmouth-0.4.0-cp37-cp37m-manylinux2010_x86_64.whl (10.7MB)\n",
            "\u001b[K     |████████████████████████████████| 10.7MB 5.8MB/s \n",
            "\u001b[?25hRequirement already satisfied: numpy>=1.7.0 in /usr/local/lib/python3.7/dist-packages (from praat-parselmouth) (1.19.5)\n",
            "Installing collected packages: praat-parselmouth\n",
            "Successfully installed praat-parselmouth-0.4.0\n"
          ],
          "name": "stdout"
        }
      ]
    },
    {
      "cell_type": "code",
      "metadata": {
        "colab": {
          "base_uri": "https://localhost:8080/"
        },
        "id": "ZFSKCS9ZeVEZ",
        "outputId": "df79ae25-f239-44c2-9176-249b1e33bb49"
      },
      "source": [
        "!pip install surfboard\n",
        "\n",
        "from surfboard.sound import Waveform\n",
        "\n",
        "from surfboard.feature_extraction import extract_features"
      ],
      "execution_count": null,
      "outputs": [
        {
          "output_type": "stream",
          "text": [
            "Collecting surfboard\n",
            "  Downloading https://files.pythonhosted.org/packages/73/ce/ea63141ac51c25ff5a631d2203a7fe9ad0d94bb9660bf417e322f8fc8a0a/surfboard-0.2.0.tar.gz\n",
            "Requirement already satisfied: librosa>=0.7.2 in /usr/local/lib/python3.7/dist-packages (from surfboard) (0.8.0)\n",
            "Collecting numba==0.48.0\n",
            "\u001b[?25l  Downloading https://files.pythonhosted.org/packages/39/dc/5ce4a94d98e8a31cab21b150e23ca2f09a7dd354c06a69f71801ecd890db/numba-0.48.0-1-cp37-cp37m-manylinux2014_x86_64.whl (3.5MB)\n",
            "\u001b[K     |████████████████████████████████| 3.6MB 3.4MB/s \n",
            "\u001b[?25hCollecting pysptk>=0.1.18\n",
            "\u001b[?25l  Downloading https://files.pythonhosted.org/packages/7c/25/4ea0932fbf0f1db42934b85011c1c825bcf57055ecde7e511f05e9fb9197/pysptk-0.1.18.tar.gz (419kB)\n",
            "\u001b[K     |████████████████████████████████| 419kB 27.2MB/s \n",
            "\u001b[?25hCollecting PeakUtils>=1.3.3\n",
            "  Downloading https://files.pythonhosted.org/packages/0a/11/6416c8aebba4d5f73e23e1f070a419a8944f3ba17eed9efdf9cdc95f0411/PeakUtils-1.3.3-py3-none-any.whl\n",
            "Collecting pyloudnorm==0.1.0\n",
            "  Downloading https://files.pythonhosted.org/packages/e0/a7/124736cf96bd9bb5b5ee8a777fe02aa531d142c3a3280f00dcf4dafcdfda/pyloudnorm-0.1.0-py3-none-any.whl\n",
            "Requirement already satisfied: pandas>=1.0.1 in /usr/local/lib/python3.7/dist-packages (from surfboard) (1.1.5)\n",
            "Collecting tqdm>=4.42.1\n",
            "\u001b[?25l  Downloading https://files.pythonhosted.org/packages/42/d7/f357d98e9b50346bcb6095fe3ad205d8db3174eb5edb03edfe7c4099576d/tqdm-4.61.0-py2.py3-none-any.whl (75kB)\n",
            "\u001b[K     |████████████████████████████████| 81kB 8.5MB/s \n",
            "\u001b[?25hCollecting pyyaml>=5.3\n",
            "\u001b[?25l  Downloading https://files.pythonhosted.org/packages/7a/a5/393c087efdc78091afa2af9f1378762f9821c9c1d7a22c5753fb5ac5f97a/PyYAML-5.4.1-cp37-cp37m-manylinux1_x86_64.whl (636kB)\n",
            "\u001b[K     |████████████████████████████████| 645kB 26.0MB/s \n",
            "\u001b[?25hRequirement already satisfied: Cython>=0.29.15 in /usr/local/lib/python3.7/dist-packages (from surfboard) (0.29.23)\n",
            "Collecting pytest>=5.4.1\n",
            "\u001b[?25l  Downloading https://files.pythonhosted.org/packages/a1/59/6821e900592fbe261f19d67e4def0cb27e52ef8ed16d9922c144961cc1ee/pytest-6.2.4-py3-none-any.whl (280kB)\n",
            "\u001b[K     |████████████████████████████████| 286kB 27.3MB/s \n",
            "\u001b[?25hRequirement already satisfied: SoundFile>=0.10.3.post1 in /usr/local/lib/python3.7/dist-packages (from surfboard) (0.10.3.post1)\n",
            "Requirement already satisfied: numpy>=1.15.0 in /usr/local/lib/python3.7/dist-packages (from librosa>=0.7.2->surfboard) (1.19.5)\n",
            "Requirement already satisfied: audioread>=2.0.0 in /usr/local/lib/python3.7/dist-packages (from librosa>=0.7.2->surfboard) (2.1.9)\n",
            "Requirement already satisfied: scipy>=1.0.0 in /usr/local/lib/python3.7/dist-packages (from librosa>=0.7.2->surfboard) (1.4.1)\n",
            "Requirement already satisfied: pooch>=1.0 in /usr/local/lib/python3.7/dist-packages (from librosa>=0.7.2->surfboard) (1.3.0)\n",
            "Requirement already satisfied: decorator>=3.0.0 in /usr/local/lib/python3.7/dist-packages (from librosa>=0.7.2->surfboard) (4.4.2)\n",
            "Requirement already satisfied: resampy>=0.2.2 in /usr/local/lib/python3.7/dist-packages (from librosa>=0.7.2->surfboard) (0.2.2)\n",
            "Requirement already satisfied: scikit-learn!=0.19.0,>=0.14.0 in /usr/local/lib/python3.7/dist-packages (from librosa>=0.7.2->surfboard) (0.22.2.post1)\n",
            "Requirement already satisfied: joblib>=0.14 in /usr/local/lib/python3.7/dist-packages (from librosa>=0.7.2->surfboard) (1.0.1)\n",
            "Collecting llvmlite<0.32.0,>=0.31.0dev0\n",
            "\u001b[?25l  Downloading https://files.pythonhosted.org/packages/a0/10/d02c0ac683fc47ecda3426249509cf771d748b6a2c0e9d5ebbee76a7b80a/llvmlite-0.31.0-cp37-cp37m-manylinux1_x86_64.whl (20.2MB)\n",
            "\u001b[K     |████████████████████████████████| 20.2MB 1.4MB/s \n",
            "\u001b[?25hRequirement already satisfied: setuptools in /usr/local/lib/python3.7/dist-packages (from numba==0.48.0->surfboard) (57.0.0)\n",
            "Requirement already satisfied: six in /usr/local/lib/python3.7/dist-packages (from pysptk>=0.1.18->surfboard) (1.15.0)\n",
            "Requirement already satisfied: future>=0.16.0 in /usr/local/lib/python3.7/dist-packages (from pyloudnorm==0.1.0->surfboard) (0.16.0)\n",
            "Requirement already satisfied: pytz>=2017.2 in /usr/local/lib/python3.7/dist-packages (from pandas>=1.0.1->surfboard) (2018.9)\n",
            "Requirement already satisfied: python-dateutil>=2.7.3 in /usr/local/lib/python3.7/dist-packages (from pandas>=1.0.1->surfboard) (2.8.1)\n",
            "Requirement already satisfied: packaging in /usr/local/lib/python3.7/dist-packages (from pytest>=5.4.1->surfboard) (20.9)\n",
            "Requirement already satisfied: iniconfig in /usr/local/lib/python3.7/dist-packages (from pytest>=5.4.1->surfboard) (1.1.1)\n",
            "Requirement already satisfied: toml in /usr/local/lib/python3.7/dist-packages (from pytest>=5.4.1->surfboard) (0.10.2)\n",
            "Collecting pluggy<1.0.0a1,>=0.12\n",
            "  Downloading https://files.pythonhosted.org/packages/a0/28/85c7aa31b80d150b772fbe4a229487bc6644da9ccb7e427dd8cc60cb8a62/pluggy-0.13.1-py2.py3-none-any.whl\n",
            "Requirement already satisfied: importlib-metadata>=0.12; python_version < \"3.8\" in /usr/local/lib/python3.7/dist-packages (from pytest>=5.4.1->surfboard) (4.0.1)\n",
            "Requirement already satisfied: py>=1.8.2 in /usr/local/lib/python3.7/dist-packages (from pytest>=5.4.1->surfboard) (1.10.0)\n",
            "Requirement already satisfied: attrs>=19.2.0 in /usr/local/lib/python3.7/dist-packages (from pytest>=5.4.1->surfboard) (21.2.0)\n",
            "Requirement already satisfied: cffi>=1.0 in /usr/local/lib/python3.7/dist-packages (from SoundFile>=0.10.3.post1->surfboard) (1.14.5)\n",
            "Requirement already satisfied: appdirs in /usr/local/lib/python3.7/dist-packages (from pooch>=1.0->librosa>=0.7.2->surfboard) (1.4.4)\n",
            "Requirement already satisfied: requests in /usr/local/lib/python3.7/dist-packages (from pooch>=1.0->librosa>=0.7.2->surfboard) (2.23.0)\n",
            "Requirement already satisfied: pyparsing>=2.0.2 in /usr/local/lib/python3.7/dist-packages (from packaging->pytest>=5.4.1->surfboard) (2.4.7)\n",
            "Requirement already satisfied: typing-extensions>=3.6.4; python_version < \"3.8\" in /usr/local/lib/python3.7/dist-packages (from importlib-metadata>=0.12; python_version < \"3.8\"->pytest>=5.4.1->surfboard) (3.7.4.3)\n",
            "Requirement already satisfied: zipp>=0.5 in /usr/local/lib/python3.7/dist-packages (from importlib-metadata>=0.12; python_version < \"3.8\"->pytest>=5.4.1->surfboard) (3.4.1)\n",
            "Requirement already satisfied: pycparser in /usr/local/lib/python3.7/dist-packages (from cffi>=1.0->SoundFile>=0.10.3.post1->surfboard) (2.20)\n",
            "Requirement already satisfied: urllib3!=1.25.0,!=1.25.1,<1.26,>=1.21.1 in /usr/local/lib/python3.7/dist-packages (from requests->pooch>=1.0->librosa>=0.7.2->surfboard) (1.24.3)\n",
            "Requirement already satisfied: idna<3,>=2.5 in /usr/local/lib/python3.7/dist-packages (from requests->pooch>=1.0->librosa>=0.7.2->surfboard) (2.10)\n",
            "Requirement already satisfied: certifi>=2017.4.17 in /usr/local/lib/python3.7/dist-packages (from requests->pooch>=1.0->librosa>=0.7.2->surfboard) (2020.12.5)\n",
            "Requirement already satisfied: chardet<4,>=3.0.2 in /usr/local/lib/python3.7/dist-packages (from requests->pooch>=1.0->librosa>=0.7.2->surfboard) (3.0.4)\n",
            "Building wheels for collected packages: surfboard, pysptk\n",
            "  Building wheel for surfboard (setup.py) ... \u001b[?25l\u001b[?25hdone\n",
            "  Created wheel for surfboard: filename=surfboard-0.2.0-cp37-none-any.whl size=33231 sha256=ee17b25c70bad478af5101997039a4fe8526056c1a7abbed141ba9a037f7e1c0\n",
            "  Stored in directory: /root/.cache/pip/wheels/d3/b6/19/72a52f64534dcb26d0c67155ce67e317570cbff6f56cb0f7cf\n",
            "  Building wheel for pysptk (setup.py) ... \u001b[?25l\u001b[?25hdone\n",
            "  Created wheel for pysptk: filename=pysptk-0.1.18-cp37-cp37m-linux_x86_64.whl size=952106 sha256=379788c45cdb189ef0e0f2117162918358d745ae7a5550e25eb7e123b84a7119\n",
            "  Stored in directory: /root/.cache/pip/wheels/c7/96/d2/a163240019c59504402fab713af259026af81a99dea943404a\n",
            "Successfully built surfboard pysptk\n",
            "\u001b[31mERROR: datascience 0.10.6 has requirement folium==0.2.1, but you'll have folium 0.8.3 which is incompatible.\u001b[0m\n",
            "Installing collected packages: llvmlite, numba, pysptk, PeakUtils, pyloudnorm, tqdm, pyyaml, pluggy, pytest, surfboard\n",
            "  Found existing installation: llvmlite 0.34.0\n",
            "    Uninstalling llvmlite-0.34.0:\n",
            "      Successfully uninstalled llvmlite-0.34.0\n",
            "  Found existing installation: numba 0.51.2\n",
            "    Uninstalling numba-0.51.2:\n",
            "      Successfully uninstalled numba-0.51.2\n",
            "  Found existing installation: tqdm 4.41.1\n",
            "    Uninstalling tqdm-4.41.1:\n",
            "      Successfully uninstalled tqdm-4.41.1\n",
            "  Found existing installation: PyYAML 3.13\n",
            "    Uninstalling PyYAML-3.13:\n",
            "      Successfully uninstalled PyYAML-3.13\n",
            "  Found existing installation: pluggy 0.7.1\n",
            "    Uninstalling pluggy-0.7.1:\n",
            "      Successfully uninstalled pluggy-0.7.1\n",
            "  Found existing installation: pytest 3.6.4\n",
            "    Uninstalling pytest-3.6.4:\n",
            "      Successfully uninstalled pytest-3.6.4\n",
            "Successfully installed PeakUtils-1.3.3 llvmlite-0.31.0 numba-0.48.0 pluggy-0.13.1 pyloudnorm-0.1.0 pysptk-0.1.18 pytest-6.2.4 pyyaml-5.4.1 surfboard-0.2.0 tqdm-4.61.0\n"
          ],
          "name": "stdout"
        }
      ]
    },
    {
      "cell_type": "markdown",
      "metadata": {
        "id": "A1H_8KH6lmpz"
      },
      "source": [
        "Creating a waveform object from our audio in order to get our features "
      ]
    },
    {
      "cell_type": "code",
      "metadata": {
        "colab": {
          "base_uri": "https://localhost:8080/"
        },
        "id": "3mZkXKH8k9ra",
        "outputId": "1c35624d-78a7-417a-eb10-de6b1edce58b"
      },
      "source": [
        "\n",
        "sound = Waveform(signal= audio, sample_rate=sr)\n",
        "\n",
        "print(sound)"
      ],
      "execution_count": null,
      "outputs": [
        {
          "output_type": "stream",
          "text": [
            "<surfboard.sound.Waveform object at 0x7f63e6fd0990>\n"
          ],
          "name": "stdout"
        }
      ]
    },
    {
      "cell_type": "markdown",
      "metadata": {
        "id": "9W1M7gmuLozF"
      },
      "source": [
        "The shimmer feature"
      ]
    },
    {
      "cell_type": "code",
      "metadata": {
        "id": "-g0grXB-lgDl"
      },
      "source": [
        "shimmers = sound.shimmers()"
      ],
      "execution_count": null,
      "outputs": []
    },
    {
      "cell_type": "code",
      "metadata": {
        "colab": {
          "base_uri": "https://localhost:8080/"
        },
        "id": "rcwi8YJEnoSE",
        "outputId": "ff0bc12e-aa3f-4bec-ea42-f83bc009be86"
      },
      "source": [
        "print(shimmers)"
      ],
      "execution_count": null,
      "outputs": [
        {
          "output_type": "stream",
          "text": [
            "{'localShimmer': 0.15970584810267952, 'localdbShimmer': 0.8571550117612079, 'apq3Shimmer': 0.08352337616338171, 'apq5Shimmer': 0.10983748750614575, 'apq11Shimmer': 0.27494854441244604}\n"
          ],
          "name": "stdout"
        }
      ]
    },
    {
      "cell_type": "markdown",
      "metadata": {
        "id": "qdpJAVKMysDF"
      },
      "source": [
        "The jitter feature"
      ]
    },
    {
      "cell_type": "code",
      "metadata": {
        "id": "IxzVOfTlng3j"
      },
      "source": [
        "jitters = sound.jitters()"
      ],
      "execution_count": null,
      "outputs": []
    },
    {
      "cell_type": "code",
      "metadata": {
        "colab": {
          "base_uri": "https://localhost:8080/"
        },
        "id": "Rb2A4OOtnt9i",
        "outputId": "bb40d853-475b-46d6-d9b6-a37845c5219a"
      },
      "source": [
        "print(jitters)"
      ],
      "execution_count": null,
      "outputs": [
        {
          "output_type": "stream",
          "text": [
            "{'localJitter': 0.007986416554862446, 'localabsoluteJitter': 6.350231634063103e-05, 'rapJitter': 0.0026129520616990903, 'ppq5Jitter': 0.004211527050334424, 'ddpJitter': 0.007838856185097285}\n"
          ],
          "name": "stdout"
        }
      ]
    },
    {
      "cell_type": "markdown",
      "metadata": {
        "id": "L6_5x8UbpGDt"
      },
      "source": [
        "Another way to get jitters"
      ]
    },
    {
      "cell_type": "code",
      "metadata": {
        "colab": {
          "base_uri": "https://localhost:8080/"
        },
        "id": "F0ehm8sPZCMs",
        "outputId": "e165a2e3-94e1-4c63-b61b-f331f199a63b"
      },
      "source": [
        "!pip install Signal_Analysis\n",
        "import Signal_Analysis.features.signal"
      ],
      "execution_count": null,
      "outputs": [
        {
          "output_type": "stream",
          "text": [
            "Requirement already satisfied: Signal_Analysis in /usr/local/lib/python3.7/dist-packages (0.1.26)\n",
            "Requirement already satisfied: peakutils in /usr/local/lib/python3.7/dist-packages (from Signal_Analysis) (1.3.3)\n",
            "Requirement already satisfied: numpy in /usr/local/lib/python3.7/dist-packages (from Signal_Analysis) (1.19.5)\n",
            "Requirement already satisfied: scipy in /usr/local/lib/python3.7/dist-packages (from peakutils->Signal_Analysis) (1.4.1)\n"
          ],
          "name": "stdout"
        }
      ]
    },
    {
      "cell_type": "code",
      "metadata": {
        "colab": {
          "base_uri": "https://localhost:8080/"
        },
        "id": "quR61B10pFyT",
        "outputId": "4fbbd0ad-7c57-4e90-bf62-bdfc04469a5a"
      },
      "source": [
        "Signal_Analysis.features.signal.get_Jitter(audio, sr)"
      ],
      "execution_count": null,
      "outputs": [
        {
          "output_type": "stream",
          "text": [
            "<class 'numpy.float64'> \n",
            "\n"
          ],
          "name": "stdout"
        },
        {
          "output_type": "execute_result",
          "data": {
            "text/plain": [
              "{'ddp': 0.047114624505939916,\n",
              " 'local': 0.04813913043478585,\n",
              " 'local, absolute': 0.0004325131992553777,\n",
              " 'ppq5': 0.011895652173915158,\n",
              " 'rap': 0.015704874835313305}"
            ]
          },
          "metadata": {
            "tags": []
          },
          "execution_count": 78
        }
      ]
    },
    {
      "cell_type": "markdown",
      "metadata": {
        "id": "f-7jcOLKg0Ec"
      },
      "source": [
        "Extracting NHR, HNR, and RPDE"
      ]
    },
    {
      "cell_type": "code",
      "metadata": {
        "colab": {
          "base_uri": "https://localhost:8080/"
        },
        "id": "jz5iYyokgzT8",
        "outputId": "1af7e46b-759d-40c9-cd6c-53b68458e636"
      },
      "source": [
        "!pip install Signal_Analysis\n",
        "import Signal_Analysis.features.signal "
      ],
      "execution_count": null,
      "outputs": [
        {
          "output_type": "stream",
          "text": [
            "Requirement already satisfied: Signal_Analysis in /usr/local/lib/python3.7/dist-packages (0.1.26)\n",
            "Requirement already satisfied: numpy in /usr/local/lib/python3.7/dist-packages (from Signal_Analysis) (1.19.5)\n",
            "Requirement already satisfied: peakutils in /usr/local/lib/python3.7/dist-packages (from Signal_Analysis) (1.3.3)\n",
            "Requirement already satisfied: scipy in /usr/local/lib/python3.7/dist-packages (from peakutils->Signal_Analysis) (1.4.1)\n"
          ],
          "name": "stdout"
        }
      ]
    },
    {
      "cell_type": "markdown",
      "metadata": {
        "id": "UcDUt_AxoSRm"
      },
      "source": [
        "HNR feature extracted (Side Note: this feauture can also be used to detect depression)"
      ]
    },
    {
      "cell_type": "code",
      "metadata": {
        "id": "55OIPhMCng-m"
      },
      "source": [
        "HNR_value = Signal_Analysis.features.signal.get_HNR(audio, sr, time_step=0, min_pitch=75, silence_threshold=0.1, periods_per_window=4.5) "
      ],
      "execution_count": null,
      "outputs": []
    },
    {
      "cell_type": "code",
      "metadata": {
        "colab": {
          "base_uri": "https://localhost:8080/"
        },
        "id": "oxSwGGfPh7XS",
        "outputId": "a9a02957-b07c-43c4-a486-1f63b85bc426"
      },
      "source": [
        "print(HNR_value)"
      ],
      "execution_count": null,
      "outputs": [
        {
          "output_type": "stream",
          "text": [
            "3.435519801405292\n"
          ],
          "name": "stdout"
        }
      ]
    },
    {
      "cell_type": "markdown",
      "metadata": {
        "id": "SZvTyaP1iA6Z"
      },
      "source": [
        "RPDE"
      ]
    },
    {
      "cell_type": "code",
      "metadata": {
        "colab": {
          "base_uri": "https://localhost:8080/"
        },
        "id": "ZtBYKH6MuFgp",
        "outputId": "f6e87b0f-326c-4342-b464-000dab98c802"
      },
      "source": [
        "!pip install pyrpde"
      ],
      "execution_count": null,
      "outputs": [
        {
          "output_type": "stream",
          "text": [
            "Requirement already satisfied: pyrpde in /usr/local/lib/python3.7/dist-packages (0.1.3)\n",
            "Requirement already satisfied: numba>=0.49.1 in /usr/local/lib/python3.7/dist-packages (from pyrpde) (0.53.1)\n",
            "Requirement already satisfied: numpy>=1.18.4 in /usr/local/lib/python3.7/dist-packages (from pyrpde) (1.19.5)\n",
            "Requirement already satisfied: scipy>=1.4.1 in /usr/local/lib/python3.7/dist-packages (from pyrpde) (1.4.1)\n",
            "Requirement already satisfied: llvmlite<0.37,>=0.36.0rc1 in /usr/local/lib/python3.7/dist-packages (from numba>=0.49.1->pyrpde) (0.36.0)\n",
            "Requirement already satisfied: setuptools in /usr/local/lib/python3.7/dist-packages (from numba>=0.49.1->pyrpde) (57.0.0)\n"
          ],
          "name": "stdout"
        }
      ]
    },
    {
      "cell_type": "code",
      "metadata": {
        "colab": {
          "base_uri": "https://localhost:8080/"
        },
        "id": "oFw_x-rFqtFm",
        "outputId": "dfb96be0-cb18-4cc2-c0f1-0e3fb4c50539"
      },
      "source": [
        "!pip install numba\n",
        "import pandas as pd\n",
        "#from surfboard import rpde"
      ],
      "execution_count": null,
      "outputs": [
        {
          "output_type": "stream",
          "text": [
            "Requirement already satisfied: numba in /usr/local/lib/python3.7/dist-packages (0.53.1)\n",
            "Requirement already satisfied: numpy>=1.15 in /usr/local/lib/python3.7/dist-packages (from numba) (1.19.5)\n",
            "Requirement already satisfied: llvmlite<0.37,>=0.36.0rc1 in /usr/local/lib/python3.7/dist-packages (from numba) (0.36.0)\n",
            "Requirement already satisfied: setuptools in /usr/local/lib/python3.7/dist-packages (from numba) (57.0.0)\n"
          ],
          "name": "stdout"
        }
      ]
    },
    {
      "cell_type": "code",
      "metadata": {
        "id": "HsVuHVXkHrrO",
        "colab": {
          "base_uri": "https://localhost:8080/"
        },
        "outputId": "5dc0cbd1-9cbd-421e-fe90-78d059628e4c"
      },
      "source": [
        "from scipy.io.wavfile import read\n",
        "import numpy as np\n",
        "from pyrpde import rpde\n"
      ],
      "execution_count": null,
      "outputs": [
        {
          "output_type": "stream",
          "text": [
            "/usr/local/lib/python3.7/dist-packages/numba/np/ufunc/parallel.py:365: NumbaWarning: The TBB threading layer requires TBB version 2019.5 or later i.e., TBB_INTERFACE_VERSION >= 11005. Found TBB_INTERFACE_VERSION = 9107. The TBB threading layer is disabled.\n",
            "  warnings.warn(problem)\n"
          ],
          "name": "stderr"
        }
      ]
    },
    {
      "cell_type": "code",
      "metadata": {
        "colab": {
          "base_uri": "https://localhost:8080/"
        },
        "id": "lDs-BGaXXqyz",
        "outputId": "c57af244-a138-497e-ecdf-4953a47da331"
      },
      "source": [
        "#normalizing our array so rpde can take it as a parameter \n",
        "normal_audio = audio/(2**16)\n",
        "print(normal_audio)"
      ],
      "execution_count": null,
      "outputs": [
        {
          "output_type": "stream",
          "text": [
            "[ 2.79396772e-09 -2.79396772e-09 -9.31322575e-10 ... -1.11758709e-08\n",
            " -1.39698386e-08 -1.49011612e-08]\n"
          ],
          "name": "stdout"
        }
      ]
    },
    {
      "cell_type": "code",
      "metadata": {
        "colab": {
          "base_uri": "https://localhost:8080/"
        },
        "id": "QtjD6WaZeALn",
        "outputId": "b265b5db-82cf-4f06-c745-786d4abb5024"
      },
      "source": [
        "print(normal_audio.dtype)"
      ],
      "execution_count": null,
      "outputs": [
        {
          "output_type": "stream",
          "text": [
            "float64\n"
          ],
          "name": "stdout"
        }
      ]
    },
    {
      "cell_type": "code",
      "metadata": {
        "id": "MOh2Vs99eKCf"
      },
      "source": [
        "#changing the normalized audio from float64 to float32 \n",
        "final_audio = np.float32(normal_audio)"
      ],
      "execution_count": null,
      "outputs": []
    },
    {
      "cell_type": "code",
      "metadata": {
        "colab": {
          "base_uri": "https://localhost:8080/"
        },
        "id": "yJXHRWIRgNue",
        "outputId": "e657a76c-0ad1-4a55-f866-0751b33dba00"
      },
      "source": [
        "print(final_audio)"
      ],
      "execution_count": null,
      "outputs": [
        {
          "output_type": "stream",
          "text": [
            "[ 9.2200935e-08  1.1920929e-07  1.3317913e-07 ... -8.2422048e-08\n",
            " -6.2864274e-08 -2.9802322e-08]\n"
          ],
          "name": "stdout"
        }
      ]
    },
    {
      "cell_type": "code",
      "metadata": {
        "colab": {
          "base_uri": "https://localhost:8080/"
        },
        "id": "MpU9nWQ_eaYf",
        "outputId": "cfdce73a-20ba-4f00-a22e-e8af575d68e7"
      },
      "source": [
        "print(final_audio.dtype)"
      ],
      "execution_count": null,
      "outputs": [
        {
          "output_type": "stream",
          "text": [
            "float32\n"
          ],
          "name": "stdout"
        }
      ]
    },
    {
      "cell_type": "markdown",
      "metadata": {
        "id": "WM-B7Ooag1Uq"
      },
      "source": [
        "Extraction process using rpde function "
      ]
    },
    {
      "cell_type": "code",
      "metadata": {
        "id": "2ZXg7DKsbp9j"
      },
      "source": [
        "#Note: histogram is a 1-dimensional array corresponding to the histogram of the return distances\n",
        "rpde_value, histogram = rpde(final_audio, tau=30, dim=4, epsilon=0.01, tmax=1500)"
      ],
      "execution_count": null,
      "outputs": []
    },
    {
      "cell_type": "markdown",
      "metadata": {
        "id": "87SeuJ4JgwAD"
      },
      "source": [
        "RPDE Feature Extracted"
      ]
    },
    {
      "cell_type": "code",
      "metadata": {
        "colab": {
          "base_uri": "https://localhost:8080/"
        },
        "id": "cZ0gj3FDgsfq",
        "outputId": "af674ba6-9a9f-4146-81c0-e4cfb72ea502"
      },
      "source": [
        "print(rpde_value)"
      ],
      "execution_count": null,
      "outputs": [
        {
          "output_type": "stream",
          "text": [
            "0.0\n"
          ],
          "name": "stdout"
        }
      ]
    },
    {
      "cell_type": "markdown",
      "metadata": {
        "id": "bqKFivIhlxuk"
      },
      "source": [
        "Getting DFA Feature "
      ]
    },
    {
      "cell_type": "code",
      "metadata": {
        "colab": {
          "base_uri": "https://localhost:8080/"
        },
        "id": "ndChIwI6rs4I",
        "outputId": "ef6a8d18-de49-43a2-bcec-0cf5172d83f6"
      },
      "source": [
        "import surfboard\n",
        "#1024 is the default window_length\n",
        "dfa_feature = surfboard.dfa.get_dfa(audio, [1024])"
      ],
      "execution_count": null,
      "outputs": [
        {
          "output_type": "stream",
          "text": [
            "/usr/local/lib/python3.7/dist-packages/ipykernel_launcher.py:3: RankWarning: Polyfit may be poorly conditioned\n",
            "  This is separate from the ipykernel package so we can avoid doing imports until\n"
          ],
          "name": "stderr"
        }
      ]
    },
    {
      "cell_type": "markdown",
      "metadata": {
        "id": "TkKQjaq1vEgY"
      },
      "source": [
        "DFA Feature Extracted"
      ]
    },
    {
      "cell_type": "code",
      "metadata": {
        "colab": {
          "base_uri": "https://localhost:8080/"
        },
        "id": "ukyqAV3raF3K",
        "outputId": "286755f4-95d6-48df-b578-d182db552011"
      },
      "source": [
        "print(audio)"
      ],
      "execution_count": null,
      "outputs": [
        {
          "output_type": "stream",
          "text": [
            "[-9.1552734e-05 -9.1552734e-05 -9.1552734e-05 ... -5.0048828e-03\n",
            " -4.7302246e-03 -4.7912598e-03]\n"
          ],
          "name": "stdout"
        }
      ]
    },
    {
      "cell_type": "code",
      "metadata": {
        "colab": {
          "base_uri": "https://localhost:8080/"
        },
        "id": "msHHLLlXu7LA",
        "outputId": "5f1f1b19-5a98-4067-b83a-ff8cd5f73a2b"
      },
      "source": [
        "print(dfa_feature)"
      ],
      "execution_count": null,
      "outputs": [
        {
          "output_type": "stream",
          "text": [
            "0.1455661793431911\n"
          ],
          "name": "stdout"
        }
      ]
    },
    {
      "cell_type": "markdown",
      "metadata": {
        "id": "oW0nL2LEy6-7"
      },
      "source": [
        "Extra Feature: Fundamental Mean Frequency"
      ]
    },
    {
      "cell_type": "code",
      "metadata": {
        "colab": {
          "base_uri": "https://localhost:8080/"
        },
        "id": "PFJbsktXxGOl",
        "outputId": "59854638-559a-46d9-9d64-aa0d33e4a3cb"
      },
      "source": [
        "!pip install Signal_Analysis\n",
        "import Signal_Analysis.features.signal \n",
        "\n",
        "F_0 = Signal_Analysis.features.signal.get_F_0(audio, sr, time_step=0, min_pitch=75) "
      ],
      "execution_count": null,
      "outputs": [
        {
          "output_type": "stream",
          "text": [
            "Requirement already satisfied: Signal_Analysis in /usr/local/lib/python3.7/dist-packages (0.1.26)\n",
            "Requirement already satisfied: peakutils in /usr/local/lib/python3.7/dist-packages (from Signal_Analysis) (1.3.3)\n",
            "Requirement already satisfied: numpy in /usr/local/lib/python3.7/dist-packages (from Signal_Analysis) (1.19.5)\n",
            "Requirement already satisfied: scipy in /usr/local/lib/python3.7/dist-packages (from peakutils->Signal_Analysis) (1.4.1)\n",
            "<class 'numpy.float64'> \n",
            "\n"
          ],
          "name": "stdout"
        }
      ]
    },
    {
      "cell_type": "code",
      "metadata": {
        "colab": {
          "base_uri": "https://localhost:8080/"
        },
        "id": "LB8wAOCCx3WB",
        "outputId": "b0553172-9028-4db2-a035-f07ef1d83734"
      },
      "source": [
        "print(F_0)"
      ],
      "execution_count": null,
      "outputs": [
        {
          "output_type": "stream",
          "text": [
            "[113.57142857142856]\n"
          ],
          "name": "stdout"
        }
      ]
    },
    {
      "cell_type": "markdown",
      "metadata": {
        "id": "B0kf70U5vMBw"
      },
      "source": [
        "Note: Can also use librosa import pitch to get Fundamental mean frequency"
      ]
    },
    {
      "cell_type": "markdown",
      "metadata": {
        "id": "T9jgMq1pz8La"
      },
      "source": [
        "VISUALIZATION OF SPEECH FEATURES"
      ]
    },
    {
      "cell_type": "markdown",
      "metadata": {
        "id": "CnHheBSfQypp"
      },
      "source": [
        "Speech Amplitudes of Healthy Control vs ALS Patients"
      ]
    },
    {
      "cell_type": "code",
      "metadata": {
        "id": "bOa8qzGmRVOu",
        "colab": {
          "base_uri": "https://localhost:8080/",
          "height": 248
        },
        "outputId": "a5432121-c15a-4e02-d55a-df2c643a121e"
      },
      "source": [
        "import parselmouth\n",
        "import numpy as np\n",
        "import matplotlib.pyplot as plt\n",
        "import seaborn as sns\n",
        "\n",
        "#ALS\n",
        "sns.set() # Using seaborn's default style \n",
        "\n",
        "# Plot nice figures using Python's \"standard\" matplotlib library\n",
        "snd_als = parselmouth.Sound(\"SPA2019_Pathology_008.wav\") \n",
        "plt.figure()\n",
        "plt.plot(snd_als.xs(), snd_als.values.T)\n",
        "plt.xlim([snd_als.xmin, snd_als.xmax])\n",
        "plt.xlabel(\"time [s]\")\n",
        "plt.ylabel(\"amplitude\")\n",
        "plt.show() # or plt.savefig(\"sound.png\"), or plt.savefig(\"sound.pdf\")\n",
        "\n",
        "#Healthy Control\n",
        "sns.set() # Using seaborn's default style \n",
        "\n",
        "# Plotting Spectogram for HC\n",
        "snd_HC = parselmouth.Sound(\"SPA2019_Control_002.wav\") \n",
        "plt.figure()\n",
        "plt.plot(snd_HC.xs(), snd_HC.values.T)\n",
        "plt.xlim([snd_HC.xmin, snd_HC.xmax])\n",
        "plt.xlabel(\"time [s]\")\n",
        "plt.ylabel(\"amplitude\")\n",
        "plt.show() # or plt.savefig(\"sound.png\"), or plt.savefig(\"sound.pdf\")"
      ],
      "execution_count": null,
      "outputs": [
        {
          "output_type": "error",
          "ename": "PraatError",
          "evalue": "ignored",
          "traceback": [
            "\u001b[0;31m---------------------------------------------------------------------------\u001b[0m",
            "\u001b[0;31mPraatError\u001b[0m                                Traceback (most recent call last)",
            "\u001b[0;32m<ipython-input-24-a36c7382ccb2>\u001b[0m in \u001b[0;36m<module>\u001b[0;34m()\u001b[0m\n\u001b[1;32m      8\u001b[0m \u001b[0;34m\u001b[0m\u001b[0m\n\u001b[1;32m      9\u001b[0m \u001b[0;31m# Plot nice figures using Python's \"standard\" matplotlib library\u001b[0m\u001b[0;34m\u001b[0m\u001b[0;34m\u001b[0m\u001b[0;34m\u001b[0m\u001b[0m\n\u001b[0;32m---> 10\u001b[0;31m \u001b[0msnd_als\u001b[0m \u001b[0;34m=\u001b[0m \u001b[0mparselmouth\u001b[0m\u001b[0;34m.\u001b[0m\u001b[0mSound\u001b[0m\u001b[0;34m(\u001b[0m\u001b[0;34m\"SPA2019_Pathology_008.wav\"\u001b[0m \u001b[0;34m)\u001b[0m\u001b[0;34m\u001b[0m\u001b[0;34m\u001b[0m\u001b[0m\n\u001b[0m\u001b[1;32m     11\u001b[0m \u001b[0mplt\u001b[0m\u001b[0;34m.\u001b[0m\u001b[0mfigure\u001b[0m\u001b[0;34m(\u001b[0m\u001b[0;34m)\u001b[0m\u001b[0;34m\u001b[0m\u001b[0;34m\u001b[0m\u001b[0m\n\u001b[1;32m     12\u001b[0m \u001b[0mplt\u001b[0m\u001b[0;34m.\u001b[0m\u001b[0mplot\u001b[0m\u001b[0;34m(\u001b[0m\u001b[0msnd_als\u001b[0m\u001b[0;34m.\u001b[0m\u001b[0mxs\u001b[0m\u001b[0;34m(\u001b[0m\u001b[0;34m)\u001b[0m\u001b[0;34m,\u001b[0m \u001b[0msnd_als\u001b[0m\u001b[0;34m.\u001b[0m\u001b[0mvalues\u001b[0m\u001b[0;34m.\u001b[0m\u001b[0mT\u001b[0m\u001b[0;34m)\u001b[0m\u001b[0;34m\u001b[0m\u001b[0;34m\u001b[0m\u001b[0m\n",
            "\u001b[0;31mPraatError\u001b[0m: Cannot open file “/content/SPA2019_Pathology_008.wav”.\nSound not read from sound file “/content/SPA2019_Pathology_008.wav”."
          ]
        }
      ]
    },
    {
      "cell_type": "markdown",
      "metadata": {
        "id": "8i635b_NV6cg"
      },
      "source": [
        "Spectograms of Healthy vs ALS Patient\n"
      ]
    },
    {
      "cell_type": "code",
      "metadata": {
        "id": "MhGF3epBWCYL"
      },
      "source": [
        "#ALS\n",
        "def draw_spectrogram_als(spectrogram_als, dynamic_range=70):\n",
        "    X, Y = spectrogram.x_grid(), spectrogram.y_grid()\n",
        "    sg_db = 10 * np.log10(spectrogram.values)\n",
        "    plt.pcolormesh(X, Y, sg_db, vmin=sg_db.max() - dynamic_range, cmap='afmhot')\n",
        "    plt.ylim([spectrogram.ymin, spectrogram.ymax])\n",
        "    plt.xlabel(\"time [s]\")\n",
        "    plt.ylabel(\"frequency [Hz]\")\n",
        "\n",
        "def draw_intensity_als(intensity_als):\n",
        "    plt.plot(intensity.xs(), intensity.values.T, linewidth=3, color='w')\n",
        "    plt.plot(intensity.xs(), intensity.values.T, linewidth=1)\n",
        "    plt.grid(False)\n",
        "    plt.ylim(0)\n",
        "    plt.ylabel(\"intensity [dB]\")\n",
        "\n",
        "#HC\n",
        "def draw_spectrogram_hc(spectrogram_HC, dynamic_range=70):\n",
        "    X, Y = spectrogram.x_grid(), spectrogram.y_grid()\n",
        "    sg_db = 10 * np.log10(spectrogram.values)\n",
        "    plt.pcolormesh(X, Y, sg_db, vmin=sg_db.max() - dynamic_range, cmap='afmhot')\n",
        "    plt.ylim([spectrogram.ymin, spectrogram.ymax])\n",
        "    plt.xlabel(\"time [s]\")\n",
        "    plt.ylabel(\"frequency [Hz]\")\n",
        "\n",
        "def draw_intensity_hc(intensity_HC):\n",
        "    plt.plot(intensity.xs(), intensity.values.T, linewidth=3, color='w')\n",
        "    plt.plot(intensity.xs(), intensity.values.T, linewidth=1)\n",
        "    plt.grid(False)\n",
        "    plt.ylim(0)\n",
        "    plt.ylabel(\"intensity [dB]\")\n",
        "    \n",
        "#ALS\n",
        "intensity_als = snd_als.to_intensity()\n",
        "spectrogram_als = snd_als.to_spectrogram()\n",
        "plt.figure()\n",
        "draw_spectrogram_als(spectrogram_als)\n",
        "plt.twinx()\n",
        "draw_intensity_als(intensity_als)\n",
        "plt.xlim([snd_als.xmin, snd_als.xmax])\n",
        "plt.show() \n",
        "\n",
        "#HC\n",
        "intensity_HC = snd_HC.to_intensity()\n",
        "spectrogram_HC = snd_HC.to_spectrogram()\n",
        "plt.figure()\n",
        "draw_spectrogram_hc(spectrogram_HC)\n",
        "plt.twinx()\n",
        "draw_intensity_hc(intensity_HC)\n",
        "plt.xlim([snd_HC.xmin, snd_HC.xmax])\n",
        "plt.show() "
      ],
      "execution_count": null,
      "outputs": []
    },
    {
      "cell_type": "markdown",
      "metadata": {
        "id": "tF6Aj7Lqzqhw"
      },
      "source": [
        "Pitch in HC and PD Subjects"
      ]
    },
    {
      "cell_type": "code",
      "metadata": {
        "id": "oYFb02g5znuz"
      },
      "source": [
        "#ALS\n",
        "def draw_pitch(pitch_als):\n",
        "    # Extract selected pitch contour, and\n",
        "    # replace unvoiced samples by NaN to not plot\n",
        "    pitch_values = pitch.selected_array['frequency']\n",
        "    pitch_values[pitch_values==0] = np.nan\n",
        "    plt.plot(pitch.xs(), pitch_values, 'o', markersize=5, color='w')\n",
        "    plt.plot(pitch.xs(), pitch_values, 'o', markersize=2)\n",
        "    plt.grid(False)\n",
        "    plt.ylim(0, pitch.ceiling)\n",
        "    plt.ylabel(\"fundamental frequency [Hz]\")\n",
        "\n",
        "pitch_als = snd_als.to_pitch()\n",
        "# If desired, pre-emphasize the sound fragment before calculating the spectrogram\n",
        "pre_emphasized_snd = snd_als.copy()\n",
        "pre_emphasized_snd.pre_emphasize()\n",
        "spectrogram = pre_emphasized_snd.to_spectrogram(window_length=0.03, maximum_frequency=8000)\n",
        "plt.figure()\n",
        "draw_spectrogram(spectrogram)\n",
        "plt.twinx()\n",
        "draw_pitch(pitch_als)\n",
        "plt.xlim([snd_als.xmin, snd_als.xmax])\n",
        "plt.show() # or plt.savefig(\"spectrogram_0.03.pdf\")\n",
        "\n",
        "#HC\n",
        "def draw_pitch(pitch_HC):\n",
        "    # Extract selected pitch contour, and\n",
        "    # replace unvoiced samples by NaN to not plot\n",
        "    pitch_values = pitch.selected_array['frequency']\n",
        "    pitch_values[pitch_values==0] = np.nan\n",
        "    plt.plot(pitch.xs(), pitch_values, 'o', markersize=5, color='w')\n",
        "    plt.plot(pitch.xs(), pitch_values, 'o', markersize=2)\n",
        "    plt.grid(False)\n",
        "    plt.ylim(0, pitch.ceiling)\n",
        "    plt.ylabel(\"fundamental frequency [Hz]\")\n",
        "\n",
        "pitch_HC = snd_HC.to_pitch()\n",
        "# If desired, pre-emphasize the sound fragment before calculating the spectrogram\n",
        "pre_emphasized_snd_hc = snd_HC.copy()\n",
        "pre_emphasized_snd_hc.pre_emphasize()\n",
        "spectrogram = pre_emphasized_snd_hc.to_spectrogram(window_length=0.03, maximum_frequency=8000)\n",
        "plt.figure()\n",
        "draw_spectrogram(spectrogram)\n",
        "plt.twinx()\n",
        "draw_pitch(pitch_HC)\n",
        "plt.xlim([snd_HC.xmin, snd_HC.xmax])\n",
        "plt.show() # or plt.savefig(\"spectrogram_0.03.pdf\")"
      ],
      "execution_count": null,
      "outputs": []
    }
  ]
}
