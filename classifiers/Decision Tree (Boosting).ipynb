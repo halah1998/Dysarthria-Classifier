{
 "cells": [
  {
   "cell_type": "code",
   "execution_count": 1,
   "id": "a669f433",
   "metadata": {},
   "outputs": [],
   "source": [
    "# Import modules used for the decision tree classifier & plot\n",
    "from sklearn import preprocessing, neighbors, naive_bayes, neural_network, svm, tree\n",
    "from sklearn.metrics import confusion_matrix,  roc_curve, auc\n",
    "from sklearn.model_selection import KFold, StratifiedKFold\n",
    "from sklearn.model_selection import train_test_split\n",
    "from sklearn.ensemble import AdaBoostClassifier, BaggingClassifier, VotingClassifier\n",
    "from sklearn.decomposition import PCA\n",
    "from scipy import interp\n",
    "import numpy as np\n",
    "import pandas as pd\n",
    "import matplotlib.pyplot as plt\n",
    "from IPython.display import HTML, display\n",
    "import tabulate"
   ]
  },
  {
   "cell_type": "code",
   "execution_count": 2,
   "id": "b8a1808a",
   "metadata": {},
   "outputs": [
    {
     "data": {
      "text/html": [
       "<div>\n",
       "<style scoped>\n",
       "    .dataframe tbody tr th:only-of-type {\n",
       "        vertical-align: middle;\n",
       "    }\n",
       "\n",
       "    .dataframe tbody tr th {\n",
       "        vertical-align: top;\n",
       "    }\n",
       "\n",
       "    .dataframe thead th {\n",
       "        text-align: right;\n",
       "    }\n",
       "</style>\n",
       "<table border=\"1\" class=\"dataframe\">\n",
       "  <thead>\n",
       "    <tr style=\"text-align: right;\">\n",
       "      <th></th>\n",
       "      <th>Status</th>\n",
       "      <th>Gender</th>\n",
       "      <th>MDVP:Jitter(%)</th>\n",
       "      <th>MDVP:Jitter(Abs)</th>\n",
       "      <th>Jitter:PPQ5</th>\n",
       "      <th>Jitter:DDP</th>\n",
       "      <th>MDVP:Shimmer</th>\n",
       "      <th>MDVP:Shimmer(dB)</th>\n",
       "      <th>Shimmer:APQ3</th>\n",
       "      <th>Shimmer:APQ5</th>\n",
       "      <th>Shimmer:APQ11</th>\n",
       "      <th>Shimmer:DDA</th>\n",
       "      <th>RPDE</th>\n",
       "      <th>DFA</th>\n",
       "      <th>PPE</th>\n",
       "    </tr>\n",
       "  </thead>\n",
       "  <tbody>\n",
       "    <tr>\n",
       "      <th>0</th>\n",
       "      <td>1</td>\n",
       "      <td>1.0</td>\n",
       "      <td>-0.054993</td>\n",
       "      <td>0.037705</td>\n",
       "      <td>0.078201</td>\n",
       "      <td>0.062894</td>\n",
       "      <td>-0.201283</td>\n",
       "      <td>-0.233889</td>\n",
       "      <td>-0.190826</td>\n",
       "      <td>-0.228931</td>\n",
       "      <td>-0.208934</td>\n",
       "      <td>-0.190677</td>\n",
       "      <td>0.605835</td>\n",
       "      <td>0.256144</td>\n",
       "      <td>0.627644</td>\n",
       "    </tr>\n",
       "    <tr>\n",
       "      <th>1</th>\n",
       "      <td>1</td>\n",
       "      <td>1.0</td>\n",
       "      <td>-0.142570</td>\n",
       "      <td>-0.027844</td>\n",
       "      <td>-0.023255</td>\n",
       "      <td>-0.083360</td>\n",
       "      <td>-0.286750</td>\n",
       "      <td>-0.273123</td>\n",
       "      <td>-0.499987</td>\n",
       "      <td>-0.162993</td>\n",
       "      <td>0.194112</td>\n",
       "      <td>-0.499839</td>\n",
       "      <td>0.368415</td>\n",
       "      <td>-0.080433</td>\n",
       "      <td>0.121620</td>\n",
       "    </tr>\n",
       "    <tr>\n",
       "      <th>2</th>\n",
       "      <td>1</td>\n",
       "      <td>1.0</td>\n",
       "      <td>-0.214916</td>\n",
       "      <td>-0.089022</td>\n",
       "      <td>-0.029223</td>\n",
       "      <td>-0.035742</td>\n",
       "      <td>0.734660</td>\n",
       "      <td>0.760052</td>\n",
       "      <td>0.741128</td>\n",
       "      <td>0.876535</td>\n",
       "      <td>0.659075</td>\n",
       "      <td>0.741133</td>\n",
       "      <td>0.733609</td>\n",
       "      <td>-0.349839</td>\n",
       "      <td>0.617950</td>\n",
       "    </tr>\n",
       "    <tr>\n",
       "      <th>3</th>\n",
       "      <td>1</td>\n",
       "      <td>0.0</td>\n",
       "      <td>0.710353</td>\n",
       "      <td>1.256904</td>\n",
       "      <td>0.907750</td>\n",
       "      <td>0.899601</td>\n",
       "      <td>-0.301887</td>\n",
       "      <td>-0.207732</td>\n",
       "      <td>-0.466431</td>\n",
       "      <td>-0.464316</td>\n",
       "      <td>-0.316846</td>\n",
       "      <td>-0.466432</td>\n",
       "      <td>0.753631</td>\n",
       "      <td>1.382279</td>\n",
       "      <td>-1.980560</td>\n",
       "    </tr>\n",
       "    <tr>\n",
       "      <th>4</th>\n",
       "      <td>1</td>\n",
       "      <td>0.0</td>\n",
       "      <td>1.152045</td>\n",
       "      <td>1.178246</td>\n",
       "      <td>0.663063</td>\n",
       "      <td>1.079867</td>\n",
       "      <td>-0.264860</td>\n",
       "      <td>-0.286201</td>\n",
       "      <td>-0.236462</td>\n",
       "      <td>-0.291184</td>\n",
       "      <td>-0.076256</td>\n",
       "      <td>-0.236313</td>\n",
       "      <td>0.300123</td>\n",
       "      <td>1.398068</td>\n",
       "      <td>-2.472989</td>\n",
       "    </tr>\n",
       "  </tbody>\n",
       "</table>\n",
       "</div>"
      ],
      "text/plain": [
       "   Status  Gender  MDVP:Jitter(%)  MDVP:Jitter(Abs)  Jitter:PPQ5  Jitter:DDP  \\\n",
       "0       1     1.0       -0.054993          0.037705     0.078201    0.062894   \n",
       "1       1     1.0       -0.142570         -0.027844    -0.023255   -0.083360   \n",
       "2       1     1.0       -0.214916         -0.089022    -0.029223   -0.035742   \n",
       "3       1     0.0        0.710353          1.256904     0.907750    0.899601   \n",
       "4       1     0.0        1.152045          1.178246     0.663063    1.079867   \n",
       "\n",
       "   MDVP:Shimmer  MDVP:Shimmer(dB)  Shimmer:APQ3  Shimmer:APQ5  Shimmer:APQ11  \\\n",
       "0     -0.201283         -0.233889     -0.190826     -0.228931      -0.208934   \n",
       "1     -0.286750         -0.273123     -0.499987     -0.162993       0.194112   \n",
       "2      0.734660          0.760052      0.741128      0.876535       0.659075   \n",
       "3     -0.301887         -0.207732     -0.466431     -0.464316      -0.316846   \n",
       "4     -0.264860         -0.286201     -0.236462     -0.291184      -0.076256   \n",
       "\n",
       "   Shimmer:DDA      RPDE       DFA       PPE  \n",
       "0    -0.190677  0.605835  0.256144  0.627644  \n",
       "1    -0.499839  0.368415 -0.080433  0.121620  \n",
       "2     0.741133  0.733609 -0.349839  0.617950  \n",
       "3    -0.466432  0.753631  1.382279 -1.980560  \n",
       "4    -0.236313  0.300123  1.398068 -2.472989  "
      ]
     },
     "execution_count": 2,
     "metadata": {},
     "output_type": "execute_result"
    }
   ],
   "source": [
    "# Read the csv file, dropping the unnamed id column\n",
    "# Show the first 5 rows after modification for review\n",
    "df = pd.read_csv('PD_remove_std_PSF.csv')\n",
    "df.drop(['Unnamed: 0'], 1, inplace=True)\n",
    "df.head()"
   ]
  },
  {
   "cell_type": "code",
   "execution_count": 3,
   "id": "4c623f0d",
   "metadata": {},
   "outputs": [],
   "source": [
    "# Modify the status of the file\n",
    "X = np.array(df.drop(['Status'], 1))\n",
    "y = np.array(df['Status'])"
   ]
  },
  {
   "cell_type": "code",
   "execution_count": 4,
   "id": "7ca8a2da",
   "metadata": {},
   "outputs": [],
   "source": [
    "# Data normalization\n",
    "Z = np.divide((X - X.mean(0)), X.std(0))"
   ]
  },
  {
   "cell_type": "code",
   "execution_count": 5,
   "id": "d0085b9a",
   "metadata": {},
   "outputs": [
    {
     "name": "stdout",
     "output_type": "stream",
     "text": [
      "(756, 14)\n"
     ]
    }
   ],
   "source": [
    "# PCA using 14 features\n",
    "pca = PCA(n_components = 14)\n",
    "Z_PCA = pca.fit_transform(Z)\n",
    "print(Z_PCA.shape)"
   ]
  },
  {
   "cell_type": "code",
   "execution_count": 6,
   "id": "4b1f03e9",
   "metadata": {},
   "outputs": [],
   "source": [
    "# KNN\n",
    "# knn1 = neighbors.KNeighborsClassifier(n_neighbors=7)\n",
    "knn = neighbors.KNeighborsClassifier(n_neighbors=5)\n",
    "\n",
    "# Naive Bayes\n",
    "gnb = naive_bayes.GaussianNB()\n",
    "gnb_bagging = BaggingClassifier(naive_bayes.GaussianNB(), max_samples = 0.5, max_features = 1.0, n_estimators = 20)\n",
    "\n",
    "# Support Vector Machine\n",
    "svmc = svm.SVC(kernel='linear', probability=True,\n",
    "                     random_state=1)\n",
    "\n",
    "# Neural Network\n",
    "nn = neural_network.MLPClassifier(\n",
    "#                                     activation = 'logistic', \n",
    "#                                    solver = 'sgd', \n",
    "#                                    max_iter=3000, \n",
    "#                                    learning_rate_init = 0.001, \n",
    "#                                    momentum = 0.9, \n",
    "#                                    epsilon = 1e-04, \n",
    "                                   hidden_layer_sizes = (500, 500, 200), \n",
    "                                   random_state = 42)\n",
    "# Decision Tree\n",
    "dt = tree.DecisionTreeClassifier(random_state = 42)\n",
    "dt_boost = AdaBoostClassifier(random_state = 42, base_estimator=tree.DecisionTreeClassifier(random_state = 42, max_depth=1), n_estimators= 100, learning_rate = 1)\n",
    "boost = AdaBoostClassifier(n_estimators= 100)\n",
    "vote = VotingClassifier(estimators=[('dt', dt_boost), ('knn', knn), ('nn', nn), ('gnb', gnb)],\n",
    "                          voting='soft', weights=[1, 1, 1, 1])"
   ]
  },
  {
   "cell_type": "code",
   "execution_count": 7,
   "id": "a6edb3cb",
   "metadata": {},
   "outputs": [
    {
     "name": "stderr",
     "output_type": "stream",
     "text": [
      "<ipython-input-7-30cdfe7ad311>:31: DeprecationWarning: scipy.interp is deprecated and will be removed in SciPy 2.0.0, use numpy.interp instead\n",
      "  tprs.append(interp(mean_fpr, fpr, tpr))\n",
      "<ipython-input-7-30cdfe7ad311>:31: DeprecationWarning: scipy.interp is deprecated and will be removed in SciPy 2.0.0, use numpy.interp instead\n",
      "  tprs.append(interp(mean_fpr, fpr, tpr))\n",
      "<ipython-input-7-30cdfe7ad311>:31: DeprecationWarning: scipy.interp is deprecated and will be removed in SciPy 2.0.0, use numpy.interp instead\n",
      "  tprs.append(interp(mean_fpr, fpr, tpr))\n",
      "<ipython-input-7-30cdfe7ad311>:31: DeprecationWarning: scipy.interp is deprecated and will be removed in SciPy 2.0.0, use numpy.interp instead\n",
      "  tprs.append(interp(mean_fpr, fpr, tpr))\n",
      "<ipython-input-7-30cdfe7ad311>:31: DeprecationWarning: scipy.interp is deprecated and will be removed in SciPy 2.0.0, use numpy.interp instead\n",
      "  tprs.append(interp(mean_fpr, fpr, tpr))\n"
     ]
    },
    {
     "data": {
      "image/png": "[encoded data removed]",
      "text/plain": [
       "<Figure size 432x288 with 1 Axes>"
      ]
     },
     "metadata": {
      "needs_background": "light"
     },
     "output_type": "display_data"
    }
   ],
   "source": [
    "folds = 5\n",
    "cv = StratifiedKFold(n_splits=folds)\n",
    "\n",
    "# Classifiers: \n",
    "# Decision Tree: dt\n",
    "# Decision Tree (with boosting): dt_boost\n",
    "# MLP: nn\n",
    "# Gaussian Naive Bayes: gnb\n",
    "# KNN: knn\n",
    "\n",
    "classifier = dt_boost\n",
    "inp = Z\n",
    "\n",
    "acc = np.zeros(folds)\n",
    "confm = np.zeros((2, 2))\n",
    "\n",
    "tprs = []\n",
    "aucs = []\n",
    "mean_fpr = np.linspace(0, 1, 100)\n",
    "\n",
    "# Split the test and train sets\n",
    "i = 0\n",
    "for train, test in cv.split(inp, y):\n",
    "    probas_ = classifier.fit(inp[train], y[train]).predict_proba(inp[test])\n",
    "    # Compute accuracy\n",
    "    y_pred = classifier.predict(inp[test])\n",
    "    acc[i] = (y_pred == y[test]).mean()\n",
    "    # Confusion matrix\n",
    "    confm = confm + confusion_matrix(y[test], y_pred)\n",
    "    # Compute ROC curve and area the curve\n",
    "    fpr, tpr, thresholds = roc_curve(y[test], probas_[:, 1])\n",
    "    tprs.append(interp(mean_fpr, fpr, tpr))\n",
    "    tprs[-1][0] = 0.0\n",
    "    roc_auc = auc(fpr, tpr)\n",
    "    aucs.append(roc_auc)\n",
    "    plt.plot(fpr, tpr, lw=1, alpha=0.3, label='ROC fold %d (AUC = %0.2f)' % (i, roc_auc))\n",
    "    i += 1\n",
    "    \n",
    "    \n",
    "plt.plot([0, 1], [0, 1], linestyle='--', lw=2, color='r',\n",
    "         label='Chance', alpha=.8)\n",
    "\n",
    "mean_tpr = np.mean(tprs, axis=0)\n",
    "mean_tpr[-1] = 1.0\n",
    "mean_auc = auc(mean_fpr, mean_tpr)\n",
    "std_auc = np.std(aucs)\n",
    "plt.plot(mean_fpr, mean_tpr, color='b', label=r'Mean ROC (AUC = %0.2f $\\pm$ %0.2f)' % (mean_auc, std_auc), lw=2, alpha=.8)\n",
    "\n",
    "std_tpr = np.std(tprs, axis=0)\n",
    "tprs_upper = np.minimum(mean_tpr + std_tpr, 1)\n",
    "tprs_lower = np.maximum(mean_tpr - std_tpr, 0)\n",
    "plt.fill_between(mean_fpr, tprs_lower, tprs_upper, color='grey', alpha=.2, label=r'$\\pm$ 1 std. dev.')\n",
    "\n",
    "plt.xlim([-0.05, 1.05])\n",
    "plt.ylim([-0.05, 1.05])\n",
    "plt.xlabel('False Positive Rate')\n",
    "plt.ylabel('True Positive Rate')\n",
    "plt.title('Receiver operating characteristic')\n",
    "plt.legend(loc=\"lower right\")\n",
    "plt.show()"
   ]
  },
  {
   "cell_type": "code",
   "execution_count": 8,
   "id": "fa86ab4a",
   "metadata": {},
   "outputs": [
    {
     "data": {
      "text/plain": [
       "'75.27% +- 4.48%'"
      ]
     },
     "execution_count": 8,
     "metadata": {},
     "output_type": "execute_result"
    }
   ],
   "source": [
    "'{:.2f}% +- {:.2f}%'.format(acc.mean() * 100, acc.std() * 100)"
   ]
  },
  {
   "cell_type": "code",
   "execution_count": 9,
   "id": "b3c281d2",
   "metadata": {},
   "outputs": [],
   "source": [
    "cm = np.zeros((3,3))"
   ]
  },
  {
   "cell_type": "code",
   "execution_count": 10,
   "id": "2bb7d6e1",
   "metadata": {},
   "outputs": [],
   "source": [
    "cm[0:2, 0:2] = confm\n",
    "cm[0,2] = (cm[0,0] / cm[0,0:2].sum())* 100\n",
    "cm[1,2] = (cm[1,1] / cm[1,0:2].sum())* 100\n",
    "cm[2,0] = (cm[0,0] / cm[0:2,0].sum())* 100\n",
    "cm[2,1] = (cm[1,1] / cm[0:2,1].sum())* 100"
   ]
  },
  {
   "cell_type": "code",
   "execution_count": 13,
   "id": "250ff9a8",
   "metadata": {},
   "outputs": [
    {
     "data": {
      "text/html": [
       "<table>\n",
       "<tbody>\n",
       "<tr><td style=\"text-align: right;\">69     </td><td style=\"text-align: right;\">123     </td><td style=\"text-align: right;\">35.9375</td></tr>\n",
       "<tr><td style=\"text-align: right;\">64     </td><td style=\"text-align: right;\">500     </td><td style=\"text-align: right;\">88.6525</td></tr>\n",
       "<tr><td style=\"text-align: right;\">51.8797</td><td style=\"text-align: right;\"> 80.2568</td><td style=\"text-align: right;\"> 0     </td></tr>\n",
       "</tbody>\n",
       "</table>"
      ],
      "text/plain": [
       "<IPython.core.display.HTML object>"
      ]
     },
     "metadata": {},
     "output_type": "display_data"
    }
   ],
   "source": [
    "display(HTML(tabulate.tabulate(cm, tablefmt='html')))"
   ]
  },
  {
   "cell_type": "code",
   "execution_count": null,
   "id": "5d22a45e",
   "metadata": {},
   "outputs": [],
   "source": []
  }
 ],
 "metadata": {
  "kernelspec": {
   "display_name": "Python 3",
   "language": "python",
   "name": "python3"
  },
  "language_info": {
   "codemirror_mode": {
    "name": "ipython",
    "version": 3
   },
   "file_extension": ".py",
   "mimetype": "text/x-python",
   "name": "python",
   "nbconvert_exporter": "python",
   "pygments_lexer": "ipython3",
   "version": "3.8.8"
  }
 },
 "nbformat": 4,
 "nbformat_minor": 5
}
