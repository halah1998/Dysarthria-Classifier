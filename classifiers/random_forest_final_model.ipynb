{
  "nbformat": 4,
  "nbformat_minor": 0,
  "metadata": {
    "colab": {
      "name": "Final Model.ipynb",
      "provenance": [],
      "collapsed_sections": [],
      "authorship_tag": "ABX9TyPGTw2zJ0qZm+1pD8Khh7k9",
      "include_colab_link": true
    },
    "kernelspec": {
      "name": "python3",
      "display_name": "Python 3"
    },
    "language_info": {
      "name": "python"
    }
  },
  "cells": [
    {
      "cell_type": "markdown",
      "metadata": {
        "id": "view-in-github",
        "colab_type": "text"
      },
      "source": [
        "<a href=\"https://colab.research.google.com/github/cpappas18/Articulaite/blob/main/Final_Model.ipynb\" target=\"_parent\"><img src=\"https://colab.research.google.com/assets/colab-badge.svg\" alt=\"Open In Colab\"/></a>"
      ]
    },
    {
      "cell_type": "code",
      "metadata": {
        "id": "m2HbwO51wY42"
      },
      "source": [
        "%matplotlib inline\n",
        "import numpy as np\n",
        "import matplotlib.pyplot as plt\n",
        "import seaborn as sns; sns.set()\n",
        "from sklearn.ensemble import RandomForestClassifier\n",
        "import sklearn\n",
        "from sklearn.preprocessing import MinMaxScaler\n",
        "from sklearn.metrics import accuracy_score\n",
        "from sklearn.model_selection import cross_val_score, KFold\n",
        "from sklearn.model_selection import train_test_split\n",
        "from sklearn.metrics import roc_auc_score\n"
      ],
      "execution_count": 51,
      "outputs": []
    },
    {
      "cell_type": "markdown",
      "metadata": {
        "id": "sJUMB7Wq0gBa"
      },
      "source": [
        "SMOTE Function "
      ]
    },
    {
      "cell_type": "code",
      "metadata": {
        "id": "yfOVaT2txdZv"
      },
      "source": [
        "import pandas as pd\n",
        "import numpy as np\n",
        "from collections import Counter\n",
        "from imblearn.over_sampling import SMOTE\n",
        "from numpy import where, random\n",
        "\n",
        "def smote_multiclass(df, num_samples_dict, one_hot_encoded):\n",
        "  \"\"\"\n",
        "  Performs data augmentation and/or downsampling on a dataframe with multiple classes.\n",
        "  Supports both numerical and one-hot encoded class values.\n",
        "  The SMOTE algorithm is used for augmentation and random sampling is used for downsampling of the specified classes.\n",
        "  Keyword arguments:\n",
        "  df -- the dataframe to manipulate\n",
        "  num_samples_dict -- a dictionary of the form {0: num_desired_samples, 1: num_desired_samples, ...} that indicates the\n",
        "                      number of samples that the returned dataframe should have in each class\n",
        "  one_hot_encoded -- Boolean value indicating if the dataframe is one-hot encoded\n",
        "  \"\"\"\n",
        "\n",
        "  if df.columns[[0]] == 'Unnamed: 0':\n",
        "    df.drop(df.columns[[0]], axis=1, inplace=True)  # remove first column\n",
        "\n",
        "  # change one hot encoded dataset into numerical labels\n",
        "  if one_hot_encoded:\n",
        "    df.insert(loc=0, column='Status', value=np.nan)\n",
        "    for i, row in df.iterrows():\n",
        "      if df.iloc[i]['Control'] == 1:\n",
        "          status = 0\n",
        "      elif df.iloc[i]['Parkinsons'] == 1:\n",
        "          status = 1\n",
        "      elif df.iloc[i]['ALS'] == 1:\n",
        "          status = 2\n",
        "      elif df.iloc[i]['Cerebral_palsy'] == 1:\n",
        "          status = 3\n",
        "      df.at[i,'Status'] = status\n",
        "    df = df.drop(columns=['Control', 'Parkinsons', 'ALS', 'Cerebral_palsy'])\n",
        "\n",
        "\n",
        "  if num_samples_dict is not None:\n",
        "    strategy = num_samples_dict\n",
        "\n",
        "    # downsampling classes if needed\n",
        "    counter = Counter(df.Status)\n",
        "    class_samples = []\n",
        "    for i in range(4):\n",
        "      if counter[i] > num_samples_dict[i]: # class i needs to be downsampled\n",
        "        class_i = df.loc[df['Status'] == i]\n",
        "        class_i_sample = class_i.sample(n=num_samples_dict[i])\n",
        "        class_samples.append(class_i_sample)\n",
        "      else: # class i does not need downsampling\n",
        "        class_i = df.loc[df['Status'] == i]\n",
        "        class_samples.append(class_i)\n",
        "\n",
        "    df = pd.concat(class_samples).reset_index(drop=True)\n",
        "\n",
        "  else:\n",
        "    strategy = 'auto'\n",
        "\n",
        "  y = df.Status # labels\n",
        "  x = df.drop(['Status', 'Gender'], axis=1) # features only, Gender also removed because it must be binary\n",
        "  gender = df.Gender\n",
        "\n",
        "  oversample = SMOTE(sampling_strategy=strategy)\n",
        "  x_oversampled, y_oversampled = oversample.fit_resample(x, y)\n",
        "\n",
        "  # get sample counts for augmented dataset\n",
        "  counter = Counter(y_oversampled)\n",
        "\n",
        "  if num_samples_dict is not None and (counter[0] != num_samples_dict[0] or counter[1] != num_samples_dict[1]\n",
        "                                       or counter[2] != num_samples_dict[2] or counter[3] != num_samples_dict[3]):\n",
        "    print(\"Sampling failed\")\n",
        "  elif num_samples_dict is None and (counter[0] != counter[1] or counter[1] != counter[2] or counter[2] != counter[3]):\n",
        "    print(\"Sampling failed\")\n",
        "\n",
        "  # regenerate dataframe with new samples\n",
        "  df_concat = pd.concat([pd.DataFrame(y_oversampled), pd.DataFrame(gender), pd.DataFrame(x_oversampled)], axis=1)\n",
        "  df_concat.columns = df.columns\n",
        "\n",
        "  # fill missing gender values with a random choice of 0 or 1\n",
        "  for row in df_concat.loc[df_concat.Gender.isnull(), 'Gender'].index:\n",
        "    df_concat.at[row, 'Gender'] = random.randint(0, 2)\n",
        "\n",
        "  # change numerical class values back into one-hot encoded values\n",
        "  if one_hot_encoded:\n",
        "    one_hot = pd.get_dummies(df_concat['Status'])\n",
        "    one_hot.rename(columns={0:'Control', 1:'Parkinsons', 2:'ALS', 3:'Cerebral_palsy'}, inplace=True)\n",
        "    df_concat = df_concat.drop(columns=['Status'], axis=1)\n",
        "    df_concat = pd.concat([one_hot, df_concat], axis=1)\n",
        "\n",
        "  return df_concat"
      ],
      "execution_count": 52,
      "outputs": []
    },
    {
      "cell_type": "markdown",
      "metadata": {
        "id": "7HYrkVxB0ioK"
      },
      "source": [
        "Function to get TP, TN, FP ,FN "
      ]
    },
    {
      "cell_type": "code",
      "metadata": {
        "id": "-vJ5RQubxgcA"
      },
      "source": [
        "#function to get TP,TN,FP,FN\n",
        "def perf_measure(y_actual, y_hat):\n",
        "    \n",
        "    TP = 0\n",
        "    FP = 0\n",
        "    TN = 0\n",
        "    FN = 0\n",
        "\n",
        "    #0=HC, 1= PD, 2 = ALS, 3= CP\n",
        "    for i in range(len(y_hat)): \n",
        "        #actually positive and predicts positive \n",
        "        if y_actual[i]==y_hat[i] and y_actual[i] != 0:\n",
        "           TP += 1\n",
        "           #actually healthy but predicted otherwise \n",
        "        elif y_actual[i]==0 and y_hat[i]!=y_actual[i]:\n",
        "           FP += 1\n",
        "           #actuall negative and predicts neg\n",
        "        elif y_actual[i]== 0 and y_hat[i]==y_actual[i]:\n",
        "           TN += 1\n",
        "           #actual positive but predicts negative \n",
        "        elif y_actual[i] !=0 and y_hat[i] == 0:\n",
        "           FN += 1\n",
        "    return TP, FP, TN, FN"
      ],
      "execution_count": 53,
      "outputs": []
    },
    {
      "cell_type": "markdown",
      "metadata": {
        "id": "4X3aK3lM0mNF"
      },
      "source": [
        "Performance Report function "
      ]
    },
    {
      "cell_type": "code",
      "metadata": {
        "id": "eoFRXX_GxhHF"
      },
      "source": [
        "import csv\n",
        "import matplotlib.pyplot as plt\n",
        "import os\n",
        "import secrets  # to generate jpg name\n",
        "\n",
        "def performance_report(model, X, y, X_test, y_test, y_pred, model_label):\n",
        "\n",
        "  # classification accuracy\n",
        "  try:\n",
        "    from sklearn.metrics import accuracy_score\n",
        "    accuracy = accuracy_score(y_test, y_pred)\n",
        "  except:\n",
        "    accuracy = \"NA\"\n",
        "\n",
        "  # confusion matrix\n",
        "  from sklearn.metrics import confusion_matrix\n",
        "  from sklearn.metrics import plot_confusion_matrix\n",
        "  from sklearn.model_selection import cross_val_score, KFold\n",
        "  \n",
        "  try:\n",
        "    conf = confusion_matrix(y_test, y_pred)\n",
        "    TP = conf[1][1]\n",
        "    TN = conf[0][0]\n",
        "    FP = conf[0][1]\n",
        "    FN = conf[1][0]\n",
        "\n",
        "    disp = plot_confusion_matrix(model, X_test, y_test, cmap=plt.cm.Blues, values_format='.0f')\n",
        "    title = secrets.token_hex(4)\n",
        "    plt.savefig(title, format=\"jpg\")\n",
        "\n",
        "    path1 = os.path.abspath(title+\".jpg\")\n",
        "  except:\n",
        "    TP = TN = FP = FN = path1 = \"\"\n",
        "\n",
        "  # k-fold cross validation\n",
        "  from sklearn import model_selection\n",
        "  try:\n",
        "    kfold = model_selection.KFold(n_splits=6, shuffle=True)\n",
        "    KCV = model_selection.cross_val_score(model, X, y, cv=kfold, scoring='accuracy').mean()\n",
        "  except:\n",
        "    KCV = \"\"\n",
        "\n",
        "  # log loss (closer to 0 is better)\n",
        "  try:\n",
        "    logloss = model_selection.cross_val_score(model, x_train, y_train, cv=kfold, scoring='neg_log_loss').mean()\n",
        "  except:\n",
        "    logloss = \"\"\n",
        "\n",
        "  # AUC (1 is perfect predictions, 0.5 is as good as random)\n",
        "  try:\n",
        "    AUC = model_selection.cross_val_score(model, x_train, y_train, cv=kfold, scoring='roc_auc').mean()\n",
        "  except:\n",
        "    AUC = \"\"\n",
        "\n",
        "  # precision recall curve\n",
        "  from sklearn.metrics import plot_precision_recall_curve\n",
        "  from sklearn.metrics import average_precision_score\n",
        "\n",
        "  try:\n",
        "    y_score = model.decision_function(X_test)\n",
        "    average_precision = average_precision_score(y_test, y_score)\n",
        "\n",
        "    disp = plot_precision_recall_curve(model, x_test, y_test)\n",
        "    title = secrets.token_hex(4)  \n",
        "    plt.savefig(title, format=\"jpg\")\n",
        "\n",
        "    path2 = os.path.abspath(title+\".jpg\")\n",
        "  except:\n",
        "    average_precision = path2 = \"\"\n",
        "\n",
        "  # appending metrics to csv file\n",
        "  with open('metrics.csv', 'a', newline='') as file:\n",
        "    writer = csv.writer(file)\n",
        "    if os.stat(\"metrics.csv\").st_size == 0:\n",
        "      writer.writerow([\"Model label\", \"Accuracy score\", \"TP\", \"TN\", \"FP\", \"FN\", \"Confusion matrix file\",\"KCV\", \"Log-loss\", \"AUC\", \"Average precision\", \"Precision-recall file\"])\n",
        "    writer.writerow([model_label, accuracy, TP, TN, FP, FN, path1, KCV, logloss, AUC, average_precision, path2])"
      ],
      "execution_count": 54,
      "outputs": []
    },
    {
      "cell_type": "markdown",
      "metadata": {
        "id": "55YfM2y-0qBt"
      },
      "source": [
        "Importing dataset "
      ]
    },
    {
      "cell_type": "code",
      "metadata": {
        "colab": {
          "base_uri": "https://localhost:8080/",
          "height": 224
        },
        "id": "J0nrx1VKwe0V",
        "outputId": "5c5de417-5aee-4392-c04a-ec9ee7a9491c"
      },
      "source": [
        "import pandas as pd\n",
        "data = pd.read_csv('all_disorders_median_std.csv')\n",
        "data.tail()"
      ],
      "execution_count": 55,
      "outputs": [
        {
          "output_type": "execute_result",
          "data": {
            "text/html": [
              "<div>\n",
              "<style scoped>\n",
              "    .dataframe tbody tr th:only-of-type {\n",
              "        vertical-align: middle;\n",
              "    }\n",
              "\n",
              "    .dataframe tbody tr th {\n",
              "        vertical-align: top;\n",
              "    }\n",
              "\n",
              "    .dataframe thead th {\n",
              "        text-align: right;\n",
              "    }\n",
              "</style>\n",
              "<table border=\"1\" class=\"dataframe\">\n",
              "  <thead>\n",
              "    <tr style=\"text-align: right;\">\n",
              "      <th></th>\n",
              "      <th>Status</th>\n",
              "      <th>Gender</th>\n",
              "      <th>MDVP:Jitter(%)</th>\n",
              "      <th>MDVP:Jitter(Abs)</th>\n",
              "      <th>Jitter:PPQ5</th>\n",
              "      <th>Jitter:DDP</th>\n",
              "      <th>MDVP:Shimmer</th>\n",
              "      <th>MDVP:Shimmer(dB)</th>\n",
              "      <th>Shimmer:APQ3</th>\n",
              "      <th>Shimmer:APQ5</th>\n",
              "      <th>Shimmer:APQ11</th>\n",
              "      <th>DFA</th>\n",
              "    </tr>\n",
              "  </thead>\n",
              "  <tbody>\n",
              "    <tr>\n",
              "      <th>7114</th>\n",
              "      <td>0</td>\n",
              "      <td>1</td>\n",
              "      <td>-33.243298</td>\n",
              "      <td>-21.578308</td>\n",
              "      <td>-24.440050</td>\n",
              "      <td>-32.691854</td>\n",
              "      <td>-23.328592</td>\n",
              "      <td>-7.466749</td>\n",
              "      <td>-14.202938</td>\n",
              "      <td>-10.933402</td>\n",
              "      <td>-23.923671</td>\n",
              "      <td>-23.417656</td>\n",
              "    </tr>\n",
              "    <tr>\n",
              "      <th>7115</th>\n",
              "      <td>0</td>\n",
              "      <td>1</td>\n",
              "      <td>-1.091966</td>\n",
              "      <td>18.936385</td>\n",
              "      <td>-2.803416</td>\n",
              "      <td>-3.468182</td>\n",
              "      <td>-1.064890</td>\n",
              "      <td>-2.724605</td>\n",
              "      <td>0.447177</td>\n",
              "      <td>4.317949</td>\n",
              "      <td>-4.380995</td>\n",
              "      <td>-1.267387</td>\n",
              "    </tr>\n",
              "    <tr>\n",
              "      <th>7116</th>\n",
              "      <td>0</td>\n",
              "      <td>1</td>\n",
              "      <td>36.342110</td>\n",
              "      <td>-0.576181</td>\n",
              "      <td>43.847541</td>\n",
              "      <td>31.416897</td>\n",
              "      <td>-17.235723</td>\n",
              "      <td>1.363223</td>\n",
              "      <td>-16.826345</td>\n",
              "      <td>-16.550963</td>\n",
              "      <td>-19.062965</td>\n",
              "      <td>-14.755758</td>\n",
              "    </tr>\n",
              "    <tr>\n",
              "      <th>7117</th>\n",
              "      <td>0</td>\n",
              "      <td>1</td>\n",
              "      <td>2.882944</td>\n",
              "      <td>-3.402288</td>\n",
              "      <td>1.476280</td>\n",
              "      <td>7.581402</td>\n",
              "      <td>-18.794885</td>\n",
              "      <td>-2.917623</td>\n",
              "      <td>-20.237481</td>\n",
              "      <td>-26.715980</td>\n",
              "      <td>-28.921770</td>\n",
              "      <td>-19.716314</td>\n",
              "    </tr>\n",
              "    <tr>\n",
              "      <th>7118</th>\n",
              "      <td>0</td>\n",
              "      <td>1</td>\n",
              "      <td>-4.331071</td>\n",
              "      <td>21.605465</td>\n",
              "      <td>-19.186196</td>\n",
              "      <td>-16.242616</td>\n",
              "      <td>21.702316</td>\n",
              "      <td>5.115358</td>\n",
              "      <td>28.461133</td>\n",
              "      <td>15.115793</td>\n",
              "      <td>18.373862</td>\n",
              "      <td>-11.029646</td>\n",
              "    </tr>\n",
              "  </tbody>\n",
              "</table>\n",
              "</div>"
            ],
            "text/plain": [
              "      Status  Gender  MDVP:Jitter(%)  ...  Shimmer:APQ5  Shimmer:APQ11        DFA\n",
              "7114       0       1      -33.243298  ...    -10.933402     -23.923671 -23.417656\n",
              "7115       0       1       -1.091966  ...      4.317949      -4.380995  -1.267387\n",
              "7116       0       1       36.342110  ...    -16.550963     -19.062965 -14.755758\n",
              "7117       0       1        2.882944  ...    -26.715980     -28.921770 -19.716314\n",
              "7118       0       1       -4.331071  ...     15.115793      18.373862 -11.029646\n",
              "\n",
              "[5 rows x 12 columns]"
            ]
          },
          "metadata": {
            "tags": []
          },
          "execution_count": 55
        }
      ]
    },
    {
      "cell_type": "markdown",
      "metadata": {
        "id": "PBcV5-wL0sGN"
      },
      "source": [
        "Dividing into features and labels "
      ]
    },
    {
      "cell_type": "code",
      "metadata": {
        "id": "MeAMpq0Pwt-x"
      },
      "source": [
        "features = data.drop(['Status'], axis = 1)\n",
        "labels = data.drop(['Gender', 'MDVP:Jitter(%)', 'MDVP:Jitter(Abs)', 'Jitter:PPQ5', 'Jitter:DDP', 'MDVP:Shimmer', 'MDVP:Shimmer(dB)', 'Shimmer:APQ3', 'Shimmer:APQ5', 'Shimmer:APQ11', 'DFA'],axis = 1)"
      ],
      "execution_count": 56,
      "outputs": []
    },
    {
      "cell_type": "code",
      "metadata": {
        "id": "WGaxFxXYwwWV"
      },
      "source": [
        "X = features \n",
        "Y = labels \n",
        "X_train,X_test,Y_train,Y_test = train_test_split(X, Y, test_size=0.2, stratify=Y)"
      ],
      "execution_count": 57,
      "outputs": []
    },
    {
      "cell_type": "markdown",
      "metadata": {
        "id": "0P_BG7Ou0ucs"
      },
      "source": [
        "Getting the training set to perform SMOTE on "
      ]
    },
    {
      "cell_type": "code",
      "metadata": {
        "id": "foMOFQcowyE-"
      },
      "source": [
        "pre_smote_training_dataset_median = pd.concat([Y_train, X_train], axis=1, join='inner')"
      ],
      "execution_count": 58,
      "outputs": []
    },
    {
      "cell_type": "code",
      "metadata": {
        "colab": {
          "base_uri": "https://localhost:8080/",
          "height": 439
        },
        "id": "xxPfs7URw2Br",
        "outputId": "53a4b653-b753-4e41-b827-a0c6ff5197c1"
      },
      "source": [
        "pre_smote_training_dataset_median"
      ],
      "execution_count": 59,
      "outputs": [
        {
          "output_type": "execute_result",
          "data": {
            "text/html": [
              "<div>\n",
              "<style scoped>\n",
              "    .dataframe tbody tr th:only-of-type {\n",
              "        vertical-align: middle;\n",
              "    }\n",
              "\n",
              "    .dataframe tbody tr th {\n",
              "        vertical-align: top;\n",
              "    }\n",
              "\n",
              "    .dataframe thead th {\n",
              "        text-align: right;\n",
              "    }\n",
              "</style>\n",
              "<table border=\"1\" class=\"dataframe\">\n",
              "  <thead>\n",
              "    <tr style=\"text-align: right;\">\n",
              "      <th></th>\n",
              "      <th>Status</th>\n",
              "      <th>Gender</th>\n",
              "      <th>MDVP:Jitter(%)</th>\n",
              "      <th>MDVP:Jitter(Abs)</th>\n",
              "      <th>Jitter:PPQ5</th>\n",
              "      <th>Jitter:DDP</th>\n",
              "      <th>MDVP:Shimmer</th>\n",
              "      <th>MDVP:Shimmer(dB)</th>\n",
              "      <th>Shimmer:APQ3</th>\n",
              "      <th>Shimmer:APQ5</th>\n",
              "      <th>Shimmer:APQ11</th>\n",
              "      <th>DFA</th>\n",
              "    </tr>\n",
              "  </thead>\n",
              "  <tbody>\n",
              "    <tr>\n",
              "      <th>1939</th>\n",
              "      <td>1</td>\n",
              "      <td>1</td>\n",
              "      <td>-0.012823</td>\n",
              "      <td>-0.000285</td>\n",
              "      <td>-0.013156</td>\n",
              "      <td>0.004770</td>\n",
              "      <td>-0.292665</td>\n",
              "      <td>-0.654569</td>\n",
              "      <td>-0.162217</td>\n",
              "      <td>-0.193538</td>\n",
              "      <td>-0.244500</td>\n",
              "      <td>-0.742457</td>\n",
              "    </tr>\n",
              "    <tr>\n",
              "      <th>3097</th>\n",
              "      <td>1</td>\n",
              "      <td>0</td>\n",
              "      <td>-0.043461</td>\n",
              "      <td>-0.000321</td>\n",
              "      <td>-0.022637</td>\n",
              "      <td>-0.060669</td>\n",
              "      <td>0.121519</td>\n",
              "      <td>0.155280</td>\n",
              "      <td>0.124605</td>\n",
              "      <td>0.020994</td>\n",
              "      <td>0.020007</td>\n",
              "      <td>-0.483428</td>\n",
              "    </tr>\n",
              "    <tr>\n",
              "      <th>4154</th>\n",
              "      <td>1</td>\n",
              "      <td>0</td>\n",
              "      <td>-0.055367</td>\n",
              "      <td>-0.000430</td>\n",
              "      <td>-0.029835</td>\n",
              "      <td>-0.100071</td>\n",
              "      <td>-0.081678</td>\n",
              "      <td>-0.176022</td>\n",
              "      <td>-0.096327</td>\n",
              "      <td>-0.067921</td>\n",
              "      <td>0.054373</td>\n",
              "      <td>-0.303763</td>\n",
              "    </tr>\n",
              "    <tr>\n",
              "      <th>6613</th>\n",
              "      <td>1</td>\n",
              "      <td>1</td>\n",
              "      <td>-0.033307</td>\n",
              "      <td>-0.000335</td>\n",
              "      <td>-0.021232</td>\n",
              "      <td>-0.103369</td>\n",
              "      <td>0.155645</td>\n",
              "      <td>0.284119</td>\n",
              "      <td>0.083679</td>\n",
              "      <td>0.113747</td>\n",
              "      <td>0.254219</td>\n",
              "      <td>1.733804</td>\n",
              "    </tr>\n",
              "    <tr>\n",
              "      <th>4801</th>\n",
              "      <td>1</td>\n",
              "      <td>0</td>\n",
              "      <td>-0.010197</td>\n",
              "      <td>0.000045</td>\n",
              "      <td>-0.010347</td>\n",
              "      <td>-0.023350</td>\n",
              "      <td>-0.377746</td>\n",
              "      <td>-0.735554</td>\n",
              "      <td>-0.225389</td>\n",
              "      <td>-0.251258</td>\n",
              "      <td>-0.282449</td>\n",
              "      <td>0.632832</td>\n",
              "    </tr>\n",
              "    <tr>\n",
              "      <th>...</th>\n",
              "      <td>...</td>\n",
              "      <td>...</td>\n",
              "      <td>...</td>\n",
              "      <td>...</td>\n",
              "      <td>...</td>\n",
              "      <td>...</td>\n",
              "      <td>...</td>\n",
              "      <td>...</td>\n",
              "      <td>...</td>\n",
              "      <td>...</td>\n",
              "      <td>...</td>\n",
              "      <td>...</td>\n",
              "    </tr>\n",
              "    <tr>\n",
              "      <th>88</th>\n",
              "      <td>1</td>\n",
              "      <td>0</td>\n",
              "      <td>-0.021051</td>\n",
              "      <td>-0.000201</td>\n",
              "      <td>-0.011752</td>\n",
              "      <td>-0.017795</td>\n",
              "      <td>0.464802</td>\n",
              "      <td>1.138142</td>\n",
              "      <td>0.320575</td>\n",
              "      <td>0.336954</td>\n",
              "      <td>-0.102311</td>\n",
              "      <td>0.866027</td>\n",
              "    </tr>\n",
              "    <tr>\n",
              "      <th>2219</th>\n",
              "      <td>1</td>\n",
              "      <td>0</td>\n",
              "      <td>-0.053966</td>\n",
              "      <td>-0.000419</td>\n",
              "      <td>-0.031590</td>\n",
              "      <td>-0.075597</td>\n",
              "      <td>-0.379148</td>\n",
              "      <td>-0.842307</td>\n",
              "      <td>-0.212483</td>\n",
              "      <td>-0.257430</td>\n",
              "      <td>-0.338315</td>\n",
              "      <td>-0.857949</td>\n",
              "    </tr>\n",
              "    <tr>\n",
              "      <th>2389</th>\n",
              "      <td>1</td>\n",
              "      <td>0</td>\n",
              "      <td>-0.011072</td>\n",
              "      <td>0.000163</td>\n",
              "      <td>-0.010698</td>\n",
              "      <td>-0.040708</td>\n",
              "      <td>-0.168628</td>\n",
              "      <td>-0.382166</td>\n",
              "      <td>-0.080534</td>\n",
              "      <td>-0.092778</td>\n",
              "      <td>-0.102474</td>\n",
              "      <td>0.554150</td>\n",
              "    </tr>\n",
              "    <tr>\n",
              "      <th>1519</th>\n",
              "      <td>1</td>\n",
              "      <td>0</td>\n",
              "      <td>-0.017375</td>\n",
              "      <td>-0.000095</td>\n",
              "      <td>-0.008065</td>\n",
              "      <td>-0.045394</td>\n",
              "      <td>-0.360138</td>\n",
              "      <td>-0.776047</td>\n",
              "      <td>-0.214011</td>\n",
              "      <td>-0.240081</td>\n",
              "      <td>-0.304926</td>\n",
              "      <td>0.541296</td>\n",
              "    </tr>\n",
              "    <tr>\n",
              "      <th>3375</th>\n",
              "      <td>1</td>\n",
              "      <td>0</td>\n",
              "      <td>0.015890</td>\n",
              "      <td>0.000436</td>\n",
              "      <td>0.005804</td>\n",
              "      <td>0.015358</td>\n",
              "      <td>0.184628</td>\n",
              "      <td>0.442408</td>\n",
              "      <td>0.091661</td>\n",
              "      <td>0.168131</td>\n",
              "      <td>0.167733</td>\n",
              "      <td>1.009009</td>\n",
              "    </tr>\n",
              "  </tbody>\n",
              "</table>\n",
              "<p>5695 rows × 12 columns</p>\n",
              "</div>"
            ],
            "text/plain": [
              "      Status  Gender  MDVP:Jitter(%)  ...  Shimmer:APQ5  Shimmer:APQ11       DFA\n",
              "1939       1       1       -0.012823  ...     -0.193538      -0.244500 -0.742457\n",
              "3097       1       0       -0.043461  ...      0.020994       0.020007 -0.483428\n",
              "4154       1       0       -0.055367  ...     -0.067921       0.054373 -0.303763\n",
              "6613       1       1       -0.033307  ...      0.113747       0.254219  1.733804\n",
              "4801       1       0       -0.010197  ...     -0.251258      -0.282449  0.632832\n",
              "...      ...     ...             ...  ...           ...            ...       ...\n",
              "88         1       0       -0.021051  ...      0.336954      -0.102311  0.866027\n",
              "2219       1       0       -0.053966  ...     -0.257430      -0.338315 -0.857949\n",
              "2389       1       0       -0.011072  ...     -0.092778      -0.102474  0.554150\n",
              "1519       1       0       -0.017375  ...     -0.240081      -0.304926  0.541296\n",
              "3375       1       0        0.015890  ...      0.168131       0.167733  1.009009\n",
              "\n",
              "[5695 rows x 12 columns]"
            ]
          },
          "metadata": {
            "tags": []
          },
          "execution_count": 59
        }
      ]
    },
    {
      "cell_type": "code",
      "metadata": {
        "id": "K73oWdizw2vF"
      },
      "source": [
        "pre_smote_training_dataset_median.reset_index(inplace = True)\n",
        "pre_smote_training_dataset_median.drop(['index'],axis = 1, inplace = True)"
      ],
      "execution_count": 60,
      "outputs": []
    },
    {
      "cell_type": "code",
      "metadata": {
        "colab": {
          "base_uri": "https://localhost:8080/",
          "height": 439
        },
        "id": "b-BvSnlAw4sw",
        "outputId": "a9e3c9a0-12a1-494a-a3f2-800d68dab136"
      },
      "source": [
        "pre_smote_training_dataset_median"
      ],
      "execution_count": 61,
      "outputs": [
        {
          "output_type": "execute_result",
          "data": {
            "text/html": [
              "<div>\n",
              "<style scoped>\n",
              "    .dataframe tbody tr th:only-of-type {\n",
              "        vertical-align: middle;\n",
              "    }\n",
              "\n",
              "    .dataframe tbody tr th {\n",
              "        vertical-align: top;\n",
              "    }\n",
              "\n",
              "    .dataframe thead th {\n",
              "        text-align: right;\n",
              "    }\n",
              "</style>\n",
              "<table border=\"1\" class=\"dataframe\">\n",
              "  <thead>\n",
              "    <tr style=\"text-align: right;\">\n",
              "      <th></th>\n",
              "      <th>Status</th>\n",
              "      <th>Gender</th>\n",
              "      <th>MDVP:Jitter(%)</th>\n",
              "      <th>MDVP:Jitter(Abs)</th>\n",
              "      <th>Jitter:PPQ5</th>\n",
              "      <th>Jitter:DDP</th>\n",
              "      <th>MDVP:Shimmer</th>\n",
              "      <th>MDVP:Shimmer(dB)</th>\n",
              "      <th>Shimmer:APQ3</th>\n",
              "      <th>Shimmer:APQ5</th>\n",
              "      <th>Shimmer:APQ11</th>\n",
              "      <th>DFA</th>\n",
              "    </tr>\n",
              "  </thead>\n",
              "  <tbody>\n",
              "    <tr>\n",
              "      <th>0</th>\n",
              "      <td>1</td>\n",
              "      <td>1</td>\n",
              "      <td>-0.012823</td>\n",
              "      <td>-0.000285</td>\n",
              "      <td>-0.013156</td>\n",
              "      <td>0.004770</td>\n",
              "      <td>-0.292665</td>\n",
              "      <td>-0.654569</td>\n",
              "      <td>-0.162217</td>\n",
              "      <td>-0.193538</td>\n",
              "      <td>-0.244500</td>\n",
              "      <td>-0.742457</td>\n",
              "    </tr>\n",
              "    <tr>\n",
              "      <th>1</th>\n",
              "      <td>1</td>\n",
              "      <td>0</td>\n",
              "      <td>-0.043461</td>\n",
              "      <td>-0.000321</td>\n",
              "      <td>-0.022637</td>\n",
              "      <td>-0.060669</td>\n",
              "      <td>0.121519</td>\n",
              "      <td>0.155280</td>\n",
              "      <td>0.124605</td>\n",
              "      <td>0.020994</td>\n",
              "      <td>0.020007</td>\n",
              "      <td>-0.483428</td>\n",
              "    </tr>\n",
              "    <tr>\n",
              "      <th>2</th>\n",
              "      <td>1</td>\n",
              "      <td>0</td>\n",
              "      <td>-0.055367</td>\n",
              "      <td>-0.000430</td>\n",
              "      <td>-0.029835</td>\n",
              "      <td>-0.100071</td>\n",
              "      <td>-0.081678</td>\n",
              "      <td>-0.176022</td>\n",
              "      <td>-0.096327</td>\n",
              "      <td>-0.067921</td>\n",
              "      <td>0.054373</td>\n",
              "      <td>-0.303763</td>\n",
              "    </tr>\n",
              "    <tr>\n",
              "      <th>3</th>\n",
              "      <td>1</td>\n",
              "      <td>1</td>\n",
              "      <td>-0.033307</td>\n",
              "      <td>-0.000335</td>\n",
              "      <td>-0.021232</td>\n",
              "      <td>-0.103369</td>\n",
              "      <td>0.155645</td>\n",
              "      <td>0.284119</td>\n",
              "      <td>0.083679</td>\n",
              "      <td>0.113747</td>\n",
              "      <td>0.254219</td>\n",
              "      <td>1.733804</td>\n",
              "    </tr>\n",
              "    <tr>\n",
              "      <th>4</th>\n",
              "      <td>1</td>\n",
              "      <td>0</td>\n",
              "      <td>-0.010197</td>\n",
              "      <td>0.000045</td>\n",
              "      <td>-0.010347</td>\n",
              "      <td>-0.023350</td>\n",
              "      <td>-0.377746</td>\n",
              "      <td>-0.735554</td>\n",
              "      <td>-0.225389</td>\n",
              "      <td>-0.251258</td>\n",
              "      <td>-0.282449</td>\n",
              "      <td>0.632832</td>\n",
              "    </tr>\n",
              "    <tr>\n",
              "      <th>...</th>\n",
              "      <td>...</td>\n",
              "      <td>...</td>\n",
              "      <td>...</td>\n",
              "      <td>...</td>\n",
              "      <td>...</td>\n",
              "      <td>...</td>\n",
              "      <td>...</td>\n",
              "      <td>...</td>\n",
              "      <td>...</td>\n",
              "      <td>...</td>\n",
              "      <td>...</td>\n",
              "      <td>...</td>\n",
              "    </tr>\n",
              "    <tr>\n",
              "      <th>5690</th>\n",
              "      <td>1</td>\n",
              "      <td>0</td>\n",
              "      <td>-0.021051</td>\n",
              "      <td>-0.000201</td>\n",
              "      <td>-0.011752</td>\n",
              "      <td>-0.017795</td>\n",
              "      <td>0.464802</td>\n",
              "      <td>1.138142</td>\n",
              "      <td>0.320575</td>\n",
              "      <td>0.336954</td>\n",
              "      <td>-0.102311</td>\n",
              "      <td>0.866027</td>\n",
              "    </tr>\n",
              "    <tr>\n",
              "      <th>5691</th>\n",
              "      <td>1</td>\n",
              "      <td>0</td>\n",
              "      <td>-0.053966</td>\n",
              "      <td>-0.000419</td>\n",
              "      <td>-0.031590</td>\n",
              "      <td>-0.075597</td>\n",
              "      <td>-0.379148</td>\n",
              "      <td>-0.842307</td>\n",
              "      <td>-0.212483</td>\n",
              "      <td>-0.257430</td>\n",
              "      <td>-0.338315</td>\n",
              "      <td>-0.857949</td>\n",
              "    </tr>\n",
              "    <tr>\n",
              "      <th>5692</th>\n",
              "      <td>1</td>\n",
              "      <td>0</td>\n",
              "      <td>-0.011072</td>\n",
              "      <td>0.000163</td>\n",
              "      <td>-0.010698</td>\n",
              "      <td>-0.040708</td>\n",
              "      <td>-0.168628</td>\n",
              "      <td>-0.382166</td>\n",
              "      <td>-0.080534</td>\n",
              "      <td>-0.092778</td>\n",
              "      <td>-0.102474</td>\n",
              "      <td>0.554150</td>\n",
              "    </tr>\n",
              "    <tr>\n",
              "      <th>5693</th>\n",
              "      <td>1</td>\n",
              "      <td>0</td>\n",
              "      <td>-0.017375</td>\n",
              "      <td>-0.000095</td>\n",
              "      <td>-0.008065</td>\n",
              "      <td>-0.045394</td>\n",
              "      <td>-0.360138</td>\n",
              "      <td>-0.776047</td>\n",
              "      <td>-0.214011</td>\n",
              "      <td>-0.240081</td>\n",
              "      <td>-0.304926</td>\n",
              "      <td>0.541296</td>\n",
              "    </tr>\n",
              "    <tr>\n",
              "      <th>5694</th>\n",
              "      <td>1</td>\n",
              "      <td>0</td>\n",
              "      <td>0.015890</td>\n",
              "      <td>0.000436</td>\n",
              "      <td>0.005804</td>\n",
              "      <td>0.015358</td>\n",
              "      <td>0.184628</td>\n",
              "      <td>0.442408</td>\n",
              "      <td>0.091661</td>\n",
              "      <td>0.168131</td>\n",
              "      <td>0.167733</td>\n",
              "      <td>1.009009</td>\n",
              "    </tr>\n",
              "  </tbody>\n",
              "</table>\n",
              "<p>5695 rows × 12 columns</p>\n",
              "</div>"
            ],
            "text/plain": [
              "      Status  Gender  MDVP:Jitter(%)  ...  Shimmer:APQ5  Shimmer:APQ11       DFA\n",
              "0          1       1       -0.012823  ...     -0.193538      -0.244500 -0.742457\n",
              "1          1       0       -0.043461  ...      0.020994       0.020007 -0.483428\n",
              "2          1       0       -0.055367  ...     -0.067921       0.054373 -0.303763\n",
              "3          1       1       -0.033307  ...      0.113747       0.254219  1.733804\n",
              "4          1       0       -0.010197  ...     -0.251258      -0.282449  0.632832\n",
              "...      ...     ...             ...  ...           ...            ...       ...\n",
              "5690       1       0       -0.021051  ...      0.336954      -0.102311  0.866027\n",
              "5691       1       0       -0.053966  ...     -0.257430      -0.338315 -0.857949\n",
              "5692       1       0       -0.011072  ...     -0.092778      -0.102474  0.554150\n",
              "5693       1       0       -0.017375  ...     -0.240081      -0.304926  0.541296\n",
              "5694       1       0        0.015890  ...      0.168131       0.167733  1.009009\n",
              "\n",
              "[5695 rows x 12 columns]"
            ]
          },
          "metadata": {
            "tags": []
          },
          "execution_count": 61
        }
      ]
    },
    {
      "cell_type": "markdown",
      "metadata": {
        "id": "8jxivyup00DY"
      },
      "source": [
        "Doing SMOTE on the training set "
      ]
    },
    {
      "cell_type": "code",
      "metadata": {
        "colab": {
          "base_uri": "https://localhost:8080/"
        },
        "id": "9NwUWhwyw6ej",
        "outputId": "406d43de-d3f6-4a9a-82f0-95b36cbec591"
      },
      "source": [
        "smoted_training_data_median = smote_multiclass(pre_smote_training_dataset_median, num_samples_dict={0:6000, 1:6000, 2:6000, 3:6000}, one_hot_encoded=False)"
      ],
      "execution_count": 62,
      "outputs": [
        {
          "output_type": "stream",
          "text": [
            "/usr/local/lib/python3.7/dist-packages/imblearn/utils/_validation.py:257: UserWarning: After over-sampling, the number of samples (6000) in class 0 will be larger than the number of samples in the majority class (class #1 -> 5365)\n",
            "  n_samples_majority))\n",
            "/usr/local/lib/python3.7/dist-packages/imblearn/utils/_validation.py:257: UserWarning: After over-sampling, the number of samples (6000) in class 1 will be larger than the number of samples in the majority class (class #1 -> 5365)\n",
            "  n_samples_majority))\n",
            "/usr/local/lib/python3.7/dist-packages/imblearn/utils/_validation.py:257: UserWarning: After over-sampling, the number of samples (6000) in class 2 will be larger than the number of samples in the majority class (class #1 -> 5365)\n",
            "  n_samples_majority))\n",
            "/usr/local/lib/python3.7/dist-packages/imblearn/utils/_validation.py:257: UserWarning: After over-sampling, the number of samples (6000) in class 3 will be larger than the number of samples in the majority class (class #1 -> 5365)\n",
            "  n_samples_majority))\n",
            "/usr/local/lib/python3.7/dist-packages/sklearn/utils/deprecation.py:87: FutureWarning: Function safe_indexing is deprecated; safe_indexing is deprecated in version 0.22 and will be removed in version 0.24.\n",
            "  warnings.warn(msg, category=FutureWarning)\n",
            "/usr/local/lib/python3.7/dist-packages/sklearn/utils/deprecation.py:87: FutureWarning: Function safe_indexing is deprecated; safe_indexing is deprecated in version 0.22 and will be removed in version 0.24.\n",
            "  warnings.warn(msg, category=FutureWarning)\n",
            "/usr/local/lib/python3.7/dist-packages/sklearn/utils/deprecation.py:87: FutureWarning: Function safe_indexing is deprecated; safe_indexing is deprecated in version 0.22 and will be removed in version 0.24.\n",
            "  warnings.warn(msg, category=FutureWarning)\n",
            "/usr/local/lib/python3.7/dist-packages/sklearn/utils/deprecation.py:87: FutureWarning: Function safe_indexing is deprecated; safe_indexing is deprecated in version 0.22 and will be removed in version 0.24.\n",
            "  warnings.warn(msg, category=FutureWarning)\n"
          ],
          "name": "stderr"
        }
      ]
    },
    {
      "cell_type": "code",
      "metadata": {
        "colab": {
          "base_uri": "https://localhost:8080/",
          "height": 439
        },
        "id": "v89YgtXyw9wr",
        "outputId": "f8e5919f-fc1b-48a0-d0b8-618faf9a1af0"
      },
      "source": [
        "smoted_training_data_median"
      ],
      "execution_count": 63,
      "outputs": [
        {
          "output_type": "execute_result",
          "data": {
            "text/html": [
              "<div>\n",
              "<style scoped>\n",
              "    .dataframe tbody tr th:only-of-type {\n",
              "        vertical-align: middle;\n",
              "    }\n",
              "\n",
              "    .dataframe tbody tr th {\n",
              "        vertical-align: top;\n",
              "    }\n",
              "\n",
              "    .dataframe thead th {\n",
              "        text-align: right;\n",
              "    }\n",
              "</style>\n",
              "<table border=\"1\" class=\"dataframe\">\n",
              "  <thead>\n",
              "    <tr style=\"text-align: right;\">\n",
              "      <th></th>\n",
              "      <th>Status</th>\n",
              "      <th>Gender</th>\n",
              "      <th>MDVP:Jitter(%)</th>\n",
              "      <th>MDVP:Jitter(Abs)</th>\n",
              "      <th>Jitter:PPQ5</th>\n",
              "      <th>Jitter:DDP</th>\n",
              "      <th>MDVP:Shimmer</th>\n",
              "      <th>MDVP:Shimmer(dB)</th>\n",
              "      <th>Shimmer:APQ3</th>\n",
              "      <th>Shimmer:APQ5</th>\n",
              "      <th>Shimmer:APQ11</th>\n",
              "      <th>DFA</th>\n",
              "    </tr>\n",
              "  </thead>\n",
              "  <tbody>\n",
              "    <tr>\n",
              "      <th>0</th>\n",
              "      <td>0</td>\n",
              "      <td>0.0</td>\n",
              "      <td>-0.066046</td>\n",
              "      <td>-0.000553</td>\n",
              "      <td>-0.042299</td>\n",
              "      <td>-0.113437</td>\n",
              "      <td>0.594138</td>\n",
              "      <td>1.108693</td>\n",
              "      <td>0.397842</td>\n",
              "      <td>0.471245</td>\n",
              "      <td>0.429959</td>\n",
              "      <td>0.881539</td>\n",
              "    </tr>\n",
              "    <tr>\n",
              "      <th>1</th>\n",
              "      <td>0</td>\n",
              "      <td>1.0</td>\n",
              "      <td>-0.053091</td>\n",
              "      <td>-0.000271</td>\n",
              "      <td>-0.024743</td>\n",
              "      <td>-0.094517</td>\n",
              "      <td>0.115130</td>\n",
              "      <td>0.225221</td>\n",
              "      <td>0.023903</td>\n",
              "      <td>0.110744</td>\n",
              "      <td>0.413835</td>\n",
              "      <td>1.038028</td>\n",
              "    </tr>\n",
              "    <tr>\n",
              "      <th>2</th>\n",
              "      <td>0</td>\n",
              "      <td>0.0</td>\n",
              "      <td>-0.076463</td>\n",
              "      <td>-0.000475</td>\n",
              "      <td>-0.024317</td>\n",
              "      <td>-0.129319</td>\n",
              "      <td>-0.104194</td>\n",
              "      <td>-0.306702</td>\n",
              "      <td>-0.025819</td>\n",
              "      <td>-0.043399</td>\n",
              "      <td>-0.108386</td>\n",
              "      <td>-1.158067</td>\n",
              "    </tr>\n",
              "    <tr>\n",
              "      <th>3</th>\n",
              "      <td>0</td>\n",
              "      <td>1.0</td>\n",
              "      <td>-0.076463</td>\n",
              "      <td>-0.000560</td>\n",
              "      <td>-0.026780</td>\n",
              "      <td>-0.129319</td>\n",
              "      <td>-0.280791</td>\n",
              "      <td>-0.628838</td>\n",
              "      <td>-0.152299</td>\n",
              "      <td>-0.171384</td>\n",
              "      <td>-0.247953</td>\n",
              "      <td>-1.118315</td>\n",
              "    </tr>\n",
              "    <tr>\n",
              "      <th>4</th>\n",
              "      <td>0</td>\n",
              "      <td>0.0</td>\n",
              "      <td>-0.090557</td>\n",
              "      <td>-0.000692</td>\n",
              "      <td>-0.050375</td>\n",
              "      <td>-0.137738</td>\n",
              "      <td>0.236518</td>\n",
              "      <td>0.545480</td>\n",
              "      <td>0.171305</td>\n",
              "      <td>0.175805</td>\n",
              "      <td>0.167570</td>\n",
              "      <td>-0.159349</td>\n",
              "    </tr>\n",
              "    <tr>\n",
              "      <th>...</th>\n",
              "      <td>...</td>\n",
              "      <td>...</td>\n",
              "      <td>...</td>\n",
              "      <td>...</td>\n",
              "      <td>...</td>\n",
              "      <td>...</td>\n",
              "      <td>...</td>\n",
              "      <td>...</td>\n",
              "      <td>...</td>\n",
              "      <td>...</td>\n",
              "      <td>...</td>\n",
              "      <td>...</td>\n",
              "    </tr>\n",
              "    <tr>\n",
              "      <th>23995</th>\n",
              "      <td>3</td>\n",
              "      <td>0.0</td>\n",
              "      <td>-1.720904</td>\n",
              "      <td>-6.250975</td>\n",
              "      <td>0.428600</td>\n",
              "      <td>2.978906</td>\n",
              "      <td>-16.338208</td>\n",
              "      <td>-5.168954</td>\n",
              "      <td>-16.250771</td>\n",
              "      <td>-17.034300</td>\n",
              "      <td>-16.651903</td>\n",
              "      <td>2.697227</td>\n",
              "    </tr>\n",
              "    <tr>\n",
              "      <th>23996</th>\n",
              "      <td>3</td>\n",
              "      <td>0.0</td>\n",
              "      <td>0.369451</td>\n",
              "      <td>-10.099027</td>\n",
              "      <td>0.796307</td>\n",
              "      <td>4.196481</td>\n",
              "      <td>-11.811699</td>\n",
              "      <td>-1.817727</td>\n",
              "      <td>-14.062947</td>\n",
              "      <td>-13.053548</td>\n",
              "      <td>-11.577223</td>\n",
              "      <td>0.206325</td>\n",
              "    </tr>\n",
              "    <tr>\n",
              "      <th>23997</th>\n",
              "      <td>3</td>\n",
              "      <td>0.0</td>\n",
              "      <td>8.461369</td>\n",
              "      <td>-7.594139</td>\n",
              "      <td>6.790427</td>\n",
              "      <td>13.815745</td>\n",
              "      <td>1.791773</td>\n",
              "      <td>-1.358804</td>\n",
              "      <td>3.857816</td>\n",
              "      <td>10.322011</td>\n",
              "      <td>14.189717</td>\n",
              "      <td>-4.571306</td>\n",
              "    </tr>\n",
              "    <tr>\n",
              "      <th>23998</th>\n",
              "      <td>3</td>\n",
              "      <td>0.0</td>\n",
              "      <td>-1.085191</td>\n",
              "      <td>-7.904161</td>\n",
              "      <td>2.186310</td>\n",
              "      <td>0.969982</td>\n",
              "      <td>1.886047</td>\n",
              "      <td>-1.368098</td>\n",
              "      <td>3.108355</td>\n",
              "      <td>4.420190</td>\n",
              "      <td>-2.248656</td>\n",
              "      <td>-3.007468</td>\n",
              "    </tr>\n",
              "    <tr>\n",
              "      <th>23999</th>\n",
              "      <td>3</td>\n",
              "      <td>1.0</td>\n",
              "      <td>-6.678161</td>\n",
              "      <td>-13.249924</td>\n",
              "      <td>-4.694750</td>\n",
              "      <td>-5.509705</td>\n",
              "      <td>-4.254505</td>\n",
              "      <td>3.573188</td>\n",
              "      <td>-11.790952</td>\n",
              "      <td>-8.709904</td>\n",
              "      <td>-3.499302</td>\n",
              "      <td>1.033045</td>\n",
              "    </tr>\n",
              "  </tbody>\n",
              "</table>\n",
              "<p>24000 rows × 12 columns</p>\n",
              "</div>"
            ],
            "text/plain": [
              "       Status  Gender  MDVP:Jitter(%)  ...  Shimmer:APQ5  Shimmer:APQ11       DFA\n",
              "0           0     0.0       -0.066046  ...      0.471245       0.429959  0.881539\n",
              "1           0     1.0       -0.053091  ...      0.110744       0.413835  1.038028\n",
              "2           0     0.0       -0.076463  ...     -0.043399      -0.108386 -1.158067\n",
              "3           0     1.0       -0.076463  ...     -0.171384      -0.247953 -1.118315\n",
              "4           0     0.0       -0.090557  ...      0.175805       0.167570 -0.159349\n",
              "...       ...     ...             ...  ...           ...            ...       ...\n",
              "23995       3     0.0       -1.720904  ...    -17.034300     -16.651903  2.697227\n",
              "23996       3     0.0        0.369451  ...    -13.053548     -11.577223  0.206325\n",
              "23997       3     0.0        8.461369  ...     10.322011      14.189717 -4.571306\n",
              "23998       3     0.0       -1.085191  ...      4.420190      -2.248656 -3.007468\n",
              "23999       3     1.0       -6.678161  ...     -8.709904      -3.499302  1.033045\n",
              "\n",
              "[24000 rows x 12 columns]"
            ]
          },
          "metadata": {
            "tags": []
          },
          "execution_count": 63
        }
      ]
    },
    {
      "cell_type": "markdown",
      "metadata": {
        "id": "JCaJQr2003ud"
      },
      "source": [
        "Dividing smoted training set into features and labels to train the model on "
      ]
    },
    {
      "cell_type": "code",
      "metadata": {
        "id": "oh7uNtkyw_pg"
      },
      "source": [
        "new_X_train_median = smoted_training_data_median.drop(['Status'], axis = 1)\n",
        "new_Y_train_median = smoted_training_data_median.drop(['Gender', 'MDVP:Jitter(%)', 'MDVP:Jitter(Abs)', 'Jitter:PPQ5', 'Jitter:DDP', 'MDVP:Shimmer', 'MDVP:Shimmer(dB)', 'Shimmer:APQ3', 'Shimmer:APQ5', 'Shimmer:APQ11', 'DFA'],axis = 1)"
      ],
      "execution_count": 64,
      "outputs": []
    },
    {
      "cell_type": "code",
      "metadata": {
        "colab": {
          "base_uri": "https://localhost:8080/"
        },
        "id": "ELfqH97vxCv6",
        "outputId": "d23fc351-77f8-4ac5-e100-686775cbe761"
      },
      "source": [
        "model2 = RandomForestClassifier(n_estimators=100, max_depth=70, bootstrap=True, max_features='sqrt', min_samples_leaf=1, min_samples_split=3)\n",
        "model2.fit(new_X_train_median, new_Y_train_median)"
      ],
      "execution_count": 65,
      "outputs": [
        {
          "output_type": "stream",
          "text": [
            "/usr/local/lib/python3.7/dist-packages/ipykernel_launcher.py:2: DataConversionWarning: A column-vector y was passed when a 1d array was expected. Please change the shape of y to (n_samples,), for example using ravel().\n",
            "  \n"
          ],
          "name": "stderr"
        },
        {
          "output_type": "execute_result",
          "data": {
            "text/plain": [
              "RandomForestClassifier(bootstrap=True, ccp_alpha=0.0, class_weight=None,\n",
              "                       criterion='gini', max_depth=70, max_features='sqrt',\n",
              "                       max_leaf_nodes=None, max_samples=None,\n",
              "                       min_impurity_decrease=0.0, min_impurity_split=None,\n",
              "                       min_samples_leaf=1, min_samples_split=3,\n",
              "                       min_weight_fraction_leaf=0.0, n_estimators=100,\n",
              "                       n_jobs=None, oob_score=False, random_state=None,\n",
              "                       verbose=0, warm_start=False)"
            ]
          },
          "metadata": {
            "tags": []
          },
          "execution_count": 65
        }
      ]
    },
    {
      "cell_type": "markdown",
      "metadata": {
        "id": "XMQPi0cZ1AZP"
      },
      "source": [
        "Calculating Metrics "
      ]
    },
    {
      "cell_type": "code",
      "metadata": {
        "id": "Bd1shQICxFnV"
      },
      "source": [
        "Y_pred = model2.predict(X_test)"
      ],
      "execution_count": 66,
      "outputs": []
    },
    {
      "cell_type": "code",
      "metadata": {
        "colab": {
          "base_uri": "https://localhost:8080/"
        },
        "id": "wZVyVbGbxHsL",
        "outputId": "7eeef915-197f-401a-a15a-615192dd979c"
      },
      "source": [
        "from sklearn import metrics\n",
        "print(metrics.classification_report(Y_pred, Y_test))"
      ],
      "execution_count": 67,
      "outputs": [
        {
          "output_type": "stream",
          "text": [
            "              precision    recall  f1-score   support\n",
            "\n",
            "           0       0.97      0.59      0.74       127\n",
            "           1       0.96      1.00      0.98      1294\n",
            "           2       0.67      1.00      0.80         2\n",
            "           3       0.33      1.00      0.50         1\n",
            "\n",
            "    accuracy                           0.96      1424\n",
            "   macro avg       0.73      0.90      0.75      1424\n",
            "weighted avg       0.96      0.96      0.96      1424\n",
            "\n"
          ],
          "name": "stdout"
        }
      ]
    },
    {
      "cell_type": "code",
      "metadata": {
        "colab": {
          "base_uri": "https://localhost:8080/"
        },
        "id": "ROhUuba7xJIx",
        "outputId": "cb1ba555-f7d8-499c-882e-5758538cfab2"
      },
      "source": [
        "from itertools import chain\n",
        "roc_auc_score(Y_test, model2.predict_proba(X_test), multi_class='ovr')"
      ],
      "execution_count": 69,
      "outputs": [
        {
          "output_type": "execute_result",
          "data": {
            "text/plain": [
              "0.9967156215474401"
            ]
          },
          "metadata": {
            "tags": []
          },
          "execution_count": 69
        }
      ]
    },
    {
      "cell_type": "code",
      "metadata": {
        "colab": {
          "base_uri": "https://localhost:8080/"
        },
        "id": "F4Oa0lNTxN7l",
        "outputId": "68bdba0e-b155-46ff-fefc-fe5447315552"
      },
      "source": [
        "print(accuracy_score(Y_test, Y_pred)*100)"
      ],
      "execution_count": 68,
      "outputs": [
        {
          "output_type": "stream",
          "text": [
            "96.20786516853933\n"
          ],
          "name": "stdout"
        }
      ]
    },
    {
      "cell_type": "code",
      "metadata": {
        "id": "J1b6rfMwxRn6"
      },
      "source": [
        "Y_pred_list = Y_pred.tolist()\n",
        "\n",
        "Y_test_list = Y_test.values.tolist()\n",
        "\n",
        "#changing from 2d list into 1d list \n",
        "Y_test_list = list(chain.from_iterable(Y_test_list))\n",
        "\n",
        "TP,FP, TN, FN = perf_measure(Y_test_list, Y_pred_list)"
      ],
      "execution_count": 70,
      "outputs": []
    },
    {
      "cell_type": "code",
      "metadata": {
        "colab": {
          "base_uri": "https://localhost:8080/"
        },
        "id": "I8vyJCVAyla4",
        "outputId": "31a876ed-2753-4750-dc65-0deb204c308e"
      },
      "source": [
        "print(FN)"
      ],
      "execution_count": 73,
      "outputs": [
        {
          "output_type": "stream",
          "text": [
            "52\n"
          ],
          "name": "stdout"
        }
      ]
    },
    {
      "cell_type": "code",
      "metadata": {
        "id": "ixNfOwCMxTxo"
      },
      "source": [
        "kfold = KFold(n_splits=10, shuffle=True)\n",
        "kf_cv_scores = cross_val_score(model2, new_X_train_median, new_Y_train_median, cv=kfold )\n",
        "print(\"K-fold CV average score: %.2f\" % kf_cv_scores.mean())"
      ],
      "execution_count": null,
      "outputs": []
    },
    {
      "cell_type": "code",
      "metadata": {
        "colab": {
          "base_uri": "https://localhost:8080/",
          "height": 509
        },
        "id": "CeuAk5f4xWD-",
        "outputId": "804de1fa-7c9f-4429-b17b-37cd69d858a3"
      },
      "source": [
        "model_label = 'Randomforest_alldisorders_median'\n",
        "performance_report(model2, new_X_train_median, new_Y_train_median, X_test, Y_test, Y_pred, model_label)"
      ],
      "execution_count": 72,
      "outputs": [
        {
          "output_type": "stream",
          "text": [
            "/usr/local/lib/python3.7/dist-packages/sklearn/model_selection/_validation.py:515: DataConversionWarning: A column-vector y was passed when a 1d array was expected. Please change the shape of y to (n_samples,), for example using ravel().\n",
            "  estimator.fit(X_train, y_train, **fit_params)\n",
            "/usr/local/lib/python3.7/dist-packages/sklearn/model_selection/_validation.py:515: DataConversionWarning: A column-vector y was passed when a 1d array was expected. Please change the shape of y to (n_samples,), for example using ravel().\n",
            "  estimator.fit(X_train, y_train, **fit_params)\n",
            "/usr/local/lib/python3.7/dist-packages/sklearn/model_selection/_validation.py:515: DataConversionWarning: A column-vector y was passed when a 1d array was expected. Please change the shape of y to (n_samples,), for example using ravel().\n",
            "  estimator.fit(X_train, y_train, **fit_params)\n",
            "/usr/local/lib/python3.7/dist-packages/sklearn/model_selection/_validation.py:515: DataConversionWarning: A column-vector y was passed when a 1d array was expected. Please change the shape of y to (n_samples,), for example using ravel().\n",
            "  estimator.fit(X_train, y_train, **fit_params)\n",
            "/usr/local/lib/python3.7/dist-packages/sklearn/model_selection/_validation.py:515: DataConversionWarning: A column-vector y was passed when a 1d array was expected. Please change the shape of y to (n_samples,), for example using ravel().\n",
            "  estimator.fit(X_train, y_train, **fit_params)\n",
            "/usr/local/lib/python3.7/dist-packages/sklearn/model_selection/_validation.py:515: DataConversionWarning: A column-vector y was passed when a 1d array was expected. Please change the shape of y to (n_samples,), for example using ravel().\n",
            "  estimator.fit(X_train, y_train, **fit_params)\n"
          ],
          "name": "stderr"
        },
        {
          "output_type": "display_data",
          "data": {
            "image/png": "[encoded data removed]",
            "text/plain": [
              "<Figure size 432x288 with 2 Axes>"
            ]
          },
          "metadata": {
            "tags": []
          }
        }
      ]
    },
    {
      "cell_type": "markdown",
      "metadata": {
        "id": "q9bZ6gS50cEZ"
      },
      "source": [
        "Saving the model to a file "
      ]
    },
    {
      "cell_type": "code",
      "metadata": {
        "id": "61RAis9T0Vyv"
      },
      "source": [
        "import pickle\n",
        "\n",
        "filename = 'finalized_model.sav'\n",
        "pickle.dump(model2, open(filename, 'wb'))"
      ],
      "execution_count": 76,
      "outputs": []
    },
    {
      "cell_type": "code",
      "metadata": {
        "id": "Tq_b3kKO0YWH"
      },
      "source": [
        "loaded_model = pickle.load(open(filename, 'rb'))"
      ],
      "execution_count": 77,
      "outputs": []
    }
  ]
}
