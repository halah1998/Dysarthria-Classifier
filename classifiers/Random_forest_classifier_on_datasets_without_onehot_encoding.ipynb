{
  "nbformat": 4,
  "nbformat_minor": 0,
  "metadata": {
    "colab": {
      "name": "Random forest classifier on datasets without onehot encoding.ipynb",
      "provenance": [],
      "collapsed_sections": [],
      "authorship_tag": "ABX9TyPBVwSk0QEy7XVl4iidkUOd",
      "include_colab_link": true
    },
    "kernelspec": {
      "name": "python3",
      "display_name": "Python 3"
    },
    "language_info": {
      "name": "python"
    }
  },
  "cells": [
    {
      "cell_type": "markdown",
      "metadata": {
        "id": "view-in-github",
        "colab_type": "text"
      },
      "source": [
        "<a href=\"https://colab.research.google.com/github/cpappas18/Articulaite/blob/main/Random_forest_classifier_on_datasets_without_onehot_encoding.ipynb\" target=\"_parent\"><img src=\"https://colab.research.google.com/assets/colab-badge.svg\" alt=\"Open In Colab\"/></a>"
      ]
    },
    {
      "cell_type": "code",
      "metadata": {
        "id": "5eJpXelXi2nB"
      },
      "source": [
        "%matplotlib inline\n",
        "import numpy as np\n",
        "import matplotlib.pyplot as plt\n",
        "import seaborn as sns; sns.set()\n",
        "from sklearn.ensemble import RandomForestClassifier\n",
        "import sklearn\n",
        "from sklearn.preprocessing import MinMaxScaler\n",
        "from sklearn.metrics import accuracy_score\n",
        "from sklearn.model_selection import cross_val_score, KFold\n",
        "from sklearn.model_selection import train_test_split\n",
        "\n"
      ],
      "execution_count": null,
      "outputs": []
    },
    {
      "cell_type": "code",
      "metadata": {
        "colab": {
          "base_uri": "https://localhost:8080/",
          "height": 224
        },
        "id": "mY0V2dZosAiN",
        "outputId": "65a7bd2d-d725-4b33-d423-dc84e7b48dba"
      },
      "source": [
        "import pandas as pd\n",
        "df = pd.read_csv('all_disorders_remove_std.csv')\n",
        "df.tail()"
      ],
      "execution_count": null,
      "outputs": [
        {
          "output_type": "execute_result",
          "data": {
            "text/html": [
              "<div>\n",
              "<style scoped>\n",
              "    .dataframe tbody tr th:only-of-type {\n",
              "        vertical-align: middle;\n",
              "    }\n",
              "\n",
              "    .dataframe tbody tr th {\n",
              "        vertical-align: top;\n",
              "    }\n",
              "\n",
              "    .dataframe thead th {\n",
              "        text-align: right;\n",
              "    }\n",
              "</style>\n",
              "<table border=\"1\" class=\"dataframe\">\n",
              "  <thead>\n",
              "    <tr style=\"text-align: right;\">\n",
              "      <th></th>\n",
              "      <th>Status</th>\n",
              "      <th>Gender</th>\n",
              "      <th>MDVP:Jitter(%)</th>\n",
              "      <th>MDVP:Jitter(Abs)</th>\n",
              "      <th>Jitter:PPQ5</th>\n",
              "      <th>Jitter:DDP</th>\n",
              "      <th>MDVP:Shimmer</th>\n",
              "      <th>MDVP:Shimmer(dB)</th>\n",
              "      <th>Shimmer:APQ3</th>\n",
              "      <th>Shimmer:APQ5</th>\n",
              "      <th>Shimmer:APQ11</th>\n",
              "      <th>DFA</th>\n",
              "    </tr>\n",
              "  </thead>\n",
              "  <tbody>\n",
              "    <tr>\n",
              "      <th>6679</th>\n",
              "      <td>0</td>\n",
              "      <td>1</td>\n",
              "      <td>-32.217900</td>\n",
              "      <td>-20.908653</td>\n",
              "      <td>-23.684420</td>\n",
              "      <td>-31.694701</td>\n",
              "      <td>-22.688858</td>\n",
              "      <td>-7.370397</td>\n",
              "      <td>-13.781598</td>\n",
              "      <td>-10.612545</td>\n",
              "      <td>-23.216192</td>\n",
              "      <td>-23.194185</td>\n",
              "    </tr>\n",
              "    <tr>\n",
              "      <th>6680</th>\n",
              "      <td>0</td>\n",
              "      <td>1</td>\n",
              "      <td>-1.059601</td>\n",
              "      <td>18.348724</td>\n",
              "      <td>-2.716940</td>\n",
              "      <td>-3.364087</td>\n",
              "      <td>-1.038437</td>\n",
              "      <td>-2.693716</td>\n",
              "      <td>0.433780</td>\n",
              "      <td>4.189205</td>\n",
              "      <td>-4.254203</td>\n",
              "      <td>-1.252287</td>\n",
              "    </tr>\n",
              "    <tr>\n",
              "      <th>6681</th>\n",
              "      <td>0</td>\n",
              "      <td>1</td>\n",
              "      <td>35.218278</td>\n",
              "      <td>-0.558297</td>\n",
              "      <td>42.491249</td>\n",
              "      <td>30.454924</td>\n",
              "      <td>-16.763825</td>\n",
              "      <td>1.337682</td>\n",
              "      <td>-16.327157</td>\n",
              "      <td>-16.064503</td>\n",
              "      <td>-18.499916</td>\n",
              "      <td>-14.613771</td>\n",
              "    </tr>\n",
              "    <tr>\n",
              "      <th>6682</th>\n",
              "      <td>0</td>\n",
              "      <td>1</td>\n",
              "      <td>2.792539</td>\n",
              "      <td>-3.296699</td>\n",
              "      <td>1.430399</td>\n",
              "      <td>7.347828</td>\n",
              "      <td>-18.280037</td>\n",
              "      <td>-2.884069</td>\n",
              "      <td>-19.637068</td>\n",
              "      <td>-25.929862</td>\n",
              "      <td>-28.065778</td>\n",
              "      <td>-19.527662</td>\n",
              "    </tr>\n",
              "    <tr>\n",
              "      <th>6683</th>\n",
              "      <td>0</td>\n",
              "      <td>1</td>\n",
              "      <td>-4.198662</td>\n",
              "      <td>20.934973</td>\n",
              "      <td>-18.593052</td>\n",
              "      <td>-15.748143</td>\n",
              "      <td>21.101617</td>\n",
              "      <td>5.038021</td>\n",
              "      <td>27.616431</td>\n",
              "      <td>14.668735</td>\n",
              "      <td>17.824521</td>\n",
              "      <td>-10.922711</td>\n",
              "    </tr>\n",
              "  </tbody>\n",
              "</table>\n",
              "</div>"
            ],
            "text/plain": [
              "      Status  Gender  MDVP:Jitter(%)  ...  Shimmer:APQ5  Shimmer:APQ11        DFA\n",
              "6679       0       1      -32.217900  ...    -10.612545     -23.216192 -23.194185\n",
              "6680       0       1       -1.059601  ...      4.189205      -4.254203  -1.252287\n",
              "6681       0       1       35.218278  ...    -16.064503     -18.499916 -14.613771\n",
              "6682       0       1        2.792539  ...    -25.929862     -28.065778 -19.527662\n",
              "6683       0       1       -4.198662  ...     14.668735      17.824521 -10.922711\n",
              "\n",
              "[5 rows x 12 columns]"
            ]
          },
          "metadata": {
            "tags": []
          },
          "execution_count": 36
        }
      ]
    },
    {
      "cell_type": "markdown",
      "metadata": {
        "id": "XyBG0lxV4wMQ"
      },
      "source": [
        "Smote function"
      ]
    },
    {
      "cell_type": "code",
      "metadata": {
        "id": "KkaRHPILwJvk",
        "colab": {
          "base_uri": "https://localhost:8080/"
        },
        "outputId": "600a3b2e-9418-46af-a10d-181214237c97"
      },
      "source": [
        "import pandas as pd\n",
        "import numpy as np\n",
        "from collections import Counter\n",
        "from imblearn.over_sampling import SMOTE\n",
        "from numpy import where, random\n",
        "\n",
        "def smote_multiclass(df, num_samples_dict, one_hot_encoded):\n",
        "  \"\"\"\n",
        "  Performs data augmentation and/or downsampling on a dataframe with multiple classes.\n",
        "  Supports both numerical and one-hot encoded class values.\n",
        "  The SMOTE algorithm is used for augmentation and random sampling is used for downsampling of the specified classes.\n",
        "  Keyword arguments:\n",
        "  df -- the dataframe to manipulate\n",
        "  num_samples_dict -- a dictionary of the form {0: num_desired_samples, 1: num_desired_samples, ...} that indicates the\n",
        "                      number of samples that the returned dataframe should have in each class\n",
        "  one_hot_encoded -- Boolean value indicating if the dataframe is one-hot encoded\n",
        "  \"\"\"\n",
        "\n",
        "  if df.columns[[0]] == 'Unnamed: 0':\n",
        "    df.drop(df.columns[[0]], axis=1, inplace=True)  # remove first column\n",
        "\n",
        "  # change one hot encoded dataset into numerical labels\n",
        "  if one_hot_encoded:\n",
        "    df.insert(loc=0, column='Status', value=np.nan)\n",
        "    for i, row in df.iterrows():\n",
        "      if df.iloc[i]['Control'] == 1:\n",
        "          status = 0\n",
        "      elif df.iloc[i]['Parkinsons'] == 1:\n",
        "          status = 1\n",
        "      elif df.iloc[i]['ALS'] == 1:\n",
        "          status = 2\n",
        "      elif df.iloc[i]['Cerebral_palsy'] == 1:\n",
        "          status = 3\n",
        "      df.at[i,'Status'] = status\n",
        "    df = df.drop(columns=['Control', 'Parkinsons', 'ALS', 'Cerebral_palsy'])\n",
        "\n",
        "\n",
        "  if num_samples_dict is not None:\n",
        "    strategy = num_samples_dict\n",
        "\n",
        "    # downsampling classes if needed\n",
        "    counter = Counter(df.Status)\n",
        "    class_samples = []\n",
        "    for i in range(4):\n",
        "      if counter[i] > num_samples_dict[i]: # class i needs to be downsampled\n",
        "        class_i = df.loc[df['Status'] == i]\n",
        "        class_i_sample = class_i.sample(n=num_samples_dict[i])\n",
        "        class_samples.append(class_i_sample)\n",
        "      else: # class i does not need downsampling\n",
        "        class_i = df.loc[df['Status'] == i]\n",
        "        class_samples.append(class_i)\n",
        "\n",
        "    df = pd.concat(class_samples).reset_index(drop=True)\n",
        "\n",
        "  else:\n",
        "    strategy = 'auto'\n",
        "\n",
        "  y = df.Status # labels\n",
        "  x = df.drop(['Status', 'Gender'], axis=1) # features only, Gender also removed because it must be binary\n",
        "  gender = df.Gender\n",
        "\n",
        "  oversample = SMOTE(sampling_strategy=strategy)\n",
        "  x_oversampled, y_oversampled = oversample.fit_resample(x, y)\n",
        "\n",
        "  # get sample counts for augmented dataset\n",
        "  counter = Counter(y_oversampled)\n",
        "\n",
        "  if num_samples_dict is not None and (counter[0] != num_samples_dict[0] or counter[1] != num_samples_dict[1]\n",
        "                                       or counter[2] != num_samples_dict[2] or counter[3] != num_samples_dict[3]):\n",
        "    print(\"Sampling failed\")\n",
        "  elif num_samples_dict is None and (counter[0] != counter[1] or counter[1] != counter[2] or counter[2] != counter[3]):\n",
        "    print(\"Sampling failed\")\n",
        "\n",
        "  # regenerate dataframe with new samples\n",
        "  df_concat = pd.concat([pd.DataFrame(y_oversampled), pd.DataFrame(gender), pd.DataFrame(x_oversampled)], axis=1)\n",
        "  df_concat.columns = df.columns\n",
        "\n",
        "  # fill missing gender values with a random choice of 0 or 1\n",
        "  for row in df_concat.loc[df_concat.Gender.isnull(), 'Gender'].index:\n",
        "    df_concat.at[row, 'Gender'] = random.randint(0, 2)\n",
        "\n",
        "  # change numerical class values back into one-hot encoded values\n",
        "  if one_hot_encoded:\n",
        "    one_hot = pd.get_dummies(df_concat['Status'])\n",
        "    one_hot.rename(columns={0:'Control', 1:'Parkinsons', 2:'ALS', 3:'Cerebral_palsy'}, inplace=True)\n",
        "    df_concat = df_concat.drop(columns=['Status'], axis=1)\n",
        "    df_concat = pd.concat([one_hot, df_concat], axis=1)\n",
        "\n",
        "  return df_concat"
      ],
      "execution_count": null,
      "outputs": [
        {
          "output_type": "stream",
          "text": [
            "/usr/local/lib/python3.7/dist-packages/sklearn/externals/six.py:31: FutureWarning: The module is deprecated in version 0.21 and will be removed in version 0.23 since we've dropped support for Python 2.7. Please rely on the official version of six (https://pypi.org/project/six/).\n",
            "  \"(https://pypi.org/project/six/).\", FutureWarning)\n",
            "/usr/local/lib/python3.7/dist-packages/sklearn/utils/deprecation.py:144: FutureWarning: The sklearn.neighbors.base module is  deprecated in version 0.22 and will be removed in version 0.24. The corresponding classes / functions should instead be imported from sklearn.neighbors. Anything that cannot be imported from sklearn.neighbors is now part of the private API.\n",
            "  warnings.warn(message, FutureWarning)\n"
          ],
          "name": "stderr"
        }
      ]
    },
    {
      "cell_type": "code",
      "metadata": {
        "id": "RRZK8bE2lZBG"
      },
      "source": [
        "#function to get TP,TN,FP,FN\n",
        "def perf_measure(y_actual, y_hat):\n",
        "    \n",
        "    TP = 0\n",
        "    FP = 0\n",
        "    TN = 0\n",
        "    FN = 0\n",
        "\n",
        "    #0=HC, 1= PD, 2 = ALS, 3= CP\n",
        "    for i in range(len(y_hat)): \n",
        "        #actually positive and predicts positive \n",
        "        if y_actual[i]==y_hat[i] and y_actual[i] != 0:\n",
        "           TP += 1\n",
        "           #actually healthy but predicted otherwise \n",
        "        elif y_actual[i]==0 and y_hat[i]!=y_actual[i]:\n",
        "           FP += 1\n",
        "           #actuall negative and predicts neg\n",
        "        elif y_actual[i]== 0 and y_hat[i]==y_actual[i]:\n",
        "           TN += 1\n",
        "           #actual positive but predicts negative \n",
        "        elif y_actual[i] !=0 and y_hat[i] == 0:\n",
        "           FN += 1\n",
        "    return TP, FP, TN, FN"
      ],
      "execution_count": null,
      "outputs": []
    },
    {
      "cell_type": "markdown",
      "metadata": {
        "id": "SYnp-_70lRVF"
      },
      "source": [
        "Getting features and splitting data "
      ]
    },
    {
      "cell_type": "code",
      "metadata": {
        "id": "tku8zZoBGa4y"
      },
      "source": [
        "\n",
        "features = df.drop(['Status'], axis = 1)\n",
        "labels = df.drop(['Gender', 'MDVP:Jitter(%)', 'MDVP:Jitter(Abs)', 'Jitter:PPQ5', 'Jitter:DDP', 'MDVP:Shimmer', 'MDVP:Shimmer(dB)', 'Shimmer:APQ3', 'Shimmer:APQ5', 'Shimmer:APQ11', 'DFA'],axis = 1)"
      ],
      "execution_count": null,
      "outputs": []
    },
    {
      "cell_type": "code",
      "metadata": {
        "id": "GaYkwo2JiXyo"
      },
      "source": [
        "x = features \n",
        "y = labels "
      ],
      "execution_count": null,
      "outputs": []
    },
    {
      "cell_type": "code",
      "metadata": {
        "id": "JlDnD_A5tn5z"
      },
      "source": [
        "x_train,x_test,y_train,y_test=train_test_split(x, y, test_size=0.2, stratify=y)"
      ],
      "execution_count": null,
      "outputs": []
    },
    {
      "cell_type": "markdown",
      "metadata": {
        "id": "r31Xcj41iGcc"
      },
      "source": [
        "Without SMOTE"
      ]
    },
    {
      "cell_type": "code",
      "metadata": {
        "colab": {
          "base_uri": "https://localhost:8080/"
        },
        "id": "_RxwiG72hpzB",
        "outputId": "4b5f6f02-8121-4946-8389-7c57c28d7624"
      },
      "source": [
        "model_without_smote = RandomForestClassifier(n_estimators = 1000)\n",
        "model_without_smote.fit(x_train, y_train)"
      ],
      "execution_count": null,
      "outputs": [
        {
          "output_type": "stream",
          "text": [
            "/usr/local/lib/python3.7/dist-packages/ipykernel_launcher.py:2: DataConversionWarning: A column-vector y was passed when a 1d array was expected. Please change the shape of y to (n_samples,), for example using ravel().\n",
            "  \n"
          ],
          "name": "stderr"
        },
        {
          "output_type": "execute_result",
          "data": {
            "text/plain": [
              "RandomForestClassifier(bootstrap=True, ccp_alpha=0.0, class_weight=None,\n",
              "                       criterion='gini', max_depth=None, max_features='auto',\n",
              "                       max_leaf_nodes=None, max_samples=None,\n",
              "                       min_impurity_decrease=0.0, min_impurity_split=None,\n",
              "                       min_samples_leaf=1, min_samples_split=2,\n",
              "                       min_weight_fraction_leaf=0.0, n_estimators=100,\n",
              "                       n_jobs=None, oob_score=False, random_state=None,\n",
              "                       verbose=0, warm_start=False)"
            ]
          },
          "metadata": {
            "tags": []
          },
          "execution_count": 27
        }
      ]
    },
    {
      "cell_type": "code",
      "metadata": {
        "id": "Hes5hkz4hu1M"
      },
      "source": [
        "ypred_ns = model_without_smote.predict(x_test)"
      ],
      "execution_count": null,
      "outputs": []
    },
    {
      "cell_type": "code",
      "metadata": {
        "colab": {
          "base_uri": "https://localhost:8080/"
        },
        "id": "rXC4vjknh2U7",
        "outputId": "1950d12b-7819-4ab4-8620-c2d2465cb293"
      },
      "source": [
        "from sklearn import metrics\n",
        "print(metrics.classification_report(ypred_ns, y_test))"
      ],
      "execution_count": null,
      "outputs": [
        {
          "output_type": "stream",
          "text": [
            "              precision    recall  f1-score   support\n",
            "\n",
            "           0       0.47      0.77      0.58        26\n",
            "           1       1.00      0.98      0.99      1304\n",
            "           2       1.00      0.50      0.67         6\n",
            "           3       0.33      1.00      0.50         1\n",
            "\n",
            "    accuracy                           0.98      1337\n",
            "   macro avg       0.70      0.81      0.68      1337\n",
            "weighted avg       0.99      0.98      0.98      1337\n",
            "\n"
          ],
          "name": "stdout"
        }
      ]
    },
    {
      "cell_type": "code",
      "metadata": {
        "colab": {
          "base_uri": "https://localhost:8080/"
        },
        "id": "4fd6Ihl4h3ya",
        "outputId": "396aecb0-c9ac-4c81-ab0c-f904d3298cbb"
      },
      "source": [
        "print(accuracy_score(y_test, ypred_ns)*100)"
      ],
      "execution_count": null,
      "outputs": [
        {
          "output_type": "stream",
          "text": [
            "97.75617053103964\n"
          ],
          "name": "stdout"
        }
      ]
    },
    {
      "cell_type": "code",
      "metadata": {
        "colab": {
          "base_uri": "https://localhost:8080/"
        },
        "id": "OG8sVmm4CtqD",
        "outputId": "21ccb5b2-86d6-4b4d-b706-8feeda357e2e"
      },
      "source": [
        "from sklearn.metrics import roc_auc_score\n",
        "\n",
        "roc_auc_score(y_test, model_without_smote.predict_proba(x_test), multi_class='ovr')\n"
      ],
      "execution_count": null,
      "outputs": [
        {
          "output_type": "execute_result",
          "data": {
            "text/plain": [
              "0.9926576700259044"
            ]
          },
          "metadata": {
            "tags": []
          },
          "execution_count": 31
        }
      ]
    },
    {
      "cell_type": "code",
      "metadata": {
        "id": "mZhFYz1piIqp",
        "colab": {
          "base_uri": "https://localhost:8080/",
          "height": 231
        },
        "outputId": "46af5e05-33af-4ee8-9794-318fb9b1d6ed"
      },
      "source": [
        "from itertools import chain\n",
        "\n",
        "ypred_ns_list = ypred_ns.tolist()\n",
        "y_test_list = y_test.values.tolist()\n",
        "\n",
        "#changing from 2d list into 1d list \n",
        "y_test_list = list(chain.from_iterable(y_test_list))\n",
        "\n",
        "\n",
        "TP, TN, FP, FN = perf_measure(y_test_list, ypred_ns_list)"
      ],
      "execution_count": null,
      "outputs": [
        {
          "output_type": "error",
          "ename": "NameError",
          "evalue": "ignored",
          "traceback": [
            "\u001b[0;31m---------------------------------------------------------------------------\u001b[0m",
            "\u001b[0;31mNameError\u001b[0m                                 Traceback (most recent call last)",
            "\u001b[0;32m<ipython-input-47-0010d97d6f68>\u001b[0m in \u001b[0;36m<module>\u001b[0;34m()\u001b[0m\n\u001b[1;32m      1\u001b[0m \u001b[0;32mfrom\u001b[0m \u001b[0mitertools\u001b[0m \u001b[0;32mimport\u001b[0m \u001b[0mchain\u001b[0m\u001b[0;34m\u001b[0m\u001b[0;34m\u001b[0m\u001b[0m\n\u001b[1;32m      2\u001b[0m \u001b[0;34m\u001b[0m\u001b[0m\n\u001b[0;32m----> 3\u001b[0;31m \u001b[0mypred_ns_list\u001b[0m \u001b[0;34m=\u001b[0m \u001b[0mypred_ns\u001b[0m\u001b[0;34m.\u001b[0m\u001b[0mtolist\u001b[0m\u001b[0;34m(\u001b[0m\u001b[0;34m)\u001b[0m\u001b[0;34m\u001b[0m\u001b[0;34m\u001b[0m\u001b[0m\n\u001b[0m\u001b[1;32m      4\u001b[0m \u001b[0my_test_list\u001b[0m \u001b[0;34m=\u001b[0m \u001b[0my_test\u001b[0m\u001b[0;34m.\u001b[0m\u001b[0mvalues\u001b[0m\u001b[0;34m.\u001b[0m\u001b[0mtolist\u001b[0m\u001b[0;34m(\u001b[0m\u001b[0;34m)\u001b[0m\u001b[0;34m\u001b[0m\u001b[0;34m\u001b[0m\u001b[0m\n\u001b[1;32m      5\u001b[0m \u001b[0;34m\u001b[0m\u001b[0m\n",
            "\u001b[0;31mNameError\u001b[0m: name 'ypred_ns' is not defined"
          ]
        }
      ]
    },
    {
      "cell_type": "code",
      "metadata": {
        "colab": {
          "base_uri": "https://localhost:8080/"
        },
        "id": "rxkQeBiLiggn",
        "outputId": "cb0bf8bf-4493-4066-e2c8-c6de44fd1882"
      },
      "source": [
        "print(TP, TN, FP, FN)"
      ],
      "execution_count": null,
      "outputs": [
        {
          "output_type": "stream",
          "text": [
            "1287 23 7 20\n"
          ],
          "name": "stdout"
        }
      ]
    },
    {
      "cell_type": "markdown",
      "metadata": {
        "id": "fGarnv8PiPag"
      },
      "source": [
        "With SMOTE"
      ]
    },
    {
      "cell_type": "code",
      "metadata": {
        "id": "bqCJltyPZoMg"
      },
      "source": [
        "pre_smote_training_dataset = pd.concat([y_train, x_train], axis=1, join='inner')"
      ],
      "execution_count": null,
      "outputs": []
    },
    {
      "cell_type": "code",
      "metadata": {
        "colab": {
          "base_uri": "https://localhost:8080/",
          "height": 439
        },
        "id": "wriJA08xZvPz",
        "outputId": "844cff16-303d-4a53-bb5a-610af37d5974"
      },
      "source": [
        "pre_smote_training_dataset"
      ],
      "execution_count": null,
      "outputs": [
        {
          "output_type": "execute_result",
          "data": {
            "text/html": [
              "<div>\n",
              "<style scoped>\n",
              "    .dataframe tbody tr th:only-of-type {\n",
              "        vertical-align: middle;\n",
              "    }\n",
              "\n",
              "    .dataframe tbody tr th {\n",
              "        vertical-align: top;\n",
              "    }\n",
              "\n",
              "    .dataframe thead th {\n",
              "        text-align: right;\n",
              "    }\n",
              "</style>\n",
              "<table border=\"1\" class=\"dataframe\">\n",
              "  <thead>\n",
              "    <tr style=\"text-align: right;\">\n",
              "      <th></th>\n",
              "      <th>Status</th>\n",
              "      <th>Gender</th>\n",
              "      <th>MDVP:Jitter(%)</th>\n",
              "      <th>MDVP:Jitter(Abs)</th>\n",
              "      <th>Jitter:PPQ5</th>\n",
              "      <th>Jitter:DDP</th>\n",
              "      <th>MDVP:Shimmer</th>\n",
              "      <th>MDVP:Shimmer(dB)</th>\n",
              "      <th>Shimmer:APQ3</th>\n",
              "      <th>Shimmer:APQ5</th>\n",
              "      <th>Shimmer:APQ11</th>\n",
              "      <th>DFA</th>\n",
              "    </tr>\n",
              "  </thead>\n",
              "  <tbody>\n",
              "    <tr>\n",
              "      <th>6235</th>\n",
              "      <td>1</td>\n",
              "      <td>0</td>\n",
              "      <td>-0.065708</td>\n",
              "      <td>-0.000548</td>\n",
              "      <td>-0.040195</td>\n",
              "      <td>-0.110347</td>\n",
              "      <td>0.146506</td>\n",
              "      <td>0.280735</td>\n",
              "      <td>0.125229</td>\n",
              "      <td>0.108941</td>\n",
              "      <td>0.069918</td>\n",
              "      <td>0.097964</td>\n",
              "    </tr>\n",
              "    <tr>\n",
              "      <th>1377</th>\n",
              "      <td>1</td>\n",
              "      <td>0</td>\n",
              "      <td>-0.038051</td>\n",
              "      <td>-0.000197</td>\n",
              "      <td>-0.027605</td>\n",
              "      <td>-0.079216</td>\n",
              "      <td>-0.416591</td>\n",
              "      <td>-0.924529</td>\n",
              "      <td>-0.238931</td>\n",
              "      <td>-0.271532</td>\n",
              "      <td>-0.331488</td>\n",
              "      <td>0.037771</td>\n",
              "    </tr>\n",
              "    <tr>\n",
              "      <th>3576</th>\n",
              "      <td>1</td>\n",
              "      <td>0</td>\n",
              "      <td>0.003857</td>\n",
              "      <td>0.000108</td>\n",
              "      <td>0.003189</td>\n",
              "      <td>0.009969</td>\n",
              "      <td>0.028613</td>\n",
              "      <td>-0.009690</td>\n",
              "      <td>0.021584</td>\n",
              "      <td>0.030579</td>\n",
              "      <td>-0.000565</td>\n",
              "      <td>0.223849</td>\n",
              "    </tr>\n",
              "    <tr>\n",
              "      <th>2227</th>\n",
              "      <td>1</td>\n",
              "      <td>0</td>\n",
              "      <td>-0.021084</td>\n",
              "      <td>-0.000030</td>\n",
              "      <td>-0.013825</td>\n",
              "      <td>-0.028398</td>\n",
              "      <td>-0.242934</td>\n",
              "      <td>-0.503413</td>\n",
              "      <td>-0.131495</td>\n",
              "      <td>-0.143791</td>\n",
              "      <td>-0.196369</td>\n",
              "      <td>0.361695</td>\n",
              "    </tr>\n",
              "    <tr>\n",
              "      <th>2060</th>\n",
              "      <td>1</td>\n",
              "      <td>0</td>\n",
              "      <td>-0.062314</td>\n",
              "      <td>-0.000473</td>\n",
              "      <td>-0.032199</td>\n",
              "      <td>-0.088976</td>\n",
              "      <td>-0.398104</td>\n",
              "      <td>-0.884596</td>\n",
              "      <td>-0.218993</td>\n",
              "      <td>-0.265866</td>\n",
              "      <td>-0.308889</td>\n",
              "      <td>-0.598019</td>\n",
              "    </tr>\n",
              "    <tr>\n",
              "      <th>...</th>\n",
              "      <td>...</td>\n",
              "      <td>...</td>\n",
              "      <td>...</td>\n",
              "      <td>...</td>\n",
              "      <td>...</td>\n",
              "      <td>...</td>\n",
              "      <td>...</td>\n",
              "      <td>...</td>\n",
              "      <td>...</td>\n",
              "      <td>...</td>\n",
              "      <td>...</td>\n",
              "      <td>...</td>\n",
              "    </tr>\n",
              "    <tr>\n",
              "      <th>1555</th>\n",
              "      <td>1</td>\n",
              "      <td>0</td>\n",
              "      <td>-0.025665</td>\n",
              "      <td>-0.000113</td>\n",
              "      <td>-0.017908</td>\n",
              "      <td>-0.054480</td>\n",
              "      <td>-0.223690</td>\n",
              "      <td>-0.510673</td>\n",
              "      <td>-0.138581</td>\n",
              "      <td>-0.153829</td>\n",
              "      <td>-0.147379</td>\n",
              "      <td>0.067193</td>\n",
              "    </tr>\n",
              "    <tr>\n",
              "      <th>2277</th>\n",
              "      <td>1</td>\n",
              "      <td>1</td>\n",
              "      <td>-0.024817</td>\n",
              "      <td>-0.000352</td>\n",
              "      <td>-0.016547</td>\n",
              "      <td>-0.015440</td>\n",
              "      <td>-0.177169</td>\n",
              "      <td>-0.343679</td>\n",
              "      <td>-0.074812</td>\n",
              "      <td>-0.116915</td>\n",
              "      <td>-0.170768</td>\n",
              "      <td>-0.194127</td>\n",
              "    </tr>\n",
              "    <tr>\n",
              "      <th>2156</th>\n",
              "      <td>1</td>\n",
              "      <td>0</td>\n",
              "      <td>-0.002081</td>\n",
              "      <td>0.000264</td>\n",
              "      <td>0.002848</td>\n",
              "      <td>-0.035297</td>\n",
              "      <td>-0.023666</td>\n",
              "      <td>-0.045993</td>\n",
              "      <td>-0.013020</td>\n",
              "      <td>-0.005849</td>\n",
              "      <td>0.036731</td>\n",
              "      <td>0.571503</td>\n",
              "    </tr>\n",
              "    <tr>\n",
              "      <th>357</th>\n",
              "      <td>1</td>\n",
              "      <td>0</td>\n",
              "      <td>-0.053831</td>\n",
              "      <td>-0.000432</td>\n",
              "      <td>-0.028456</td>\n",
              "      <td>-0.084937</td>\n",
              "      <td>-0.345977</td>\n",
              "      <td>-0.757535</td>\n",
              "      <td>-0.188673</td>\n",
              "      <td>-0.221019</td>\n",
              "      <td>-0.283762</td>\n",
              "      <td>-0.779756</td>\n",
              "    </tr>\n",
              "    <tr>\n",
              "      <th>5821</th>\n",
              "      <td>1</td>\n",
              "      <td>0</td>\n",
              "      <td>-0.030077</td>\n",
              "      <td>-0.000113</td>\n",
              "      <td>-0.017057</td>\n",
              "      <td>-0.043206</td>\n",
              "      <td>-0.162319</td>\n",
              "      <td>-0.060514</td>\n",
              "      <td>-0.082556</td>\n",
              "      <td>-0.089229</td>\n",
              "      <td>-0.152436</td>\n",
              "      <td>-0.392841</td>\n",
              "    </tr>\n",
              "  </tbody>\n",
              "</table>\n",
              "<p>5347 rows × 12 columns</p>\n",
              "</div>"
            ],
            "text/plain": [
              "      Status  Gender  MDVP:Jitter(%)  ...  Shimmer:APQ5  Shimmer:APQ11       DFA\n",
              "6235       1       0       -0.065708  ...      0.108941       0.069918  0.097964\n",
              "1377       1       0       -0.038051  ...     -0.271532      -0.331488  0.037771\n",
              "3576       1       0        0.003857  ...      0.030579      -0.000565  0.223849\n",
              "2227       1       0       -0.021084  ...     -0.143791      -0.196369  0.361695\n",
              "2060       1       0       -0.062314  ...     -0.265866      -0.308889 -0.598019\n",
              "...      ...     ...             ...  ...           ...            ...       ...\n",
              "1555       1       0       -0.025665  ...     -0.153829      -0.147379  0.067193\n",
              "2277       1       1       -0.024817  ...     -0.116915      -0.170768 -0.194127\n",
              "2156       1       0       -0.002081  ...     -0.005849       0.036731  0.571503\n",
              "357        1       0       -0.053831  ...     -0.221019      -0.283762 -0.779756\n",
              "5821       1       0       -0.030077  ...     -0.089229      -0.152436 -0.392841\n",
              "\n",
              "[5347 rows x 12 columns]"
            ]
          },
          "metadata": {
            "tags": []
          },
          "execution_count": 42
        }
      ]
    },
    {
      "cell_type": "code",
      "metadata": {
        "id": "538ab98IgcL8"
      },
      "source": [
        "pre_smote_training_dataset.reset_index(inplace = True)\n",
        "pre_smote_training_dataset.drop(['index'],axis = 1, inplace = True)"
      ],
      "execution_count": null,
      "outputs": []
    },
    {
      "cell_type": "code",
      "metadata": {
        "colab": {
          "base_uri": "https://localhost:8080/",
          "height": 439
        },
        "id": "JFXrJ8nWghGX",
        "outputId": "6e4faf45-1020-4b17-f589-6d70b8565946"
      },
      "source": [
        "pre_smote_training_dataset"
      ],
      "execution_count": null,
      "outputs": [
        {
          "output_type": "execute_result",
          "data": {
            "text/html": [
              "<div>\n",
              "<style scoped>\n",
              "    .dataframe tbody tr th:only-of-type {\n",
              "        vertical-align: middle;\n",
              "    }\n",
              "\n",
              "    .dataframe tbody tr th {\n",
              "        vertical-align: top;\n",
              "    }\n",
              "\n",
              "    .dataframe thead th {\n",
              "        text-align: right;\n",
              "    }\n",
              "</style>\n",
              "<table border=\"1\" class=\"dataframe\">\n",
              "  <thead>\n",
              "    <tr style=\"text-align: right;\">\n",
              "      <th></th>\n",
              "      <th>Status</th>\n",
              "      <th>Gender</th>\n",
              "      <th>MDVP:Jitter(%)</th>\n",
              "      <th>MDVP:Jitter(Abs)</th>\n",
              "      <th>Jitter:PPQ5</th>\n",
              "      <th>Jitter:DDP</th>\n",
              "      <th>MDVP:Shimmer</th>\n",
              "      <th>MDVP:Shimmer(dB)</th>\n",
              "      <th>Shimmer:APQ3</th>\n",
              "      <th>Shimmer:APQ5</th>\n",
              "      <th>Shimmer:APQ11</th>\n",
              "      <th>DFA</th>\n",
              "    </tr>\n",
              "  </thead>\n",
              "  <tbody>\n",
              "    <tr>\n",
              "      <th>0</th>\n",
              "      <td>1</td>\n",
              "      <td>0</td>\n",
              "      <td>-0.065708</td>\n",
              "      <td>-0.000548</td>\n",
              "      <td>-0.040195</td>\n",
              "      <td>-0.110347</td>\n",
              "      <td>0.146506</td>\n",
              "      <td>0.280735</td>\n",
              "      <td>0.125229</td>\n",
              "      <td>0.108941</td>\n",
              "      <td>0.069918</td>\n",
              "      <td>0.097964</td>\n",
              "    </tr>\n",
              "    <tr>\n",
              "      <th>1</th>\n",
              "      <td>1</td>\n",
              "      <td>0</td>\n",
              "      <td>-0.038051</td>\n",
              "      <td>-0.000197</td>\n",
              "      <td>-0.027605</td>\n",
              "      <td>-0.079216</td>\n",
              "      <td>-0.416591</td>\n",
              "      <td>-0.924529</td>\n",
              "      <td>-0.238931</td>\n",
              "      <td>-0.271532</td>\n",
              "      <td>-0.331488</td>\n",
              "      <td>0.037771</td>\n",
              "    </tr>\n",
              "    <tr>\n",
              "      <th>2</th>\n",
              "      <td>1</td>\n",
              "      <td>0</td>\n",
              "      <td>0.003857</td>\n",
              "      <td>0.000108</td>\n",
              "      <td>0.003189</td>\n",
              "      <td>0.009969</td>\n",
              "      <td>0.028613</td>\n",
              "      <td>-0.009690</td>\n",
              "      <td>0.021584</td>\n",
              "      <td>0.030579</td>\n",
              "      <td>-0.000565</td>\n",
              "      <td>0.223849</td>\n",
              "    </tr>\n",
              "    <tr>\n",
              "      <th>3</th>\n",
              "      <td>1</td>\n",
              "      <td>0</td>\n",
              "      <td>-0.021084</td>\n",
              "      <td>-0.000030</td>\n",
              "      <td>-0.013825</td>\n",
              "      <td>-0.028398</td>\n",
              "      <td>-0.242934</td>\n",
              "      <td>-0.503413</td>\n",
              "      <td>-0.131495</td>\n",
              "      <td>-0.143791</td>\n",
              "      <td>-0.196369</td>\n",
              "      <td>0.361695</td>\n",
              "    </tr>\n",
              "    <tr>\n",
              "      <th>4</th>\n",
              "      <td>1</td>\n",
              "      <td>0</td>\n",
              "      <td>-0.062314</td>\n",
              "      <td>-0.000473</td>\n",
              "      <td>-0.032199</td>\n",
              "      <td>-0.088976</td>\n",
              "      <td>-0.398104</td>\n",
              "      <td>-0.884596</td>\n",
              "      <td>-0.218993</td>\n",
              "      <td>-0.265866</td>\n",
              "      <td>-0.308889</td>\n",
              "      <td>-0.598019</td>\n",
              "    </tr>\n",
              "    <tr>\n",
              "      <th>...</th>\n",
              "      <td>...</td>\n",
              "      <td>...</td>\n",
              "      <td>...</td>\n",
              "      <td>...</td>\n",
              "      <td>...</td>\n",
              "      <td>...</td>\n",
              "      <td>...</td>\n",
              "      <td>...</td>\n",
              "      <td>...</td>\n",
              "      <td>...</td>\n",
              "      <td>...</td>\n",
              "      <td>...</td>\n",
              "    </tr>\n",
              "    <tr>\n",
              "      <th>5342</th>\n",
              "      <td>1</td>\n",
              "      <td>0</td>\n",
              "      <td>-0.025665</td>\n",
              "      <td>-0.000113</td>\n",
              "      <td>-0.017908</td>\n",
              "      <td>-0.054480</td>\n",
              "      <td>-0.223690</td>\n",
              "      <td>-0.510673</td>\n",
              "      <td>-0.138581</td>\n",
              "      <td>-0.153829</td>\n",
              "      <td>-0.147379</td>\n",
              "      <td>0.067193</td>\n",
              "    </tr>\n",
              "    <tr>\n",
              "      <th>5343</th>\n",
              "      <td>1</td>\n",
              "      <td>1</td>\n",
              "      <td>-0.024817</td>\n",
              "      <td>-0.000352</td>\n",
              "      <td>-0.016547</td>\n",
              "      <td>-0.015440</td>\n",
              "      <td>-0.177169</td>\n",
              "      <td>-0.343679</td>\n",
              "      <td>-0.074812</td>\n",
              "      <td>-0.116915</td>\n",
              "      <td>-0.170768</td>\n",
              "      <td>-0.194127</td>\n",
              "    </tr>\n",
              "    <tr>\n",
              "      <th>5344</th>\n",
              "      <td>1</td>\n",
              "      <td>0</td>\n",
              "      <td>-0.002081</td>\n",
              "      <td>0.000264</td>\n",
              "      <td>0.002848</td>\n",
              "      <td>-0.035297</td>\n",
              "      <td>-0.023666</td>\n",
              "      <td>-0.045993</td>\n",
              "      <td>-0.013020</td>\n",
              "      <td>-0.005849</td>\n",
              "      <td>0.036731</td>\n",
              "      <td>0.571503</td>\n",
              "    </tr>\n",
              "    <tr>\n",
              "      <th>5345</th>\n",
              "      <td>1</td>\n",
              "      <td>0</td>\n",
              "      <td>-0.053831</td>\n",
              "      <td>-0.000432</td>\n",
              "      <td>-0.028456</td>\n",
              "      <td>-0.084937</td>\n",
              "      <td>-0.345977</td>\n",
              "      <td>-0.757535</td>\n",
              "      <td>-0.188673</td>\n",
              "      <td>-0.221019</td>\n",
              "      <td>-0.283762</td>\n",
              "      <td>-0.779756</td>\n",
              "    </tr>\n",
              "    <tr>\n",
              "      <th>5346</th>\n",
              "      <td>1</td>\n",
              "      <td>0</td>\n",
              "      <td>-0.030077</td>\n",
              "      <td>-0.000113</td>\n",
              "      <td>-0.017057</td>\n",
              "      <td>-0.043206</td>\n",
              "      <td>-0.162319</td>\n",
              "      <td>-0.060514</td>\n",
              "      <td>-0.082556</td>\n",
              "      <td>-0.089229</td>\n",
              "      <td>-0.152436</td>\n",
              "      <td>-0.392841</td>\n",
              "    </tr>\n",
              "  </tbody>\n",
              "</table>\n",
              "<p>5347 rows × 12 columns</p>\n",
              "</div>"
            ],
            "text/plain": [
              "      Status  Gender  MDVP:Jitter(%)  ...  Shimmer:APQ5  Shimmer:APQ11       DFA\n",
              "0          1       0       -0.065708  ...      0.108941       0.069918  0.097964\n",
              "1          1       0       -0.038051  ...     -0.271532      -0.331488  0.037771\n",
              "2          1       0        0.003857  ...      0.030579      -0.000565  0.223849\n",
              "3          1       0       -0.021084  ...     -0.143791      -0.196369  0.361695\n",
              "4          1       0       -0.062314  ...     -0.265866      -0.308889 -0.598019\n",
              "...      ...     ...             ...  ...           ...            ...       ...\n",
              "5342       1       0       -0.025665  ...     -0.153829      -0.147379  0.067193\n",
              "5343       1       1       -0.024817  ...     -0.116915      -0.170768 -0.194127\n",
              "5344       1       0       -0.002081  ...     -0.005849       0.036731  0.571503\n",
              "5345       1       0       -0.053831  ...     -0.221019      -0.283762 -0.779756\n",
              "5346       1       0       -0.030077  ...     -0.089229      -0.152436 -0.392841\n",
              "\n",
              "[5347 rows x 12 columns]"
            ]
          },
          "metadata": {
            "tags": []
          },
          "execution_count": 44
        }
      ]
    },
    {
      "cell_type": "code",
      "metadata": {
        "colab": {
          "base_uri": "https://localhost:8080/"
        },
        "id": "RG40EszCarbs",
        "outputId": "ce35cbee-3938-4982-c9a9-b63fada041c3"
      },
      "source": [
        "smoted_training_data = smote_multiclass(pre_smote_training_dataset, num_samples_dict={0:5500, 1:5500, 2:5500, 3:5500}, one_hot_encoded=False )"
      ],
      "execution_count": null,
      "outputs": [
        {
          "output_type": "stream",
          "text": [
            "/usr/local/lib/python3.7/dist-packages/imblearn/utils/_validation.py:257: UserWarning: After over-sampling, the number of samples (5500) in class 0 will be larger than the number of samples in the majority class (class #1 -> 5151)\n",
            "  n_samples_majority))\n",
            "/usr/local/lib/python3.7/dist-packages/imblearn/utils/_validation.py:257: UserWarning: After over-sampling, the number of samples (5500) in class 1 will be larger than the number of samples in the majority class (class #1 -> 5151)\n",
            "  n_samples_majority))\n",
            "/usr/local/lib/python3.7/dist-packages/imblearn/utils/_validation.py:257: UserWarning: After over-sampling, the number of samples (5500) in class 2 will be larger than the number of samples in the majority class (class #1 -> 5151)\n",
            "  n_samples_majority))\n",
            "/usr/local/lib/python3.7/dist-packages/imblearn/utils/_validation.py:257: UserWarning: After over-sampling, the number of samples (5500) in class 3 will be larger than the number of samples in the majority class (class #1 -> 5151)\n",
            "  n_samples_majority))\n",
            "/usr/local/lib/python3.7/dist-packages/sklearn/utils/deprecation.py:87: FutureWarning: Function safe_indexing is deprecated; safe_indexing is deprecated in version 0.22 and will be removed in version 0.24.\n",
            "  warnings.warn(msg, category=FutureWarning)\n",
            "/usr/local/lib/python3.7/dist-packages/sklearn/utils/deprecation.py:87: FutureWarning: Function safe_indexing is deprecated; safe_indexing is deprecated in version 0.22 and will be removed in version 0.24.\n",
            "  warnings.warn(msg, category=FutureWarning)\n",
            "/usr/local/lib/python3.7/dist-packages/sklearn/utils/deprecation.py:87: FutureWarning: Function safe_indexing is deprecated; safe_indexing is deprecated in version 0.22 and will be removed in version 0.24.\n",
            "  warnings.warn(msg, category=FutureWarning)\n",
            "/usr/local/lib/python3.7/dist-packages/sklearn/utils/deprecation.py:87: FutureWarning: Function safe_indexing is deprecated; safe_indexing is deprecated in version 0.22 and will be removed in version 0.24.\n",
            "  warnings.warn(msg, category=FutureWarning)\n"
          ],
          "name": "stderr"
        }
      ]
    },
    {
      "cell_type": "code",
      "metadata": {
        "colab": {
          "base_uri": "https://localhost:8080/",
          "height": 439
        },
        "id": "aqxVBatna2I0",
        "outputId": "223b55b5-aad5-40a9-9219-f55fc8211293"
      },
      "source": [
        "smoted_training_data"
      ],
      "execution_count": null,
      "outputs": [
        {
          "output_type": "execute_result",
          "data": {
            "text/html": [
              "<div>\n",
              "<style scoped>\n",
              "    .dataframe tbody tr th:only-of-type {\n",
              "        vertical-align: middle;\n",
              "    }\n",
              "\n",
              "    .dataframe tbody tr th {\n",
              "        vertical-align: top;\n",
              "    }\n",
              "\n",
              "    .dataframe thead th {\n",
              "        text-align: right;\n",
              "    }\n",
              "</style>\n",
              "<table border=\"1\" class=\"dataframe\">\n",
              "  <thead>\n",
              "    <tr style=\"text-align: right;\">\n",
              "      <th></th>\n",
              "      <th>Status</th>\n",
              "      <th>Gender</th>\n",
              "      <th>MDVP:Jitter(%)</th>\n",
              "      <th>MDVP:Jitter(Abs)</th>\n",
              "      <th>Jitter:PPQ5</th>\n",
              "      <th>Jitter:DDP</th>\n",
              "      <th>MDVP:Shimmer</th>\n",
              "      <th>MDVP:Shimmer(dB)</th>\n",
              "      <th>Shimmer:APQ3</th>\n",
              "      <th>Shimmer:APQ5</th>\n",
              "      <th>Shimmer:APQ11</th>\n",
              "      <th>DFA</th>\n",
              "    </tr>\n",
              "  </thead>\n",
              "  <tbody>\n",
              "    <tr>\n",
              "      <th>0</th>\n",
              "      <td>0</td>\n",
              "      <td>1.0</td>\n",
              "      <td>-0.074021</td>\n",
              "      <td>-0.000550</td>\n",
              "      <td>-0.040875</td>\n",
              "      <td>-0.124482</td>\n",
              "      <td>0.156961</td>\n",
              "      <td>0.262584</td>\n",
              "      <td>0.113530</td>\n",
              "      <td>0.150226</td>\n",
              "      <td>0.126336</td>\n",
              "      <td>0.697195</td>\n",
              "    </tr>\n",
              "    <tr>\n",
              "      <th>1</th>\n",
              "      <td>0</td>\n",
              "      <td>1.0</td>\n",
              "      <td>-0.079620</td>\n",
              "      <td>-0.000597</td>\n",
              "      <td>-0.045469</td>\n",
              "      <td>-0.130876</td>\n",
              "      <td>-0.114889</td>\n",
              "      <td>-0.296485</td>\n",
              "      <td>-0.031145</td>\n",
              "      <td>-0.092953</td>\n",
              "      <td>-0.112611</td>\n",
              "      <td>-0.303323</td>\n",
              "    </tr>\n",
              "    <tr>\n",
              "      <th>2</th>\n",
              "      <td>0</td>\n",
              "      <td>0.0</td>\n",
              "      <td>-0.085898</td>\n",
              "      <td>-0.000647</td>\n",
              "      <td>-0.047681</td>\n",
              "      <td>-0.133400</td>\n",
              "      <td>0.139838</td>\n",
              "      <td>0.229911</td>\n",
              "      <td>0.058824</td>\n",
              "      <td>0.213692</td>\n",
              "      <td>0.057749</td>\n",
              "      <td>0.221052</td>\n",
              "    </tr>\n",
              "    <tr>\n",
              "      <th>3</th>\n",
              "      <td>0</td>\n",
              "      <td>0.0</td>\n",
              "      <td>-0.087934</td>\n",
              "      <td>-0.000660</td>\n",
              "      <td>-0.048702</td>\n",
              "      <td>-0.134915</td>\n",
              "      <td>-0.202020</td>\n",
              "      <td>-0.499782</td>\n",
              "      <td>-0.085193</td>\n",
              "      <td>-0.126629</td>\n",
              "      <td>-0.210750</td>\n",
              "      <td>-0.834257</td>\n",
              "    </tr>\n",
              "    <tr>\n",
              "      <th>4</th>\n",
              "      <td>0</td>\n",
              "      <td>0.0</td>\n",
              "      <td>-0.087425</td>\n",
              "      <td>-0.000655</td>\n",
              "      <td>-0.048361</td>\n",
              "      <td>-0.134410</td>\n",
              "      <td>0.048767</td>\n",
              "      <td>0.088329</td>\n",
              "      <td>0.091120</td>\n",
              "      <td>-0.001477</td>\n",
              "      <td>-0.062198</td>\n",
              "      <td>0.051855</td>\n",
              "    </tr>\n",
              "    <tr>\n",
              "      <th>...</th>\n",
              "      <td>...</td>\n",
              "      <td>...</td>\n",
              "      <td>...</td>\n",
              "      <td>...</td>\n",
              "      <td>...</td>\n",
              "      <td>...</td>\n",
              "      <td>...</td>\n",
              "      <td>...</td>\n",
              "      <td>...</td>\n",
              "      <td>...</td>\n",
              "      <td>...</td>\n",
              "      <td>...</td>\n",
              "    </tr>\n",
              "    <tr>\n",
              "      <th>21995</th>\n",
              "      <td>3</td>\n",
              "      <td>1.0</td>\n",
              "      <td>-4.908699</td>\n",
              "      <td>-0.202877</td>\n",
              "      <td>-7.034061</td>\n",
              "      <td>-0.191377</td>\n",
              "      <td>-4.959159</td>\n",
              "      <td>-3.720423</td>\n",
              "      <td>-1.579238</td>\n",
              "      <td>-1.170402</td>\n",
              "      <td>-0.866328</td>\n",
              "      <td>-6.532949</td>\n",
              "    </tr>\n",
              "    <tr>\n",
              "      <th>21996</th>\n",
              "      <td>3</td>\n",
              "      <td>1.0</td>\n",
              "      <td>-4.760791</td>\n",
              "      <td>-2.051911</td>\n",
              "      <td>-3.005764</td>\n",
              "      <td>-5.021867</td>\n",
              "      <td>-6.029782</td>\n",
              "      <td>-2.557931</td>\n",
              "      <td>-7.692684</td>\n",
              "      <td>-4.505871</td>\n",
              "      <td>-3.697267</td>\n",
              "      <td>-6.192358</td>\n",
              "    </tr>\n",
              "    <tr>\n",
              "      <th>21997</th>\n",
              "      <td>3</td>\n",
              "      <td>1.0</td>\n",
              "      <td>-6.228035</td>\n",
              "      <td>-9.892052</td>\n",
              "      <td>-4.797347</td>\n",
              "      <td>-4.359743</td>\n",
              "      <td>-5.422475</td>\n",
              "      <td>-3.074581</td>\n",
              "      <td>-6.745211</td>\n",
              "      <td>-5.299926</td>\n",
              "      <td>-6.553259</td>\n",
              "      <td>-5.873551</td>\n",
              "    </tr>\n",
              "    <tr>\n",
              "      <th>21998</th>\n",
              "      <td>3</td>\n",
              "      <td>1.0</td>\n",
              "      <td>-17.679915</td>\n",
              "      <td>-5.207788</td>\n",
              "      <td>-13.150402</td>\n",
              "      <td>-14.755457</td>\n",
              "      <td>-9.773750</td>\n",
              "      <td>-0.809436</td>\n",
              "      <td>-14.680533</td>\n",
              "      <td>-12.824639</td>\n",
              "      <td>-7.237168</td>\n",
              "      <td>-11.387592</td>\n",
              "    </tr>\n",
              "    <tr>\n",
              "      <th>21999</th>\n",
              "      <td>3</td>\n",
              "      <td>0.0</td>\n",
              "      <td>-30.393917</td>\n",
              "      <td>-20.076709</td>\n",
              "      <td>-24.046210</td>\n",
              "      <td>-28.914868</td>\n",
              "      <td>1.898454</td>\n",
              "      <td>-2.787316</td>\n",
              "      <td>-0.880430</td>\n",
              "      <td>13.119629</td>\n",
              "      <td>20.350774</td>\n",
              "      <td>-20.161547</td>\n",
              "    </tr>\n",
              "  </tbody>\n",
              "</table>\n",
              "<p>22000 rows × 12 columns</p>\n",
              "</div>"
            ],
            "text/plain": [
              "       Status  Gender  MDVP:Jitter(%)  ...  Shimmer:APQ5  Shimmer:APQ11        DFA\n",
              "0           0     1.0       -0.074021  ...      0.150226       0.126336   0.697195\n",
              "1           0     1.0       -0.079620  ...     -0.092953      -0.112611  -0.303323\n",
              "2           0     0.0       -0.085898  ...      0.213692       0.057749   0.221052\n",
              "3           0     0.0       -0.087934  ...     -0.126629      -0.210750  -0.834257\n",
              "4           0     0.0       -0.087425  ...     -0.001477      -0.062198   0.051855\n",
              "...       ...     ...             ...  ...           ...            ...        ...\n",
              "21995       3     1.0       -4.908699  ...     -1.170402      -0.866328  -6.532949\n",
              "21996       3     1.0       -4.760791  ...     -4.505871      -3.697267  -6.192358\n",
              "21997       3     1.0       -6.228035  ...     -5.299926      -6.553259  -5.873551\n",
              "21998       3     1.0      -17.679915  ...    -12.824639      -7.237168 -11.387592\n",
              "21999       3     0.0      -30.393917  ...     13.119629      20.350774 -20.161547\n",
              "\n",
              "[22000 rows x 12 columns]"
            ]
          },
          "metadata": {
            "tags": []
          },
          "execution_count": 81
        }
      ]
    },
    {
      "cell_type": "code",
      "metadata": {
        "id": "1BtYdcNha5G6"
      },
      "source": [
        "new_x_train = smoted_training_data.drop(['Status'], axis = 1)\n",
        "new_y_train = smoted_training_data.drop(['Gender', 'MDVP:Jitter(%)', 'MDVP:Jitter(Abs)', 'Jitter:PPQ5', 'Jitter:DDP', 'MDVP:Shimmer', 'MDVP:Shimmer(dB)', 'Shimmer:APQ3', 'Shimmer:APQ5', 'Shimmer:APQ11', 'DFA'],axis = 1)"
      ],
      "execution_count": null,
      "outputs": []
    },
    {
      "cell_type": "code",
      "metadata": {
        "colab": {
          "base_uri": "https://localhost:8080/",
          "height": 377
        },
        "id": "IT6_FDx5tiUe",
        "outputId": "f149335a-1fa8-4221-a927-99a0458c0334"
      },
      "source": [
        "model = RandomForestClassifier(n_estimators=1000)\n",
        "model.fit(new_x_train, new_y_train)"
      ],
      "execution_count": null,
      "outputs": [
        {
          "output_type": "stream",
          "text": [
            "/usr/local/lib/python3.7/dist-packages/ipykernel_launcher.py:2: DataConversionWarning: A column-vector y was passed when a 1d array was expected. Please change the shape of y to (n_samples,), for example using ravel().\n",
            "  \n"
          ],
          "name": "stderr"
        },
        {
          "output_type": "error",
          "ename": "KeyboardInterrupt",
          "evalue": "ignored",
          "traceback": [
            "\u001b[0;31m---------------------------------------------------------------------------\u001b[0m",
            "\u001b[0;31mKeyboardInterrupt\u001b[0m                         Traceback (most recent call last)",
            "\u001b[0;32m<ipython-input-83-8ac11e231c6d>\u001b[0m in \u001b[0;36m<module>\u001b[0;34m()\u001b[0m\n\u001b[1;32m      1\u001b[0m \u001b[0mmodel\u001b[0m \u001b[0;34m=\u001b[0m \u001b[0mRandomForestClassifier\u001b[0m\u001b[0;34m(\u001b[0m\u001b[0mn_estimators\u001b[0m\u001b[0;34m=\u001b[0m\u001b[0;36m1000\u001b[0m\u001b[0;34m)\u001b[0m\u001b[0;34m\u001b[0m\u001b[0;34m\u001b[0m\u001b[0m\n\u001b[0;32m----> 2\u001b[0;31m \u001b[0mmodel\u001b[0m\u001b[0;34m.\u001b[0m\u001b[0mfit\u001b[0m\u001b[0;34m(\u001b[0m\u001b[0mnew_x_train\u001b[0m\u001b[0;34m,\u001b[0m \u001b[0mnew_y_train\u001b[0m\u001b[0;34m)\u001b[0m\u001b[0;34m\u001b[0m\u001b[0;34m\u001b[0m\u001b[0m\n\u001b[0m",
            "\u001b[0;32m/usr/local/lib/python3.7/dist-packages/sklearn/ensemble/_forest.py\u001b[0m in \u001b[0;36mfit\u001b[0;34m(self, X, y, sample_weight)\u001b[0m\n\u001b[1;32m    381\u001b[0m                     \u001b[0mverbose\u001b[0m\u001b[0;34m=\u001b[0m\u001b[0mself\u001b[0m\u001b[0;34m.\u001b[0m\u001b[0mverbose\u001b[0m\u001b[0;34m,\u001b[0m \u001b[0mclass_weight\u001b[0m\u001b[0;34m=\u001b[0m\u001b[0mself\u001b[0m\u001b[0;34m.\u001b[0m\u001b[0mclass_weight\u001b[0m\u001b[0;34m,\u001b[0m\u001b[0;34m\u001b[0m\u001b[0;34m\u001b[0m\u001b[0m\n\u001b[1;32m    382\u001b[0m                     n_samples_bootstrap=n_samples_bootstrap)\n\u001b[0;32m--> 383\u001b[0;31m                 for i, t in enumerate(trees))\n\u001b[0m\u001b[1;32m    384\u001b[0m \u001b[0;34m\u001b[0m\u001b[0m\n\u001b[1;32m    385\u001b[0m             \u001b[0;31m# Collect newly grown trees\u001b[0m\u001b[0;34m\u001b[0m\u001b[0;34m\u001b[0m\u001b[0;34m\u001b[0m\u001b[0m\n",
            "\u001b[0;32m/usr/local/lib/python3.7/dist-packages/joblib/parallel.py\u001b[0m in \u001b[0;36m__call__\u001b[0;34m(self, iterable)\u001b[0m\n\u001b[1;32m   1042\u001b[0m                 \u001b[0mself\u001b[0m\u001b[0;34m.\u001b[0m\u001b[0m_iterating\u001b[0m \u001b[0;34m=\u001b[0m \u001b[0mself\u001b[0m\u001b[0;34m.\u001b[0m\u001b[0m_original_iterator\u001b[0m \u001b[0;32mis\u001b[0m \u001b[0;32mnot\u001b[0m \u001b[0;32mNone\u001b[0m\u001b[0;34m\u001b[0m\u001b[0;34m\u001b[0m\u001b[0m\n\u001b[1;32m   1043\u001b[0m \u001b[0;34m\u001b[0m\u001b[0m\n\u001b[0;32m-> 1044\u001b[0;31m             \u001b[0;32mwhile\u001b[0m \u001b[0mself\u001b[0m\u001b[0;34m.\u001b[0m\u001b[0mdispatch_one_batch\u001b[0m\u001b[0;34m(\u001b[0m\u001b[0miterator\u001b[0m\u001b[0;34m)\u001b[0m\u001b[0;34m:\u001b[0m\u001b[0;34m\u001b[0m\u001b[0;34m\u001b[0m\u001b[0m\n\u001b[0m\u001b[1;32m   1045\u001b[0m                 \u001b[0;32mpass\u001b[0m\u001b[0;34m\u001b[0m\u001b[0;34m\u001b[0m\u001b[0m\n\u001b[1;32m   1046\u001b[0m \u001b[0;34m\u001b[0m\u001b[0m\n",
            "\u001b[0;32m/usr/local/lib/python3.7/dist-packages/joblib/parallel.py\u001b[0m in \u001b[0;36mdispatch_one_batch\u001b[0;34m(self, iterator)\u001b[0m\n\u001b[1;32m    857\u001b[0m                 \u001b[0;32mreturn\u001b[0m \u001b[0;32mFalse\u001b[0m\u001b[0;34m\u001b[0m\u001b[0;34m\u001b[0m\u001b[0m\n\u001b[1;32m    858\u001b[0m             \u001b[0;32melse\u001b[0m\u001b[0;34m:\u001b[0m\u001b[0;34m\u001b[0m\u001b[0;34m\u001b[0m\u001b[0m\n\u001b[0;32m--> 859\u001b[0;31m                 \u001b[0mself\u001b[0m\u001b[0;34m.\u001b[0m\u001b[0m_dispatch\u001b[0m\u001b[0;34m(\u001b[0m\u001b[0mtasks\u001b[0m\u001b[0;34m)\u001b[0m\u001b[0;34m\u001b[0m\u001b[0;34m\u001b[0m\u001b[0m\n\u001b[0m\u001b[1;32m    860\u001b[0m                 \u001b[0;32mreturn\u001b[0m \u001b[0;32mTrue\u001b[0m\u001b[0;34m\u001b[0m\u001b[0;34m\u001b[0m\u001b[0m\n\u001b[1;32m    861\u001b[0m \u001b[0;34m\u001b[0m\u001b[0m\n",
            "\u001b[0;32m/usr/local/lib/python3.7/dist-packages/joblib/parallel.py\u001b[0m in \u001b[0;36m_dispatch\u001b[0;34m(self, batch)\u001b[0m\n\u001b[1;32m    775\u001b[0m         \u001b[0;32mwith\u001b[0m \u001b[0mself\u001b[0m\u001b[0;34m.\u001b[0m\u001b[0m_lock\u001b[0m\u001b[0;34m:\u001b[0m\u001b[0;34m\u001b[0m\u001b[0;34m\u001b[0m\u001b[0m\n\u001b[1;32m    776\u001b[0m             \u001b[0mjob_idx\u001b[0m \u001b[0;34m=\u001b[0m \u001b[0mlen\u001b[0m\u001b[0;34m(\u001b[0m\u001b[0mself\u001b[0m\u001b[0;34m.\u001b[0m\u001b[0m_jobs\u001b[0m\u001b[0;34m)\u001b[0m\u001b[0;34m\u001b[0m\u001b[0;34m\u001b[0m\u001b[0m\n\u001b[0;32m--> 777\u001b[0;31m             \u001b[0mjob\u001b[0m \u001b[0;34m=\u001b[0m \u001b[0mself\u001b[0m\u001b[0;34m.\u001b[0m\u001b[0m_backend\u001b[0m\u001b[0;34m.\u001b[0m\u001b[0mapply_async\u001b[0m\u001b[0;34m(\u001b[0m\u001b[0mbatch\u001b[0m\u001b[0;34m,\u001b[0m \u001b[0mcallback\u001b[0m\u001b[0;34m=\u001b[0m\u001b[0mcb\u001b[0m\u001b[0;34m)\u001b[0m\u001b[0;34m\u001b[0m\u001b[0;34m\u001b[0m\u001b[0m\n\u001b[0m\u001b[1;32m    778\u001b[0m             \u001b[0;31m# A job can complete so quickly than its callback is\u001b[0m\u001b[0;34m\u001b[0m\u001b[0;34m\u001b[0m\u001b[0;34m\u001b[0m\u001b[0m\n\u001b[1;32m    779\u001b[0m             \u001b[0;31m# called before we get here, causing self._jobs to\u001b[0m\u001b[0;34m\u001b[0m\u001b[0;34m\u001b[0m\u001b[0;34m\u001b[0m\u001b[0m\n",
            "\u001b[0;32m/usr/local/lib/python3.7/dist-packages/joblib/_parallel_backends.py\u001b[0m in \u001b[0;36mapply_async\u001b[0;34m(self, func, callback)\u001b[0m\n\u001b[1;32m    206\u001b[0m     \u001b[0;32mdef\u001b[0m \u001b[0mapply_async\u001b[0m\u001b[0;34m(\u001b[0m\u001b[0mself\u001b[0m\u001b[0;34m,\u001b[0m \u001b[0mfunc\u001b[0m\u001b[0;34m,\u001b[0m \u001b[0mcallback\u001b[0m\u001b[0;34m=\u001b[0m\u001b[0;32mNone\u001b[0m\u001b[0;34m)\u001b[0m\u001b[0;34m:\u001b[0m\u001b[0;34m\u001b[0m\u001b[0;34m\u001b[0m\u001b[0m\n\u001b[1;32m    207\u001b[0m         \u001b[0;34m\"\"\"Schedule a func to be run\"\"\"\u001b[0m\u001b[0;34m\u001b[0m\u001b[0;34m\u001b[0m\u001b[0m\n\u001b[0;32m--> 208\u001b[0;31m         \u001b[0mresult\u001b[0m \u001b[0;34m=\u001b[0m \u001b[0mImmediateResult\u001b[0m\u001b[0;34m(\u001b[0m\u001b[0mfunc\u001b[0m\u001b[0;34m)\u001b[0m\u001b[0;34m\u001b[0m\u001b[0;34m\u001b[0m\u001b[0m\n\u001b[0m\u001b[1;32m    209\u001b[0m         \u001b[0;32mif\u001b[0m \u001b[0mcallback\u001b[0m\u001b[0;34m:\u001b[0m\u001b[0;34m\u001b[0m\u001b[0;34m\u001b[0m\u001b[0m\n\u001b[1;32m    210\u001b[0m             \u001b[0mcallback\u001b[0m\u001b[0;34m(\u001b[0m\u001b[0mresult\u001b[0m\u001b[0;34m)\u001b[0m\u001b[0;34m\u001b[0m\u001b[0;34m\u001b[0m\u001b[0m\n",
            "\u001b[0;32m/usr/local/lib/python3.7/dist-packages/joblib/_parallel_backends.py\u001b[0m in \u001b[0;36m__init__\u001b[0;34m(self, batch)\u001b[0m\n\u001b[1;32m    570\u001b[0m         \u001b[0;31m# Don't delay the application, to avoid keeping the input\u001b[0m\u001b[0;34m\u001b[0m\u001b[0;34m\u001b[0m\u001b[0;34m\u001b[0m\u001b[0m\n\u001b[1;32m    571\u001b[0m         \u001b[0;31m# arguments in memory\u001b[0m\u001b[0;34m\u001b[0m\u001b[0;34m\u001b[0m\u001b[0;34m\u001b[0m\u001b[0m\n\u001b[0;32m--> 572\u001b[0;31m         \u001b[0mself\u001b[0m\u001b[0;34m.\u001b[0m\u001b[0mresults\u001b[0m \u001b[0;34m=\u001b[0m \u001b[0mbatch\u001b[0m\u001b[0;34m(\u001b[0m\u001b[0;34m)\u001b[0m\u001b[0;34m\u001b[0m\u001b[0;34m\u001b[0m\u001b[0m\n\u001b[0m\u001b[1;32m    573\u001b[0m \u001b[0;34m\u001b[0m\u001b[0m\n\u001b[1;32m    574\u001b[0m     \u001b[0;32mdef\u001b[0m \u001b[0mget\u001b[0m\u001b[0;34m(\u001b[0m\u001b[0mself\u001b[0m\u001b[0;34m)\u001b[0m\u001b[0;34m:\u001b[0m\u001b[0;34m\u001b[0m\u001b[0;34m\u001b[0m\u001b[0m\n",
            "\u001b[0;32m/usr/local/lib/python3.7/dist-packages/joblib/parallel.py\u001b[0m in \u001b[0;36m__call__\u001b[0;34m(self)\u001b[0m\n\u001b[1;32m    261\u001b[0m         \u001b[0;32mwith\u001b[0m \u001b[0mparallel_backend\u001b[0m\u001b[0;34m(\u001b[0m\u001b[0mself\u001b[0m\u001b[0;34m.\u001b[0m\u001b[0m_backend\u001b[0m\u001b[0;34m,\u001b[0m \u001b[0mn_jobs\u001b[0m\u001b[0;34m=\u001b[0m\u001b[0mself\u001b[0m\u001b[0;34m.\u001b[0m\u001b[0m_n_jobs\u001b[0m\u001b[0;34m)\u001b[0m\u001b[0;34m:\u001b[0m\u001b[0;34m\u001b[0m\u001b[0;34m\u001b[0m\u001b[0m\n\u001b[1;32m    262\u001b[0m             return [func(*args, **kwargs)\n\u001b[0;32m--> 263\u001b[0;31m                     for func, args, kwargs in self.items]\n\u001b[0m\u001b[1;32m    264\u001b[0m \u001b[0;34m\u001b[0m\u001b[0m\n\u001b[1;32m    265\u001b[0m     \u001b[0;32mdef\u001b[0m \u001b[0m__reduce__\u001b[0m\u001b[0;34m(\u001b[0m\u001b[0mself\u001b[0m\u001b[0;34m)\u001b[0m\u001b[0;34m:\u001b[0m\u001b[0;34m\u001b[0m\u001b[0;34m\u001b[0m\u001b[0m\n",
            "\u001b[0;32m/usr/local/lib/python3.7/dist-packages/joblib/parallel.py\u001b[0m in \u001b[0;36m<listcomp>\u001b[0;34m(.0)\u001b[0m\n\u001b[1;32m    261\u001b[0m         \u001b[0;32mwith\u001b[0m \u001b[0mparallel_backend\u001b[0m\u001b[0;34m(\u001b[0m\u001b[0mself\u001b[0m\u001b[0;34m.\u001b[0m\u001b[0m_backend\u001b[0m\u001b[0;34m,\u001b[0m \u001b[0mn_jobs\u001b[0m\u001b[0;34m=\u001b[0m\u001b[0mself\u001b[0m\u001b[0;34m.\u001b[0m\u001b[0m_n_jobs\u001b[0m\u001b[0;34m)\u001b[0m\u001b[0;34m:\u001b[0m\u001b[0;34m\u001b[0m\u001b[0;34m\u001b[0m\u001b[0m\n\u001b[1;32m    262\u001b[0m             return [func(*args, **kwargs)\n\u001b[0;32m--> 263\u001b[0;31m                     for func, args, kwargs in self.items]\n\u001b[0m\u001b[1;32m    264\u001b[0m \u001b[0;34m\u001b[0m\u001b[0m\n\u001b[1;32m    265\u001b[0m     \u001b[0;32mdef\u001b[0m \u001b[0m__reduce__\u001b[0m\u001b[0;34m(\u001b[0m\u001b[0mself\u001b[0m\u001b[0;34m)\u001b[0m\u001b[0;34m:\u001b[0m\u001b[0;34m\u001b[0m\u001b[0;34m\u001b[0m\u001b[0m\n",
            "\u001b[0;32m/usr/local/lib/python3.7/dist-packages/sklearn/ensemble/_forest.py\u001b[0m in \u001b[0;36m_parallel_build_trees\u001b[0;34m(tree, forest, X, y, sample_weight, tree_idx, n_trees, verbose, class_weight, n_samples_bootstrap)\u001b[0m\n\u001b[1;32m    163\u001b[0m             \u001b[0mcurr_sample_weight\u001b[0m \u001b[0;34m*=\u001b[0m \u001b[0mcompute_sample_weight\u001b[0m\u001b[0;34m(\u001b[0m\u001b[0;34m'balanced'\u001b[0m\u001b[0;34m,\u001b[0m \u001b[0my\u001b[0m\u001b[0;34m,\u001b[0m \u001b[0mindices\u001b[0m\u001b[0;34m)\u001b[0m\u001b[0;34m\u001b[0m\u001b[0;34m\u001b[0m\u001b[0m\n\u001b[1;32m    164\u001b[0m \u001b[0;34m\u001b[0m\u001b[0m\n\u001b[0;32m--> 165\u001b[0;31m         \u001b[0mtree\u001b[0m\u001b[0;34m.\u001b[0m\u001b[0mfit\u001b[0m\u001b[0;34m(\u001b[0m\u001b[0mX\u001b[0m\u001b[0;34m,\u001b[0m \u001b[0my\u001b[0m\u001b[0;34m,\u001b[0m \u001b[0msample_weight\u001b[0m\u001b[0;34m=\u001b[0m\u001b[0mcurr_sample_weight\u001b[0m\u001b[0;34m,\u001b[0m \u001b[0mcheck_input\u001b[0m\u001b[0;34m=\u001b[0m\u001b[0;32mFalse\u001b[0m\u001b[0;34m)\u001b[0m\u001b[0;34m\u001b[0m\u001b[0;34m\u001b[0m\u001b[0m\n\u001b[0m\u001b[1;32m    166\u001b[0m     \u001b[0;32melse\u001b[0m\u001b[0;34m:\u001b[0m\u001b[0;34m\u001b[0m\u001b[0;34m\u001b[0m\u001b[0m\n\u001b[1;32m    167\u001b[0m         \u001b[0mtree\u001b[0m\u001b[0;34m.\u001b[0m\u001b[0mfit\u001b[0m\u001b[0;34m(\u001b[0m\u001b[0mX\u001b[0m\u001b[0;34m,\u001b[0m \u001b[0my\u001b[0m\u001b[0;34m,\u001b[0m \u001b[0msample_weight\u001b[0m\u001b[0;34m=\u001b[0m\u001b[0msample_weight\u001b[0m\u001b[0;34m,\u001b[0m \u001b[0mcheck_input\u001b[0m\u001b[0;34m=\u001b[0m\u001b[0;32mFalse\u001b[0m\u001b[0;34m)\u001b[0m\u001b[0;34m\u001b[0m\u001b[0;34m\u001b[0m\u001b[0m\n",
            "\u001b[0;32m/usr/local/lib/python3.7/dist-packages/sklearn/tree/_classes.py\u001b[0m in \u001b[0;36mfit\u001b[0;34m(self, X, y, sample_weight, check_input, X_idx_sorted)\u001b[0m\n\u001b[1;32m    875\u001b[0m             \u001b[0msample_weight\u001b[0m\u001b[0;34m=\u001b[0m\u001b[0msample_weight\u001b[0m\u001b[0;34m,\u001b[0m\u001b[0;34m\u001b[0m\u001b[0;34m\u001b[0m\u001b[0m\n\u001b[1;32m    876\u001b[0m             \u001b[0mcheck_input\u001b[0m\u001b[0;34m=\u001b[0m\u001b[0mcheck_input\u001b[0m\u001b[0;34m,\u001b[0m\u001b[0;34m\u001b[0m\u001b[0;34m\u001b[0m\u001b[0m\n\u001b[0;32m--> 877\u001b[0;31m             X_idx_sorted=X_idx_sorted)\n\u001b[0m\u001b[1;32m    878\u001b[0m         \u001b[0;32mreturn\u001b[0m \u001b[0mself\u001b[0m\u001b[0;34m\u001b[0m\u001b[0;34m\u001b[0m\u001b[0m\n\u001b[1;32m    879\u001b[0m \u001b[0;34m\u001b[0m\u001b[0m\n",
            "\u001b[0;32m/usr/local/lib/python3.7/dist-packages/sklearn/tree/_classes.py\u001b[0m in \u001b[0;36mfit\u001b[0;34m(self, X, y, sample_weight, check_input, X_idx_sorted)\u001b[0m\n\u001b[1;32m    365\u001b[0m                                            min_impurity_split)\n\u001b[1;32m    366\u001b[0m \u001b[0;34m\u001b[0m\u001b[0m\n\u001b[0;32m--> 367\u001b[0;31m         \u001b[0mbuilder\u001b[0m\u001b[0;34m.\u001b[0m\u001b[0mbuild\u001b[0m\u001b[0;34m(\u001b[0m\u001b[0mself\u001b[0m\u001b[0;34m.\u001b[0m\u001b[0mtree_\u001b[0m\u001b[0;34m,\u001b[0m \u001b[0mX\u001b[0m\u001b[0;34m,\u001b[0m \u001b[0my\u001b[0m\u001b[0;34m,\u001b[0m \u001b[0msample_weight\u001b[0m\u001b[0;34m,\u001b[0m \u001b[0mX_idx_sorted\u001b[0m\u001b[0;34m)\u001b[0m\u001b[0;34m\u001b[0m\u001b[0;34m\u001b[0m\u001b[0m\n\u001b[0m\u001b[1;32m    368\u001b[0m \u001b[0;34m\u001b[0m\u001b[0m\n\u001b[1;32m    369\u001b[0m         \u001b[0;32mif\u001b[0m \u001b[0mself\u001b[0m\u001b[0;34m.\u001b[0m\u001b[0mn_outputs_\u001b[0m \u001b[0;34m==\u001b[0m \u001b[0;36m1\u001b[0m \u001b[0;32mand\u001b[0m \u001b[0mis_classifier\u001b[0m\u001b[0;34m(\u001b[0m\u001b[0mself\u001b[0m\u001b[0;34m)\u001b[0m\u001b[0;34m:\u001b[0m\u001b[0;34m\u001b[0m\u001b[0;34m\u001b[0m\u001b[0m\n",
            "\u001b[0;31mKeyboardInterrupt\u001b[0m: "
          ]
        }
      ]
    },
    {
      "cell_type": "code",
      "metadata": {
        "id": "swaDVbN7t0z8"
      },
      "source": [
        "ypred = model.predict(x_test)"
      ],
      "execution_count": null,
      "outputs": []
    },
    {
      "cell_type": "code",
      "metadata": {
        "colab": {
          "base_uri": "https://localhost:8080/"
        },
        "id": "lQnLHmTHttZl",
        "outputId": "81819df6-51c3-46da-b1fb-631ca35c58c8"
      },
      "source": [
        "from sklearn import metrics\n",
        "print(metrics.classification_report(ypred, y_test))"
      ],
      "execution_count": null,
      "outputs": [
        {
          "output_type": "stream",
          "text": [
            "              precision    recall  f1-score   support\n",
            "\n",
            "           0       0.72      0.41      0.52        76\n",
            "           1       0.97      0.99      0.98      1257\n",
            "           2       0.33      1.00      0.50         1\n",
            "           3       0.33      0.33      0.33         3\n",
            "\n",
            "    accuracy                           0.96      1337\n",
            "   macro avg       0.59      0.68      0.58      1337\n",
            "weighted avg       0.95      0.96      0.95      1337\n",
            "\n"
          ],
          "name": "stdout"
        }
      ]
    },
    {
      "cell_type": "code",
      "metadata": {
        "colab": {
          "base_uri": "https://localhost:8080/"
        },
        "id": "jxNFgGZSvZd5",
        "outputId": "5f15a2e9-b11e-4e71-bb08-a1d1eda4b50f"
      },
      "source": [
        "print(accuracy_score(y_test, ypred)*100)"
      ],
      "execution_count": null,
      "outputs": [
        {
          "output_type": "stream",
          "text": [
            "95.73672400897532\n"
          ],
          "name": "stdout"
        }
      ]
    },
    {
      "cell_type": "code",
      "metadata": {
        "colab": {
          "base_uri": "https://localhost:8080/"
        },
        "id": "b0Ew_h1u-cax",
        "outputId": "48f5f495-d8a9-49c4-9e49-1ea76508c145"
      },
      "source": [
        "from sklearn.metrics import roc_auc_score\n",
        "\n",
        "roc_auc_score(y_test, model.predict_proba(x_test), multi_class='ovr')\n",
        "\n"
      ],
      "execution_count": null,
      "outputs": [
        {
          "output_type": "execute_result",
          "data": {
            "text/plain": [
              "0.972961970957809"
            ]
          },
          "metadata": {
            "tags": []
          },
          "execution_count": 52
        }
      ]
    },
    {
      "cell_type": "code",
      "metadata": {
        "id": "m6G3EFhzlt9w"
      },
      "source": [
        "from itertools import chain\n",
        "\n",
        "ypred_list = ypred.tolist()\n",
        "y_test_list = y_test.values.tolist()\n",
        "\n",
        "#changing from 2d list into 1d list \n",
        "y_test_list = list(chain.from_iterable(y_test_list))\n",
        "TP, FP, TN, FN = perf_measure(y_test_list, ypred_list)"
      ],
      "execution_count": null,
      "outputs": []
    },
    {
      "cell_type": "code",
      "metadata": {
        "colab": {
          "base_uri": "https://localhost:8080/"
        },
        "id": "xJBFwxTc4Fcs",
        "outputId": "6462e83e-f797-4800-cf11-5ae24c525c42"
      },
      "source": [
        "print(TP,FP,TN,FN)"
      ],
      "execution_count": null,
      "outputs": [
        {
          "output_type": "stream",
          "text": [
            "1249 12 31 45\n"
          ],
          "name": "stdout"
        }
      ]
    },
    {
      "cell_type": "code",
      "metadata": {
        "id": "Oc28U4ESRVcX"
      },
      "source": [
        "import csv\n",
        "import matplotlib.pyplot as plt\n",
        "import os\n",
        "import secrets  # to generate jpg name\n",
        "\n",
        "def performance_report(model, X, y, X_test, y_test, y_pred, model_label):\n",
        "\n",
        "  # classification accuracy\n",
        "  try:\n",
        "    from sklearn.metrics import accuracy_score\n",
        "    accuracy = accuracy_score(y_test, y_pred)\n",
        "  except:\n",
        "    accuracy = \"NA\"\n",
        "\n",
        "  # confusion matrix\n",
        "  from sklearn.metrics import confusion_matrix\n",
        "  from sklearn.metrics import plot_confusion_matrix\n",
        "  from sklearn.model_selection import cross_val_score, KFold\n",
        "  \n",
        "  try:\n",
        "    conf = confusion_matrix(y_test, y_pred)\n",
        "    TP = conf[1][1]\n",
        "    TN = conf[0][0]\n",
        "    FP = conf[0][1]\n",
        "    FN = conf[1][0]\n",
        "\n",
        "    disp = plot_confusion_matrix(model, X_test, y_test, cmap=plt.cm.Blues, values_format='.0f')\n",
        "    title = secrets.token_hex(4)\n",
        "    plt.savefig(title, format=\"jpg\")\n",
        "\n",
        "    path1 = os.path.abspath(title+\".jpg\")\n",
        "  except:\n",
        "    TP = TN = FP = FN = path1 = \"\"\n",
        "\n",
        "  # k-fold cross validation\n",
        "  from sklearn import model_selection\n",
        "  try:\n",
        "    kfold = model_selection.KFold(n_splits=6, shuffle=True)\n",
        "    KCV = model_selection.cross_val_score(model, X, y, cv=kfold, scoring='accuracy').mean()\n",
        "  except:\n",
        "    KCV = \"\"\n",
        "\n",
        "  # log loss (closer to 0 is better)\n",
        "  try:\n",
        "    logloss = model_selection.cross_val_score(model, x_train, y_train, cv=kfold, scoring='neg_log_loss').mean()\n",
        "  except:\n",
        "    logloss = \"\"\n",
        "\n",
        "  # AUC (1 is perfect predictions, 0.5 is as good as random)\n",
        "  try:\n",
        "    AUC = model_selection.cross_val_score(model, x_train, y_train, cv=kfold, scoring='roc_auc').mean()\n",
        "  except:\n",
        "    AUC = \"\"\n",
        "\n",
        "  # precision recall curve\n",
        "  from sklearn.metrics import plot_precision_recall_curve\n",
        "  from sklearn.metrics import average_precision_score\n",
        "\n",
        "  try:\n",
        "    y_score = model.decision_function(X_test)\n",
        "    average_precision = average_precision_score(y_test, y_score)\n",
        "\n",
        "    disp = plot_precision_recall_curve(model, x_test, y_test)\n",
        "    title = secrets.token_hex(4)  \n",
        "    plt.savefig(title, format=\"jpg\")\n",
        "\n",
        "    path2 = os.path.abspath(title+\".jpg\")\n",
        "  except:\n",
        "    average_precision = path2 = \"\"\n",
        "\n",
        "  # appending metrics to csv file\n",
        "  with open('metrics.csv', 'a', newline='') as file:\n",
        "    writer = csv.writer(file)\n",
        "    if os.stat(\"metrics.csv\").st_size == 0:\n",
        "      writer.writerow([\"Model label\", \"Accuracy score\", \"TP\", \"TN\", \"FP\", \"FN\", \"Confusion matrix file\",\"KCV\", \"Log-loss\", \"AUC\", \"Average precision\", \"Precision-recall file\"])\n",
        "    writer.writerow([model_label, accuracy, TP, TN, FP, FN, path1, KCV, logloss, AUC, average_precision, path2])\n"
      ],
      "execution_count": null,
      "outputs": []
    },
    {
      "cell_type": "code",
      "metadata": {
        "colab": {
          "base_uri": "https://localhost:8080/",
          "height": 747
        },
        "id": "TLINMpzzRWvX",
        "outputId": "05910860-6dce-49d8-9ff6-aba5d651a1ac"
      },
      "source": [
        "model_label = 'Randomforest_alldisorders_remove'\n",
        "performance_report(model, new_x_train, new_y_train, x_test, y_test, ypred, model_label)"
      ],
      "execution_count": null,
      "outputs": [
        {
          "output_type": "stream",
          "text": [
            "/usr/local/lib/python3.7/dist-packages/sklearn/model_selection/_validation.py:515: DataConversionWarning: A column-vector y was passed when a 1d array was expected. Please change the shape of y to (n_samples,), for example using ravel().\n",
            "  estimator.fit(X_train, y_train, **fit_params)\n",
            "/usr/local/lib/python3.7/dist-packages/sklearn/model_selection/_validation.py:515: DataConversionWarning: A column-vector y was passed when a 1d array was expected. Please change the shape of y to (n_samples,), for example using ravel().\n",
            "  estimator.fit(X_train, y_train, **fit_params)\n",
            "/usr/local/lib/python3.7/dist-packages/sklearn/model_selection/_validation.py:515: DataConversionWarning: A column-vector y was passed when a 1d array was expected. Please change the shape of y to (n_samples,), for example using ravel().\n",
            "  estimator.fit(X_train, y_train, **fit_params)\n",
            "/usr/local/lib/python3.7/dist-packages/sklearn/model_selection/_validation.py:515: DataConversionWarning: A column-vector y was passed when a 1d array was expected. Please change the shape of y to (n_samples,), for example using ravel().\n",
            "  estimator.fit(X_train, y_train, **fit_params)\n",
            "/usr/local/lib/python3.7/dist-packages/sklearn/model_selection/_validation.py:515: DataConversionWarning: A column-vector y was passed when a 1d array was expected. Please change the shape of y to (n_samples,), for example using ravel().\n",
            "  estimator.fit(X_train, y_train, **fit_params)\n",
            "/usr/local/lib/python3.7/dist-packages/sklearn/model_selection/_validation.py:515: DataConversionWarning: A column-vector y was passed when a 1d array was expected. Please change the shape of y to (n_samples,), for example using ravel().\n",
            "  estimator.fit(X_train, y_train, **fit_params)\n",
            "/usr/local/lib/python3.7/dist-packages/sklearn/model_selection/_validation.py:515: DataConversionWarning: A column-vector y was passed when a 1d array was expected. Please change the shape of y to (n_samples,), for example using ravel().\n",
            "  estimator.fit(X_train, y_train, **fit_params)\n",
            "/usr/local/lib/python3.7/dist-packages/sklearn/model_selection/_validation.py:515: DataConversionWarning: A column-vector y was passed when a 1d array was expected. Please change the shape of y to (n_samples,), for example using ravel().\n",
            "  estimator.fit(X_train, y_train, **fit_params)\n",
            "/usr/local/lib/python3.7/dist-packages/sklearn/model_selection/_validation.py:515: DataConversionWarning: A column-vector y was passed when a 1d array was expected. Please change the shape of y to (n_samples,), for example using ravel().\n",
            "  estimator.fit(X_train, y_train, **fit_params)\n",
            "/usr/local/lib/python3.7/dist-packages/sklearn/model_selection/_validation.py:515: DataConversionWarning: A column-vector y was passed when a 1d array was expected. Please change the shape of y to (n_samples,), for example using ravel().\n",
            "  estimator.fit(X_train, y_train, **fit_params)\n",
            "/usr/local/lib/python3.7/dist-packages/sklearn/model_selection/_validation.py:515: DataConversionWarning: A column-vector y was passed when a 1d array was expected. Please change the shape of y to (n_samples,), for example using ravel().\n",
            "  estimator.fit(X_train, y_train, **fit_params)\n",
            "/usr/local/lib/python3.7/dist-packages/sklearn/model_selection/_validation.py:515: DataConversionWarning: A column-vector y was passed when a 1d array was expected. Please change the shape of y to (n_samples,), for example using ravel().\n",
            "  estimator.fit(X_train, y_train, **fit_params)\n",
            "/usr/local/lib/python3.7/dist-packages/sklearn/model_selection/_validation.py:515: DataConversionWarning: A column-vector y was passed when a 1d array was expected. Please change the shape of y to (n_samples,), for example using ravel().\n",
            "  estimator.fit(X_train, y_train, **fit_params)\n"
          ],
          "name": "stderr"
        },
        {
          "output_type": "display_data",
          "data": {
            "image/png": "[encoded data removed]",
            "text/plain": [
              "<Figure size 432x288 with 2 Axes>"
            ]
          },
          "metadata": {
            "tags": []
          }
        }
      ]
    },
    {
      "cell_type": "code",
      "metadata": {
        "colab": {
          "base_uri": "https://localhost:8080/",
          "height": 428
        },
        "id": "FngaAItUWkSw",
        "outputId": "c8fe88cd-abbc-476d-915f-b954c9d5f530"
      },
      "source": [
        "kfold = KFold(n_splits=10, shuffle=True)\n",
        "kf_cv_scores = cross_val_score(model2, new_x_train, new_y_train, cv=kfold )\n",
        "print(\"K-fold CV average score: %.2f\" % kf_cv_scores.mean())"
      ],
      "execution_count": null,
      "outputs": [
        {
          "output_type": "stream",
          "text": [
            "/usr/local/lib/python3.7/dist-packages/sklearn/model_selection/_validation.py:515: DataConversionWarning: A column-vector y was passed when a 1d array was expected. Please change the shape of y to (n_samples,), for example using ravel().\n",
            "  estimator.fit(X_train, y_train, **fit_params)\n",
            "/usr/local/lib/python3.7/dist-packages/sklearn/model_selection/_validation.py:515: DataConversionWarning: A column-vector y was passed when a 1d array was expected. Please change the shape of y to (n_samples,), for example using ravel().\n",
            "  estimator.fit(X_train, y_train, **fit_params)\n"
          ],
          "name": "stderr"
        },
        {
          "output_type": "error",
          "ename": "KeyboardInterrupt",
          "evalue": "ignored",
          "traceback": [
            "\u001b[0;31m---------------------------------------------------------------------------\u001b[0m",
            "\u001b[0;31mKeyboardInterrupt\u001b[0m                         Traceback (most recent call last)",
            "\u001b[0;32m<ipython-input-55-3c33d16a7f82>\u001b[0m in \u001b[0;36m<module>\u001b[0;34m()\u001b[0m\n\u001b[1;32m      1\u001b[0m \u001b[0mkfold\u001b[0m \u001b[0;34m=\u001b[0m \u001b[0mKFold\u001b[0m\u001b[0;34m(\u001b[0m\u001b[0mn_splits\u001b[0m\u001b[0;34m=\u001b[0m\u001b[0;36m10\u001b[0m\u001b[0;34m,\u001b[0m \u001b[0mshuffle\u001b[0m\u001b[0;34m=\u001b[0m\u001b[0;32mTrue\u001b[0m\u001b[0;34m)\u001b[0m\u001b[0;34m\u001b[0m\u001b[0;34m\u001b[0m\u001b[0m\n\u001b[0;32m----> 2\u001b[0;31m \u001b[0mkf_cv_scores\u001b[0m \u001b[0;34m=\u001b[0m \u001b[0mcross_val_score\u001b[0m\u001b[0;34m(\u001b[0m\u001b[0mmodel\u001b[0m\u001b[0;34m,\u001b[0m \u001b[0mx_train\u001b[0m\u001b[0;34m,\u001b[0m \u001b[0my_train\u001b[0m\u001b[0;34m,\u001b[0m \u001b[0mcv\u001b[0m\u001b[0;34m=\u001b[0m\u001b[0mkfold\u001b[0m \u001b[0;34m)\u001b[0m\u001b[0;34m\u001b[0m\u001b[0;34m\u001b[0m\u001b[0m\n\u001b[0m\u001b[1;32m      3\u001b[0m \u001b[0mprint\u001b[0m\u001b[0;34m(\u001b[0m\u001b[0;34m\"K-fold CV average score: %.2f\"\u001b[0m \u001b[0;34m%\u001b[0m \u001b[0mkf_cv_scores\u001b[0m\u001b[0;34m.\u001b[0m\u001b[0mmean\u001b[0m\u001b[0;34m(\u001b[0m\u001b[0;34m)\u001b[0m\u001b[0;34m)\u001b[0m\u001b[0;34m\u001b[0m\u001b[0;34m\u001b[0m\u001b[0m\n",
            "\u001b[0;32m/usr/local/lib/python3.7/dist-packages/sklearn/model_selection/_validation.py\u001b[0m in \u001b[0;36mcross_val_score\u001b[0;34m(estimator, X, y, groups, scoring, cv, n_jobs, verbose, fit_params, pre_dispatch, error_score)\u001b[0m\n\u001b[1;32m    388\u001b[0m                                 \u001b[0mfit_params\u001b[0m\u001b[0;34m=\u001b[0m\u001b[0mfit_params\u001b[0m\u001b[0;34m,\u001b[0m\u001b[0;34m\u001b[0m\u001b[0;34m\u001b[0m\u001b[0m\n\u001b[1;32m    389\u001b[0m                                 \u001b[0mpre_dispatch\u001b[0m\u001b[0;34m=\u001b[0m\u001b[0mpre_dispatch\u001b[0m\u001b[0;34m,\u001b[0m\u001b[0;34m\u001b[0m\u001b[0;34m\u001b[0m\u001b[0m\n\u001b[0;32m--> 390\u001b[0;31m                                 error_score=error_score)\n\u001b[0m\u001b[1;32m    391\u001b[0m     \u001b[0;32mreturn\u001b[0m \u001b[0mcv_results\u001b[0m\u001b[0;34m[\u001b[0m\u001b[0;34m'test_score'\u001b[0m\u001b[0;34m]\u001b[0m\u001b[0;34m\u001b[0m\u001b[0;34m\u001b[0m\u001b[0m\n\u001b[1;32m    392\u001b[0m \u001b[0;34m\u001b[0m\u001b[0m\n",
            "\u001b[0;32m/usr/local/lib/python3.7/dist-packages/sklearn/model_selection/_validation.py\u001b[0m in \u001b[0;36mcross_validate\u001b[0;34m(estimator, X, y, groups, scoring, cv, n_jobs, verbose, fit_params, pre_dispatch, return_train_score, return_estimator, error_score)\u001b[0m\n\u001b[1;32m    234\u001b[0m             \u001b[0mreturn_times\u001b[0m\u001b[0;34m=\u001b[0m\u001b[0;32mTrue\u001b[0m\u001b[0;34m,\u001b[0m \u001b[0mreturn_estimator\u001b[0m\u001b[0;34m=\u001b[0m\u001b[0mreturn_estimator\u001b[0m\u001b[0;34m,\u001b[0m\u001b[0;34m\u001b[0m\u001b[0;34m\u001b[0m\u001b[0m\n\u001b[1;32m    235\u001b[0m             error_score=error_score)\n\u001b[0;32m--> 236\u001b[0;31m         for train, test in cv.split(X, y, groups))\n\u001b[0m\u001b[1;32m    237\u001b[0m \u001b[0;34m\u001b[0m\u001b[0m\n\u001b[1;32m    238\u001b[0m     \u001b[0mzipped_scores\u001b[0m \u001b[0;34m=\u001b[0m \u001b[0mlist\u001b[0m\u001b[0;34m(\u001b[0m\u001b[0mzip\u001b[0m\u001b[0;34m(\u001b[0m\u001b[0;34m*\u001b[0m\u001b[0mscores\u001b[0m\u001b[0;34m)\u001b[0m\u001b[0;34m)\u001b[0m\u001b[0;34m\u001b[0m\u001b[0;34m\u001b[0m\u001b[0m\n",
            "\u001b[0;32m/usr/local/lib/python3.7/dist-packages/joblib/parallel.py\u001b[0m in \u001b[0;36m__call__\u001b[0;34m(self, iterable)\u001b[0m\n\u001b[1;32m   1042\u001b[0m                 \u001b[0mself\u001b[0m\u001b[0;34m.\u001b[0m\u001b[0m_iterating\u001b[0m \u001b[0;34m=\u001b[0m \u001b[0mself\u001b[0m\u001b[0;34m.\u001b[0m\u001b[0m_original_iterator\u001b[0m \u001b[0;32mis\u001b[0m \u001b[0;32mnot\u001b[0m \u001b[0;32mNone\u001b[0m\u001b[0;34m\u001b[0m\u001b[0;34m\u001b[0m\u001b[0m\n\u001b[1;32m   1043\u001b[0m \u001b[0;34m\u001b[0m\u001b[0m\n\u001b[0;32m-> 1044\u001b[0;31m             \u001b[0;32mwhile\u001b[0m \u001b[0mself\u001b[0m\u001b[0;34m.\u001b[0m\u001b[0mdispatch_one_batch\u001b[0m\u001b[0;34m(\u001b[0m\u001b[0miterator\u001b[0m\u001b[0;34m)\u001b[0m\u001b[0;34m:\u001b[0m\u001b[0;34m\u001b[0m\u001b[0;34m\u001b[0m\u001b[0m\n\u001b[0m\u001b[1;32m   1045\u001b[0m                 \u001b[0;32mpass\u001b[0m\u001b[0;34m\u001b[0m\u001b[0;34m\u001b[0m\u001b[0m\n\u001b[1;32m   1046\u001b[0m \u001b[0;34m\u001b[0m\u001b[0m\n",
            "\u001b[0;32m/usr/local/lib/python3.7/dist-packages/joblib/parallel.py\u001b[0m in \u001b[0;36mdispatch_one_batch\u001b[0;34m(self, iterator)\u001b[0m\n\u001b[1;32m    857\u001b[0m                 \u001b[0;32mreturn\u001b[0m \u001b[0;32mFalse\u001b[0m\u001b[0;34m\u001b[0m\u001b[0;34m\u001b[0m\u001b[0m\n\u001b[1;32m    858\u001b[0m             \u001b[0;32melse\u001b[0m\u001b[0;34m:\u001b[0m\u001b[0;34m\u001b[0m\u001b[0;34m\u001b[0m\u001b[0m\n\u001b[0;32m--> 859\u001b[0;31m                 \u001b[0mself\u001b[0m\u001b[0;34m.\u001b[0m\u001b[0m_dispatch\u001b[0m\u001b[0;34m(\u001b[0m\u001b[0mtasks\u001b[0m\u001b[0;34m)\u001b[0m\u001b[0;34m\u001b[0m\u001b[0;34m\u001b[0m\u001b[0m\n\u001b[0m\u001b[1;32m    860\u001b[0m                 \u001b[0;32mreturn\u001b[0m \u001b[0;32mTrue\u001b[0m\u001b[0;34m\u001b[0m\u001b[0;34m\u001b[0m\u001b[0m\n\u001b[1;32m    861\u001b[0m \u001b[0;34m\u001b[0m\u001b[0m\n",
            "\u001b[0;32m/usr/local/lib/python3.7/dist-packages/joblib/parallel.py\u001b[0m in \u001b[0;36m_dispatch\u001b[0;34m(self, batch)\u001b[0m\n\u001b[1;32m    775\u001b[0m         \u001b[0;32mwith\u001b[0m \u001b[0mself\u001b[0m\u001b[0;34m.\u001b[0m\u001b[0m_lock\u001b[0m\u001b[0;34m:\u001b[0m\u001b[0;34m\u001b[0m\u001b[0;34m\u001b[0m\u001b[0m\n\u001b[1;32m    776\u001b[0m             \u001b[0mjob_idx\u001b[0m \u001b[0;34m=\u001b[0m \u001b[0mlen\u001b[0m\u001b[0;34m(\u001b[0m\u001b[0mself\u001b[0m\u001b[0;34m.\u001b[0m\u001b[0m_jobs\u001b[0m\u001b[0;34m)\u001b[0m\u001b[0;34m\u001b[0m\u001b[0;34m\u001b[0m\u001b[0m\n\u001b[0;32m--> 777\u001b[0;31m             \u001b[0mjob\u001b[0m \u001b[0;34m=\u001b[0m \u001b[0mself\u001b[0m\u001b[0;34m.\u001b[0m\u001b[0m_backend\u001b[0m\u001b[0;34m.\u001b[0m\u001b[0mapply_async\u001b[0m\u001b[0;34m(\u001b[0m\u001b[0mbatch\u001b[0m\u001b[0;34m,\u001b[0m \u001b[0mcallback\u001b[0m\u001b[0;34m=\u001b[0m\u001b[0mcb\u001b[0m\u001b[0;34m)\u001b[0m\u001b[0;34m\u001b[0m\u001b[0;34m\u001b[0m\u001b[0m\n\u001b[0m\u001b[1;32m    778\u001b[0m             \u001b[0;31m# A job can complete so quickly than its callback is\u001b[0m\u001b[0;34m\u001b[0m\u001b[0;34m\u001b[0m\u001b[0;34m\u001b[0m\u001b[0m\n\u001b[1;32m    779\u001b[0m             \u001b[0;31m# called before we get here, causing self._jobs to\u001b[0m\u001b[0;34m\u001b[0m\u001b[0;34m\u001b[0m\u001b[0;34m\u001b[0m\u001b[0m\n",
            "\u001b[0;32m/usr/local/lib/python3.7/dist-packages/joblib/_parallel_backends.py\u001b[0m in \u001b[0;36mapply_async\u001b[0;34m(self, func, callback)\u001b[0m\n\u001b[1;32m    206\u001b[0m     \u001b[0;32mdef\u001b[0m \u001b[0mapply_async\u001b[0m\u001b[0;34m(\u001b[0m\u001b[0mself\u001b[0m\u001b[0;34m,\u001b[0m \u001b[0mfunc\u001b[0m\u001b[0;34m,\u001b[0m \u001b[0mcallback\u001b[0m\u001b[0;34m=\u001b[0m\u001b[0;32mNone\u001b[0m\u001b[0;34m)\u001b[0m\u001b[0;34m:\u001b[0m\u001b[0;34m\u001b[0m\u001b[0;34m\u001b[0m\u001b[0m\n\u001b[1;32m    207\u001b[0m         \u001b[0;34m\"\"\"Schedule a func to be run\"\"\"\u001b[0m\u001b[0;34m\u001b[0m\u001b[0;34m\u001b[0m\u001b[0m\n\u001b[0;32m--> 208\u001b[0;31m         \u001b[0mresult\u001b[0m \u001b[0;34m=\u001b[0m \u001b[0mImmediateResult\u001b[0m\u001b[0;34m(\u001b[0m\u001b[0mfunc\u001b[0m\u001b[0;34m)\u001b[0m\u001b[0;34m\u001b[0m\u001b[0;34m\u001b[0m\u001b[0m\n\u001b[0m\u001b[1;32m    209\u001b[0m         \u001b[0;32mif\u001b[0m \u001b[0mcallback\u001b[0m\u001b[0;34m:\u001b[0m\u001b[0;34m\u001b[0m\u001b[0;34m\u001b[0m\u001b[0m\n\u001b[1;32m    210\u001b[0m             \u001b[0mcallback\u001b[0m\u001b[0;34m(\u001b[0m\u001b[0mresult\u001b[0m\u001b[0;34m)\u001b[0m\u001b[0;34m\u001b[0m\u001b[0;34m\u001b[0m\u001b[0m\n",
            "\u001b[0;32m/usr/local/lib/python3.7/dist-packages/joblib/_parallel_backends.py\u001b[0m in \u001b[0;36m__init__\u001b[0;34m(self, batch)\u001b[0m\n\u001b[1;32m    570\u001b[0m         \u001b[0;31m# Don't delay the application, to avoid keeping the input\u001b[0m\u001b[0;34m\u001b[0m\u001b[0;34m\u001b[0m\u001b[0;34m\u001b[0m\u001b[0m\n\u001b[1;32m    571\u001b[0m         \u001b[0;31m# arguments in memory\u001b[0m\u001b[0;34m\u001b[0m\u001b[0;34m\u001b[0m\u001b[0;34m\u001b[0m\u001b[0m\n\u001b[0;32m--> 572\u001b[0;31m         \u001b[0mself\u001b[0m\u001b[0;34m.\u001b[0m\u001b[0mresults\u001b[0m \u001b[0;34m=\u001b[0m \u001b[0mbatch\u001b[0m\u001b[0;34m(\u001b[0m\u001b[0;34m)\u001b[0m\u001b[0;34m\u001b[0m\u001b[0;34m\u001b[0m\u001b[0m\n\u001b[0m\u001b[1;32m    573\u001b[0m \u001b[0;34m\u001b[0m\u001b[0m\n\u001b[1;32m    574\u001b[0m     \u001b[0;32mdef\u001b[0m \u001b[0mget\u001b[0m\u001b[0;34m(\u001b[0m\u001b[0mself\u001b[0m\u001b[0;34m)\u001b[0m\u001b[0;34m:\u001b[0m\u001b[0;34m\u001b[0m\u001b[0;34m\u001b[0m\u001b[0m\n",
            "\u001b[0;32m/usr/local/lib/python3.7/dist-packages/joblib/parallel.py\u001b[0m in \u001b[0;36m__call__\u001b[0;34m(self)\u001b[0m\n\u001b[1;32m    261\u001b[0m         \u001b[0;32mwith\u001b[0m \u001b[0mparallel_backend\u001b[0m\u001b[0;34m(\u001b[0m\u001b[0mself\u001b[0m\u001b[0;34m.\u001b[0m\u001b[0m_backend\u001b[0m\u001b[0;34m,\u001b[0m \u001b[0mn_jobs\u001b[0m\u001b[0;34m=\u001b[0m\u001b[0mself\u001b[0m\u001b[0;34m.\u001b[0m\u001b[0m_n_jobs\u001b[0m\u001b[0;34m)\u001b[0m\u001b[0;34m:\u001b[0m\u001b[0;34m\u001b[0m\u001b[0;34m\u001b[0m\u001b[0m\n\u001b[1;32m    262\u001b[0m             return [func(*args, **kwargs)\n\u001b[0;32m--> 263\u001b[0;31m                     for func, args, kwargs in self.items]\n\u001b[0m\u001b[1;32m    264\u001b[0m \u001b[0;34m\u001b[0m\u001b[0m\n\u001b[1;32m    265\u001b[0m     \u001b[0;32mdef\u001b[0m \u001b[0m__reduce__\u001b[0m\u001b[0;34m(\u001b[0m\u001b[0mself\u001b[0m\u001b[0;34m)\u001b[0m\u001b[0;34m:\u001b[0m\u001b[0;34m\u001b[0m\u001b[0;34m\u001b[0m\u001b[0m\n",
            "\u001b[0;32m/usr/local/lib/python3.7/dist-packages/joblib/parallel.py\u001b[0m in \u001b[0;36m<listcomp>\u001b[0;34m(.0)\u001b[0m\n\u001b[1;32m    261\u001b[0m         \u001b[0;32mwith\u001b[0m \u001b[0mparallel_backend\u001b[0m\u001b[0;34m(\u001b[0m\u001b[0mself\u001b[0m\u001b[0;34m.\u001b[0m\u001b[0m_backend\u001b[0m\u001b[0;34m,\u001b[0m \u001b[0mn_jobs\u001b[0m\u001b[0;34m=\u001b[0m\u001b[0mself\u001b[0m\u001b[0;34m.\u001b[0m\u001b[0m_n_jobs\u001b[0m\u001b[0;34m)\u001b[0m\u001b[0;34m:\u001b[0m\u001b[0;34m\u001b[0m\u001b[0;34m\u001b[0m\u001b[0m\n\u001b[1;32m    262\u001b[0m             return [func(*args, **kwargs)\n\u001b[0;32m--> 263\u001b[0;31m                     for func, args, kwargs in self.items]\n\u001b[0m\u001b[1;32m    264\u001b[0m \u001b[0;34m\u001b[0m\u001b[0m\n\u001b[1;32m    265\u001b[0m     \u001b[0;32mdef\u001b[0m \u001b[0m__reduce__\u001b[0m\u001b[0;34m(\u001b[0m\u001b[0mself\u001b[0m\u001b[0;34m)\u001b[0m\u001b[0;34m:\u001b[0m\u001b[0;34m\u001b[0m\u001b[0;34m\u001b[0m\u001b[0m\n",
            "\u001b[0;32m/usr/local/lib/python3.7/dist-packages/sklearn/model_selection/_validation.py\u001b[0m in \u001b[0;36m_fit_and_score\u001b[0;34m(estimator, X, y, scorer, train, test, verbose, parameters, fit_params, return_train_score, return_parameters, return_n_test_samples, return_times, return_estimator, error_score)\u001b[0m\n\u001b[1;32m    513\u001b[0m             \u001b[0mestimator\u001b[0m\u001b[0;34m.\u001b[0m\u001b[0mfit\u001b[0m\u001b[0;34m(\u001b[0m\u001b[0mX_train\u001b[0m\u001b[0;34m,\u001b[0m \u001b[0;34m**\u001b[0m\u001b[0mfit_params\u001b[0m\u001b[0;34m)\u001b[0m\u001b[0;34m\u001b[0m\u001b[0;34m\u001b[0m\u001b[0m\n\u001b[1;32m    514\u001b[0m         \u001b[0;32melse\u001b[0m\u001b[0;34m:\u001b[0m\u001b[0;34m\u001b[0m\u001b[0;34m\u001b[0m\u001b[0m\n\u001b[0;32m--> 515\u001b[0;31m             \u001b[0mestimator\u001b[0m\u001b[0;34m.\u001b[0m\u001b[0mfit\u001b[0m\u001b[0;34m(\u001b[0m\u001b[0mX_train\u001b[0m\u001b[0;34m,\u001b[0m \u001b[0my_train\u001b[0m\u001b[0;34m,\u001b[0m \u001b[0;34m**\u001b[0m\u001b[0mfit_params\u001b[0m\u001b[0;34m)\u001b[0m\u001b[0;34m\u001b[0m\u001b[0;34m\u001b[0m\u001b[0m\n\u001b[0m\u001b[1;32m    516\u001b[0m \u001b[0;34m\u001b[0m\u001b[0m\n\u001b[1;32m    517\u001b[0m     \u001b[0;32mexcept\u001b[0m \u001b[0mException\u001b[0m \u001b[0;32mas\u001b[0m \u001b[0me\u001b[0m\u001b[0;34m:\u001b[0m\u001b[0;34m\u001b[0m\u001b[0;34m\u001b[0m\u001b[0m\n",
            "\u001b[0;32m/usr/local/lib/python3.7/dist-packages/sklearn/ensemble/_forest.py\u001b[0m in \u001b[0;36mfit\u001b[0;34m(self, X, y, sample_weight)\u001b[0m\n\u001b[1;32m    381\u001b[0m                     \u001b[0mverbose\u001b[0m\u001b[0;34m=\u001b[0m\u001b[0mself\u001b[0m\u001b[0;34m.\u001b[0m\u001b[0mverbose\u001b[0m\u001b[0;34m,\u001b[0m \u001b[0mclass_weight\u001b[0m\u001b[0;34m=\u001b[0m\u001b[0mself\u001b[0m\u001b[0;34m.\u001b[0m\u001b[0mclass_weight\u001b[0m\u001b[0;34m,\u001b[0m\u001b[0;34m\u001b[0m\u001b[0;34m\u001b[0m\u001b[0m\n\u001b[1;32m    382\u001b[0m                     n_samples_bootstrap=n_samples_bootstrap)\n\u001b[0;32m--> 383\u001b[0;31m                 for i, t in enumerate(trees))\n\u001b[0m\u001b[1;32m    384\u001b[0m \u001b[0;34m\u001b[0m\u001b[0m\n\u001b[1;32m    385\u001b[0m             \u001b[0;31m# Collect newly grown trees\u001b[0m\u001b[0;34m\u001b[0m\u001b[0;34m\u001b[0m\u001b[0;34m\u001b[0m\u001b[0m\n",
            "\u001b[0;32m/usr/local/lib/python3.7/dist-packages/joblib/parallel.py\u001b[0m in \u001b[0;36m__call__\u001b[0;34m(self, iterable)\u001b[0m\n\u001b[1;32m   1042\u001b[0m                 \u001b[0mself\u001b[0m\u001b[0;34m.\u001b[0m\u001b[0m_iterating\u001b[0m \u001b[0;34m=\u001b[0m \u001b[0mself\u001b[0m\u001b[0;34m.\u001b[0m\u001b[0m_original_iterator\u001b[0m \u001b[0;32mis\u001b[0m \u001b[0;32mnot\u001b[0m \u001b[0;32mNone\u001b[0m\u001b[0;34m\u001b[0m\u001b[0;34m\u001b[0m\u001b[0m\n\u001b[1;32m   1043\u001b[0m \u001b[0;34m\u001b[0m\u001b[0m\n\u001b[0;32m-> 1044\u001b[0;31m             \u001b[0;32mwhile\u001b[0m \u001b[0mself\u001b[0m\u001b[0;34m.\u001b[0m\u001b[0mdispatch_one_batch\u001b[0m\u001b[0;34m(\u001b[0m\u001b[0miterator\u001b[0m\u001b[0;34m)\u001b[0m\u001b[0;34m:\u001b[0m\u001b[0;34m\u001b[0m\u001b[0;34m\u001b[0m\u001b[0m\n\u001b[0m\u001b[1;32m   1045\u001b[0m                 \u001b[0;32mpass\u001b[0m\u001b[0;34m\u001b[0m\u001b[0;34m\u001b[0m\u001b[0m\n\u001b[1;32m   1046\u001b[0m \u001b[0;34m\u001b[0m\u001b[0m\n",
            "\u001b[0;32m/usr/local/lib/python3.7/dist-packages/joblib/parallel.py\u001b[0m in \u001b[0;36mdispatch_one_batch\u001b[0;34m(self, iterator)\u001b[0m\n\u001b[1;32m    857\u001b[0m                 \u001b[0;32mreturn\u001b[0m \u001b[0;32mFalse\u001b[0m\u001b[0;34m\u001b[0m\u001b[0;34m\u001b[0m\u001b[0m\n\u001b[1;32m    858\u001b[0m             \u001b[0;32melse\u001b[0m\u001b[0;34m:\u001b[0m\u001b[0;34m\u001b[0m\u001b[0;34m\u001b[0m\u001b[0m\n\u001b[0;32m--> 859\u001b[0;31m                 \u001b[0mself\u001b[0m\u001b[0;34m.\u001b[0m\u001b[0m_dispatch\u001b[0m\u001b[0;34m(\u001b[0m\u001b[0mtasks\u001b[0m\u001b[0;34m)\u001b[0m\u001b[0;34m\u001b[0m\u001b[0;34m\u001b[0m\u001b[0m\n\u001b[0m\u001b[1;32m    860\u001b[0m                 \u001b[0;32mreturn\u001b[0m \u001b[0;32mTrue\u001b[0m\u001b[0;34m\u001b[0m\u001b[0;34m\u001b[0m\u001b[0m\n\u001b[1;32m    861\u001b[0m \u001b[0;34m\u001b[0m\u001b[0m\n",
            "\u001b[0;32m/usr/local/lib/python3.7/dist-packages/joblib/parallel.py\u001b[0m in \u001b[0;36m_dispatch\u001b[0;34m(self, batch)\u001b[0m\n\u001b[1;32m    775\u001b[0m         \u001b[0;32mwith\u001b[0m \u001b[0mself\u001b[0m\u001b[0;34m.\u001b[0m\u001b[0m_lock\u001b[0m\u001b[0;34m:\u001b[0m\u001b[0;34m\u001b[0m\u001b[0;34m\u001b[0m\u001b[0m\n\u001b[1;32m    776\u001b[0m             \u001b[0mjob_idx\u001b[0m \u001b[0;34m=\u001b[0m \u001b[0mlen\u001b[0m\u001b[0;34m(\u001b[0m\u001b[0mself\u001b[0m\u001b[0;34m.\u001b[0m\u001b[0m_jobs\u001b[0m\u001b[0;34m)\u001b[0m\u001b[0;34m\u001b[0m\u001b[0;34m\u001b[0m\u001b[0m\n\u001b[0;32m--> 777\u001b[0;31m             \u001b[0mjob\u001b[0m \u001b[0;34m=\u001b[0m \u001b[0mself\u001b[0m\u001b[0;34m.\u001b[0m\u001b[0m_backend\u001b[0m\u001b[0;34m.\u001b[0m\u001b[0mapply_async\u001b[0m\u001b[0;34m(\u001b[0m\u001b[0mbatch\u001b[0m\u001b[0;34m,\u001b[0m \u001b[0mcallback\u001b[0m\u001b[0;34m=\u001b[0m\u001b[0mcb\u001b[0m\u001b[0;34m)\u001b[0m\u001b[0;34m\u001b[0m\u001b[0;34m\u001b[0m\u001b[0m\n\u001b[0m\u001b[1;32m    778\u001b[0m             \u001b[0;31m# A job can complete so quickly than its callback is\u001b[0m\u001b[0;34m\u001b[0m\u001b[0;34m\u001b[0m\u001b[0;34m\u001b[0m\u001b[0m\n\u001b[1;32m    779\u001b[0m             \u001b[0;31m# called before we get here, causing self._jobs to\u001b[0m\u001b[0;34m\u001b[0m\u001b[0;34m\u001b[0m\u001b[0;34m\u001b[0m\u001b[0m\n",
            "\u001b[0;32m/usr/local/lib/python3.7/dist-packages/joblib/_parallel_backends.py\u001b[0m in \u001b[0;36mapply_async\u001b[0;34m(self, func, callback)\u001b[0m\n\u001b[1;32m    206\u001b[0m     \u001b[0;32mdef\u001b[0m \u001b[0mapply_async\u001b[0m\u001b[0;34m(\u001b[0m\u001b[0mself\u001b[0m\u001b[0;34m,\u001b[0m \u001b[0mfunc\u001b[0m\u001b[0;34m,\u001b[0m \u001b[0mcallback\u001b[0m\u001b[0;34m=\u001b[0m\u001b[0;32mNone\u001b[0m\u001b[0;34m)\u001b[0m\u001b[0;34m:\u001b[0m\u001b[0;34m\u001b[0m\u001b[0;34m\u001b[0m\u001b[0m\n\u001b[1;32m    207\u001b[0m         \u001b[0;34m\"\"\"Schedule a func to be run\"\"\"\u001b[0m\u001b[0;34m\u001b[0m\u001b[0;34m\u001b[0m\u001b[0m\n\u001b[0;32m--> 208\u001b[0;31m         \u001b[0mresult\u001b[0m \u001b[0;34m=\u001b[0m \u001b[0mImmediateResult\u001b[0m\u001b[0;34m(\u001b[0m\u001b[0mfunc\u001b[0m\u001b[0;34m)\u001b[0m\u001b[0;34m\u001b[0m\u001b[0;34m\u001b[0m\u001b[0m\n\u001b[0m\u001b[1;32m    209\u001b[0m         \u001b[0;32mif\u001b[0m \u001b[0mcallback\u001b[0m\u001b[0;34m:\u001b[0m\u001b[0;34m\u001b[0m\u001b[0;34m\u001b[0m\u001b[0m\n\u001b[1;32m    210\u001b[0m             \u001b[0mcallback\u001b[0m\u001b[0;34m(\u001b[0m\u001b[0mresult\u001b[0m\u001b[0;34m)\u001b[0m\u001b[0;34m\u001b[0m\u001b[0;34m\u001b[0m\u001b[0m\n",
            "\u001b[0;32m/usr/local/lib/python3.7/dist-packages/joblib/_parallel_backends.py\u001b[0m in \u001b[0;36m__init__\u001b[0;34m(self, batch)\u001b[0m\n\u001b[1;32m    570\u001b[0m         \u001b[0;31m# Don't delay the application, to avoid keeping the input\u001b[0m\u001b[0;34m\u001b[0m\u001b[0;34m\u001b[0m\u001b[0;34m\u001b[0m\u001b[0m\n\u001b[1;32m    571\u001b[0m         \u001b[0;31m# arguments in memory\u001b[0m\u001b[0;34m\u001b[0m\u001b[0;34m\u001b[0m\u001b[0;34m\u001b[0m\u001b[0m\n\u001b[0;32m--> 572\u001b[0;31m         \u001b[0mself\u001b[0m\u001b[0;34m.\u001b[0m\u001b[0mresults\u001b[0m \u001b[0;34m=\u001b[0m \u001b[0mbatch\u001b[0m\u001b[0;34m(\u001b[0m\u001b[0;34m)\u001b[0m\u001b[0;34m\u001b[0m\u001b[0;34m\u001b[0m\u001b[0m\n\u001b[0m\u001b[1;32m    573\u001b[0m \u001b[0;34m\u001b[0m\u001b[0m\n\u001b[1;32m    574\u001b[0m     \u001b[0;32mdef\u001b[0m \u001b[0mget\u001b[0m\u001b[0;34m(\u001b[0m\u001b[0mself\u001b[0m\u001b[0;34m)\u001b[0m\u001b[0;34m:\u001b[0m\u001b[0;34m\u001b[0m\u001b[0;34m\u001b[0m\u001b[0m\n",
            "\u001b[0;32m/usr/local/lib/python3.7/dist-packages/joblib/parallel.py\u001b[0m in \u001b[0;36m__call__\u001b[0;34m(self)\u001b[0m\n\u001b[1;32m    261\u001b[0m         \u001b[0;32mwith\u001b[0m \u001b[0mparallel_backend\u001b[0m\u001b[0;34m(\u001b[0m\u001b[0mself\u001b[0m\u001b[0;34m.\u001b[0m\u001b[0m_backend\u001b[0m\u001b[0;34m,\u001b[0m \u001b[0mn_jobs\u001b[0m\u001b[0;34m=\u001b[0m\u001b[0mself\u001b[0m\u001b[0;34m.\u001b[0m\u001b[0m_n_jobs\u001b[0m\u001b[0;34m)\u001b[0m\u001b[0;34m:\u001b[0m\u001b[0;34m\u001b[0m\u001b[0;34m\u001b[0m\u001b[0m\n\u001b[1;32m    262\u001b[0m             return [func(*args, **kwargs)\n\u001b[0;32m--> 263\u001b[0;31m                     for func, args, kwargs in self.items]\n\u001b[0m\u001b[1;32m    264\u001b[0m \u001b[0;34m\u001b[0m\u001b[0m\n\u001b[1;32m    265\u001b[0m     \u001b[0;32mdef\u001b[0m \u001b[0m__reduce__\u001b[0m\u001b[0;34m(\u001b[0m\u001b[0mself\u001b[0m\u001b[0;34m)\u001b[0m\u001b[0;34m:\u001b[0m\u001b[0;34m\u001b[0m\u001b[0;34m\u001b[0m\u001b[0m\n",
            "\u001b[0;32m/usr/local/lib/python3.7/dist-packages/joblib/parallel.py\u001b[0m in \u001b[0;36m<listcomp>\u001b[0;34m(.0)\u001b[0m\n\u001b[1;32m    261\u001b[0m         \u001b[0;32mwith\u001b[0m \u001b[0mparallel_backend\u001b[0m\u001b[0;34m(\u001b[0m\u001b[0mself\u001b[0m\u001b[0;34m.\u001b[0m\u001b[0m_backend\u001b[0m\u001b[0;34m,\u001b[0m \u001b[0mn_jobs\u001b[0m\u001b[0;34m=\u001b[0m\u001b[0mself\u001b[0m\u001b[0;34m.\u001b[0m\u001b[0m_n_jobs\u001b[0m\u001b[0;34m)\u001b[0m\u001b[0;34m:\u001b[0m\u001b[0;34m\u001b[0m\u001b[0;34m\u001b[0m\u001b[0m\n\u001b[1;32m    262\u001b[0m             return [func(*args, **kwargs)\n\u001b[0;32m--> 263\u001b[0;31m                     for func, args, kwargs in self.items]\n\u001b[0m\u001b[1;32m    264\u001b[0m \u001b[0;34m\u001b[0m\u001b[0m\n\u001b[1;32m    265\u001b[0m     \u001b[0;32mdef\u001b[0m \u001b[0m__reduce__\u001b[0m\u001b[0;34m(\u001b[0m\u001b[0mself\u001b[0m\u001b[0;34m)\u001b[0m\u001b[0;34m:\u001b[0m\u001b[0;34m\u001b[0m\u001b[0;34m\u001b[0m\u001b[0m\n",
            "\u001b[0;32m/usr/local/lib/python3.7/dist-packages/sklearn/ensemble/_forest.py\u001b[0m in \u001b[0;36m_parallel_build_trees\u001b[0;34m(tree, forest, X, y, sample_weight, tree_idx, n_trees, verbose, class_weight, n_samples_bootstrap)\u001b[0m\n\u001b[1;32m    163\u001b[0m             \u001b[0mcurr_sample_weight\u001b[0m \u001b[0;34m*=\u001b[0m \u001b[0mcompute_sample_weight\u001b[0m\u001b[0;34m(\u001b[0m\u001b[0;34m'balanced'\u001b[0m\u001b[0;34m,\u001b[0m \u001b[0my\u001b[0m\u001b[0;34m,\u001b[0m \u001b[0mindices\u001b[0m\u001b[0;34m)\u001b[0m\u001b[0;34m\u001b[0m\u001b[0;34m\u001b[0m\u001b[0m\n\u001b[1;32m    164\u001b[0m \u001b[0;34m\u001b[0m\u001b[0m\n\u001b[0;32m--> 165\u001b[0;31m         \u001b[0mtree\u001b[0m\u001b[0;34m.\u001b[0m\u001b[0mfit\u001b[0m\u001b[0;34m(\u001b[0m\u001b[0mX\u001b[0m\u001b[0;34m,\u001b[0m \u001b[0my\u001b[0m\u001b[0;34m,\u001b[0m \u001b[0msample_weight\u001b[0m\u001b[0;34m=\u001b[0m\u001b[0mcurr_sample_weight\u001b[0m\u001b[0;34m,\u001b[0m \u001b[0mcheck_input\u001b[0m\u001b[0;34m=\u001b[0m\u001b[0;32mFalse\u001b[0m\u001b[0;34m)\u001b[0m\u001b[0;34m\u001b[0m\u001b[0;34m\u001b[0m\u001b[0m\n\u001b[0m\u001b[1;32m    166\u001b[0m     \u001b[0;32melse\u001b[0m\u001b[0;34m:\u001b[0m\u001b[0;34m\u001b[0m\u001b[0;34m\u001b[0m\u001b[0m\n\u001b[1;32m    167\u001b[0m         \u001b[0mtree\u001b[0m\u001b[0;34m.\u001b[0m\u001b[0mfit\u001b[0m\u001b[0;34m(\u001b[0m\u001b[0mX\u001b[0m\u001b[0;34m,\u001b[0m \u001b[0my\u001b[0m\u001b[0;34m,\u001b[0m \u001b[0msample_weight\u001b[0m\u001b[0;34m=\u001b[0m\u001b[0msample_weight\u001b[0m\u001b[0;34m,\u001b[0m \u001b[0mcheck_input\u001b[0m\u001b[0;34m=\u001b[0m\u001b[0;32mFalse\u001b[0m\u001b[0;34m)\u001b[0m\u001b[0;34m\u001b[0m\u001b[0;34m\u001b[0m\u001b[0m\n",
            "\u001b[0;32m/usr/local/lib/python3.7/dist-packages/sklearn/tree/_classes.py\u001b[0m in \u001b[0;36mfit\u001b[0;34m(self, X, y, sample_weight, check_input, X_idx_sorted)\u001b[0m\n\u001b[1;32m    875\u001b[0m             \u001b[0msample_weight\u001b[0m\u001b[0;34m=\u001b[0m\u001b[0msample_weight\u001b[0m\u001b[0;34m,\u001b[0m\u001b[0;34m\u001b[0m\u001b[0;34m\u001b[0m\u001b[0m\n\u001b[1;32m    876\u001b[0m             \u001b[0mcheck_input\u001b[0m\u001b[0;34m=\u001b[0m\u001b[0mcheck_input\u001b[0m\u001b[0;34m,\u001b[0m\u001b[0;34m\u001b[0m\u001b[0;34m\u001b[0m\u001b[0m\n\u001b[0;32m--> 877\u001b[0;31m             X_idx_sorted=X_idx_sorted)\n\u001b[0m\u001b[1;32m    878\u001b[0m         \u001b[0;32mreturn\u001b[0m \u001b[0mself\u001b[0m\u001b[0;34m\u001b[0m\u001b[0;34m\u001b[0m\u001b[0m\n\u001b[1;32m    879\u001b[0m \u001b[0;34m\u001b[0m\u001b[0m\n",
            "\u001b[0;32m/usr/local/lib/python3.7/dist-packages/sklearn/tree/_classes.py\u001b[0m in \u001b[0;36mfit\u001b[0;34m(self, X, y, sample_weight, check_input, X_idx_sorted)\u001b[0m\n\u001b[1;32m    365\u001b[0m                                            min_impurity_split)\n\u001b[1;32m    366\u001b[0m \u001b[0;34m\u001b[0m\u001b[0m\n\u001b[0;32m--> 367\u001b[0;31m         \u001b[0mbuilder\u001b[0m\u001b[0;34m.\u001b[0m\u001b[0mbuild\u001b[0m\u001b[0;34m(\u001b[0m\u001b[0mself\u001b[0m\u001b[0;34m.\u001b[0m\u001b[0mtree_\u001b[0m\u001b[0;34m,\u001b[0m \u001b[0mX\u001b[0m\u001b[0;34m,\u001b[0m \u001b[0my\u001b[0m\u001b[0;34m,\u001b[0m \u001b[0msample_weight\u001b[0m\u001b[0;34m,\u001b[0m \u001b[0mX_idx_sorted\u001b[0m\u001b[0;34m)\u001b[0m\u001b[0;34m\u001b[0m\u001b[0;34m\u001b[0m\u001b[0m\n\u001b[0m\u001b[1;32m    368\u001b[0m \u001b[0;34m\u001b[0m\u001b[0m\n\u001b[1;32m    369\u001b[0m         \u001b[0;32mif\u001b[0m \u001b[0mself\u001b[0m\u001b[0;34m.\u001b[0m\u001b[0mn_outputs_\u001b[0m \u001b[0;34m==\u001b[0m \u001b[0;36m1\u001b[0m \u001b[0;32mand\u001b[0m \u001b[0mis_classifier\u001b[0m\u001b[0;34m(\u001b[0m\u001b[0mself\u001b[0m\u001b[0;34m)\u001b[0m\u001b[0;34m:\u001b[0m\u001b[0;34m\u001b[0m\u001b[0;34m\u001b[0m\u001b[0m\n",
            "\u001b[0;31mKeyboardInterrupt\u001b[0m: "
          ]
        }
      ]
    },
    {
      "cell_type": "code",
      "metadata": {
        "colab": {
          "base_uri": "https://localhost:8080/"
        },
        "id": "9XoKYHT8XOfq",
        "outputId": "d874c5cc-3546-4af2-a56f-3083bb129b08"
      },
      "source": [
        "scores = cross_val_score(model, new_x_train, new_y_train, cv=5)\n",
        "print(\"Mean cross-validation score: %.2f\" % scores.mean())\n"
      ],
      "execution_count": null,
      "outputs": [
        {
          "output_type": "stream",
          "text": [
            "/usr/local/lib/python3.7/dist-packages/sklearn/model_selection/_validation.py:515: DataConversionWarning: A column-vector y was passed when a 1d array was expected. Please change the shape of y to (n_samples,), for example using ravel().\n",
            "  estimator.fit(X_train, y_train, **fit_params)\n",
            "/usr/local/lib/python3.7/dist-packages/sklearn/model_selection/_validation.py:515: DataConversionWarning: A column-vector y was passed when a 1d array was expected. Please change the shape of y to (n_samples,), for example using ravel().\n",
            "  estimator.fit(X_train, y_train, **fit_params)\n",
            "/usr/local/lib/python3.7/dist-packages/sklearn/model_selection/_validation.py:515: DataConversionWarning: A column-vector y was passed when a 1d array was expected. Please change the shape of y to (n_samples,), for example using ravel().\n",
            "  estimator.fit(X_train, y_train, **fit_params)\n",
            "/usr/local/lib/python3.7/dist-packages/sklearn/model_selection/_validation.py:515: DataConversionWarning: A column-vector y was passed when a 1d array was expected. Please change the shape of y to (n_samples,), for example using ravel().\n",
            "  estimator.fit(X_train, y_train, **fit_params)\n",
            "/usr/local/lib/python3.7/dist-packages/sklearn/model_selection/_validation.py:515: DataConversionWarning: A column-vector y was passed when a 1d array was expected. Please change the shape of y to (n_samples,), for example using ravel().\n",
            "  estimator.fit(X_train, y_train, **fit_params)\n"
          ],
          "name": "stderr"
        },
        {
          "output_type": "stream",
          "text": [
            "Mean cross-validation score: 0.95\n"
          ],
          "name": "stdout"
        }
      ]
    },
    {
      "cell_type": "markdown",
      "metadata": {
        "id": "UuQcV3d0ix2L"
      },
      "source": [
        "***Median Dataset***"
      ]
    },
    {
      "cell_type": "code",
      "metadata": {
        "colab": {
          "base_uri": "https://localhost:8080/",
          "height": 224
        },
        "id": "d_4G2iNCi0f0",
        "outputId": "65ff9170-5a7b-4435-9fc3-9a4915f74ab2"
      },
      "source": [
        "import pandas as pd\n",
        "data = pd.read_csv('all_disorders_median_std.csv')\n",
        "data.tail()"
      ],
      "execution_count": null,
      "outputs": [
        {
          "output_type": "execute_result",
          "data": {
            "text/html": [
              "<div>\n",
              "<style scoped>\n",
              "    .dataframe tbody tr th:only-of-type {\n",
              "        vertical-align: middle;\n",
              "    }\n",
              "\n",
              "    .dataframe tbody tr th {\n",
              "        vertical-align: top;\n",
              "    }\n",
              "\n",
              "    .dataframe thead th {\n",
              "        text-align: right;\n",
              "    }\n",
              "</style>\n",
              "<table border=\"1\" class=\"dataframe\">\n",
              "  <thead>\n",
              "    <tr style=\"text-align: right;\">\n",
              "      <th></th>\n",
              "      <th>Status</th>\n",
              "      <th>Gender</th>\n",
              "      <th>MDVP:Jitter(%)</th>\n",
              "      <th>MDVP:Jitter(Abs)</th>\n",
              "      <th>Jitter:PPQ5</th>\n",
              "      <th>Jitter:DDP</th>\n",
              "      <th>MDVP:Shimmer</th>\n",
              "      <th>MDVP:Shimmer(dB)</th>\n",
              "      <th>Shimmer:APQ3</th>\n",
              "      <th>Shimmer:APQ5</th>\n",
              "      <th>Shimmer:APQ11</th>\n",
              "      <th>DFA</th>\n",
              "    </tr>\n",
              "  </thead>\n",
              "  <tbody>\n",
              "    <tr>\n",
              "      <th>7114</th>\n",
              "      <td>0</td>\n",
              "      <td>1</td>\n",
              "      <td>-33.243298</td>\n",
              "      <td>-21.578308</td>\n",
              "      <td>-24.440050</td>\n",
              "      <td>-32.691854</td>\n",
              "      <td>-23.328592</td>\n",
              "      <td>-7.466749</td>\n",
              "      <td>-14.202938</td>\n",
              "      <td>-10.933402</td>\n",
              "      <td>-23.923671</td>\n",
              "      <td>-23.417656</td>\n",
              "    </tr>\n",
              "    <tr>\n",
              "      <th>7115</th>\n",
              "      <td>0</td>\n",
              "      <td>1</td>\n",
              "      <td>-1.091966</td>\n",
              "      <td>18.936385</td>\n",
              "      <td>-2.803416</td>\n",
              "      <td>-3.468182</td>\n",
              "      <td>-1.064890</td>\n",
              "      <td>-2.724605</td>\n",
              "      <td>0.447177</td>\n",
              "      <td>4.317949</td>\n",
              "      <td>-4.380995</td>\n",
              "      <td>-1.267387</td>\n",
              "    </tr>\n",
              "    <tr>\n",
              "      <th>7116</th>\n",
              "      <td>0</td>\n",
              "      <td>1</td>\n",
              "      <td>36.342110</td>\n",
              "      <td>-0.576181</td>\n",
              "      <td>43.847541</td>\n",
              "      <td>31.416897</td>\n",
              "      <td>-17.235723</td>\n",
              "      <td>1.363223</td>\n",
              "      <td>-16.826345</td>\n",
              "      <td>-16.550963</td>\n",
              "      <td>-19.062965</td>\n",
              "      <td>-14.755758</td>\n",
              "    </tr>\n",
              "    <tr>\n",
              "      <th>7117</th>\n",
              "      <td>0</td>\n",
              "      <td>1</td>\n",
              "      <td>2.882944</td>\n",
              "      <td>-3.402288</td>\n",
              "      <td>1.476280</td>\n",
              "      <td>7.581402</td>\n",
              "      <td>-18.794885</td>\n",
              "      <td>-2.917623</td>\n",
              "      <td>-20.237481</td>\n",
              "      <td>-26.715980</td>\n",
              "      <td>-28.921770</td>\n",
              "      <td>-19.716314</td>\n",
              "    </tr>\n",
              "    <tr>\n",
              "      <th>7118</th>\n",
              "      <td>0</td>\n",
              "      <td>1</td>\n",
              "      <td>-4.331071</td>\n",
              "      <td>21.605465</td>\n",
              "      <td>-19.186196</td>\n",
              "      <td>-16.242616</td>\n",
              "      <td>21.702316</td>\n",
              "      <td>5.115358</td>\n",
              "      <td>28.461133</td>\n",
              "      <td>15.115793</td>\n",
              "      <td>18.373862</td>\n",
              "      <td>-11.029646</td>\n",
              "    </tr>\n",
              "  </tbody>\n",
              "</table>\n",
              "</div>"
            ],
            "text/plain": [
              "      Status  Gender  MDVP:Jitter(%)  ...  Shimmer:APQ5  Shimmer:APQ11        DFA\n",
              "7114       0       1      -33.243298  ...    -10.933402     -23.923671 -23.417656\n",
              "7115       0       1       -1.091966  ...      4.317949      -4.380995  -1.267387\n",
              "7116       0       1       36.342110  ...    -16.550963     -19.062965 -14.755758\n",
              "7117       0       1        2.882944  ...    -26.715980     -28.921770 -19.716314\n",
              "7118       0       1       -4.331071  ...     15.115793      18.373862 -11.029646\n",
              "\n",
              "[5 rows x 12 columns]"
            ]
          },
          "metadata": {
            "tags": []
          },
          "execution_count": 4
        }
      ]
    },
    {
      "cell_type": "code",
      "metadata": {
        "id": "YIkua5eTzq4q"
      },
      "source": [
        "features = data.drop(['Status'], axis = 1)\n",
        "labels = data.drop(['Gender', 'MDVP:Jitter(%)', 'MDVP:Jitter(Abs)', 'Jitter:PPQ5', 'Jitter:DDP', 'MDVP:Shimmer', 'MDVP:Shimmer(dB)', 'Shimmer:APQ3', 'Shimmer:APQ5', 'Shimmer:APQ11', 'DFA'],axis = 1)"
      ],
      "execution_count": null,
      "outputs": []
    },
    {
      "cell_type": "code",
      "metadata": {
        "id": "P6vVtSWAjNFU"
      },
      "source": [
        "X = features \n",
        "Y = labels \n",
        "X_train,X_test,Y_train,Y_test = train_test_split(X, Y, test_size=0.2, stratify=Y)"
      ],
      "execution_count": null,
      "outputs": []
    },
    {
      "cell_type": "markdown",
      "metadata": {
        "id": "xD6Eh9GM5zyn"
      },
      "source": [
        "Without Smote"
      ]
    },
    {
      "cell_type": "code",
      "metadata": {
        "colab": {
          "base_uri": "https://localhost:8080/"
        },
        "id": "45zwgyxN52VJ",
        "outputId": "2107365f-b7b2-4963-ed9b-368641556417"
      },
      "source": [
        "model_without_smote2 = RandomForestClassifier()\n",
        "model_without_smote2.fit(X_train, Y_train)"
      ],
      "execution_count": null,
      "outputs": [
        {
          "output_type": "stream",
          "text": [
            "/usr/local/lib/python3.7/dist-packages/ipykernel_launcher.py:2: DataConversionWarning: A column-vector y was passed when a 1d array was expected. Please change the shape of y to (n_samples,), for example using ravel().\n",
            "  \n"
          ],
          "name": "stderr"
        },
        {
          "output_type": "execute_result",
          "data": {
            "text/plain": [
              "RandomForestClassifier(bootstrap=True, ccp_alpha=0.0, class_weight=None,\n",
              "                       criterion='gini', max_depth=None, max_features='auto',\n",
              "                       max_leaf_nodes=None, max_samples=None,\n",
              "                       min_impurity_decrease=0.0, min_impurity_split=None,\n",
              "                       min_samples_leaf=1, min_samples_split=2,\n",
              "                       min_weight_fraction_leaf=0.0, n_estimators=100,\n",
              "                       n_jobs=None, oob_score=False, random_state=None,\n",
              "                       verbose=0, warm_start=False)"
            ]
          },
          "metadata": {
            "tags": []
          },
          "execution_count": 8
        }
      ]
    },
    {
      "cell_type": "code",
      "metadata": {
        "id": "UEKS2bov5-cz"
      },
      "source": [
        "y_pred_ns2 = model_without_smote2.predict(X_test)"
      ],
      "execution_count": null,
      "outputs": []
    },
    {
      "cell_type": "code",
      "metadata": {
        "colab": {
          "base_uri": "https://localhost:8080/"
        },
        "id": "hzBZUfAx6FLx",
        "outputId": "88bfe0bc-07ca-466e-fd94-f80a76069c0e"
      },
      "source": [
        "from sklearn import metrics\n",
        "print(metrics.classification_report(y_pred_ns2, Y_test))"
      ],
      "execution_count": null,
      "outputs": [
        {
          "output_type": "stream",
          "text": [
            "              precision    recall  f1-score   support\n",
            "\n",
            "           0       0.71      0.87      0.79        63\n",
            "           1       1.00      0.98      0.99      1358\n",
            "           2       0.33      0.50      0.40         2\n",
            "           3       0.33      1.00      0.50         1\n",
            "\n",
            "    accuracy                           0.98      1424\n",
            "   macro avg       0.59      0.84      0.67      1424\n",
            "weighted avg       0.98      0.98      0.98      1424\n",
            "\n"
          ],
          "name": "stdout"
        }
      ]
    },
    {
      "cell_type": "code",
      "metadata": {
        "colab": {
          "base_uri": "https://localhost:8080/"
        },
        "id": "NcWw9izb6Spp",
        "outputId": "f92819a8-565b-4f24-ee88-a9d5f5af59fe"
      },
      "source": [
        "print(accuracy_score(Y_test, y_pred_ns2)*100)"
      ],
      "execution_count": null,
      "outputs": [
        {
          "output_type": "stream",
          "text": [
            "97.82303370786516\n"
          ],
          "name": "stdout"
        }
      ]
    },
    {
      "cell_type": "code",
      "metadata": {
        "colab": {
          "base_uri": "https://localhost:8080/"
        },
        "id": "HKuO-VXbD6G8",
        "outputId": "7e6e0d94-dfba-4a60-c30f-2d230e29fe28"
      },
      "source": [
        "from sklearn.metrics import roc_auc_score\n",
        "\n",
        "roc_auc_score(Y_test, model_without_smote2.predict_proba(X_test), multi_class='ovr')\n"
      ],
      "execution_count": null,
      "outputs": [
        {
          "output_type": "execute_result",
          "data": {
            "text/plain": [
              "0.9913613873649347"
            ]
          },
          "metadata": {
            "tags": []
          },
          "execution_count": 12
        }
      ]
    },
    {
      "cell_type": "code",
      "metadata": {
        "id": "TBsSvVkCpQgV"
      },
      "source": [
        "from itertools import chain\n",
        "y_pred_ns2_list = y_pred_ns2.tolist()\n",
        "\n",
        "Y_test_list = Y_test.values.tolist()\n",
        "\n",
        "#changing from 2d list into 1d list \n",
        "Y_test_list = list(chain.from_iterable(Y_test_list))\n",
        "\n",
        "TP,TN,FP,FN = perf_measure(Y_test_list, y_pred_ns2_list)"
      ],
      "execution_count": null,
      "outputs": []
    },
    {
      "cell_type": "code",
      "metadata": {
        "colab": {
          "base_uri": "https://localhost:8080/"
        },
        "id": "ekLhEreMqBuj",
        "outputId": "402e45d2-cca6-415f-8b92-7bc7d23abfa0"
      },
      "source": [
        "print(TP, TN, FP, FN)"
      ],
      "execution_count": null,
      "outputs": [
        {
          "output_type": "stream",
          "text": [
            "1338 22 55 8\n"
          ],
          "name": "stdout"
        }
      ]
    },
    {
      "cell_type": "code",
      "metadata": {
        "colab": {
          "base_uri": "https://localhost:8080/"
        },
        "id": "rsRswX89qOaX",
        "outputId": "01e49ae3-d1be-4e4a-e039-9c00967d9c3a"
      },
      "source": [
        "kfold = KFold(n_splits=10, shuffle=True)\n",
        "kf_cv_scores = cross_val_score(model_without_smote2, X_train, Y_train, cv=kfold )\n",
        "print(\"K-fold CV average score: %.2f\" % kf_cv_scores.mean())"
      ],
      "execution_count": null,
      "outputs": [
        {
          "output_type": "stream",
          "text": [
            "/usr/local/lib/python3.7/dist-packages/sklearn/model_selection/_validation.py:515: DataConversionWarning: A column-vector y was passed when a 1d array was expected. Please change the shape of y to (n_samples,), for example using ravel().\n",
            "  estimator.fit(X_train, y_train, **fit_params)\n",
            "/usr/local/lib/python3.7/dist-packages/sklearn/model_selection/_validation.py:515: DataConversionWarning: A column-vector y was passed when a 1d array was expected. Please change the shape of y to (n_samples,), for example using ravel().\n",
            "  estimator.fit(X_train, y_train, **fit_params)\n",
            "/usr/local/lib/python3.7/dist-packages/sklearn/model_selection/_validation.py:515: DataConversionWarning: A column-vector y was passed when a 1d array was expected. Please change the shape of y to (n_samples,), for example using ravel().\n",
            "  estimator.fit(X_train, y_train, **fit_params)\n",
            "/usr/local/lib/python3.7/dist-packages/sklearn/model_selection/_validation.py:515: DataConversionWarning: A column-vector y was passed when a 1d array was expected. Please change the shape of y to (n_samples,), for example using ravel().\n",
            "  estimator.fit(X_train, y_train, **fit_params)\n",
            "/usr/local/lib/python3.7/dist-packages/sklearn/model_selection/_validation.py:515: DataConversionWarning: A column-vector y was passed when a 1d array was expected. Please change the shape of y to (n_samples,), for example using ravel().\n",
            "  estimator.fit(X_train, y_train, **fit_params)\n",
            "/usr/local/lib/python3.7/dist-packages/sklearn/model_selection/_validation.py:515: DataConversionWarning: A column-vector y was passed when a 1d array was expected. Please change the shape of y to (n_samples,), for example using ravel().\n",
            "  estimator.fit(X_train, y_train, **fit_params)\n",
            "/usr/local/lib/python3.7/dist-packages/sklearn/model_selection/_validation.py:515: DataConversionWarning: A column-vector y was passed when a 1d array was expected. Please change the shape of y to (n_samples,), for example using ravel().\n",
            "  estimator.fit(X_train, y_train, **fit_params)\n",
            "/usr/local/lib/python3.7/dist-packages/sklearn/model_selection/_validation.py:515: DataConversionWarning: A column-vector y was passed when a 1d array was expected. Please change the shape of y to (n_samples,), for example using ravel().\n",
            "  estimator.fit(X_train, y_train, **fit_params)\n",
            "/usr/local/lib/python3.7/dist-packages/sklearn/model_selection/_validation.py:515: DataConversionWarning: A column-vector y was passed when a 1d array was expected. Please change the shape of y to (n_samples,), for example using ravel().\n",
            "  estimator.fit(X_train, y_train, **fit_params)\n",
            "/usr/local/lib/python3.7/dist-packages/sklearn/model_selection/_validation.py:515: DataConversionWarning: A column-vector y was passed when a 1d array was expected. Please change the shape of y to (n_samples,), for example using ravel().\n",
            "  estimator.fit(X_train, y_train, **fit_params)\n"
          ],
          "name": "stderr"
        },
        {
          "output_type": "stream",
          "text": [
            "K-fold CV average score: 0.97\n"
          ],
          "name": "stdout"
        }
      ]
    },
    {
      "cell_type": "markdown",
      "metadata": {
        "id": "hBODSV7i6aw6"
      },
      "source": [
        "With SMOTE "
      ]
    },
    {
      "cell_type": "code",
      "metadata": {
        "id": "gfICYEfD6dTA"
      },
      "source": [
        "pre_smote_training_dataset_median = pd.concat([Y_train, X_train], axis=1, join='inner')"
      ],
      "execution_count": null,
      "outputs": []
    },
    {
      "cell_type": "code",
      "metadata": {
        "colab": {
          "base_uri": "https://localhost:8080/",
          "height": 439
        },
        "id": "qepNcUyh6k61",
        "outputId": "e6acd4c7-1281-4cc4-fbde-705052ba9531"
      },
      "source": [
        "pre_smote_training_dataset_median"
      ],
      "execution_count": null,
      "outputs": [
        {
          "output_type": "execute_result",
          "data": {
            "text/html": [
              "<div>\n",
              "<style scoped>\n",
              "    .dataframe tbody tr th:only-of-type {\n",
              "        vertical-align: middle;\n",
              "    }\n",
              "\n",
              "    .dataframe tbody tr th {\n",
              "        vertical-align: top;\n",
              "    }\n",
              "\n",
              "    .dataframe thead th {\n",
              "        text-align: right;\n",
              "    }\n",
              "</style>\n",
              "<table border=\"1\" class=\"dataframe\">\n",
              "  <thead>\n",
              "    <tr style=\"text-align: right;\">\n",
              "      <th></th>\n",
              "      <th>Status</th>\n",
              "      <th>Gender</th>\n",
              "      <th>MDVP:Jitter(%)</th>\n",
              "      <th>MDVP:Jitter(Abs)</th>\n",
              "      <th>Jitter:PPQ5</th>\n",
              "      <th>Jitter:DDP</th>\n",
              "      <th>MDVP:Shimmer</th>\n",
              "      <th>MDVP:Shimmer(dB)</th>\n",
              "      <th>Shimmer:APQ3</th>\n",
              "      <th>Shimmer:APQ5</th>\n",
              "      <th>Shimmer:APQ11</th>\n",
              "      <th>DFA</th>\n",
              "    </tr>\n",
              "  </thead>\n",
              "  <tbody>\n",
              "    <tr>\n",
              "      <th>5259</th>\n",
              "      <td>1</td>\n",
              "      <td>0</td>\n",
              "      <td>-0.024987</td>\n",
              "      <td>-0.000323</td>\n",
              "      <td>-0.014165</td>\n",
              "      <td>-0.041355</td>\n",
              "      <td>-0.133376</td>\n",
              "      <td>-0.281963</td>\n",
              "      <td>-0.041856</td>\n",
              "      <td>-0.081620</td>\n",
              "      <td>-0.161444</td>\n",
              "      <td>-0.675189</td>\n",
              "    </tr>\n",
              "    <tr>\n",
              "      <th>6421</th>\n",
              "      <td>1</td>\n",
              "      <td>0</td>\n",
              "      <td>-0.085389</td>\n",
              "      <td>-0.000628</td>\n",
              "      <td>-0.046490</td>\n",
              "      <td>-0.131044</td>\n",
              "      <td>0.471089</td>\n",
              "      <td>0.955974</td>\n",
              "      <td>0.369101</td>\n",
              "      <td>0.272625</td>\n",
              "      <td>0.167267</td>\n",
              "      <td>0.874301</td>\n",
              "    </tr>\n",
              "    <tr>\n",
              "      <th>5594</th>\n",
              "      <td>1</td>\n",
              "      <td>1</td>\n",
              "      <td>0.084281</td>\n",
              "      <td>0.000281</td>\n",
              "      <td>0.029899</td>\n",
              "      <td>0.146607</td>\n",
              "      <td>-0.039577</td>\n",
              "      <td>-0.096817</td>\n",
              "      <td>-0.008571</td>\n",
              "      <td>-0.091820</td>\n",
              "      <td>-0.033278</td>\n",
              "      <td>0.589252</td>\n",
              "    </tr>\n",
              "    <tr>\n",
              "      <th>3486</th>\n",
              "      <td>1</td>\n",
              "      <td>0</td>\n",
              "      <td>0.020315</td>\n",
              "      <td>0.000427</td>\n",
              "      <td>0.004720</td>\n",
              "      <td>0.002228</td>\n",
              "      <td>0.476090</td>\n",
              "      <td>0.894259</td>\n",
              "      <td>0.283416</td>\n",
              "      <td>0.317311</td>\n",
              "      <td>0.355485</td>\n",
              "      <td>0.198093</td>\n",
              "    </tr>\n",
              "    <tr>\n",
              "      <th>3875</th>\n",
              "      <td>1</td>\n",
              "      <td>0</td>\n",
              "      <td>-0.030416</td>\n",
              "      <td>-0.000275</td>\n",
              "      <td>-0.025904</td>\n",
              "      <td>-0.088303</td>\n",
              "      <td>-0.080491</td>\n",
              "      <td>-0.085926</td>\n",
              "      <td>-0.120455</td>\n",
              "      <td>-0.075791</td>\n",
              "      <td>0.100734</td>\n",
              "      <td>-0.351748</td>\n",
              "    </tr>\n",
              "    <tr>\n",
              "      <th>...</th>\n",
              "      <td>...</td>\n",
              "      <td>...</td>\n",
              "      <td>...</td>\n",
              "      <td>...</td>\n",
              "      <td>...</td>\n",
              "      <td>...</td>\n",
              "      <td>...</td>\n",
              "      <td>...</td>\n",
              "      <td>...</td>\n",
              "      <td>...</td>\n",
              "      <td>...</td>\n",
              "      <td>...</td>\n",
              "    </tr>\n",
              "    <tr>\n",
              "      <th>5544</th>\n",
              "      <td>1</td>\n",
              "      <td>1</td>\n",
              "      <td>-0.007680</td>\n",
              "      <td>-0.000176</td>\n",
              "      <td>-0.010082</td>\n",
              "      <td>0.005594</td>\n",
              "      <td>-0.155197</td>\n",
              "      <td>-0.379982</td>\n",
              "      <td>-0.070857</td>\n",
              "      <td>-0.113838</td>\n",
              "      <td>-0.128098</td>\n",
              "      <td>-0.607858</td>\n",
              "    </tr>\n",
              "    <tr>\n",
              "      <th>4416</th>\n",
              "      <td>1</td>\n",
              "      <td>1</td>\n",
              "      <td>0.026084</td>\n",
              "      <td>-0.000192</td>\n",
              "      <td>0.017990</td>\n",
              "      <td>0.038912</td>\n",
              "      <td>0.050282</td>\n",
              "      <td>0.110111</td>\n",
              "      <td>0.023396</td>\n",
              "      <td>0.016818</td>\n",
              "      <td>0.098364</td>\n",
              "      <td>-0.260011</td>\n",
              "    </tr>\n",
              "    <tr>\n",
              "      <th>6200</th>\n",
              "      <td>1</td>\n",
              "      <td>1</td>\n",
              "      <td>-0.043141</td>\n",
              "      <td>-0.000519</td>\n",
              "      <td>-0.039004</td>\n",
              "      <td>-0.124650</td>\n",
              "      <td>0.342135</td>\n",
              "      <td>0.995908</td>\n",
              "      <td>0.093921</td>\n",
              "      <td>0.205273</td>\n",
              "      <td>0.482386</td>\n",
              "      <td>0.665458</td>\n",
              "    </tr>\n",
              "    <tr>\n",
              "      <th>211</th>\n",
              "      <td>1</td>\n",
              "      <td>0</td>\n",
              "      <td>0.008438</td>\n",
              "      <td>0.000194</td>\n",
              "      <td>0.004550</td>\n",
              "      <td>0.044128</td>\n",
              "      <td>0.047858</td>\n",
              "      <td>0.015722</td>\n",
              "      <td>0.062449</td>\n",
              "      <td>-0.002611</td>\n",
              "      <td>-0.086061</td>\n",
              "      <td>1.397326</td>\n",
              "    </tr>\n",
              "    <tr>\n",
              "      <th>1357</th>\n",
              "      <td>1</td>\n",
              "      <td>0</td>\n",
              "      <td>0.090389</td>\n",
              "      <td>0.001205</td>\n",
              "      <td>0.037045</td>\n",
              "      <td>0.164949</td>\n",
              "      <td>-0.096402</td>\n",
              "      <td>-0.082296</td>\n",
              "      <td>-0.025378</td>\n",
              "      <td>-0.071420</td>\n",
              "      <td>-0.156386</td>\n",
              "      <td>0.519027</td>\n",
              "    </tr>\n",
              "  </tbody>\n",
              "</table>\n",
              "<p>5347 rows × 12 columns</p>\n",
              "</div>"
            ],
            "text/plain": [
              "      Status  Gender  MDVP:Jitter(%)  ...  Shimmer:APQ5  Shimmer:APQ11       DFA\n",
              "5259       1       0       -0.024987  ...     -0.081620      -0.161444 -0.675189\n",
              "6421       1       0       -0.085389  ...      0.272625       0.167267  0.874301\n",
              "5594       1       1        0.084281  ...     -0.091820      -0.033278  0.589252\n",
              "3486       1       0        0.020315  ...      0.317311       0.355485  0.198093\n",
              "3875       1       0       -0.030416  ...     -0.075791       0.100734 -0.351748\n",
              "...      ...     ...             ...  ...           ...            ...       ...\n",
              "5544       1       1       -0.007680  ...     -0.113838      -0.128098 -0.607858\n",
              "4416       1       1        0.026084  ...      0.016818       0.098364 -0.260011\n",
              "6200       1       1       -0.043141  ...      0.205273       0.482386  0.665458\n",
              "211        1       0        0.008438  ...     -0.002611      -0.086061  1.397326\n",
              "1357       1       0        0.090389  ...     -0.071420      -0.156386  0.519027\n",
              "\n",
              "[5347 rows x 12 columns]"
            ]
          },
          "metadata": {
            "tags": []
          },
          "execution_count": 62
        }
      ]
    },
    {
      "cell_type": "code",
      "metadata": {
        "id": "VC3oDRMH6ncD"
      },
      "source": [
        "pre_smote_training_dataset_median.reset_index(inplace = True)\n",
        "pre_smote_training_dataset_median.drop(['index'],axis = 1, inplace = True)"
      ],
      "execution_count": null,
      "outputs": []
    },
    {
      "cell_type": "code",
      "metadata": {
        "colab": {
          "base_uri": "https://localhost:8080/",
          "height": 439
        },
        "id": "a219ZDId60he",
        "outputId": "a228fd1c-051a-4f31-9042-afa53ff051f3"
      },
      "source": [
        "pre_smote_training_dataset_median"
      ],
      "execution_count": null,
      "outputs": [
        {
          "output_type": "execute_result",
          "data": {
            "text/html": [
              "<div>\n",
              "<style scoped>\n",
              "    .dataframe tbody tr th:only-of-type {\n",
              "        vertical-align: middle;\n",
              "    }\n",
              "\n",
              "    .dataframe tbody tr th {\n",
              "        vertical-align: top;\n",
              "    }\n",
              "\n",
              "    .dataframe thead th {\n",
              "        text-align: right;\n",
              "    }\n",
              "</style>\n",
              "<table border=\"1\" class=\"dataframe\">\n",
              "  <thead>\n",
              "    <tr style=\"text-align: right;\">\n",
              "      <th></th>\n",
              "      <th>Status</th>\n",
              "      <th>Gender</th>\n",
              "      <th>MDVP:Jitter(%)</th>\n",
              "      <th>MDVP:Jitter(Abs)</th>\n",
              "      <th>Jitter:PPQ5</th>\n",
              "      <th>Jitter:DDP</th>\n",
              "      <th>MDVP:Shimmer</th>\n",
              "      <th>MDVP:Shimmer(dB)</th>\n",
              "      <th>Shimmer:APQ3</th>\n",
              "      <th>Shimmer:APQ5</th>\n",
              "      <th>Shimmer:APQ11</th>\n",
              "      <th>DFA</th>\n",
              "    </tr>\n",
              "  </thead>\n",
              "  <tbody>\n",
              "    <tr>\n",
              "      <th>0</th>\n",
              "      <td>1</td>\n",
              "      <td>0</td>\n",
              "      <td>-0.024987</td>\n",
              "      <td>-0.000323</td>\n",
              "      <td>-0.014165</td>\n",
              "      <td>-0.041355</td>\n",
              "      <td>-0.133376</td>\n",
              "      <td>-0.281963</td>\n",
              "      <td>-0.041856</td>\n",
              "      <td>-0.081620</td>\n",
              "      <td>-0.161444</td>\n",
              "      <td>-0.675189</td>\n",
              "    </tr>\n",
              "    <tr>\n",
              "      <th>1</th>\n",
              "      <td>1</td>\n",
              "      <td>0</td>\n",
              "      <td>-0.085389</td>\n",
              "      <td>-0.000628</td>\n",
              "      <td>-0.046490</td>\n",
              "      <td>-0.131044</td>\n",
              "      <td>0.471089</td>\n",
              "      <td>0.955974</td>\n",
              "      <td>0.369101</td>\n",
              "      <td>0.272625</td>\n",
              "      <td>0.167267</td>\n",
              "      <td>0.874301</td>\n",
              "    </tr>\n",
              "    <tr>\n",
              "      <th>2</th>\n",
              "      <td>1</td>\n",
              "      <td>1</td>\n",
              "      <td>0.084281</td>\n",
              "      <td>0.000281</td>\n",
              "      <td>0.029899</td>\n",
              "      <td>0.146607</td>\n",
              "      <td>-0.039577</td>\n",
              "      <td>-0.096817</td>\n",
              "      <td>-0.008571</td>\n",
              "      <td>-0.091820</td>\n",
              "      <td>-0.033278</td>\n",
              "      <td>0.589252</td>\n",
              "    </tr>\n",
              "    <tr>\n",
              "      <th>3</th>\n",
              "      <td>1</td>\n",
              "      <td>0</td>\n",
              "      <td>0.020315</td>\n",
              "      <td>0.000427</td>\n",
              "      <td>0.004720</td>\n",
              "      <td>0.002228</td>\n",
              "      <td>0.476090</td>\n",
              "      <td>0.894259</td>\n",
              "      <td>0.283416</td>\n",
              "      <td>0.317311</td>\n",
              "      <td>0.355485</td>\n",
              "      <td>0.198093</td>\n",
              "    </tr>\n",
              "    <tr>\n",
              "      <th>4</th>\n",
              "      <td>1</td>\n",
              "      <td>0</td>\n",
              "      <td>-0.030416</td>\n",
              "      <td>-0.000275</td>\n",
              "      <td>-0.025904</td>\n",
              "      <td>-0.088303</td>\n",
              "      <td>-0.080491</td>\n",
              "      <td>-0.085926</td>\n",
              "      <td>-0.120455</td>\n",
              "      <td>-0.075791</td>\n",
              "      <td>0.100734</td>\n",
              "      <td>-0.351748</td>\n",
              "    </tr>\n",
              "    <tr>\n",
              "      <th>...</th>\n",
              "      <td>...</td>\n",
              "      <td>...</td>\n",
              "      <td>...</td>\n",
              "      <td>...</td>\n",
              "      <td>...</td>\n",
              "      <td>...</td>\n",
              "      <td>...</td>\n",
              "      <td>...</td>\n",
              "      <td>...</td>\n",
              "      <td>...</td>\n",
              "      <td>...</td>\n",
              "      <td>...</td>\n",
              "    </tr>\n",
              "    <tr>\n",
              "      <th>5342</th>\n",
              "      <td>1</td>\n",
              "      <td>1</td>\n",
              "      <td>-0.007680</td>\n",
              "      <td>-0.000176</td>\n",
              "      <td>-0.010082</td>\n",
              "      <td>0.005594</td>\n",
              "      <td>-0.155197</td>\n",
              "      <td>-0.379982</td>\n",
              "      <td>-0.070857</td>\n",
              "      <td>-0.113838</td>\n",
              "      <td>-0.128098</td>\n",
              "      <td>-0.607858</td>\n",
              "    </tr>\n",
              "    <tr>\n",
              "      <th>5343</th>\n",
              "      <td>1</td>\n",
              "      <td>1</td>\n",
              "      <td>0.026084</td>\n",
              "      <td>-0.000192</td>\n",
              "      <td>0.017990</td>\n",
              "      <td>0.038912</td>\n",
              "      <td>0.050282</td>\n",
              "      <td>0.110111</td>\n",
              "      <td>0.023396</td>\n",
              "      <td>0.016818</td>\n",
              "      <td>0.098364</td>\n",
              "      <td>-0.260011</td>\n",
              "    </tr>\n",
              "    <tr>\n",
              "      <th>5344</th>\n",
              "      <td>1</td>\n",
              "      <td>1</td>\n",
              "      <td>-0.043141</td>\n",
              "      <td>-0.000519</td>\n",
              "      <td>-0.039004</td>\n",
              "      <td>-0.124650</td>\n",
              "      <td>0.342135</td>\n",
              "      <td>0.995908</td>\n",
              "      <td>0.093921</td>\n",
              "      <td>0.205273</td>\n",
              "      <td>0.482386</td>\n",
              "      <td>0.665458</td>\n",
              "    </tr>\n",
              "    <tr>\n",
              "      <th>5345</th>\n",
              "      <td>1</td>\n",
              "      <td>0</td>\n",
              "      <td>0.008438</td>\n",
              "      <td>0.000194</td>\n",
              "      <td>0.004550</td>\n",
              "      <td>0.044128</td>\n",
              "      <td>0.047858</td>\n",
              "      <td>0.015722</td>\n",
              "      <td>0.062449</td>\n",
              "      <td>-0.002611</td>\n",
              "      <td>-0.086061</td>\n",
              "      <td>1.397326</td>\n",
              "    </tr>\n",
              "    <tr>\n",
              "      <th>5346</th>\n",
              "      <td>1</td>\n",
              "      <td>0</td>\n",
              "      <td>0.090389</td>\n",
              "      <td>0.001205</td>\n",
              "      <td>0.037045</td>\n",
              "      <td>0.164949</td>\n",
              "      <td>-0.096402</td>\n",
              "      <td>-0.082296</td>\n",
              "      <td>-0.025378</td>\n",
              "      <td>-0.071420</td>\n",
              "      <td>-0.156386</td>\n",
              "      <td>0.519027</td>\n",
              "    </tr>\n",
              "  </tbody>\n",
              "</table>\n",
              "<p>5347 rows × 12 columns</p>\n",
              "</div>"
            ],
            "text/plain": [
              "      Status  Gender  MDVP:Jitter(%)  ...  Shimmer:APQ5  Shimmer:APQ11       DFA\n",
              "0          1       0       -0.024987  ...     -0.081620      -0.161444 -0.675189\n",
              "1          1       0       -0.085389  ...      0.272625       0.167267  0.874301\n",
              "2          1       1        0.084281  ...     -0.091820      -0.033278  0.589252\n",
              "3          1       0        0.020315  ...      0.317311       0.355485  0.198093\n",
              "4          1       0       -0.030416  ...     -0.075791       0.100734 -0.351748\n",
              "...      ...     ...             ...  ...           ...            ...       ...\n",
              "5342       1       1       -0.007680  ...     -0.113838      -0.128098 -0.607858\n",
              "5343       1       1        0.026084  ...      0.016818       0.098364 -0.260011\n",
              "5344       1       1       -0.043141  ...      0.205273       0.482386  0.665458\n",
              "5345       1       0        0.008438  ...     -0.002611      -0.086061  1.397326\n",
              "5346       1       0        0.090389  ...     -0.071420      -0.156386  0.519027\n",
              "\n",
              "[5347 rows x 12 columns]"
            ]
          },
          "metadata": {
            "tags": []
          },
          "execution_count": 64
        }
      ]
    },
    {
      "cell_type": "code",
      "metadata": {
        "colab": {
          "base_uri": "https://localhost:8080/"
        },
        "id": "7YZsJ5k363MO",
        "outputId": "8a76ac6b-bee7-4785-edfc-a50e9b90fe78"
      },
      "source": [
        "smoted_training_data_median = smote_multiclass(pre_smote_training_dataset_median, num_samples_dict={0:6500, 1:6500, 2:6500, 3:6500}, one_hot_encoded=False)"
      ],
      "execution_count": null,
      "outputs": [
        {
          "output_type": "stream",
          "text": [
            "/usr/local/lib/python3.7/dist-packages/imblearn/utils/_validation.py:257: UserWarning: After over-sampling, the number of samples (6500) in class 0 will be larger than the number of samples in the majority class (class #1 -> 5151)\n",
            "  n_samples_majority))\n",
            "/usr/local/lib/python3.7/dist-packages/imblearn/utils/_validation.py:257: UserWarning: After over-sampling, the number of samples (6500) in class 1 will be larger than the number of samples in the majority class (class #1 -> 5151)\n",
            "  n_samples_majority))\n",
            "/usr/local/lib/python3.7/dist-packages/imblearn/utils/_validation.py:257: UserWarning: After over-sampling, the number of samples (6500) in class 2 will be larger than the number of samples in the majority class (class #1 -> 5151)\n",
            "  n_samples_majority))\n",
            "/usr/local/lib/python3.7/dist-packages/imblearn/utils/_validation.py:257: UserWarning: After over-sampling, the number of samples (6500) in class 3 will be larger than the number of samples in the majority class (class #1 -> 5151)\n",
            "  n_samples_majority))\n",
            "/usr/local/lib/python3.7/dist-packages/sklearn/utils/deprecation.py:87: FutureWarning: Function safe_indexing is deprecated; safe_indexing is deprecated in version 0.22 and will be removed in version 0.24.\n",
            "  warnings.warn(msg, category=FutureWarning)\n",
            "/usr/local/lib/python3.7/dist-packages/sklearn/utils/deprecation.py:87: FutureWarning: Function safe_indexing is deprecated; safe_indexing is deprecated in version 0.22 and will be removed in version 0.24.\n",
            "  warnings.warn(msg, category=FutureWarning)\n",
            "/usr/local/lib/python3.7/dist-packages/sklearn/utils/deprecation.py:87: FutureWarning: Function safe_indexing is deprecated; safe_indexing is deprecated in version 0.22 and will be removed in version 0.24.\n",
            "  warnings.warn(msg, category=FutureWarning)\n",
            "/usr/local/lib/python3.7/dist-packages/sklearn/utils/deprecation.py:87: FutureWarning: Function safe_indexing is deprecated; safe_indexing is deprecated in version 0.22 and will be removed in version 0.24.\n",
            "  warnings.warn(msg, category=FutureWarning)\n"
          ],
          "name": "stderr"
        }
      ]
    },
    {
      "cell_type": "code",
      "metadata": {
        "colab": {
          "base_uri": "https://localhost:8080/",
          "height": 439
        },
        "id": "gJJuRePq7CjW",
        "outputId": "46b341d2-ba97-4a09-c9a7-4f30348f2cdc"
      },
      "source": [
        "smoted_training_data_median"
      ],
      "execution_count": null,
      "outputs": [
        {
          "output_type": "execute_result",
          "data": {
            "text/html": [
              "<div>\n",
              "<style scoped>\n",
              "    .dataframe tbody tr th:only-of-type {\n",
              "        vertical-align: middle;\n",
              "    }\n",
              "\n",
              "    .dataframe tbody tr th {\n",
              "        vertical-align: top;\n",
              "    }\n",
              "\n",
              "    .dataframe thead th {\n",
              "        text-align: right;\n",
              "    }\n",
              "</style>\n",
              "<table border=\"1\" class=\"dataframe\">\n",
              "  <thead>\n",
              "    <tr style=\"text-align: right;\">\n",
              "      <th></th>\n",
              "      <th>Status</th>\n",
              "      <th>Gender</th>\n",
              "      <th>MDVP:Jitter(%)</th>\n",
              "      <th>MDVP:Jitter(Abs)</th>\n",
              "      <th>Jitter:PPQ5</th>\n",
              "      <th>Jitter:DDP</th>\n",
              "      <th>MDVP:Shimmer</th>\n",
              "      <th>MDVP:Shimmer(dB)</th>\n",
              "      <th>Shimmer:APQ3</th>\n",
              "      <th>Shimmer:APQ5</th>\n",
              "      <th>Shimmer:APQ11</th>\n",
              "      <th>DFA</th>\n",
              "    </tr>\n",
              "  </thead>\n",
              "  <tbody>\n",
              "    <tr>\n",
              "      <th>0</th>\n",
              "      <td>0</td>\n",
              "      <td>1.0</td>\n",
              "      <td>-0.052813</td>\n",
              "      <td>-0.000260</td>\n",
              "      <td>-0.024203</td>\n",
              "      <td>-0.093519</td>\n",
              "      <td>0.109077</td>\n",
              "      <td>0.215390</td>\n",
              "      <td>0.023067</td>\n",
              "      <td>0.106026</td>\n",
              "      <td>0.398154</td>\n",
              "      <td>1.031440</td>\n",
              "    </tr>\n",
              "    <tr>\n",
              "      <th>1</th>\n",
              "      <td>0</td>\n",
              "      <td>1.0</td>\n",
              "      <td>-0.079620</td>\n",
              "      <td>-0.000597</td>\n",
              "      <td>-0.045469</td>\n",
              "      <td>-0.130876</td>\n",
              "      <td>-0.114889</td>\n",
              "      <td>-0.296485</td>\n",
              "      <td>-0.031145</td>\n",
              "      <td>-0.092953</td>\n",
              "      <td>-0.112611</td>\n",
              "      <td>-0.303323</td>\n",
              "    </tr>\n",
              "    <tr>\n",
              "      <th>2</th>\n",
              "      <td>0</td>\n",
              "      <td>1.0</td>\n",
              "      <td>26.357222</td>\n",
              "      <td>-7.088279</td>\n",
              "      <td>34.360104</td>\n",
              "      <td>27.118943</td>\n",
              "      <td>-14.234334</td>\n",
              "      <td>0.663513</td>\n",
              "      <td>-16.387642</td>\n",
              "      <td>-21.217054</td>\n",
              "      <td>-15.774238</td>\n",
              "      <td>-7.275256</td>\n",
              "    </tr>\n",
              "    <tr>\n",
              "      <th>3</th>\n",
              "      <td>0</td>\n",
              "      <td>0.0</td>\n",
              "      <td>-0.073512</td>\n",
              "      <td>-0.000584</td>\n",
              "      <td>-0.040875</td>\n",
              "      <td>-0.124650</td>\n",
              "      <td>0.067860</td>\n",
              "      <td>0.153674</td>\n",
              "      <td>0.021748</td>\n",
              "      <td>0.050494</td>\n",
              "      <td>0.059646</td>\n",
              "      <td>1.354496</td>\n",
              "    </tr>\n",
              "    <tr>\n",
              "      <th>4</th>\n",
              "      <td>0</td>\n",
              "      <td>1.0</td>\n",
              "      <td>-0.005984</td>\n",
              "      <td>0.000028</td>\n",
              "      <td>-0.016036</td>\n",
              "      <td>-0.044384</td>\n",
              "      <td>0.230455</td>\n",
              "      <td>0.121002</td>\n",
              "      <td>0.141542</td>\n",
              "      <td>0.025075</td>\n",
              "      <td>-0.042286</td>\n",
              "      <td>-0.229143</td>\n",
              "    </tr>\n",
              "    <tr>\n",
              "      <th>...</th>\n",
              "      <td>...</td>\n",
              "      <td>...</td>\n",
              "      <td>...</td>\n",
              "      <td>...</td>\n",
              "      <td>...</td>\n",
              "      <td>...</td>\n",
              "      <td>...</td>\n",
              "      <td>...</td>\n",
              "      <td>...</td>\n",
              "      <td>...</td>\n",
              "      <td>...</td>\n",
              "      <td>...</td>\n",
              "    </tr>\n",
              "    <tr>\n",
              "      <th>25995</th>\n",
              "      <td>3</td>\n",
              "      <td>0.0</td>\n",
              "      <td>-7.403246</td>\n",
              "      <td>-10.536998</td>\n",
              "      <td>-8.049711</td>\n",
              "      <td>-4.819788</td>\n",
              "      <td>-7.612966</td>\n",
              "      <td>-4.122659</td>\n",
              "      <td>-6.275613</td>\n",
              "      <td>-7.438036</td>\n",
              "      <td>-5.075346</td>\n",
              "      <td>-9.876837</td>\n",
              "    </tr>\n",
              "    <tr>\n",
              "      <th>25996</th>\n",
              "      <td>3</td>\n",
              "      <td>0.0</td>\n",
              "      <td>-1.944431</td>\n",
              "      <td>13.740716</td>\n",
              "      <td>-2.190562</td>\n",
              "      <td>-2.264454</td>\n",
              "      <td>-5.748095</td>\n",
              "      <td>-2.296986</td>\n",
              "      <td>-4.653934</td>\n",
              "      <td>0.097203</td>\n",
              "      <td>3.359733</td>\n",
              "      <td>-6.075778</td>\n",
              "    </tr>\n",
              "    <tr>\n",
              "      <th>25997</th>\n",
              "      <td>3</td>\n",
              "      <td>1.0</td>\n",
              "      <td>9.150512</td>\n",
              "      <td>1.293085</td>\n",
              "      <td>5.413679</td>\n",
              "      <td>11.183539</td>\n",
              "      <td>14.848759</td>\n",
              "      <td>1.595534</td>\n",
              "      <td>10.044673</td>\n",
              "      <td>12.494215</td>\n",
              "      <td>23.606146</td>\n",
              "      <td>-5.503358</td>\n",
              "    </tr>\n",
              "    <tr>\n",
              "      <th>25998</th>\n",
              "      <td>3</td>\n",
              "      <td>0.0</td>\n",
              "      <td>-26.919582</td>\n",
              "      <td>-19.362978</td>\n",
              "      <td>-22.181498</td>\n",
              "      <td>-25.207072</td>\n",
              "      <td>0.487500</td>\n",
              "      <td>-3.372498</td>\n",
              "      <td>-0.872316</td>\n",
              "      <td>10.551904</td>\n",
              "      <td>17.527561</td>\n",
              "      <td>-19.408354</td>\n",
              "    </tr>\n",
              "    <tr>\n",
              "      <th>25999</th>\n",
              "      <td>3</td>\n",
              "      <td>1.0</td>\n",
              "      <td>1.029977</td>\n",
              "      <td>-5.437519</td>\n",
              "      <td>1.014317</td>\n",
              "      <td>3.125912</td>\n",
              "      <td>1.087974</td>\n",
              "      <td>-2.480067</td>\n",
              "      <td>-6.257921</td>\n",
              "      <td>-1.786480</td>\n",
              "      <td>2.849013</td>\n",
              "      <td>-6.316982</td>\n",
              "    </tr>\n",
              "  </tbody>\n",
              "</table>\n",
              "<p>26000 rows × 12 columns</p>\n",
              "</div>"
            ],
            "text/plain": [
              "       Status  Gender  MDVP:Jitter(%)  ...  Shimmer:APQ5  Shimmer:APQ11        DFA\n",
              "0           0     1.0       -0.052813  ...      0.106026       0.398154   1.031440\n",
              "1           0     1.0       -0.079620  ...     -0.092953      -0.112611  -0.303323\n",
              "2           0     1.0       26.357222  ...    -21.217054     -15.774238  -7.275256\n",
              "3           0     0.0       -0.073512  ...      0.050494       0.059646   1.354496\n",
              "4           0     1.0       -0.005984  ...      0.025075      -0.042286  -0.229143\n",
              "...       ...     ...             ...  ...           ...            ...        ...\n",
              "25995       3     0.0       -7.403246  ...     -7.438036      -5.075346  -9.876837\n",
              "25996       3     0.0       -1.944431  ...      0.097203       3.359733  -6.075778\n",
              "25997       3     1.0        9.150512  ...     12.494215      23.606146  -5.503358\n",
              "25998       3     0.0      -26.919582  ...     10.551904      17.527561 -19.408354\n",
              "25999       3     1.0        1.029977  ...     -1.786480       2.849013  -6.316982\n",
              "\n",
              "[26000 rows x 12 columns]"
            ]
          },
          "metadata": {
            "tags": []
          },
          "execution_count": 95
        }
      ]
    },
    {
      "cell_type": "code",
      "metadata": {
        "id": "msoMt_ks7CY7"
      },
      "source": [
        "new_X_train_median = smoted_training_data_median.drop(['Status'], axis = 1)\n",
        "new_Y_train_median = smoted_training_data_median.drop(['Gender', 'MDVP:Jitter(%)', 'MDVP:Jitter(Abs)', 'Jitter:PPQ5', 'Jitter:DDP', 'MDVP:Shimmer', 'MDVP:Shimmer(dB)', 'Shimmer:APQ3', 'Shimmer:APQ5', 'Shimmer:APQ11', 'DFA'],axis = 1)"
      ],
      "execution_count": null,
      "outputs": []
    },
    {
      "cell_type": "code",
      "metadata": {
        "id": "oOFvgeE0tcxJ"
      },
      "source": [
        "from sklearn.model_selection import RandomizedSearchCV\n",
        "\n",
        "# Number of trees in random forest\n",
        "n_estimators = [int(x) for x in np.linspace(start = 200, stop = 2000, num = 10)]\n",
        "# Number of features to consider at every split\n",
        "max_features = ['auto', 'sqrt']\n",
        "# Maximum number of levels in tree\n",
        "max_depth = [int(x) for x in np.linspace(10, 110, num = 11)]\n",
        "max_depth.append(None)\n",
        "# Minimum number of samples required to split a node\n",
        "min_samples_split = [2, 5, 10]\n",
        "# Minimum number of samples required at each leaf node\n",
        "min_samples_leaf = [1, 2, 4]\n",
        "# Method of selecting samples for training each tree\n",
        "bootstrap = [True, False]\n",
        "# Create the random grid\n",
        "random_grid = {'n_estimators': n_estimators,\n",
        "               'max_features': max_features,\n",
        "               'max_depth': max_depth,\n",
        "               'min_samples_split': min_samples_split,\n",
        "               'min_samples_leaf': min_samples_leaf,\n",
        "               'bootstrap': bootstrap}\n",
        "\n",
        "               "
      ],
      "execution_count": null,
      "outputs": []
    },
    {
      "cell_type": "code",
      "metadata": {
        "id": "cI-r0U5dtxpm"
      },
      "source": [
        "rf_random = RandomizedSearchCV(estimator = RandomForestClassifier(), param_distributions = random_grid, n_iter = 100, cv = 3, verbose=2, random_state=42, n_jobs = -1)\n"
      ],
      "execution_count": null,
      "outputs": []
    },
    {
      "cell_type": "code",
      "metadata": {
        "colab": {
          "base_uri": "https://localhost:8080/"
        },
        "id": "XaV-xM2ct8KF",
        "outputId": "e0c28bbd-bef1-4b6a-9014-9e7c2d804836"
      },
      "source": [
        "rf_random.fit(new_X_train_median,new_Y_train_median)\n",
        "rf_random.best_params_"
      ],
      "execution_count": null,
      "outputs": [
        {
          "output_type": "stream",
          "text": [
            "Fitting 3 folds for each of 100 candidates, totalling 300 fits\n"
          ],
          "name": "stdout"
        },
        {
          "output_type": "stream",
          "text": [
            "[Parallel(n_jobs=-1)]: Using backend LokyBackend with 2 concurrent workers.\n",
            "[Parallel(n_jobs=-1)]: Done  37 tasks      | elapsed:  1.2min\n",
            "[Parallel(n_jobs=-1)]: Done 158 tasks      | elapsed:  4.7min\n",
            "[Parallel(n_jobs=-1)]: Done 300 out of 300 | elapsed:  8.7min finished\n",
            "/usr/local/lib/python3.7/dist-packages/sklearn/model_selection/_search.py:739: DataConversionWarning: A column-vector y was passed when a 1d array was expected. Please change the shape of y to (n_samples,), for example using ravel().\n",
            "  self.best_estimator_.fit(X, y, **fit_params)\n"
          ],
          "name": "stderr"
        },
        {
          "output_type": "execute_result",
          "data": {
            "text/plain": [
              "{'bootstrap': True,\n",
              " 'max_depth': 50,\n",
              " 'max_features': 'sqrt',\n",
              " 'min_samples_leaf': 1,\n",
              " 'min_samples_split': 2,\n",
              " 'n_estimators': 200}"
            ]
          },
          "metadata": {
            "tags": []
          },
          "execution_count": 210
        }
      ]
    },
    {
      "cell_type": "code",
      "metadata": {
        "id": "gdXUfBW8w1DJ"
      },
      "source": [
        "from sklearn.model_selection import GridSearchCV\n",
        "# Create the parameter grid based on the results of random search \n",
        "param_grid = {\n",
        "    'bootstrap': [True],\n",
        "    'max_depth': [60, 50, 70, 80],\n",
        "    'max_features': ['sqrt'],\n",
        "    'min_samples_leaf': [1,2,3],\n",
        "    'min_samples_split': [1,4,3,2],\n",
        "    'n_estimators': [100,300,500]\n",
        "}\n",
        "# Create a based model\n",
        "# Instantiate the grid search model\n",
        "grid_search = GridSearchCV(estimator = RandomForestClassifier(), param_grid = param_grid, \n",
        "                          cv = 3, n_jobs = -1, verbose = 2)\n"
      ],
      "execution_count": null,
      "outputs": []
    },
    {
      "cell_type": "code",
      "metadata": {
        "colab": {
          "base_uri": "https://localhost:8080/"
        },
        "id": "lbDA_uXQxV_y",
        "outputId": "552f9cc3-9278-48ea-e11d-98e35f4645be"
      },
      "source": [
        "grid_search.fit(new_X_train_median, new_Y_train_median)\n",
        "grid_search.best_params_"
      ],
      "execution_count": null,
      "outputs": [
        {
          "output_type": "stream",
          "text": [
            "Fitting 3 folds for each of 144 candidates, totalling 432 fits\n"
          ],
          "name": "stdout"
        },
        {
          "output_type": "stream",
          "text": [
            "[Parallel(n_jobs=-1)]: Using backend LokyBackend with 2 concurrent workers.\n",
            "[Parallel(n_jobs=-1)]: Done  49 tasks      | elapsed:   16.5s\n",
            "[Parallel(n_jobs=-1)]: Done 170 tasks      | elapsed:  1.1min\n",
            "[Parallel(n_jobs=-1)]: Done 373 tasks      | elapsed:  2.4min\n",
            "[Parallel(n_jobs=-1)]: Done 432 out of 432 | elapsed:  2.8min finished\n",
            "/usr/local/lib/python3.7/dist-packages/sklearn/model_selection/_search.py:739: DataConversionWarning: A column-vector y was passed when a 1d array was expected. Please change the shape of y to (n_samples,), for example using ravel().\n",
            "  self.best_estimator_.fit(X, y, **fit_params)\n"
          ],
          "name": "stderr"
        },
        {
          "output_type": "execute_result",
          "data": {
            "text/plain": [
              "{'bootstrap': True,\n",
              " 'max_depth': 70,\n",
              " 'max_features': 'sqrt',\n",
              " 'min_samples_leaf': 1,\n",
              " 'min_samples_split': 3,\n",
              " 'n_estimators': 100}"
            ]
          },
          "metadata": {
            "tags": []
          },
          "execution_count": 219
        }
      ]
    },
    {
      "cell_type": "markdown",
      "metadata": {
        "id": "7SuKe-BHyTAP"
      },
      "source": [
        "Optimal Parameters: {'bootstrap': True,\n",
        " 'max_depth': 70,\n",
        " 'max_features': 'sqrt',\n",
        " 'min_samples_leaf': 1,\n",
        " 'min_samples_split': 3,\n",
        " 'n_estimators': 100}"
      ]
    },
    {
      "cell_type": "code",
      "metadata": {
        "colab": {
          "base_uri": "https://localhost:8080/"
        },
        "id": "1-wSP59pjVaX",
        "outputId": "2eb89347-0051-4d23-e6a3-4f503f29f1b5"
      },
      "source": [
        "model2 = RandomForestClassifier(n_estimators=100, max_depth=70, bootstrap=True, max_features='sqrt', min_samples_leaf=1, min_samples_split=3)\n",
        "model2.fit(new_X_train_median, new_Y_train_median)"
      ],
      "execution_count": null,
      "outputs": [
        {
          "output_type": "stream",
          "text": [
            "/usr/local/lib/python3.7/dist-packages/ipykernel_launcher.py:2: DataConversionWarning: A column-vector y was passed when a 1d array was expected. Please change the shape of y to (n_samples,), for example using ravel().\n",
            "  \n"
          ],
          "name": "stderr"
        },
        {
          "output_type": "execute_result",
          "data": {
            "text/plain": [
              "RandomForestClassifier(bootstrap=True, ccp_alpha=0.0, class_weight=None,\n",
              "                       criterion='gini', max_depth=70, max_features='sqrt',\n",
              "                       max_leaf_nodes=None, max_samples=None,\n",
              "                       min_impurity_decrease=0.0, min_impurity_split=None,\n",
              "                       min_samples_leaf=1, min_samples_split=3,\n",
              "                       min_weight_fraction_leaf=0.0, n_estimators=100,\n",
              "                       n_jobs=None, oob_score=False, random_state=None,\n",
              "                       verbose=0, warm_start=False)"
            ]
          },
          "metadata": {
            "tags": []
          },
          "execution_count": 98
        }
      ]
    },
    {
      "cell_type": "code",
      "metadata": {
        "id": "rmVeyzb1uCip"
      },
      "source": [
        "Y_pred = model2.predict(X_test)"
      ],
      "execution_count": null,
      "outputs": []
    },
    {
      "cell_type": "code",
      "metadata": {
        "colab": {
          "base_uri": "https://localhost:8080/"
        },
        "id": "gtHTvrdut66g",
        "outputId": "2407e3fa-56f2-4c1e-c110-57f62b593bb9"
      },
      "source": [
        "from sklearn import metrics\n",
        "print(metrics.classification_report(Y_pred, Y_test))"
      ],
      "execution_count": null,
      "outputs": [
        {
          "output_type": "stream",
          "text": [
            "              precision    recall  f1-score   support\n",
            "\n",
            "           0       0.86      0.46      0.60        80\n",
            "           1       0.97      1.00      0.98      1252\n",
            "           2       0.67      1.00      0.80         2\n",
            "           3       0.67      0.67      0.67         3\n",
            "\n",
            "    accuracy                           0.96      1337\n",
            "   macro avg       0.79      0.78      0.76      1337\n",
            "weighted avg       0.96      0.96      0.96      1337\n",
            "\n"
          ],
          "name": "stdout"
        }
      ]
    },
    {
      "cell_type": "code",
      "metadata": {
        "colab": {
          "base_uri": "https://localhost:8080/"
        },
        "id": "lyQpof7-Ag7t",
        "outputId": "473cb2ef-5d2a-4c2d-86ff-8caa17e71c33"
      },
      "source": [
        "roc_auc_score(Y_test, model2.predict_proba(X_test), multi_class='ovr')"
      ],
      "execution_count": null,
      "outputs": [
        {
          "output_type": "execute_result",
          "data": {
            "text/plain": [
              "0.9875999086122598"
            ]
          },
          "metadata": {
            "tags": []
          },
          "execution_count": 101
        }
      ]
    },
    {
      "cell_type": "code",
      "metadata": {
        "colab": {
          "base_uri": "https://localhost:8080/"
        },
        "id": "SF3_30fUjmzZ",
        "outputId": "043c53a3-325f-47c1-a586-448a185d996c"
      },
      "source": [
        "print(accuracy_score(Y_test, Y_pred)*100)"
      ],
      "execution_count": null,
      "outputs": [
        {
          "output_type": "stream",
          "text": [
            "96.33507853403141\n"
          ],
          "name": "stdout"
        }
      ]
    },
    {
      "cell_type": "code",
      "metadata": {
        "id": "op4oemRxyxrf"
      },
      "source": [
        "Y_pred_list = Y_pred.tolist()\n",
        "\n",
        "Y_test_list = Y_test.values.tolist()\n",
        "\n",
        "#changing from 2d list into 1d list \n",
        "Y_test_list = list(chain.from_iterable(Y_test_list))\n",
        "\n",
        "TP,FP, TN, FN = perf_measure(Y_test_list, Y_pred_list)"
      ],
      "execution_count": null,
      "outputs": []
    },
    {
      "cell_type": "code",
      "metadata": {
        "colab": {
          "base_uri": "https://localhost:8080/"
        },
        "id": "Zg-jcRhCoN9r",
        "outputId": "583ace30-8832-4505-cacc-6cd387b09840"
      },
      "source": [
        "print(TP, FP, TN , FN)"
      ],
      "execution_count": null,
      "outputs": [
        {
          "output_type": "stream",
          "text": [
            "1251 6 37 43\n"
          ],
          "name": "stdout"
        }
      ]
    },
    {
      "cell_type": "code",
      "metadata": {
        "colab": {
          "base_uri": "https://localhost:8080/"
        },
        "id": "lD7ZqY5EzTyz",
        "outputId": "5a4223d0-be00-4d01-b63c-38633e8f520a"
      },
      "source": [
        "kfold = KFold(n_splits=10, shuffle=True)\n",
        "kf_cv_scores = cross_val_score(model2, new_X_train_median, new_Y_train_median, cv=kfold )\n",
        "print(\"K-fold CV average score: %.2f\" % kf_cv_scores.mean())"
      ],
      "execution_count": null,
      "outputs": [
        {
          "output_type": "stream",
          "text": [
            "/usr/local/lib/python3.7/dist-packages/sklearn/model_selection/_validation.py:515: DataConversionWarning: A column-vector y was passed when a 1d array was expected. Please change the shape of y to (n_samples,), for example using ravel().\n",
            "  estimator.fit(X_train, y_train, **fit_params)\n",
            "/usr/local/lib/python3.7/dist-packages/sklearn/model_selection/_validation.py:515: DataConversionWarning: A column-vector y was passed when a 1d array was expected. Please change the shape of y to (n_samples,), for example using ravel().\n",
            "  estimator.fit(X_train, y_train, **fit_params)\n",
            "/usr/local/lib/python3.7/dist-packages/sklearn/model_selection/_validation.py:515: DataConversionWarning: A column-vector y was passed when a 1d array was expected. Please change the shape of y to (n_samples,), for example using ravel().\n",
            "  estimator.fit(X_train, y_train, **fit_params)\n",
            "/usr/local/lib/python3.7/dist-packages/sklearn/model_selection/_validation.py:515: DataConversionWarning: A column-vector y was passed when a 1d array was expected. Please change the shape of y to (n_samples,), for example using ravel().\n",
            "  estimator.fit(X_train, y_train, **fit_params)\n",
            "/usr/local/lib/python3.7/dist-packages/sklearn/model_selection/_validation.py:515: DataConversionWarning: A column-vector y was passed when a 1d array was expected. Please change the shape of y to (n_samples,), for example using ravel().\n",
            "  estimator.fit(X_train, y_train, **fit_params)\n",
            "/usr/local/lib/python3.7/dist-packages/sklearn/model_selection/_validation.py:515: DataConversionWarning: A column-vector y was passed when a 1d array was expected. Please change the shape of y to (n_samples,), for example using ravel().\n",
            "  estimator.fit(X_train, y_train, **fit_params)\n",
            "/usr/local/lib/python3.7/dist-packages/sklearn/model_selection/_validation.py:515: DataConversionWarning: A column-vector y was passed when a 1d array was expected. Please change the shape of y to (n_samples,), for example using ravel().\n",
            "  estimator.fit(X_train, y_train, **fit_params)\n",
            "/usr/local/lib/python3.7/dist-packages/sklearn/model_selection/_validation.py:515: DataConversionWarning: A column-vector y was passed when a 1d array was expected. Please change the shape of y to (n_samples,), for example using ravel().\n",
            "  estimator.fit(X_train, y_train, **fit_params)\n",
            "/usr/local/lib/python3.7/dist-packages/sklearn/model_selection/_validation.py:515: DataConversionWarning: A column-vector y was passed when a 1d array was expected. Please change the shape of y to (n_samples,), for example using ravel().\n",
            "  estimator.fit(X_train, y_train, **fit_params)\n",
            "/usr/local/lib/python3.7/dist-packages/sklearn/model_selection/_validation.py:515: DataConversionWarning: A column-vector y was passed when a 1d array was expected. Please change the shape of y to (n_samples,), for example using ravel().\n",
            "  estimator.fit(X_train, y_train, **fit_params)\n"
          ],
          "name": "stderr"
        },
        {
          "output_type": "stream",
          "text": [
            "K-fold CV average score: 0.99\n"
          ],
          "name": "stdout"
        }
      ]
    },
    {
      "cell_type": "code",
      "metadata": {
        "colab": {
          "base_uri": "https://localhost:8080/",
          "height": 577
        },
        "id": "zGyyLyyyjqp7",
        "outputId": "2e848fa1-be05-4edc-c5c0-9060928f49ea"
      },
      "source": [
        "model_label = 'Randomforest_alldisorders_median'\n",
        "performance_report(model2, new_X_train_median, new_Y_train_median, X_test, Y_test, Y_pred, model_label)"
      ],
      "execution_count": null,
      "outputs": [
        {
          "output_type": "stream",
          "text": [
            "/usr/local/lib/python3.7/dist-packages/sklearn/model_selection/_validation.py:515: DataConversionWarning: A column-vector y was passed when a 1d array was expected. Please change the shape of y to (n_samples,), for example using ravel().\n",
            "  estimator.fit(X_train, y_train, **fit_params)\n",
            "/usr/local/lib/python3.7/dist-packages/sklearn/model_selection/_validation.py:515: DataConversionWarning: A column-vector y was passed when a 1d array was expected. Please change the shape of y to (n_samples,), for example using ravel().\n",
            "  estimator.fit(X_train, y_train, **fit_params)\n",
            "/usr/local/lib/python3.7/dist-packages/sklearn/model_selection/_validation.py:515: DataConversionWarning: A column-vector y was passed when a 1d array was expected. Please change the shape of y to (n_samples,), for example using ravel().\n",
            "  estimator.fit(X_train, y_train, **fit_params)\n",
            "/usr/local/lib/python3.7/dist-packages/sklearn/model_selection/_validation.py:515: DataConversionWarning: A column-vector y was passed when a 1d array was expected. Please change the shape of y to (n_samples,), for example using ravel().\n",
            "  estimator.fit(X_train, y_train, **fit_params)\n",
            "/usr/local/lib/python3.7/dist-packages/sklearn/model_selection/_validation.py:515: DataConversionWarning: A column-vector y was passed when a 1d array was expected. Please change the shape of y to (n_samples,), for example using ravel().\n",
            "  estimator.fit(X_train, y_train, **fit_params)\n",
            "/usr/local/lib/python3.7/dist-packages/sklearn/model_selection/_validation.py:515: DataConversionWarning: A column-vector y was passed when a 1d array was expected. Please change the shape of y to (n_samples,), for example using ravel().\n",
            "  estimator.fit(X_train, y_train, **fit_params)\n",
            "/usr/local/lib/python3.7/dist-packages/sklearn/model_selection/_validation.py:515: DataConversionWarning: A column-vector y was passed when a 1d array was expected. Please change the shape of y to (n_samples,), for example using ravel().\n",
            "  estimator.fit(X_train, y_train, **fit_params)\n",
            "/usr/local/lib/python3.7/dist-packages/sklearn/model_selection/_validation.py:515: DataConversionWarning: A column-vector y was passed when a 1d array was expected. Please change the shape of y to (n_samples,), for example using ravel().\n",
            "  estimator.fit(X_train, y_train, **fit_params)\n"
          ],
          "name": "stderr"
        },
        {
          "output_type": "display_data",
          "data": {
            "image/png": "[encoded data removed]",
            "text/plain": [
              "<Figure size 432x288 with 2 Axes>"
            ]
          },
          "metadata": {
            "tags": []
          }
        }
      ]
    }
  ]
}
